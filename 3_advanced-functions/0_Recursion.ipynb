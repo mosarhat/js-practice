{
 "cells": [
  {
   "cell_type": "markdown",
   "metadata": {},
   "source": [
    "# Recursion\n",
    "\n",
    "What is Recursion?\n",
    "\n",
    "How Recursive Functions Work\n",
    "\n",
    "Recurrence Relations\n",
    "\n",
    "Base Case and Recursive Case"
   ]
  },
  {
   "cell_type": "markdown",
   "metadata": {},
   "source": [
    "## Execution Context and Call Stack"
   ]
  },
  {
   "cell_type": "markdown",
   "metadata": {},
   "source": [
    "### How JavaScript Handles Function Calls"
   ]
  },
  {
   "cell_type": "markdown",
   "metadata": {},
   "source": [
    "### Visualizing the Call Stack with Recursive Calls"
   ]
  },
  {
   "cell_type": "markdown",
   "metadata": {},
   "source": [
    "### Stack Overflow: Causes and Prevention"
   ]
  },
  {
   "cell_type": "markdown",
   "metadata": {
    "vscode": {
     "languageId": "plaintext"
    }
   },
   "source": [
    "## Recursive Traversal of Data Structures"
   ]
  },
  {
   "cell_type": "markdown",
   "metadata": {},
   "source": [
    "### Recursion with Arrays"
   ]
  },
  {
   "cell_type": "markdown",
   "metadata": {},
   "source": [
    "### Recursion with Linked Lists"
   ]
  },
  {
   "cell_type": "markdown",
   "metadata": {},
   "source": [
    "### Recursion with Trees (Binary Trees, N-ary Trees)"
   ]
  },
  {
   "cell_type": "markdown",
   "metadata": {},
   "source": [
    "### Recursion with Graphs"
   ]
  },
  {
   "cell_type": "markdown",
   "metadata": {},
   "source": [
    "## Recursion vs Iteration"
   ]
  },
  {
   "cell_type": "markdown",
   "metadata": {},
   "source": [
    "## Advanced Recursion"
   ]
  },
  {
   "cell_type": "markdown",
   "metadata": {},
   "source": [
    "### Divide and Conquer"
   ]
  },
  {
   "cell_type": "markdown",
   "metadata": {},
   "source": [
    "### Dynamic Programming"
   ]
  },
  {
   "cell_type": "markdown",
   "metadata": {},
   "source": [
    "### Memoization (Top-Down)"
   ]
  },
  {
   "cell_type": "markdown",
   "metadata": {},
   "source": [
    "### Tabulation (Bottom-Up)"
   ]
  },
  {
   "cell_type": "markdown",
   "metadata": {},
   "source": [
    "#### Fibonacci Problem\n",
    "\n",
    "Problem Statement.\n",
    "\n",
    "To break this problem down, the following will be done: \n",
    "\n",
    "1. Find a recurrence relation and base cases.\n",
    "\n",
    "$F_n = F_{n-1} + F_{n-2}$ with base cases of $F(0) = 0$ and $F(1) = 1$.\n",
    "\n",
    "2. Define the parameters of the sub-problems.\n",
    "\n",
    "$n$ is a parameter for the sub-problems.\n",
    "\n",
    "3. Define a table, and how it will be filled.\n",
    "\n",
    "This is a 1D DP problem. We will fill the table bottom-up (tabulation) from 0 to $n$. When computing ```dp[i]```, ```dp[i-1]``` and ```dp[i-2]``` must be computed.\n",
    "\n",
    "4. Extract result.\n",
    "\n",
    "Typically in a tabulation 1D DP problem, the last value is the final result.\n",
    "\n",
    "The first order of business is to essentially create two functions: one to compute, the other to store."
   ]
  },
  {
   "cell_type": "code",
   "execution_count": null,
   "metadata": {},
   "outputs": [],
   "source": [
    "function fibTabulation(n: integer): number {\n",
    "    if (n === 0) {\n",
    "        return 0;\n",
    "    }\n",
    "    if (n === 1) {\n",
    "        return 1;\n",
    "    }\n",
    "\n",
    "    let table = new Array(n + 1);\n",
    "\n",
    "    table[0] = 0;\n",
    "    table[1] = 1;\n",
    "\n",
    "    for (let i = 2; i <  n + 1; i++) {\n",
    "        table[i] = table[i - 1] + table[i - 2];\n",
    "    }\n",
    "\n",
    "    return table[n];\n",
    "}\n",
    "\n",
    "console.log(fibTabulation(5));"
   ]
  },
  {
   "cell_type": "markdown",
   "metadata": {},
   "source": [
    "#### Climbing Stairs\n",
    "\n",
    "You can climb 1 or 2 steps at a time. Given $n$ steps, find the number of ways to reach the top.\n",
    "\n",
    "1. Find a recurrence relation.\n",
    "\n",
    "$dp(n) = dp(n-1) + dp(n-2)$\n",
    "\n",
    "We have two base cases. For example, if we stay at the ground, there is only one way to stay at the ground. If we move up a stair, there is only one way to move up a stair.\n"
   ]
  },
  {
   "cell_type": "code",
   "execution_count": null,
   "metadata": {},
   "outputs": [],
   "source": [
    "let climbStairs = n => {\n",
    "    // base case\n",
    "    if (n == 0 || n == 1) {\n",
    "        return 1\n",
    "    };\n",
    "\n",
    "    let table = new Array(n+1);\n",
    "\n",
    "    table[0] = 1;\n",
    "    table[1] = 1;\n",
    "\n",
    "    for (let index = 2; index <= n; index++) {\n",
    "        table[index] = table[index-1] + table[index-2];\n",
    "    }\n",
    "\n",
    "    return table[n];\n",
    "\n",
    "};\n",
    "\n",
    "console.log(climbStairs(8))"
   ]
  },
  {
   "cell_type": "markdown",
   "metadata": {},
   "source": [
    "#### House Robber\n",
    "\n",
    "Given an array of non-negative integers representing money in houses, find the maximum sum you can rob without robbing adjacent houses.\n",
    "\n",
    "Key Words: Maximum (so we might need to use Math.max). "
   ]
  },
  {
   "cell_type": "code",
   "execution_count": null,
   "metadata": {},
   "outputs": [],
   "source": [
    "let houseRobber = arr => {\n",
    "    if (arr.length === 0) {\n",
    "        return 0;\n",
    "    }\n",
    "    if (arr.length === 1) {\n",
    "        return arr[0];\n",
    "    }\n",
    "\n",
    "    let table = new Array(arr.length);\n",
    "\n",
    "    table[0] = arr[0];\n",
    "    table[1] = Math.max(arr[0], arr[1]);\n",
    "\n",
    "    for (let index = 2; index < arr.length; index++) {\n",
    "        table[index] = Math.max(table[index - 1], arr[index] + table[index - 2]);\n",
    "    }\n",
    "    \n",
    "    return table[arr.length-1];\n",
    "};\n",
    "\n",
    "console.log(houseRobber([2, 7, 9, 3, 1]));"
   ]
  },
  {
   "cell_type": "markdown",
   "metadata": {},
   "source": [
    "### Coin Change\n",
    "\n",
    "Summary\n",
    "\n",
    "1. Recurrence Relation\n",
    "\n",
    "F(n) = Infinity if n < 0\n",
    "\n",
    "F(0) = 0\n",
    "\n",
    "F(1) = 1 + min(min_coins(n-1), min_coins(n-4), min_coins(n-9))"
   ]
  },
  {
   "cell_type": "code",
   "execution_count": null,
   "metadata": {},
   "outputs": [],
   "source": [
    "function coinChange(coins: number[], target: number): number {\n",
    "    let dp = new Array(target + 1).fill(Infinity);\n",
    "    dp[0] = 0;\n",
    "\n",
    "    for (let i = 1; i <= target; i++) {\n",
    "        for (let coin of coins) {\n",
    "            if (i - coin >= 0) {\n",
    "                dp[i] = Math.min(dp[i], 1 + dp[i - coin]);\n",
    "            }\n",
    "        }\n",
    "    }\n",
    "\n",
    "    console.log(dp)\n",
    "\n",
    "    return dp[target] === Infinity ? -1 : dp[target];\n",
    "}\n",
    "\n",
    "console.log(coinChange([1, 2, 5], 11)); // 3"
   ]
  },
  {
   "cell_type": "markdown",
   "metadata": {},
   "source": [
    "### Combination Sum\n",
    "\n",
    "Given the target value $n$, and an array of numbers, count ways to write $n$ as the sum of those numbers."
   ]
  },
  {
   "cell_type": "code",
   "execution_count": null,
   "metadata": {},
   "outputs": [],
   "source": [
    "function combinationSum(arr, target) {\n",
    "    let dp = new Array(target + 1).fill(0);\n",
    "    dp[0] = 1;\n",
    "\n",
    "    for (let i = 1; i <= target; i++) {\n",
    "        for (let num of arr) {\n",
    "            if (i >= num) {\n",
    "                dp[i] += dp[i - num];\n",
    "            }\n",
    "        }\n",
    "    }\n",
    "\n",
    "    return dp[target];\n",
    "}\n",
    "\n",
    "console.log(combinationSum([1, 2, 3], 4)); // Output: 7"
   ]
  },
  {
   "cell_type": "markdown",
   "metadata": {},
   "source": [
    "### Coin Change (Ways)"
   ]
  },
  {
   "cell_type": "code",
   "execution_count": null,
   "metadata": {},
   "outputs": [],
   "source": [
    "function coinChangeWays(coins, target) {\n",
    "    let dp = new Array(target+1).fill(0);\n",
    "    dp[0] = 1;\n",
    "\n",
    "    for (let coin of coins) {\n",
    "        for (let i = coin; i <= target; i++) {\n",
    "            dp[i] = dp[i-coin];\n",
    "        }\n",
    "    }\n",
    "\n",
    "    return dp[target];\n",
    "}\n",
    "\n",
    "console.log(coinChangeWays([1,2,4], 8));"
   ]
  },
  {
   "cell_type": "markdown",
   "metadata": {},
   "source": [
    "### Island Hopping"
   ]
  },
  {
   "cell_type": "code",
   "execution_count": 16,
   "metadata": {},
   "outputs": [
    {
     "name": "stdout",
     "output_type": "stream",
     "text": [
      "26\n",
      "54\n",
      "28\n"
     ]
    }
   ],
   "source": [
    "let islandHopping = cost => {\n",
    "    let n = cost.length;\n",
    "    if (n === 0) return 0;\n",
    "    if (n === 1) return cost[0];\n",
    "\n",
    "    let table = new Array(n + 1); \n",
    "\n",
    "    table[0] = 0;\n",
    "    table[1] = cost[0];\n",
    "\n",
    "    for (let i = 2; i <= n; i++) {\n",
    "        table[i] = Math.min(table[i] = table[i - 1] + cost[i - 1], table[i - 2] + cost[i - 2]);\n",
    "    }\n",
    "\n",
    "    return table[n];\n",
    "};\n",
    "\n",
    "console.log(islandHopping([15, 3, 11, 36])); // Output: (26, '0-2-4')\n",
    "console.log(islandHopping([10, 10, 40, 33, 15, 1])); // Output: (54, '0-1-3-5-6')\n",
    "console.log(islandHopping([15, 3, 11, 36, 2, 18])); // Output: (28, '0-2-4-6')\n",
    "\n"
   ]
  },
  {
   "cell_type": "markdown",
   "metadata": {},
   "source": [
    "### Maximum Sum Subarray (Kadane’s Algorithm)"
   ]
  },
  {
   "cell_type": "markdown",
   "metadata": {},
   "source": [
    "### Partition Equal Subset Sum"
   ]
  },
  {
   "cell_type": "markdown",
   "metadata": {},
   "source": [
    "### Decode Ways"
   ]
  },
  {
   "cell_type": "markdown",
   "metadata": {},
   "source": [
    "### Unique Paths"
   ]
  },
  {
   "cell_type": "markdown",
   "metadata": {},
   "source": [
    "### Unique Paths II"
   ]
  },
  {
   "cell_type": "markdown",
   "metadata": {},
   "source": [
    "### Longest Common Subsequence (LCS)"
   ]
  },
  {
   "cell_type": "markdown",
   "metadata": {},
   "source": [
    "### Edit Distance (Levenshtein Distance)"
   ]
  },
  {
   "cell_type": "markdown",
   "metadata": {},
   "source": [
    "### 0/1 Knapsack"
   ]
  },
  {
   "cell_type": "markdown",
   "metadata": {},
   "source": [
    "### Subset Sum Problem"
   ]
  },
  {
   "cell_type": "markdown",
   "metadata": {},
   "source": [
    "### Minimum Path Sum"
   ]
  },
  {
   "cell_type": "markdown",
   "metadata": {},
   "source": [
    "### Word Break"
   ]
  },
  {
   "cell_type": "markdown",
   "metadata": {},
   "source": [
    "### Palindrome Partitioning II"
   ]
  },
  {
   "cell_type": "markdown",
   "metadata": {},
   "source": [
    "### Wildcard Matching"
   ]
  }
 ],
 "metadata": {
  "kernelspec": {
   "display_name": "Deno",
   "language": "typescript",
   "name": "deno"
  },
  "language_info": {
   "codemirror_mode": "typescript",
   "file_extension": ".ts",
   "mimetype": "text/x.typescript",
   "name": "typescript",
   "nbconvert_exporter": "script",
   "pygments_lexer": "typescript",
   "version": "5.6.2"
  }
 },
 "nbformat": 4,
 "nbformat_minor": 2
}
