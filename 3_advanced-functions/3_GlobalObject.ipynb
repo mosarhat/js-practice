{
 "cells": [
  {
   "cell_type": "markdown",
   "metadata": {},
   "source": [
    "# Global Object\n",
    "\n",
    "Introduction\n",
    "\n",
    "What is the Global Object?\n",
    "    \n",
    "Why is it important?\n",
    "    \n",
    "Differences across environments:\n",
    "    Browsers (window)\n",
    "    Node.js (globalThis & global)\n",
    "    Cross-platform support (globalThis)"
   ]
  },
  {
   "cell_type": "markdown",
   "metadata": {},
   "source": [
    "## ```global```\n",
    "\n",
    "What is global in Node.js?\n",
    "\n",
    "Common properties & methods\n",
    "\n",
    "Example usage in Node.js\n",
    "\n",
    "Differences from window"
   ]
  },
  {
   "cell_type": "markdown",
   "metadata": {},
   "source": [
    "## ```globalThis```\n",
    "\n",
    "Why globalThis was introduced\n",
    "\n",
    "Ensuring compatibility across browsers & Node.js\n",
    "\n",
    "Examples of cross-environment usage\n",
    "\n",
    "Best practices for using globalThis"
   ]
  },
  {
   "cell_type": "markdown",
   "metadata": {},
   "source": [
    "## ```window```\n",
    "\n",
    "What is window?\n",
    "\n",
    "Key properties (window.document, window.location, etc.)\n",
    "\n",
    "Common methods (alert(), setTimeout(), fetch(), etc.)\n",
    "\n",
    "Why window is not available in Node.js"
   ]
  },
  {
   "cell_type": "markdown",
   "metadata": {},
   "source": [
    "## Making Polyfills Using Global Objects\n",
    "\n",
    "What are polyfills?\n",
    "\n",
    "Example: Creating a cross-platform setImmediate()\n",
    "\n",
    "Example: Implementing a global helper method\n",
    "\n",
    "Handling compatibility issues with feature detection"
   ]
  }
 ],
 "metadata": {
  "kernelspec": {
   "display_name": "Deno",
   "language": "typescript",
   "name": "deno"
  },
  "language_info": {
   "codemirror_mode": "typescript",
   "file_extension": ".ts",
   "mimetype": "text/x.typescript",
   "name": "typescript",
   "nbconvert_exporter": "script",
   "pygments_lexer": "typescript",
   "version": "5.6.2"
  }
 },
 "nbformat": 4,
 "nbformat_minor": 2
}
