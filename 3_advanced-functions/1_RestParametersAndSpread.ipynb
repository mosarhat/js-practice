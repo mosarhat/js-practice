{
 "cells": [
  {
   "cell_type": "markdown",
   "metadata": {},
   "source": [
    "# Rest Parameters and Spread Syntax\n",
    "\n",
    "What Are Rest Parameters and Spread Syntax?\n",
    "\n",
    "Why Are They Useful?\n",
    "\n",
    "Difference Between Rest (...rest) and Spread (...spread)"
   ]
  },
  {
   "cell_type": "markdown",
   "metadata": {},
   "source": [
    "## Rest Parameters (```...args```)"
   ]
  },
  {
   "cell_type": "markdown",
   "metadata": {},
   "source": [
    "### Mixing Rest Parameters with Regular Parameters"
   ]
  },
  {
   "cell_type": "code",
   "execution_count": 11,
   "metadata": {},
   "outputs": [
    {
     "name": "stdout",
     "output_type": "stream",
     "text": [
      "[ 1, 2, \"\\n\", 5, 6 ]\n",
      "12\n",
      "56\n"
     ]
    }
   ],
   "source": [
    "function sumElementsAndStringify(...elements) {\n",
    "    let newStr = \"\";\n",
    "    console.log(elements)\n",
    "    for (let elem of elements) {\n",
    "        newStr += elem;\n",
    "    }\n",
    "    return newStr;\n",
    "}\n",
    "\n",
    "console.log(sumElementsAndStringify(1,2,\"\\n\",5,6))"
   ]
  },
  {
   "cell_type": "markdown",
   "metadata": {},
   "source": [
    "## ```arguments``` Object"
   ]
  },
  {
   "cell_type": "markdown",
   "metadata": {},
   "source": [
    "## Spread Syntax (```...```)"
   ]
  },
  {
   "cell_type": "markdown",
   "metadata": {},
   "source": [
    "## Cloning an Array/Object"
   ]
  }
 ],
 "metadata": {
  "kernelspec": {
   "display_name": "Deno",
   "language": "typescript",
   "name": "deno"
  },
  "language_info": {
   "codemirror_mode": "typescript",
   "file_extension": ".ts",
   "mimetype": "text/x.typescript",
   "name": "typescript",
   "nbconvert_exporter": "script",
   "pygments_lexer": "typescript",
   "version": "5.6.2"
  }
 },
 "nbformat": 4,
 "nbformat_minor": 2
}
