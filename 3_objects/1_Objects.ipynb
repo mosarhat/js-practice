{
 "cells": [
  {
   "cell_type": "markdown",
   "metadata": {},
   "source": [
    "# Objects\n",
    "\n",
    "Objects in JavaScript are like dictionaries in Python. Objects are key-value collections of data. \n",
    "\n",
    "Simply put, an object is an associative array as keys associate to values.\n",
    "\n",
    "It's very important to note, anything apart from primitive values are considered an object."
   ]
  },
  {
   "cell_type": "markdown",
   "metadata": {},
   "source": [
    "## Creating New Objects\n",
    "\n",
    "Recall, there are two types of ways to create an object in JavaScript; object literal, and constructor syntax.\n",
    "\n",
    "```js\n",
    "let obj = {}; // literal method\n",
    "```\n",
    "\n",
    "```js\n",
    "let obj = new Object(); // constructor method\n",
    "```"
   ]
  },
  {
   "cell_type": "markdown",
   "metadata": {},
   "source": [
    "## Object Properties\n",
    "\n",
    "A property within an object is a key-value pair.\n",
    "\n",
    "Keys are strings, or symbols, that act as the property name.\n",
    "\n",
    "Values can be any data type."
   ]
  },
  {
   "cell_type": "code",
   "execution_count": 1,
   "metadata": {},
   "outputs": [],
   "source": [
    "let car = {\n",
    "    // the brand and year are keys\n",
    "    // Honda and 2015 are values\n",
    "    brand: \"Honda\",\n",
    "    year: 2015,\n",
    "    running: false\n",
    "}; // object literal"
   ]
  },
  {
   "cell_type": "markdown",
   "metadata": {},
   "source": [
    "Note, there are two types of properties; direct, and inherited properties. \n",
    "\n",
    "Direct properties are defined directly on the object. \n",
    "\n",
    "Inherited properties are inherited from the prototype (this will be discussed further in prototypical inheritance)."
   ]
  },
  {
   "cell_type": "code",
   "execution_count": 2,
   "metadata": {},
   "outputs": [
    {
     "name": "stdout",
     "output_type": "stream",
     "text": [
      "17\n",
      "17\n",
      "[Function: toString]\n",
      "[object Object]\n"
     ]
    }
   ],
   "source": [
    "let topObject = {\n",
    "    x: 12,\n",
    "    y: 5,\n",
    "    get: function() {\n",
    "        return this.x + this.y;\n",
    "    }\n",
    "};\n",
    "\n",
    "console.log(topObject.get());\n",
    "\n",
    "let topObjectTwo = {\n",
    "    x: 12,\n",
    "    y: 5,\n",
    "    get n() {\n",
    "        return this.x + this.y; // the getter does not execute at runtime—it only runs when topObjectTwo.n is accessed\n",
    "    }\n",
    "};\n",
    "\n",
    "console.log(topObjectTwo.n);\n",
    "\n",
    "/* ------------------- */\n",
    "\n",
    "/*\n",
    "This does not execute, rather it returns a reference to the toString function inherited from Object.prototype\n",
    "*/\n",
    "\n",
    "console.log(topObject.toString);\n",
    "\n",
    "/*\n",
    "This executes the toString() method inherited from Object.prototype\n",
    "[object Object]\n",
    "*/\n",
    "\n",
    "console.log(topObject.toString()); "
   ]
  },
  {
   "cell_type": "markdown",
   "metadata": {},
   "source": [
    "### Property Names\n",
    "\n",
    "Recall, for variable declarations, the identifier can NOT be a reserved word within JavaScript; ```let```, ```for```, etc.\n",
    "\n",
    "With that being said, there is no restriction for a property. "
   ]
  },
  {
   "cell_type": "markdown",
   "metadata": {},
   "source": [
    "### Computed Property Names\n",
    "\n",
    "*Computed properties names* are properties within square brackets that are statically defined within the object literal.\n",
    "\n",
    "The value of the expression inside the square brackets is evaluated at run-time.\n",
    "\n",
    "For example:"
   ]
  },
  {
   "cell_type": "code",
   "execution_count": 3,
   "metadata": {},
   "outputs": [
    {
     "name": "stdout",
     "output_type": "stream",
     "text": [
      "undefined\n",
      "undefined\n",
      "undefined\n",
      "\n",
      "\n",
      "eggs\n",
      "potatoes\n",
      "chocolate\n"
     ]
    }
   ],
   "source": [
    "let eggs = \"White Egg L\";\n",
    "let potato = \"White Potatoes\";\n",
    "let chocolate = \"Mars\"\n",
    "\n",
    "let groceries = {\n",
    "    [eggs]: \"eggs\",\n",
    "    [potato]: \"potatoes\",\n",
    "    [chocolate + \"Bar\"]: \"chocolate\"\n",
    "    \n",
    "};\n",
    "\n",
    "console.log(groceries.eggs); // undefined\n",
    "console.log(groceries.potato); // undefined\n",
    "console.log(groceries.chocolateBar); // undefined\n",
    "\n",
    "console.log(\"\\n\")\n",
    "\n",
    "console.log(groceries[eggs]); // should return eggs\n",
    "console.log(groceries[potato]); // should return potatoes\n",
    "console.log(groceries[\"MarsBar\"]); // should return chocolate"
   ]
  },
  {
   "cell_type": "markdown",
   "metadata": {},
   "source": [
    "Notice how in the example above, dot notation does not provide any of the corresponding values for our object declaration, and it's computed properties. This is a byproduct of dot notation being strictly static, and not supporting dynamic access, whereas square bracket notation does in fact have dynamic access.\n",
    "\n",
    "For the sake of bugs, use square bracket notation for accessing computed properties.\n",
    "\n",
    "**Completely Irrelevant Side-Note (this is completely unnecessary, but I went down a rabbit hole with decorators because of metadata) [2]**: Something I wondered about was whether or not JavaScript had any built-in methods to differentiate computed properties to that of static properties. This is because with JavaScript, computed properties are stored in the exact same way a static property is stored. Interestingly, JavaScript does not have associated metadata with objects, so there is no possible way to differentiate between the two through that avenue. However, in languages like Java, and Python, metadata is initialized using *decorators*. JavaScript itself does not have decorators, however, there is a [proposal](https://github.com/tc39/proposal-class-method-parameter-decorators) that is ongoing for ECMAScript. TypeScript does include built-in decorators, as does Angular. To implement decorators yourself, without the use of TypeScript, you would need to run the following command, ```npm install --save-dev @babel/core @babel/plugin-proposal-decorators``` [3]."
   ]
  },
  {
   "cell_type": "markdown",
   "metadata": {},
   "source": [
    "### Accessing Properties\n",
    "\n",
    "There are two ways of accessing object properties:\n",
    "- Dot notation: ```obj.key```. \n",
    "- Square bracket notation: ```obj[\"key\"]```. The quotes inside the brackets are called an *expression* [4]. The expression serves as the key to access the desired property.\n",
    "\n",
    "Square brackets allow for dynamic property access, and they also allow for multi-word keys.\n",
    "\n",
    "The following are some basic examples using the previous ```car``` object of both dot notation, and square bracket notation in action:"
   ]
  },
  {
   "cell_type": "code",
   "execution_count": 4,
   "metadata": {},
   "outputs": [
    {
     "name": "stdout",
     "output_type": "stream",
     "text": [
      "{ brand: \"Honda\", year: 2015, running: false }\n",
      "2015\n",
      "2015\n"
     ]
    }
   ],
   "source": [
    "console.log(car);\n",
    "\n",
    "console.log(car.year); // returns 2015\n",
    "\n",
    "console.log(car[\"year\"]); // returns 2015"
   ]
  },
  {
   "cell_type": "markdown",
   "metadata": {},
   "source": [
    "Dot notation differs from square bracket notation; dot notation **ONLY** allows for static keys, while square bracket notation allows for BOTH static and dynamic keys [4].\n",
    "\n",
    "Suppose we have a object, ```employer```, and within the object, we have basic information set as key-value pairs such as first and last names, but we want to add the company name dynamically. The following is a prime example of how both dot and square bracket notation differ:"
   ]
  },
  {
   "cell_type": "code",
   "execution_count": 5,
   "metadata": {},
   "outputs": [
    {
     "name": "stdout",
     "output_type": "stream",
     "text": [
      "Tim Pool\n",
      "undefined\n",
      "undefined\n",
      "Tim Stutzle\n",
      "{ fullname: \"Tim Stutzle\", age: 43 }\n"
     ]
    }
   ],
   "source": [
    "let name = \"fullname\";\n",
    "\n",
    "const employer = {\n",
    "    // a basic object is called here\n",
    "    name: \"Tim Pool\",\n",
    "    age: 43,\n",
    "}; \n",
    "\n",
    "console.log(employer.name); // returns Tim Pool (static)\n",
    "\n",
    "console.log(employer[name]); // undefined as there is no key called \"fullname\" (dynamic)\n",
    "\n",
    "const employerOne = {\n",
    "    // a basic object is called here\n",
    "    // the difference is that we have a computer property here\n",
    "    [name]: \"Tim Stutzle\",\n",
    "    age: 43,\n",
    "}; \n",
    "\n",
    "console.log(employerOne.name); // undefined because [name] is a computed property\n",
    "\n",
    "console.log(employerOne[name]); // returns Tim Stutzle as we are checking for \"fullname\" key\n",
    "\n",
    "console.log(employerOne); // { fullname: \"Tim Stutzle\", age: 43 }"
   ]
  },
  {
   "cell_type": "markdown",
   "metadata": {},
   "source": [
    "### Shorthand Property Creation"
   ]
  },
  {
   "cell_type": "markdown",
   "metadata": {},
   "source": [
    "The following was introduced in ES6 and allows for cleaner property naming. This is specific to object literal declarations, and object returns [5].\n",
    "\n",
    "```js\n",
    "let name; // set name to undefined \n",
    "\n",
    "const user = {\n",
    "    name\n",
    "};\n",
    "\n",
    "console.log(user); // this should return {name: undefined}\n",
    "```"
   ]
  },
  {
   "cell_type": "code",
   "execution_count": 6,
   "metadata": {},
   "outputs": [
    {
     "name": "stdout",
     "output_type": "stream",
     "text": [
      "{ name: undefined }\n",
      "{ name: \"Mo\", a: 2, b: 4, sum: 6 }\n"
     ]
    }
   ],
   "source": [
    "let name;\n",
    "\n",
    "const user = {\n",
    "    // declarations must come BEFORE the object (objects aren't hoisted to the top of the script like functions as this is an object expression)\n",
    "    name, \n",
    "    // age, age needs to be defined\n",
    "};\n",
    "\n",
    "console.log(user);\n",
    "\n",
    "function nameAndSum(name, a, b) {\n",
    "    return {\n",
    "        name,\n",
    "        a,\n",
    "        b,\n",
    "        sum: a + b\n",
    "    };\n",
    "}\n",
    "\n",
    "console.log(nameAndSum(\"Mo\", 2, 4));"
   ]
  },
  {
   "cell_type": "markdown",
   "metadata": {},
   "source": [
    "### Adding Properties\n",
    "\n",
    "Recall, there are two methods to access properties within a defined object. These two methods can also be used to add key-value pairs within a pre-existing object. \n",
    "\n",
    "For example:\n",
    "\n",
    "```js\n",
    "obj.newProperty = newValue;\n",
    "```\n",
    "\n",
    "```js\n",
    "obj[\"newProperty\"] = newValue;\n",
    "```\n",
    "\n",
    "Adding functions follow the same process. Typically, we can use function expressions, and having a named, or anonymous function declared makes no difference. However, if arrow functions are used, there are going to be binding issues with ```this``` when adding the function as a property within our pre-defined object (hint: this is because arrow functions do not have ```this```, i.e. lexical binding) [6].\n",
    "\n",
    "Note: This is actually super strange, but using the square brackets allows us to dynamically enter key-values, and access them sequentially; whereas the dot notation gets hoisted.\n"
   ]
  },
  {
   "cell_type": "code",
   "execution_count": 7,
   "metadata": {},
   "outputs": [
    {
     "name": "stdout",
     "output_type": "stream",
     "text": [
      "{ brand: \"Honda\", year: 2015, running: false, exhaust: \"EXH 41429\" }\n",
      "EXH 33969\n",
      "Car started\n",
      "{\n",
      "  brand: \"Honda\",\n",
      "  year: 2015,\n",
      "  running: true,\n",
      "  exhaust: \"EXH 41429\",\n",
      "  \"exhaust clamp\": \"EXH 33969\",\n",
      "  start: [Function: startCar]\n",
      "}\n"
     ]
    }
   ],
   "source": [
    "car.exhaust = \"EXH 41429\";\n",
    "\n",
    "console.log(car);\n",
    "\n",
    "car[\"exhaust clamp\"] = \"EXH 33969\";\n",
    "\n",
    "console.log(car[\"exhaust clamp\"]);\n",
    "\n",
    "// something interesting to note, we can assign a function to the property\n",
    "\n",
    "car[\"start\"] = function startCar() {\n",
    "    // this binds to the function which is going to be a part of the object instance of car\n",
    "    this.running = true;\n",
    "    console.log(\"Car started\");\n",
    "}\n",
    "\n",
    "car.start();\n",
    "\n",
    "console.log(car); // haha, it works"
   ]
  },
  {
   "cell_type": "markdown",
   "metadata": {},
   "source": [
    "### Deleting Properties\n",
    "\n",
    "We can delete properties using the same two notations to access the properties; dot notation, square bracket notation.\n",
    "\n",
    "```js\n",
    "delete obj.property;\n",
    "\n",
    "delete obj[\"property\"];\n",
    "```"
   ]
  },
  {
   "cell_type": "code",
   "execution_count": 8,
   "metadata": {},
   "outputs": [
    {
     "name": "stdout",
     "output_type": "stream",
     "text": [
      "{\n",
      "  brand: \"Honda\",\n",
      "  year: 2015,\n",
      "  running: true,\n",
      "  \"exhaust clamp\": \"EXH 33969\",\n",
      "  start: [Function: startCar]\n",
      "}\n",
      "{\n",
      "  brand: \"Honda\",\n",
      "  year: 2015,\n",
      "  running: true,\n",
      "  \"exhaust clamp\": \"EXH 33969\",\n",
      "  start: [Function: startCar]\n",
      "}\n",
      "{\n",
      "  brand: \"Honda\",\n",
      "  year: 2015,\n",
      "  running: true,\n",
      "  \"exhaust clamp\": \"EXH 33969\"\n",
      "}\n"
     ]
    }
   ],
   "source": [
    "delete car.exhaust;\n",
    "\n",
    "console.log(car);\n",
    "\n",
    "delete car[\"car fax\"];\n",
    "\n",
    "console.log(car);\n",
    "\n",
    "delete (car.start);\n",
    "\n",
    "console.log(car);"
   ]
  },
  {
   "cell_type": "markdown",
   "metadata": {},
   "source": [
    "### Checking Property Existence\n",
    "\n",
    "In JavaScript, we can use the ```obj.hasOwnProperty(\"prop\")``` method to check if an object contains a property. ```obj.hasOwnProperty(\"prop\")``` will return a boolean value; ```true```, or ```false```.\n",
    "\n",
    "Note: ```obj.hasOwnProperty(\"prop\")``` only checks for **DIRECT** properties, and not inherited ones. \n",
    "\n",
    "The following is an example:"
   ]
  },
  {
   "cell_type": "code",
   "execution_count": 9,
   "metadata": {},
   "outputs": [
    {
     "name": "stdout",
     "output_type": "stream",
     "text": [
      "true\n",
      "true\n",
      "true\n"
     ]
    }
   ],
   "source": [
    "const employee = {\n",
    "    fname: \"Mo\",\n",
    "    lname: \"Goofy Goober\",\n",
    "    fullName: function() {\n",
    "        return this.fname + \" \" + this.lname;\n",
    "    }\n",
    "};\n",
    "\n",
    "console.log(employee.hasOwnProperty(\"fname\")); // returns true\n",
    "\n",
    "console.log(employee.hasOwnProperty(\"lname\")); // returns true\n",
    "\n",
    "console.log(employee.hasOwnProperty(\"fullName\")); // returns true"
   ]
  },
  {
   "cell_type": "markdown",
   "metadata": {},
   "source": [
    "We can check if a method is a part of ```Object.prototype``` (i.e. this means that this is a inherited property if true) by using the following:"
   ]
  },
  {
   "cell_type": "code",
   "execution_count": 10,
   "metadata": {},
   "outputs": [
    {
     "name": "stdout",
     "output_type": "stream",
     "text": [
      "true\n"
     ]
    }
   ],
   "source": [
    "console.log(Object.prototype.hasOwnProperty(\"toString\")); // returns true"
   ]
  },
  {
   "cell_type": "markdown",
   "metadata": {},
   "source": [
    "There is also a special operator, ```in```. This is typically used for iterating through an objects properties, but we can also check whether or not a property exists within the object. ```in``` returns a boolean value (either true or false based on whether or not it exists in the object).\n",
    "\n",
    "```js\n",
    "\"key\" in obj\n",
    "```"
   ]
  },
  {
   "cell_type": "code",
   "execution_count": 11,
   "metadata": {},
   "outputs": [
    {
     "name": "stdout",
     "output_type": "stream",
     "text": [
      "true\n",
      "true\n",
      "true\n"
     ]
    }
   ],
   "source": [
    "console.log(\"fname\" in employee); // returns true\n",
    "console.log(\"lname\" in employee); // returns true\n",
    "console.log(\"fullName\" in employee); // returns true"
   ]
  },
  {
   "cell_type": "markdown",
   "metadata": {},
   "source": [
    "### Iterating Through Properties\n",
    "\n",
    "When iterating through objects, we use ```for..in```.\n",
    "\n",
    "The following is an example:"
   ]
  },
  {
   "cell_type": "code",
   "execution_count": 12,
   "metadata": {},
   "outputs": [
    {
     "name": "stdout",
     "output_type": "stream",
     "text": [
      "[ \"fname\", \"lname\", \"fullName\" ]\n",
      "fname\n",
      "lname\n",
      "fullName\n"
     ]
    }
   ],
   "source": [
    "let arr = [];\n",
    "\n",
    "for (let key in employee) {\n",
    "    arr.push(key);\n",
    "}\n",
    "\n",
    "console.log(arr)\n",
    "\n",
    "for (let i = 0; i < arr.length; i++) {\n",
    "    console.log(arr[i]);\n",
    "}"
   ]
  },
  {
   "cell_type": "markdown",
   "metadata": {},
   "source": [
    "#### Output Given Integer Properties\n",
    "\n",
    "Sorted in ascending order."
   ]
  },
  {
   "cell_type": "code",
   "execution_count": 13,
   "metadata": {},
   "outputs": [
    {
     "name": "stdout",
     "output_type": "stream",
     "text": [
      "1\n",
      "41\n",
      "44\n",
      "46\n",
      "65\n",
      "\n",
      "\n",
      "1\n",
      "41\n",
      "44\n",
      "46\n",
      "65\n",
      "\n",
      "\n",
      "[ 1, 41, 44, 46, 65 ]\n",
      "[ \"1\", \"41\", \"44\", \"46\", \"65\" ]\n"
     ]
    }
   ],
   "source": [
    "let arrOne = [];\n",
    "let arrTwo = [];\n",
    "\n",
    "let codes = {\n",
    "    \"65\": \"Germany\",\n",
    "    \"41\": \"Switzerland\",\n",
    "    \"44\": \"Great Britain\",\n",
    "    \"46\": \"Canada\",\n",
    "    \"1\": \"USA\"\n",
    "};\n",
    "\n",
    "let codesOne = {\n",
    "    65: \"Germany\",\n",
    "    41: \"Switzerland\",\n",
    "    44: \"Great Britain\",\n",
    "    46: \"Canada\",\n",
    "    1: \"USA\"\n",
    "};\n",
    "\n",
    "for (let prop in codes) {\n",
    "    arrOne.push(+prop);\n",
    "    console.log(+prop);\n",
    "}\n",
    "\n",
    "console.log(\"\\n\");\n",
    "\n",
    "for (let prop in codesOne) {\n",
    "    arrTwo.push(prop);\n",
    "    console.log(prop);\n",
    "}\n",
    "\n",
    "console.log(\"\\n\");\n",
    "\n",
    "console.log(arrOne);\n",
    "console.log(arrTwo);"
   ]
  },
  {
   "cell_type": "markdown",
   "metadata": {},
   "source": [
    "#### Output Given Non-Integer Properties\n",
    "\n",
    "Listed in the order they were added to the object."
   ]
  },
  {
   "cell_type": "code",
   "execution_count": 14,
   "metadata": {},
   "outputs": [
    {
     "name": "stdout",
     "output_type": "stream",
     "text": [
      "Key: schoolName, Value: Bayridge SS\n",
      "Key: schoolNumber, Value: 1102\n",
      "Key: street, Value: 1105 Taylor Kid Blvd\n",
      "Key: province, Value: Ontario\n",
      "Key: country, Value: Canada\n"
     ]
    }
   ],
   "source": [
    "let school = {\n",
    "    schoolName: \"Bayridge SS\",\n",
    "    schoolNumber: 1102,\n",
    "    street: \"1105 Taylor Kid Blvd\",\n",
    "    province: \"Ontario\",\n",
    "    country: \"Canada\"\n",
    "};\n",
    "\n",
    "for (let prop in school) {\n",
    "    console.log(`Key: ${prop}, Value: ${school[prop]}`);\n",
    "}"
   ]
  },
  {
   "cell_type": "markdown",
   "metadata": {},
   "source": [
    "Something that intrigued me was whether or not nested objects could be iterated through, and their nested properties would also be iterated through. Upon the following example, I realize that it would just return ```[object Object]```. This is just the string representation of an object. More specifically, this is the default serialization of an object. \n",
    "\n",
    "https://www.freecodecamp.org/news/object-object-in-javascript-meaning-in-js/\n",
    "\n",
    "https://stackoverflow.com/questions/4750225/what-does-object-object-mean\n",
    "\n",
    "https://stackoverflow.com/questions/29516136/how-to-print-all-values-of-a-nested-object"
   ]
  },
  {
   "cell_type": "code",
   "execution_count": 15,
   "metadata": {},
   "outputs": [
    {
     "name": "stdout",
     "output_type": "stream",
     "text": [
      "Key: players, Value: [object Object]\n",
      "Output from Recursion Stack Tim Stutzle\n",
      "Recursed Key: player1\n",
      "Output from Recursion Stack Brady Tkachuk\n",
      "Recursed Key: player2\n",
      "Recursed Key: players\n"
     ]
    }
   ],
   "source": [
    "let ottawaSenators = {\n",
    "    players: {\n",
    "        player1: {\n",
    "            name: \"Tim Stutzle\"\n",
    "        },\n",
    "        player2: {\n",
    "            name: \"Brady Tkachuk\"\n",
    "        }\n",
    "    }\n",
    "}\n",
    "\n",
    "for (let key in ottawaSenators) {\n",
    "    console.log(`Key: ${key}, Value: ${ottawaSenators[key]}`);\n",
    "}\n",
    "\n",
    "// To look through the array in JavaScript that has nested properties, we do the following\n",
    "\n",
    "// We can create a function that does this for us given any type of object\n",
    "\n",
    "/**\n",
    " * This is a function which iterates through the object's nested properties, and returns an array of its property names.\n",
    " * \n",
    " * @param {object} obj - an object\n",
    " * @return an array of each key\n",
    " */\n",
    "\n",
    "function iterateNestedObject(obj) {\n",
    "    for (let key in obj) {\n",
    "        // we need to check if the value for they key is an object\n",
    "        // if so, we need to recurse into the key-value\n",
    "        if (typeof obj[key] === \"object\") {\n",
    "            iterateNestedObject(obj[key]);\n",
    "            console.log(`Recursed Key: ${key}`);\n",
    "        } else {\n",
    "            console.log(`Output from Recursion Stack ${obj[key]}`);\n",
    "        }\n",
    "    }\n",
    "}\n",
    "\n",
    "iterateNestedObject(ottawaSenators)"
   ]
  },
  {
   "cell_type": "markdown",
   "metadata": {},
   "source": [
    "### Property Flags and Descriptors\n",
    "\n",
    "Recall, an object has static properties that are key-value pairs that are assigned to a given object; however, a property has a lot more \"under-the-hood\" features.\n",
    "\n",
    "Object properties have three flags (which are special attributes). All of these flags have a resulting boolean value.\n",
    "- writeable\n",
    "    - If this is ```true```, the value can be edited. \n",
    "    - Otherwise, the value is read-only.\n",
    "- enumerable \n",
    "    - If this is ```true```, the value is listed in loops.\n",
    "    - Otherwise, the value is skipped.\n",
    "- configurable\n",
    "    - If this value is ```true```, the property can be deleted, and the attributes above can be configured. \n",
    "    - Otherwise, the flags stay as-is.\n",
    "\n",
    "For objects, generally all the flags are set to ```true``` by default. "
   ]
  },
  {
   "cell_type": "markdown",
   "metadata": {},
   "source": [
    "#### Getting Descriptors for Properties\n",
    "\n",
    "To show the configuration of each properties flags, we'll utilize the use of the ```getOwnPropertyDescriptor(obj, property)```. This extends from the Object prototype. It returns an object that contains the value, and the boolean values for each flag."
   ]
  },
  {
   "cell_type": "code",
   "execution_count": 16,
   "metadata": {},
   "outputs": [
    {
     "name": "stdout",
     "output_type": "stream",
     "text": [
      "{ value: \"Tim\", writable: true, enumerable: true, configurable: true }\n",
      "{ value: 23, writable: true, enumerable: true, configurable: true }\n",
      "{ value: 3, writable: true, enumerable: true, configurable: true }\n"
     ]
    }
   ],
   "source": [
    "let security = {\n",
    "    name: \"Tim\",\n",
    "    age: 23,\n",
    "    yoe: 3,\n",
    "}\n",
    "\n",
    "for (let key in security) {\n",
    "    let descriptor = Object.getOwnPropertyDescriptor(security, key);\n",
    "    console.log(descriptor);\n",
    "}"
   ]
  },
  {
   "cell_type": "markdown",
   "metadata": {},
   "source": [
    "#### Changing Property Flags"
   ]
  },
  {
   "cell_type": "markdown",
   "metadata": {},
   "source": [
    "To change the property's flags, we can utilize ```Object.defineProperty(obj, propertyName, descriptor)```. \n",
    "\n",
    "The ```descriptor``` above represents an object under the format of the property descriptor object that is returned from ```Object.getOwnPropertyDescriptor()```."
   ]
  },
  {
   "cell_type": "code",
   "execution_count": 17,
   "metadata": {},
   "outputs": [
    {
     "name": "stdout",
     "output_type": "stream",
     "text": [
      "{ name: \"John\" }\n"
     ]
    }
   ],
   "source": [
    "let userJohn = {\n",
    "    name: \"John\"\n",
    "};\n",
    "\n",
    "Object.defineProperty(userJohn, \"age\", {\n",
    "    value: 15,\n",
    "    configurable: true\n",
    "});\n",
    "\n",
    "console.log(userJohn)"
   ]
  },
  {
   "cell_type": "markdown",
   "metadata": {},
   "source": [
    "Something interesting happened in the code block above, ```age``` is not shown. This is due to the flag for ```userJohn``` under enumerable being set to false (as seen below). "
   ]
  },
  {
   "cell_type": "code",
   "execution_count": 18,
   "metadata": {},
   "outputs": [
    {
     "name": "stdout",
     "output_type": "stream",
     "text": [
      "{ value: 15, writable: false, enumerable: false, configurable: true }\n"
     ]
    }
   ],
   "source": [
    "console.log(Object.getOwnPropertyDescriptor(userJohn, \"age\"));"
   ]
  },
  {
   "cell_type": "markdown",
   "metadata": {},
   "source": [
    "Something important to note, once a property is defined with ```configurable: false```, you cannot modify its configuration or delete it later. However, you can change its value within the non-configurable state.\n",
    "\n",
    "However, if it is set to configurable (as shown above), we can redefine the property to make it enumerable, and show up in our ```console.log()```."
   ]
  },
  {
   "cell_type": "code",
   "execution_count": 19,
   "metadata": {},
   "outputs": [
    {
     "name": "stdout",
     "output_type": "stream",
     "text": [
      "{ name: \"John\", age: 15 }\n"
     ]
    }
   ],
   "source": [
    "Object.defineProperty(userJohn, \"age\", {\n",
    "    enumerable: true\n",
    "});\n",
    "\n",
    "console.log(userJohn); // finally prints { name: \"John\", age: 15 }"
   ]
  },
  {
   "cell_type": "markdown",
   "metadata": {},
   "source": [
    "#### Defining Multiple Properties at Once\n",
    "\n",
    "```Object.defineProperties(obj, descriptors)``` allows us to define many properties at once."
   ]
  },
  {
   "cell_type": "code",
   "execution_count": 20,
   "metadata": {},
   "outputs": [
    {
     "name": "stdout",
     "output_type": "stream",
     "text": [
      "{ name: \"John\", age: 15, surname: \"Smith\" }\n"
     ]
    }
   ],
   "source": [
    "Object.defineProperties(userJohn, {\n",
    "    name: { \n",
    "        value: \"John\", \n",
    "        writable: false, \n",
    "        enumerable: true, \n",
    "        configurable: true \n",
    "    },\n",
    "    surname: { \n",
    "        value: \"Smith\", \n",
    "        writable: false, \n",
    "        enumerable: true, \n",
    "        configurable: true \n",
    "    },\n",
    "  });\n",
    "\n",
    "  console.log(userJohn)"
   ]
  },
  {
   "cell_type": "markdown",
   "metadata": {},
   "source": [
    "#### Getting All Descriptors\n",
    "\n",
    "To get all descriptors within an object, we can use ```Object.getOwnPropertyDescriptors(obj)```."
   ]
  },
  {
   "cell_type": "code",
   "execution_count": 21,
   "metadata": {},
   "outputs": [
    {
     "name": "stdout",
     "output_type": "stream",
     "text": [
      "{\n",
      "  name: {\n",
      "    value: \"John\",\n",
      "    writable: false,\n",
      "    enumerable: true,\n",
      "    configurable: true\n",
      "  },\n",
      "  age: { value: 15, writable: false, enumerable: true, configurable: true },\n",
      "  surname: {\n",
      "    value: \"Smith\",\n",
      "    writable: false,\n",
      "    enumerable: true,\n",
      "    configurable: true\n",
      "  }\n",
      "}\n",
      "\n",
      "---------------------\n",
      "\n",
      "{\n",
      "  value: \"John\",\n",
      "  writable: false,\n",
      "  enumerable: true,\n",
      "  configurable: true\n",
      "}\n",
      "\n",
      "---------------------\n",
      "\n",
      "{ value: 15, writable: false, enumerable: true, configurable: true }\n",
      "\n",
      "---------------------\n",
      "\n",
      "{\n",
      "  value: \"Smith\",\n",
      "  writable: false,\n",
      "  enumerable: true,\n",
      "  configurable: true\n",
      "}\n"
     ]
    }
   ],
   "source": [
    "const descriptors = Object.getOwnPropertyDescriptors(userJohn);\n",
    "\n",
    "console.log(descriptors);\n",
    "\n",
    "console.log(\"\\n---------------------\\n\");\n",
    "\n",
    "console.log(descriptors.name);\n",
    "\n",
    "console.log(\"\\n---------------------\\n\");\n",
    "\n",
    "console.log(descriptors.age);\n",
    "\n",
    "console.log(\"\\n---------------------\\n\");\n",
    "\n",
    "console.log(descriptors.surname);\n"
   ]
  },
  {
   "cell_type": "markdown",
   "metadata": {},
   "source": [
    "#### Sealing and Testing Objects\n",
    "\n",
    "Property descriptors are for properties within objects, however, if we want to deal with manipulating the configuration of an object, we can use the following methods:\n",
    "\n",
    "```Object.preventExtensions(obj)```: Prevents the addition of a new property to the object. However, we can still delete object properties."
   ]
  },
  {
   "cell_type": "code",
   "execution_count": 22,
   "metadata": {},
   "outputs": [
    {
     "name": "stdout",
     "output_type": "stream",
     "text": [
      "{ cityName: \"613\" }\n"
     ]
    }
   ],
   "source": [
    "let cityOne = {\n",
    "    cityName: 'Toronto'\n",
    "};\n",
    "\n",
    "Object.preventExtensions(cityOne);\n",
    "\n",
    "// we'll try to add a property \n",
    "\n",
    "cityOne.cityName = '613'; // throws a TypeError as the object is no longer extensible\n",
    "\n",
    "// delete cityOne.cityName;\n",
    "\n",
    "console.log(cityOne);"
   ]
  },
  {
   "cell_type": "markdown",
   "metadata": {},
   "source": [
    "```Object.seal(obj)```: Forbids adding and removing OF properties. This allows us to change the value of existing properties, however, it does not allow us to add new properties, or remove properties."
   ]
  },
  {
   "cell_type": "code",
   "execution_count": 23,
   "metadata": {},
   "outputs": [
    {
     "ename": "TypeError",
     "evalue": "Cannot delete property 'cityName' of #<Object>",
     "output_type": "error",
     "traceback": [
      "Stack trace:",
      "TypeError: Cannot delete property 'cityName' of #<Object>",
      "    at <anonymous>:5:1"
     ]
    }
   ],
   "source": [
    "let cityTwo = {\n",
    "    cityName: \"Kingston\"\n",
    "};\n",
    "\n",
    "Object.seal(cityTwo);\n",
    "\n",
    "delete cityTwo.cityName; // throws an error"
   ]
  },
  {
   "cell_type": "markdown",
   "metadata": {},
   "source": [
    "```Object.freeze(obj)```: Doesn't allow for adding, deleting, or changing properties. "
   ]
  },
  {
   "cell_type": "code",
   "execution_count": null,
   "metadata": {},
   "outputs": [
    {
     "data": {
      "text/plain": [
       "{ cityName: \u001b[32m\"Ajax\"\u001b[39m }"
      ]
     },
     "execution_count": 48,
     "metadata": {},
     "output_type": "execute_result"
    }
   ],
   "source": [
    "let cityThree = {\n",
    "    cityName: \"Ajax\"\n",
    "};\n",
    "\n",
    "Object.freeze(cityThree);\n",
    "\n",
    "// cityThree.cityName = \"Kingston\"; // throws an error"
   ]
  },
  {
   "cell_type": "markdown",
   "metadata": {},
   "source": [
    "The following are some tests that can be made:\n",
    "\n",
    "- ```Object.isExtensible(obj)```: Returns ```false```, otherwise ```true```.\n",
    "- ```Object.isSealed(obj)```: Returns ```true``` if properties are forbidden.\n",
    "- ```Object.isFrozen(obj)```: Returns ```true``` if adding/deleting/changing properties is forbidden."
   ]
  },
  {
   "cell_type": "code",
   "execution_count": null,
   "metadata": {},
   "outputs": [
    {
     "name": "stdout",
     "output_type": "stream",
     "text": [
      "false\n",
      "true\n",
      "true\n"
     ]
    }
   ],
   "source": [
    "console.log(Object.isExtensible(cityOne));\n",
    "console.log(Object.isSealed(cityTwo));\n",
    "console.log(Object.isFrozen(cityThree));"
   ]
  },
  {
   "cell_type": "markdown",
   "metadata": {},
   "source": [
    "### Property Getters and Setters\n",
    "\n",
    "There are two types of properties:\n",
    "1. *Data Property*. These are standard properties that hold a value.\n",
    "2. *Accessor Property*.\n",
    "\n",
    "*Accessor properties* execute a function when accessed or modified, using ```get```, and ```set```. They are useful in creating \"virtual\" properties that are readable, and writeable.\n",
    "\n",
    "The following is an example of a getter, and setter:"
   ]
  },
  {
   "cell_type": "code",
   "execution_count": null,
   "metadata": {},
   "outputs": [
    {
     "name": "stdout",
     "output_type": "stream",
     "text": [
      "Brady\n"
     ]
    }
   ],
   "source": [
    "const driver = {\n",
    "    firstName: \"Tim\",\n",
    "    lastName: \"Stutzle\",\n",
    "    car: \"2005 Honda Civic\",\n",
    "    insurance: 125,\n",
    "\n",
    "    get fullName() {\n",
    "        return `${this.firstName} ${this.lastName}`;\n",
    "    },\n",
    "\n",
    "    set fullName(string: string) {\n",
    "        // this is a very elegant line\n",
    "        // we destructure the string into TWO parts, then set the property values as those two parts\n",
    "        [this.firstName, this.lastName] = string.split(\" \");\n",
    "    }\n",
    "};\n",
    "\n",
    "driver.fullName = \"Brady Tkachuk\";\n",
    "\n",
    "console.log(driver.firstName);"
   ]
  },
  {
   "cell_type": "markdown",
   "metadata": {},
   "source": [
    "#### Accessor Descriptors\n",
    "\n",
    "Accessor properties use ```get``` and ```set``` functions, which include ```enumerable```, and ```configurable```. However, both ```value```, and ```writeable``` are omitted."
   ]
  },
  {
   "cell_type": "code",
   "execution_count": 25,
   "metadata": {},
   "outputs": [
    {
     "ename": "ReferenceError",
     "evalue": "driver is not defined",
     "output_type": "error",
     "traceback": [
      "Stack trace:",
      "ReferenceError: driver is not defined",
      "    at <anonymous>:1:44"
     ]
    }
   ],
   "source": [
    "Object.defineProperty(driver, 'fullName', {\n",
    "    get() {\n",
    "        return `${this.firstName} ${this.lastName}`;\n",
    "    },\n",
    "    set(value) {\n",
    "        [this.firstName, this.lastName] = value.split(\" \");\n",
    "    },\n",
    "    enumerable: true,\n",
    "    configurable: true\n",
    "});\n",
    "\n",
    "for (let prop in driver) {\n",
    "    if (prop != \"insurance\") {\n",
    "        console.log(driver[prop]);\n",
    "    }\n",
    "    else {\n",
    "        console.log(`Insurance: $${driver[prop]}`)\n",
    "    }\n",
    "}"
   ]
  },
  {
   "cell_type": "markdown",
   "metadata": {},
   "source": [
    "Accessors can also maintain backward compatibility when refactoring code. \n",
    "\n",
    "But wait a second, what does this even mean?\n",
    "\n",
    "Simply put, there is going to be a change to the implementation of an object without breaking existing coe that relies on the object's properties.\n",
    "\n",
    "The following is an interesting function, which mimics and object, and properties of an object being dictated. Now, this works as is, however, what if we want to create something similar with just an object literal:"
   ]
  },
  {
   "cell_type": "code",
   "execution_count": 36,
   "metadata": {},
   "outputs": [
    {
     "name": "stdout",
     "output_type": "stream",
     "text": [
      "Mo Sarhat\n",
      "John Rynard\n"
     ]
    }
   ],
   "source": [
    "function User(firstName, lastName) {\n",
    "    this.firstName = firstName;\n",
    "    this.lastName = lastName;\n",
    "\n",
    "    Object.defineProperty(this, \"fullName\", {\n",
    "        get() {\n",
    "            let fullName = this.firstName + \" \" + this.lastName;\n",
    "            return fullName;\n",
    "        }\n",
    "    });\n",
    "}\n",
    "\n",
    "let playerOne = new User(\"Mo\", \"Sarhat\");\n",
    "console.log(playerOne.fullName)\n",
    "\n",
    "//\n",
    "\n",
    "let userObject = {\n",
    "    firstName: \"\",\n",
    "    lastName: \"\",\n",
    "};\n",
    "\n",
    "Object.defineProperty(userObject, \"fullName\", {\n",
    "    get() {\n",
    "        let fullName = this.firstName + \" \" + this.lastName;\n",
    "        return fullName;\n",
    "    }\n",
    "});\n",
    "\n",
    "userObject.firstName = \"John\";\n",
    "userObject.lastName = \"Rynard\";\n",
    "console.log(userObject.fullName);"
   ]
  },
  {
   "cell_type": "markdown",
   "metadata": {},
   "source": [
    "## ```[[Prototype]]``` and ```__proto__```\n",
    "\n",
    "Objects have a special internal hidden property, that is either null, or referenced another object; ```[[Prototype]]```. \n",
    "\n",
    "If a property is missing in an object, JavaScript looks for it in the prototype chain. ```__proto__``` is an accessor property of Object.prototype that exposes ```[[Prototype]]``` of the object [7].\n",
    "\n",
    "Something to note, ```__proto__``` is a getter and setter for ```[[Prototype]]```, but ```Object.getPrototypeOf()```, and ```Object.setPrototypeOf()``` are preffered."
   ]
  },
  {
   "cell_type": "markdown",
   "metadata": {},
   "source": [
    "## The Differences Between ```[[Prototype]]``` and ```__proto__```\n",
    "\n",
    "https://www.reddit.com/r/learnjavascript/comments/x80v4l/eli5_what_is_the_difference_between_proto_and/"
   ]
  },
  {
   "cell_type": "markdown",
   "metadata": {},
   "source": [
    "## Prototypal Inheritance"
   ]
  },
  {
   "cell_type": "markdown",
   "metadata": {},
   "source": [
    "### Setting the Prototype"
   ]
  },
  {
   "cell_type": "markdown",
   "metadata": {},
   "source": [
    "### Prototype Chain"
   ]
  },
  {
   "cell_type": "markdown",
   "metadata": {},
   "source": [
    "### Writing to Prototypes"
   ]
  },
  {
   "cell_type": "markdown",
   "metadata": {},
   "source": [
    "### ```this``` in Methods"
   ]
  },
  {
   "cell_type": "markdown",
   "metadata": {},
   "source": [
    "## F.prototype"
   ]
  },
  {
   "cell_type": "markdown",
   "metadata": {},
   "source": [
    "### How F.prototype Works"
   ]
  },
  {
   "cell_type": "markdown",
   "metadata": {},
   "source": [
    "### Default F.prototype"
   ]
  },
  {
   "cell_type": "markdown",
   "metadata": {},
   "source": [
    "### Overwriting F.prototype"
   ]
  },
  {
   "cell_type": "markdown",
   "metadata": {},
   "source": [
    "## Native Properties"
   ]
  },
  {
   "cell_type": "markdown",
   "metadata": {},
   "source": [
    "### Prototype Chains for Native Properties"
   ]
  },
  {
   "cell_type": "markdown",
   "metadata": {},
   "source": [
    "### Methods in Prototypes"
   ]
  },
  {
   "cell_type": "markdown",
   "metadata": {},
   "source": [
    "### Primitives and Wrapper Objects"
   ]
  },
  {
   "cell_type": "markdown",
   "metadata": {},
   "source": [
    "### Modifying Native Prototypes"
   ]
  },
  {
   "cell_type": "markdown",
   "metadata": {},
   "source": [
    "### Polyfilling"
   ]
  },
  {
   "cell_type": "markdown",
   "metadata": {},
   "source": [
    "### Prototype Methods"
   ]
  },
  {
   "cell_type": "markdown",
   "metadata": {},
   "source": [
    "### Borrowing Methods"
   ]
  },
  {
   "cell_type": "markdown",
   "metadata": {},
   "source": [
    "## Prototype Methods"
   ]
  },
  {
   "cell_type": "markdown",
   "metadata": {},
   "source": [
    "### Modern Methods\n",
    "\n",
    "### Cloning Objects with Prototypes\n",
    "\n",
    "### Creating Very Plain Objects\n",
    "\n",
    "### Avoiding ```__proto__```"
   ]
  },
  {
   "cell_type": "markdown",
   "metadata": {},
   "source": [
    "## ------------------------------------------"
   ]
  },
  {
   "cell_type": "markdown",
   "metadata": {},
   "source": [
    "## Object Referencing"
   ]
  },
  {
   "cell_type": "markdown",
   "metadata": {},
   "source": [
    "### Object vs Primitives: Referencing"
   ]
  },
  {
   "cell_type": "markdown",
   "metadata": {},
   "source": [
    "### Comparison by Reference"
   ]
  },
  {
   "cell_type": "markdown",
   "metadata": {},
   "source": [
    "## Cloning Objects"
   ]
  },
  {
   "cell_type": "markdown",
   "metadata": {},
   "source": [
    "### Cloning Using ```Object.defineProperties(obj)```"
   ]
  },
  {
   "cell_type": "code",
   "execution_count": 37,
   "metadata": {},
   "outputs": [
    {
     "name": "stdout",
     "output_type": "stream",
     "text": [
      "{\n",
      "  name: {\n",
      "    value: \"John\",\n",
      "    writable: false,\n",
      "    enumerable: true,\n",
      "    configurable: true\n",
      "  },\n",
      "  age: { value: 15, writable: false, enumerable: true, configurable: true },\n",
      "  surname: {\n",
      "    value: \"Smith\",\n",
      "    writable: false,\n",
      "    enumerable: true,\n",
      "    configurable: true\n",
      "  }\n",
      "}\n"
     ]
    }
   ],
   "source": [
    "let clone = Object.defineProperties({}, Object.getOwnPropertyDescriptors(userJohn));\n",
    "\n",
    "console.log(Object.getOwnPropertyDescriptors(clone))"
   ]
  },
  {
   "cell_type": "markdown",
   "metadata": {},
   "source": [
    "### Shallow Copy\n",
    "\n",
    "Using ```Object.assign```.\n",
    "\n",
    "```{...obj}```\n"
   ]
  },
  {
   "cell_type": "markdown",
   "metadata": {},
   "source": [
    "### Deep Copy\n",
    "\n",
    "Use ```structuredClone```."
   ]
  },
  {
   "cell_type": "markdown",
   "metadata": {},
   "source": [
    "### Difference Between Shallow and Deep Copy"
   ]
  },
  {
   "cell_type": "markdown",
   "metadata": {},
   "source": [
    "### Merging"
   ]
  },
  {
   "cell_type": "markdown",
   "metadata": {},
   "source": [
    "### Nested Cloning"
   ]
  },
  {
   "cell_type": "markdown",
   "metadata": {},
   "source": [
    "### Using the ```...``` to Shallow Copy"
   ]
  },
  {
   "cell_type": "markdown",
   "metadata": {},
   "source": [
    "## Garbage Collection"
   ]
  },
  {
   "cell_type": "markdown",
   "metadata": {},
   "source": [
    "### Reachability"
   ]
  },
  {
   "cell_type": "markdown",
   "metadata": {},
   "source": [
    "### Basics of Garbage Collection"
   ]
  },
  {
   "cell_type": "markdown",
   "metadata": {},
   "source": [
    "### Why Understanding Garbage Collection Can be Useful for Web Development (hint: memory leaks)"
   ]
  },
  {
   "cell_type": "markdown",
   "metadata": {},
   "source": [
    "## Object Methods"
   ]
  },
  {
   "cell_type": "markdown",
   "metadata": {},
   "source": [
    "### Shorthand Methods"
   ]
  },
  {
   "cell_type": "markdown",
   "metadata": {},
   "source": [
    "## ```this``` in Objects"
   ]
  },
  {
   "cell_type": "markdown",
   "metadata": {},
   "source": [
    "### Nature of ```this``` With Arrow Functions"
   ]
  },
  {
   "cell_type": "markdown",
   "metadata": {},
   "source": [
    "## Creating an Object with a Constructor and Its Benefits\n",
    "\n",
    "### What are Constructor Functions?\n",
    "\n",
    "### How ```new``` Works\n",
    "\n",
    "### Purpose of Constructors\n",
    "\n",
    "### Test to see if Object created with ```new```\n",
    "\n",
    "### Return from Constructors\n",
    "\n",
    "### Omitting Parentheses"
   ]
  },
  {
   "cell_type": "markdown",
   "metadata": {},
   "source": [
    "## Optional Chaining ```?.```\n",
    "\n",
    "A safe way to access nested object properties as it prevents errors when accessing properties of ```null``` or ```undefined```."
   ]
  },
  {
   "cell_type": "markdown",
   "metadata": {},
   "source": [
    "### Uses of Optional Chaining "
   ]
  },
  {
   "cell_type": "markdown",
   "metadata": {},
   "source": [
    "### Limitations of Optional Chaining"
   ]
  },
  {
   "cell_type": "markdown",
   "metadata": {},
   "source": [
    "## Object to Primitive Conversion"
   ]
  },
  {
   "cell_type": "markdown",
   "metadata": {},
   "source": [
    "### Hints for Object-to-Primitive Conversion"
   ]
  },
  {
   "cell_type": "markdown",
   "metadata": {},
   "source": [
    "### Conversion Algorithm"
   ]
  },
  {
   "cell_type": "markdown",
   "metadata": {},
   "source": [
    "### Default Behaviors"
   ]
  },
  {
   "cell_type": "markdown",
   "metadata": {},
   "source": [
    "## References\n",
    "\n",
    "[1] https://dmitripavlutin.com/own-and-inherited-properties-in-javascript/#:~:text=The%20own%20property%20means%20that,inherited%20from%20the%20prototype%20object.\n",
    "\n",
    "[2] https://stackoverflow.com/questions/11740925/is-there-some-way-to-add-meta-data-to-javascript-objects\n",
    "\n",
    "[3] https://stackoverflow.com/questions/14429398/add-metadata-to-javascript-objects\n",
    "\n",
    "[4] https://www.freecodecamp.org/news/dot-notation-vs-square-brackets-javascript/\n",
    "\n",
    "[5] https://www.geeksforgeeks.org/shorthand-syntax-for-object-property-value-in-es6/\n",
    "\n",
    "[6] https://stackoverflow.com/questions/34208195/why-cant-i-access-this-within-an-arrow-function\n",
    "\n",
    "[7] https://medium.com/dev-proto/understanding-proto-in-javascript-c5a42647f04"
   ]
  }
 ],
 "metadata": {
  "kernelspec": {
   "display_name": "Deno",
   "language": "typescript",
   "name": "deno"
  },
  "language_info": {
   "codemirror_mode": "typescript",
   "file_extension": ".ts",
   "mimetype": "text/x.typescript",
   "name": "typescript",
   "nbconvert_exporter": "script",
   "pygments_lexer": "typescript",
   "version": "5.6.2"
  }
 },
 "nbformat": 4,
 "nbformat_minor": 2
}
