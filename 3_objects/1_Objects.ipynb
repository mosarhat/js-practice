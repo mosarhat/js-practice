{
 "cells": [
  {
   "cell_type": "markdown",
   "metadata": {},
   "source": [
    "# Objects\n",
    "\n",
    "Objects in JavaScript are like dictionaries in Python. Objects are key-value collections of data. \n",
    "\n",
    "Simply put, an object is an associative array as keys associate to values."
   ]
  },
  {
   "cell_type": "markdown",
   "metadata": {},
   "source": [
    "## Creating New Objects\n",
    "\n",
    "Recall, there are two types of ways to create an object in JavaScript; object literal, and constructor syntax.\n",
    "\n",
    "```js\n",
    "let obj = {}; // literal method\n",
    "```\n",
    "\n",
    "```js\n",
    "let obj = new Object(); // constructor method\n",
    "```"
   ]
  },
  {
   "cell_type": "markdown",
   "metadata": {},
   "source": [
    "## Object Properties\n",
    "\n",
    "A property within an object is a key-value pair.\n",
    "\n",
    "Keys are strings, or symbols, that act as the property name.\n",
    "\n",
    "Values can be any data type."
   ]
  },
  {
   "cell_type": "code",
   "execution_count": null,
   "metadata": {},
   "outputs": [],
   "source": [
    "let car = {\n",
    "    // the brand and year are keys\n",
    "    // Honda and 2015 are values\n",
    "    brand: \"Honda\",\n",
    "    year: 2015\n",
    "}; // object literal ."
   ]
  },
  {
   "cell_type": "markdown",
   "metadata": {},
   "source": [
    "### Accessing Properties\n",
    "\n",
    "There are two ways of accessing object properties:\n",
    "- Dot notation: ```obj.key```.\n",
    "- Square bracket notation: ```obj[\"key\"]```.\n",
    "\n",
    "Square brackets allow for dynamic property access, and they also allow for multi-word keys."
   ]
  },
  {
   "cell_type": "code",
   "execution_count": 9,
   "metadata": {},
   "outputs": [
    {
     "name": "stdout",
     "output_type": "stream",
     "text": [
      "2015\n",
      "Honda\n",
      "Siena\n",
      "true\n"
     ]
    },
    {
     "data": {
      "text/plain": [
       "\u001b[32m'{\"brand\":\"Honda\",\"year\":2015,\"model\":\"Siena\",\"car fax\":true}'\u001b[39m"
      ]
     },
     "execution_count": 9,
     "metadata": {},
     "output_type": "execute_result"
    }
   ],
   "source": [
    "console.log(car.year); // 2015\n",
    "console.log(car.brand); // Honda\n",
    "\n",
    "car.model = \"Siena\"; // setter\n",
    "\n",
    "console.log(car[\"model\"]);\n",
    "JSON.stringify(car);\n",
    "\n",
    "// what if i want to set a key value, but have it be multi-worded\n",
    "\n",
    "car[\"car fax\"] = true;\n",
    "\n",
    "console.log(car[\"car fax\"]);\n",
    "JSON.stringify(car);"
   ]
  },
  {
   "cell_type": "markdown",
   "metadata": {},
   "source": [
    "### Computed Properties"
   ]
  },
  {
   "cell_type": "markdown",
   "metadata": {},
   "source": [
    "### Shorthand Property Creation"
   ]
  },
  {
   "cell_type": "markdown",
   "metadata": {},
   "source": [
    "### Adding Properties\n",
    "\n",
    "Recall, there are two methods to access properties within a defined object. These two methods can also be used to add key-value pairs within a pre-existing object. \n",
    "\n",
    "For example:\n",
    "\n",
    "```js\n",
    "obj.newProperty = newValue;\n",
    "```\n",
    "\n",
    "```js\n",
    "obj[\"newProperty\"] = newValue;\n",
    "```"
   ]
  },
  {
   "cell_type": "code",
   "execution_count": 13,
   "metadata": {},
   "outputs": [
    {
     "name": "stdout",
     "output_type": "stream",
     "text": [
      "{\n",
      "  brand: \"Honda\",\n",
      "  year: 2015,\n",
      "  model: \"Siena\",\n",
      "  \"car fax\": true,\n",
      "  exhaust: \"EXH 41429\",\n",
      "  \"exhaust clamp\": \"EXH 33969\"\n",
      "}\n",
      "EXH 33969\n"
     ]
    }
   ],
   "source": [
    "car.exhaust = \"EXH 41429\";\n",
    "\n",
    "console.log(car);\n",
    "\n",
    "car[\"exhaust clamp\"] = \"EXH 33969\";\n",
    "\n",
    "console.log(car[\"exhaust clamp\"]);"
   ]
  },
  {
   "cell_type": "markdown",
   "metadata": {},
   "source": [
    "### Deleting Properties\n",
    "\n",
    "We can delete properties using the same two notations to access the properties; dot notation, square bracket notation.\n",
    "\n",
    "```js\n",
    "delete obj.property;\n",
    "\n",
    "delete obj[\"property\"];\n",
    "```"
   ]
  },
  {
   "cell_type": "code",
   "execution_count": 20,
   "metadata": {},
   "outputs": [
    {
     "name": "stdout",
     "output_type": "stream",
     "text": [
      "{\n",
      "  brand: \"Honda\",\n",
      "  year: 2015,\n",
      "  model: \"Siena\",\n",
      "  \"car fax\": true,\n",
      "  \"exhaust clamp\": \"EXH 33969\"\n",
      "}\n",
      "{\n",
      "  brand: \"Honda\",\n",
      "  year: 2015,\n",
      "  model: \"Siena\",\n",
      "  \"exhaust clamp\": \"EXH 33969\"\n",
      "}\n"
     ]
    }
   ],
   "source": [
    "delete car.exhaust;\n",
    "\n",
    "console.log(car);\n",
    "\n",
    "delete car[\"car fax\"];\n",
    "\n",
    "console.log(car);"
   ]
  },
  {
   "cell_type": "markdown",
   "metadata": {},
   "source": [
    "### Checking Property Existence"
   ]
  },
  {
   "cell_type": "markdown",
   "metadata": {},
   "source": [
    "### Iterating Through Properties"
   ]
  },
  {
   "cell_type": "markdown",
   "metadata": {},
   "source": [
    "#### Output Given Integer Properties"
   ]
  },
  {
   "cell_type": "markdown",
   "metadata": {},
   "source": [
    "#### Output Given Non-Integer Properties"
   ]
  },
  {
   "cell_type": "markdown",
   "metadata": {},
   "source": [
    "### ```__proto__```"
   ]
  },
  {
   "cell_type": "markdown",
   "metadata": {},
   "source": [
    "### Property Flags and Descriptors\n",
    "\n",
    "Object properties have three special attributes:\n",
    "- writeable\n",
    "- enumerable \n",
    "- configurable"
   ]
  },
  {
   "cell_type": "markdown",
   "metadata": {},
   "source": [
    "#### Getting Descriptors for Properties"
   ]
  },
  {
   "cell_type": "markdown",
   "metadata": {},
   "source": [
    "#### Changing Property Flags"
   ]
  },
  {
   "cell_type": "markdown",
   "metadata": {},
   "source": [
    "#### Defining Multiple Properties at Once"
   ]
  },
  {
   "cell_type": "markdown",
   "metadata": {},
   "source": [
    "#### Getting All Descriptors"
   ]
  },
  {
   "cell_type": "markdown",
   "metadata": {},
   "source": [
    "#### Restricting Modifications to Objects"
   ]
  },
  {
   "cell_type": "markdown",
   "metadata": {},
   "source": [
    "#### Tests for Sealed Objects"
   ]
  },
  {
   "cell_type": "markdown",
   "metadata": {},
   "source": [
    "### Property Getters and Setters"
   ]
  },
  {
   "cell_type": "markdown",
   "metadata": {},
   "source": [
    "#### Accessor Descriptors"
   ]
  },
  {
   "cell_type": "markdown",
   "metadata": {},
   "source": [
    "#### Rules"
   ]
  },
  {
   "cell_type": "markdown",
   "metadata": {},
   "source": [
    "## Object Referencing"
   ]
  },
  {
   "cell_type": "markdown",
   "metadata": {},
   "source": [
    "### Object vs Primitives: Referencing"
   ]
  },
  {
   "cell_type": "markdown",
   "metadata": {},
   "source": [
    "### Comparison by Reference"
   ]
  },
  {
   "cell_type": "markdown",
   "metadata": {},
   "source": [
    "## Cloning Objects"
   ]
  },
  {
   "cell_type": "markdown",
   "metadata": {},
   "source": [
    "### Shallow Copy\n",
    "\n",
    "Using ```Object.assign```.\n",
    "\n",
    "```{...obj}```\n"
   ]
  },
  {
   "cell_type": "markdown",
   "metadata": {},
   "source": [
    "### Deep Copy\n",
    "\n",
    "Use ```structuredClone```."
   ]
  },
  {
   "cell_type": "markdown",
   "metadata": {},
   "source": [
    "### Difference Between Shallow and Deep Copy"
   ]
  },
  {
   "cell_type": "markdown",
   "metadata": {},
   "source": [
    "### Merging"
   ]
  },
  {
   "cell_type": "markdown",
   "metadata": {},
   "source": [
    "### Nested Cloning"
   ]
  },
  {
   "cell_type": "markdown",
   "metadata": {},
   "source": [
    "### Using the ```...``` to Shallow Copy"
   ]
  },
  {
   "cell_type": "markdown",
   "metadata": {},
   "source": [
    "## Garbage Collection"
   ]
  },
  {
   "cell_type": "markdown",
   "metadata": {},
   "source": [
    "### Reachability"
   ]
  },
  {
   "cell_type": "markdown",
   "metadata": {},
   "source": [
    "### Basics of Garbage Collection"
   ]
  },
  {
   "cell_type": "markdown",
   "metadata": {},
   "source": [
    "### Why Understanding Garbage Collection Can be Useful for Web Development (hint: memory leaks)"
   ]
  },
  {
   "cell_type": "markdown",
   "metadata": {},
   "source": [
    "## Object Methods"
   ]
  },
  {
   "cell_type": "markdown",
   "metadata": {},
   "source": [
    "### Shorthand Methods"
   ]
  },
  {
   "cell_type": "markdown",
   "metadata": {},
   "source": [
    "## ```this``` in Objects"
   ]
  },
  {
   "cell_type": "markdown",
   "metadata": {},
   "source": [
    "### Nature of ```this``` With Arrow Functions"
   ]
  },
  {
   "cell_type": "markdown",
   "metadata": {},
   "source": [
    "## Creating an Object with a Constructor and Its Benefits\n",
    "\n",
    "### What are Constructor Functions?\n",
    "\n",
    "### How ```new``` Works\n",
    "\n",
    "### Purpose of Constructors\n",
    "\n",
    "### Test to see if Object created with ```new```\n",
    "\n",
    "### Return from Constructors\n",
    "\n",
    "### Omitting Parentheses"
   ]
  },
  {
   "cell_type": "markdown",
   "metadata": {},
   "source": [
    "## Optional Chaining ```?.```\n",
    "\n",
    "A safe way to access nested object properties as it prevents errors when accessing properties of ```null``` or ```undefined```."
   ]
  },
  {
   "cell_type": "markdown",
   "metadata": {},
   "source": [
    "### Uses of Optional Chaining "
   ]
  },
  {
   "cell_type": "markdown",
   "metadata": {},
   "source": [
    "### Limitations of Optional Chaining"
   ]
  },
  {
   "cell_type": "markdown",
   "metadata": {},
   "source": [
    "## Object to Primitive Conversion"
   ]
  },
  {
   "cell_type": "markdown",
   "metadata": {},
   "source": [
    "### Hints for Object-to-Primitive Conversion"
   ]
  },
  {
   "cell_type": "markdown",
   "metadata": {},
   "source": [
    "### Conversion Algorithm"
   ]
  },
  {
   "cell_type": "markdown",
   "metadata": {},
   "source": [
    "### Default Behaviors"
   ]
  },
  {
   "cell_type": "markdown",
   "metadata": {},
   "source": [
    "## Prototypical Inheritance"
   ]
  },
  {
   "cell_type": "markdown",
   "metadata": {},
   "source": [
    "### Setting the Prototype"
   ]
  },
  {
   "cell_type": "markdown",
   "metadata": {},
   "source": [
    "### Prototype Chain"
   ]
  },
  {
   "cell_type": "markdown",
   "metadata": {},
   "source": [
    "### Writing to Prototypes"
   ]
  },
  {
   "cell_type": "markdown",
   "metadata": {},
   "source": [
    "### ```this``` in Methods"
   ]
  },
  {
   "cell_type": "markdown",
   "metadata": {},
   "source": [
    "## F.prototype"
   ]
  },
  {
   "cell_type": "markdown",
   "metadata": {},
   "source": [
    "### How F.prototype Works"
   ]
  },
  {
   "cell_type": "markdown",
   "metadata": {},
   "source": [
    "### Default F.prototype"
   ]
  },
  {
   "cell_type": "markdown",
   "metadata": {},
   "source": [
    "### Overwriting F.prototype"
   ]
  },
  {
   "cell_type": "markdown",
   "metadata": {},
   "source": [
    "## Native Properties"
   ]
  },
  {
   "cell_type": "markdown",
   "metadata": {},
   "source": [
    "### Prototype Chains for Native Properties"
   ]
  },
  {
   "cell_type": "markdown",
   "metadata": {},
   "source": [
    "### Methods in Prototypes"
   ]
  },
  {
   "cell_type": "markdown",
   "metadata": {},
   "source": [
    "### Primitives and Wrapper Objects"
   ]
  },
  {
   "cell_type": "markdown",
   "metadata": {},
   "source": [
    "### Modifying Native Prototypes"
   ]
  },
  {
   "cell_type": "markdown",
   "metadata": {},
   "source": [
    "### Polyfilling"
   ]
  },
  {
   "cell_type": "markdown",
   "metadata": {},
   "source": [
    "### Prototype Methods"
   ]
  },
  {
   "cell_type": "markdown",
   "metadata": {},
   "source": [
    "### Borrowing Methods"
   ]
  },
  {
   "cell_type": "markdown",
   "metadata": {},
   "source": [
    "## Prototype Methods"
   ]
  },
  {
   "cell_type": "markdown",
   "metadata": {},
   "source": [
    "### Modern Methods\n",
    "\n",
    "### Cloning Objects with Prototypes\n",
    "\n",
    "### Creating Very Plain Objects\n",
    "\n",
    "### Avoiding ```__proto__```"
   ]
  }
 ],
 "metadata": {
  "kernelspec": {
   "display_name": "Deno",
   "language": "typescript",
   "name": "deno"
  },
  "language_info": {
   "codemirror_mode": "typescript",
   "file_extension": ".ts",
   "mimetype": "text/x.typescript",
   "name": "typescript",
   "nbconvert_exporter": "script",
   "pygments_lexer": "typescript",
   "version": "5.6.2"
  }
 },
 "nbformat": 4,
 "nbformat_minor": 2
}
