{
 "cells": [
  {
   "cell_type": "markdown",
   "metadata": {},
   "source": [
    "# Objects\n",
    "\n",
    "Objects in JavaScript are like dictionaries in Python. Objects are key-value collections of data. \n",
    "\n",
    "Simply put, an object is an associative array as keys associate to values."
   ]
  },
  {
   "cell_type": "markdown",
   "metadata": {},
   "source": [
    "## Creating New Objects\n",
    "\n",
    "Recall, there are two types of ways to create an object in JavaScript; object literal, and constructor syntax.\n",
    "\n",
    "```js\n",
    "let obj = {}; // literal method\n",
    "```\n",
    "\n",
    "```js\n",
    "let obj = new Object(); // constructor method\n",
    "```"
   ]
  },
  {
   "cell_type": "markdown",
   "metadata": {},
   "source": [
    "## Object Properties\n",
    "\n",
    "A property within an object is a key-value pair.\n",
    "\n",
    "Keys are strings, or symbols, that act as the property name.\n",
    "\n",
    "Values can be any data type.\n",
    "\n",
    "Typically, there are two types of keys; static keys, and dynamic keys. Recall, JavaScript is an *interpreted* language, so it runs at run-time rather than compile time. This creates a significant issue for key values, as we can either pre-define them within the object (static), or dynamically include them at run-time (dynamic)."
   ]
  },
  {
   "cell_type": "code",
   "execution_count": 6,
   "metadata": {},
   "outputs": [],
   "source": [
    "let car = {\n",
    "    // the brand and year are keys\n",
    "    // Honda and 2015 are values\n",
    "    brand: \"Honda\",\n",
    "    year: 2015,\n",
    "    running: false\n",
    "}; // object literal ."
   ]
  },
  {
   "cell_type": "markdown",
   "metadata": {},
   "source": [
    "### Accessing Properties\n",
    "\n",
    "There are two ways of accessing object properties:\n",
    "- Dot notation: ```obj.key```. \n",
    "- Square bracket notation: ```obj[\"key\"]```. The quotes inside the brackets are called an *expression* [2]. The expression serves as the key to access the desired property.\n",
    "\n",
    "Square brackets allow for dynamic property access, and they also allow for multi-word keys.\n",
    "\n",
    "The following are some basic examples using the previous ```car``` object of both dot notation, and square bracket notation in action:"
   ]
  },
  {
   "cell_type": "code",
   "execution_count": 15,
   "metadata": {},
   "outputs": [
    {
     "name": "stdout",
     "output_type": "stream",
     "text": [
      "{\n",
      "  brand: \"Honda\",\n",
      "  year: 2015,\n",
      "  running: true,\n",
      "  model: \"Siena\",\n",
      "  \"exhaust clamp\": \"EXH 33969\"\n",
      "}\n",
      "2015\n",
      "2015\n"
     ]
    }
   ],
   "source": [
    "console.log(car);\n",
    "\n",
    "console.log(car.year); // returns 2015\n",
    "\n",
    "console.log(car[\"year\"]); // returns 2015"
   ]
  },
  {
   "cell_type": "markdown",
   "metadata": {},
   "source": [
    "Dot notation differs from square bracket notation; dot notation **ONLY** allows for static keys, while square bracket notation allows for BOTH static and dynamic keys [2].\n",
    "\n",
    "Suppose we have a object, ```employer```, and within the object, we have basic information set as key-value pairs such as first and last names, but we want to add the company name dynamically. The following is a prime example of how both dot and square bracket notation differ:"
   ]
  },
  {
   "cell_type": "markdown",
   "metadata": {},
   "source": [
    "The following is an example of the limitations of dot notation:"
   ]
  },
  {
   "cell_type": "markdown",
   "metadata": {},
   "source": [
    "The following is an example of the limitations of dot notation:"
   ]
  },
  {
   "cell_type": "markdown",
   "metadata": {},
   "source": [
    "### Computed Properties"
   ]
  },
  {
   "cell_type": "markdown",
   "metadata": {},
   "source": [
    "### Shorthand Property Creation"
   ]
  },
  {
   "cell_type": "markdown",
   "metadata": {},
   "source": [
    "### Adding Properties\n",
    "\n",
    "Recall, there are two methods to access properties within a defined object. These two methods can also be used to add key-value pairs within a pre-existing object. \n",
    "\n",
    "For example:\n",
    "\n",
    "```js\n",
    "obj.newProperty = newValue;\n",
    "```\n",
    "\n",
    "```js\n",
    "obj[\"newProperty\"] = newValue;\n",
    "```\n",
    "\n",
    "Adding functions follow the same process. Typically, we can use function expressions, and having a named, or anonymous function declared makes no difference. However, if arrow functions are used, there are going to be binding issues with ```this``` when adding the function as a property within our pre-defined object (hint: this is because arrow functions do not have ```this```, i.e. lexical binding) [1].\n",
    "\n",
    "Note: This is actually super strange, but using the square brackets allows us to dynamically enter key-values, and access them sequentially; whereas the dot notation gets hoisted.\n"
   ]
  },
  {
   "cell_type": "code",
   "execution_count": 16,
   "metadata": {},
   "outputs": [
    {
     "name": "stdout",
     "output_type": "stream",
     "text": [
      "{\n",
      "  brand: \"Honda\",\n",
      "  year: 2015,\n",
      "  running: true,\n",
      "  model: \"Siena\",\n",
      "  \"exhaust clamp\": \"EXH 33969\",\n",
      "  exhaust: \"EXH 41429\"\n",
      "}\n",
      "EXH 33969\n",
      "Car started\n",
      "{\n",
      "  brand: \"Honda\",\n",
      "  year: 2015,\n",
      "  running: true,\n",
      "  model: \"Siena\",\n",
      "  \"exhaust clamp\": \"EXH 33969\",\n",
      "  exhaust: \"EXH 41429\",\n",
      "  start: [Function: startCar]\n",
      "}\n"
     ]
    }
   ],
   "source": [
    "car.exhaust = \"EXH 41429\";\n",
    "\n",
    "console.log(car);\n",
    "\n",
    "car[\"exhaust clamp\"] = \"EXH 33969\";\n",
    "\n",
    "console.log(car[\"exhaust clamp\"]);\n",
    "\n",
    "// something interesting to note, we can assign a function to the property\n",
    "\n",
    "car[\"start\"] = function startCar() {\n",
    "    // this binds to the function which is going to be a part of the object instance of car\n",
    "    this.running = true;\n",
    "    console.log(\"Car started\");\n",
    "}\n",
    "\n",
    "car.start();\n",
    "\n",
    "console.log(car); // haha, it works"
   ]
  },
  {
   "cell_type": "markdown",
   "metadata": {},
   "source": [
    "### Deleting Properties\n",
    "\n",
    "We can delete properties using the same two notations to access the properties; dot notation, square bracket notation.\n",
    "\n",
    "```js\n",
    "delete obj.property;\n",
    "\n",
    "delete obj[\"property\"];\n",
    "```"
   ]
  },
  {
   "cell_type": "code",
   "execution_count": 17,
   "metadata": {},
   "outputs": [
    {
     "name": "stdout",
     "output_type": "stream",
     "text": [
      "{\n",
      "  brand: \"Honda\",\n",
      "  year: 2015,\n",
      "  running: true,\n",
      "  model: \"Siena\",\n",
      "  \"exhaust clamp\": \"EXH 33969\",\n",
      "  start: [Function: startCar]\n",
      "}\n",
      "{\n",
      "  brand: \"Honda\",\n",
      "  year: 2015,\n",
      "  running: true,\n",
      "  model: \"Siena\",\n",
      "  \"exhaust clamp\": \"EXH 33969\",\n",
      "  start: [Function: startCar]\n",
      "}\n",
      "{\n",
      "  brand: \"Honda\",\n",
      "  year: 2015,\n",
      "  running: true,\n",
      "  model: \"Siena\",\n",
      "  \"exhaust clamp\": \"EXH 33969\"\n",
      "}\n"
     ]
    }
   ],
   "source": [
    "delete car.exhaust;\n",
    "\n",
    "console.log(car);\n",
    "\n",
    "delete car[\"car fax\"];\n",
    "\n",
    "console.log(car);\n",
    "\n",
    "delete (car.start);\n",
    "\n",
    "console.log(car);"
   ]
  },
  {
   "cell_type": "markdown",
   "metadata": {},
   "source": [
    "### Checking Property Existence\n",
    "\n",
    "In JavaScript, we can use the ```obj.hasOwnProperty(\"prop\")``` method to check if an object contains a property. ```obj.hasOwnProperty(\"prop\")``` will return a boolean value; ```true```, or ```false```.\n",
    "\n",
    "Note: ```obj.hasOwnProperty(\"prop\")``` only checks for **DIRECT** properties, and not inherited ones. \n",
    "\n",
    "The following is an example:"
   ]
  },
  {
   "cell_type": "code",
   "execution_count": 18,
   "metadata": {},
   "outputs": [
    {
     "name": "stdout",
     "output_type": "stream",
     "text": [
      "true\n",
      "true\n",
      "true\n"
     ]
    }
   ],
   "source": [
    "const employee = {\n",
    "    fname: \"Mo\",\n",
    "    lname: \"Goofy Goober\",\n",
    "    fullName: function() {\n",
    "        return this.fname + \" \" + this.lname;\n",
    "    }\n",
    "};\n",
    "\n",
    "console.log(employee.hasOwnProperty(\"fname\")); // returns true\n",
    "\n",
    "console.log(employee.hasOwnProperty(\"lname\")); // returns true\n",
    "\n",
    "console.log(employee.hasOwnProperty(\"fullName\")); // returns true"
   ]
  },
  {
   "cell_type": "markdown",
   "metadata": {},
   "source": [
    "### Iterating Through Properties\n",
    "\n",
    "When iterating th"
   ]
  },
  {
   "cell_type": "markdown",
   "metadata": {},
   "source": [
    "#### Output Given Integer Properties"
   ]
  },
  {
   "cell_type": "markdown",
   "metadata": {},
   "source": [
    "#### Output Given Non-Integer Properties"
   ]
  },
  {
   "cell_type": "markdown",
   "metadata": {},
   "source": [
    "### ```__proto__```"
   ]
  },
  {
   "cell_type": "markdown",
   "metadata": {},
   "source": [
    "### Property Flags and Descriptors\n",
    "\n",
    "Object properties have three special attributes:\n",
    "- writeable\n",
    "- enumerable \n",
    "- configurable"
   ]
  },
  {
   "cell_type": "markdown",
   "metadata": {},
   "source": [
    "#### Getting Descriptors for Properties"
   ]
  },
  {
   "cell_type": "markdown",
   "metadata": {},
   "source": [
    "#### Changing Property Flags"
   ]
  },
  {
   "cell_type": "markdown",
   "metadata": {},
   "source": [
    "#### Defining Multiple Properties at Once"
   ]
  },
  {
   "cell_type": "markdown",
   "metadata": {},
   "source": [
    "#### Getting All Descriptors"
   ]
  },
  {
   "cell_type": "markdown",
   "metadata": {},
   "source": [
    "#### Restricting Modifications to Objects"
   ]
  },
  {
   "cell_type": "markdown",
   "metadata": {},
   "source": [
    "#### Tests for Sealed Objects"
   ]
  },
  {
   "cell_type": "markdown",
   "metadata": {},
   "source": [
    "### Property Getters and Setters"
   ]
  },
  {
   "cell_type": "markdown",
   "metadata": {},
   "source": [
    "#### Accessor Descriptors"
   ]
  },
  {
   "cell_type": "markdown",
   "metadata": {},
   "source": [
    "#### Rules"
   ]
  },
  {
   "cell_type": "markdown",
   "metadata": {},
   "source": [
    "## Object Referencing"
   ]
  },
  {
   "cell_type": "markdown",
   "metadata": {},
   "source": [
    "### Object vs Primitives: Referencing"
   ]
  },
  {
   "cell_type": "markdown",
   "metadata": {},
   "source": [
    "### Comparison by Reference"
   ]
  },
  {
   "cell_type": "markdown",
   "metadata": {},
   "source": [
    "## Cloning Objects"
   ]
  },
  {
   "cell_type": "markdown",
   "metadata": {},
   "source": [
    "### Shallow Copy\n",
    "\n",
    "Using ```Object.assign```.\n",
    "\n",
    "```{...obj}```\n"
   ]
  },
  {
   "cell_type": "markdown",
   "metadata": {},
   "source": [
    "### Deep Copy\n",
    "\n",
    "Use ```structuredClone```."
   ]
  },
  {
   "cell_type": "markdown",
   "metadata": {},
   "source": [
    "### Difference Between Shallow and Deep Copy"
   ]
  },
  {
   "cell_type": "markdown",
   "metadata": {},
   "source": [
    "### Merging"
   ]
  },
  {
   "cell_type": "markdown",
   "metadata": {},
   "source": [
    "### Nested Cloning"
   ]
  },
  {
   "cell_type": "markdown",
   "metadata": {},
   "source": [
    "### Using the ```...``` to Shallow Copy"
   ]
  },
  {
   "cell_type": "markdown",
   "metadata": {},
   "source": [
    "## Garbage Collection"
   ]
  },
  {
   "cell_type": "markdown",
   "metadata": {},
   "source": [
    "### Reachability"
   ]
  },
  {
   "cell_type": "markdown",
   "metadata": {},
   "source": [
    "### Basics of Garbage Collection"
   ]
  },
  {
   "cell_type": "markdown",
   "metadata": {},
   "source": [
    "### Why Understanding Garbage Collection Can be Useful for Web Development (hint: memory leaks)"
   ]
  },
  {
   "cell_type": "markdown",
   "metadata": {},
   "source": [
    "## Object Methods"
   ]
  },
  {
   "cell_type": "markdown",
   "metadata": {},
   "source": [
    "### Shorthand Methods"
   ]
  },
  {
   "cell_type": "markdown",
   "metadata": {},
   "source": [
    "## ```this``` in Objects"
   ]
  },
  {
   "cell_type": "markdown",
   "metadata": {},
   "source": [
    "### Nature of ```this``` With Arrow Functions"
   ]
  },
  {
   "cell_type": "markdown",
   "metadata": {},
   "source": [
    "## Creating an Object with a Constructor and Its Benefits\n",
    "\n",
    "### What are Constructor Functions?\n",
    "\n",
    "### How ```new``` Works\n",
    "\n",
    "### Purpose of Constructors\n",
    "\n",
    "### Test to see if Object created with ```new```\n",
    "\n",
    "### Return from Constructors\n",
    "\n",
    "### Omitting Parentheses"
   ]
  },
  {
   "cell_type": "markdown",
   "metadata": {},
   "source": [
    "## Optional Chaining ```?.```\n",
    "\n",
    "A safe way to access nested object properties as it prevents errors when accessing properties of ```null``` or ```undefined```."
   ]
  },
  {
   "cell_type": "markdown",
   "metadata": {},
   "source": [
    "### Uses of Optional Chaining "
   ]
  },
  {
   "cell_type": "markdown",
   "metadata": {},
   "source": [
    "### Limitations of Optional Chaining"
   ]
  },
  {
   "cell_type": "markdown",
   "metadata": {},
   "source": [
    "## Object to Primitive Conversion"
   ]
  },
  {
   "cell_type": "markdown",
   "metadata": {},
   "source": [
    "### Hints for Object-to-Primitive Conversion"
   ]
  },
  {
   "cell_type": "markdown",
   "metadata": {},
   "source": [
    "### Conversion Algorithm"
   ]
  },
  {
   "cell_type": "markdown",
   "metadata": {},
   "source": [
    "### Default Behaviors"
   ]
  },
  {
   "cell_type": "markdown",
   "metadata": {},
   "source": [
    "## Prototypical Inheritance"
   ]
  },
  {
   "cell_type": "markdown",
   "metadata": {},
   "source": [
    "### Setting the Prototype"
   ]
  },
  {
   "cell_type": "markdown",
   "metadata": {},
   "source": [
    "### Prototype Chain"
   ]
  },
  {
   "cell_type": "markdown",
   "metadata": {},
   "source": [
    "### Writing to Prototypes"
   ]
  },
  {
   "cell_type": "markdown",
   "metadata": {},
   "source": [
    "### ```this``` in Methods"
   ]
  },
  {
   "cell_type": "markdown",
   "metadata": {},
   "source": [
    "## F.prototype"
   ]
  },
  {
   "cell_type": "markdown",
   "metadata": {},
   "source": [
    "### How F.prototype Works"
   ]
  },
  {
   "cell_type": "markdown",
   "metadata": {},
   "source": [
    "### Default F.prototype"
   ]
  },
  {
   "cell_type": "markdown",
   "metadata": {},
   "source": [
    "### Overwriting F.prototype"
   ]
  },
  {
   "cell_type": "markdown",
   "metadata": {},
   "source": [
    "## Native Properties"
   ]
  },
  {
   "cell_type": "markdown",
   "metadata": {},
   "source": [
    "### Prototype Chains for Native Properties"
   ]
  },
  {
   "cell_type": "markdown",
   "metadata": {},
   "source": [
    "### Methods in Prototypes"
   ]
  },
  {
   "cell_type": "markdown",
   "metadata": {},
   "source": [
    "### Primitives and Wrapper Objects"
   ]
  },
  {
   "cell_type": "markdown",
   "metadata": {},
   "source": [
    "### Modifying Native Prototypes"
   ]
  },
  {
   "cell_type": "markdown",
   "metadata": {},
   "source": [
    "### Polyfilling"
   ]
  },
  {
   "cell_type": "markdown",
   "metadata": {},
   "source": [
    "### Prototype Methods"
   ]
  },
  {
   "cell_type": "markdown",
   "metadata": {},
   "source": [
    "### Borrowing Methods"
   ]
  },
  {
   "cell_type": "markdown",
   "metadata": {},
   "source": [
    "## Prototype Methods"
   ]
  },
  {
   "cell_type": "markdown",
   "metadata": {},
   "source": [
    "### Modern Methods\n",
    "\n",
    "### Cloning Objects with Prototypes\n",
    "\n",
    "### Creating Very Plain Objects\n",
    "\n",
    "### Avoiding ```__proto__```"
   ]
  },
  {
   "cell_type": "markdown",
   "metadata": {},
   "source": [
    "## References\n",
    "\n",
    "[1]\n",
    "\n",
    "[2] https://www.freecodecamp.org/news/dot-notation-vs-square-brackets-javascript/\n",
    "\n",
    "[3] https://stackoverflow.com/questions/34208195/why-cant-i-access-this-within-an-arrow-function"
   ]
  }
 ],
 "metadata": {
  "kernelspec": {
   "display_name": "Deno",
   "language": "typescript",
   "name": "deno"
  },
  "language_info": {
   "codemirror_mode": "typescript",
   "file_extension": ".ts",
   "mimetype": "text/x.typescript",
   "name": "typescript",
   "nbconvert_exporter": "script",
   "pygments_lexer": "typescript",
   "version": "5.6.2"
  }
 },
 "nbformat": 4,
 "nbformat_minor": 2
}
