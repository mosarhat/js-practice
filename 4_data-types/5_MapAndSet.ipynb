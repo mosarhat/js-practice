{
 "cells": [
  {
   "cell_type": "markdown",
   "metadata": {},
   "source": [
    "# Map and Set"
   ]
  },
  {
   "cell_type": "markdown",
   "metadata": {},
   "source": [
    "## Maps\n",
    "\n",
    "Use when:\n",
    "- Keys of any type are needed.\n",
    "- Insertion order must be maintained.\n",
    "- Frequently add/remove key-value pairs.\n",
    "\n",
    "### Key Features\n",
    "\n",
    "### Methods\n",
    "\n",
    "### Iteration"
   ]
  },
  {
   "cell_type": "markdown",
   "metadata": {},
   "source": [
    "## Sets\n",
    "\n",
    "Use when:\n",
    "- Need to store unique values.\n",
    "- Avoid duplicates efficiently.\n",
    "\n",
    "### Key Features\n",
    "\n",
    "### Methods\n",
    "\n",
    "### Iteration"
   ]
  },
  {
   "cell_type": "markdown",
   "metadata": {},
   "source": [
    "## Map vs Object"
   ]
  },
  {
   "cell_type": "markdown",
   "metadata": {},
   "source": [
    "## Set vs Array"
   ]
  },
  {
   "cell_type": "markdown",
   "metadata": {},
   "source": [
    "## Conversion Between Structures\n",
    "\n",
    "### ```Object.entries(obj)```\n",
    "\n",
    "### ```Object.fromEntries(map)```"
   ]
  }
 ],
 "metadata": {
  "language_info": {
   "name": "python"
  }
 },
 "nbformat": 4,
 "nbformat_minor": 2
}
