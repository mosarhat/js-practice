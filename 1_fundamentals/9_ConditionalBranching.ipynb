{
 "cells": [
  {
   "cell_type": "markdown",
   "metadata": {},
   "source": [
    "# Conditional Branching"
   ]
  },
  {
   "cell_type": "markdown",
   "metadata": {},
   "source": [
    "## The ```if``` Statement\n",
    "\n",
    "Used to execute based on whether or not a condition is true. \n",
    "\n",
    "For example:\n",
    "\n",
    "```\n",
    "if (condition) {\n",
    "    // executes if condition coerces to or is true\n",
    "}\n",
    "```"
   ]
  },
  {
   "cell_type": "code",
   "execution_count": 3,
   "metadata": {},
   "outputs": [
    {
     "name": "stdout",
     "output_type": "stream",
     "text": [
      "1\n"
     ]
    }
   ],
   "source": [
    "if (1) {\n",
    "    console.log(1); // will print\n",
    "}\n",
    "\n",
    "if (0) {\n",
    "    console.log(1); // will not print\n",
    "}"
   ]
  },
  {
   "cell_type": "markdown",
   "metadata": {},
   "source": [
    "## The ```else``` Clause\n",
    "\n",
    "If the statement within the ```if``` statement evaluates to false, then an ```else``` clause can be used for side-cases."
   ]
  },
  {
   "cell_type": "code",
   "execution_count": 8,
   "metadata": {},
   "outputs": [
    {
     "name": "stdout",
     "output_type": "stream",
     "text": [
      "You can drive! Woohoo!\n"
     ]
    }
   ],
   "source": [
    "let age = 18;\n",
    "if (age >= 16 && age > 0 ) {\n",
    "    console.log(\"You can drive! Woohoo!\")\n",
    "} else {\n",
    "    console.log(\"Awwww, hell nahhhh!\");\n",
    "}"
   ]
  },
  {
   "cell_type": "markdown",
   "metadata": {},
   "source": [
    "## ```else if``` Branching\n",
    "\n",
    "Different conditions can be tested sequentially."
   ]
  },
  {
   "cell_type": "code",
   "execution_count": 9,
   "metadata": {},
   "outputs": [
    {
     "name": "stdout",
     "output_type": "stream",
     "text": [
      "You've got a Yota!\n"
     ]
    }
   ],
   "source": [
    "let car = \"Toyota\";\n",
    "\n",
    "if (car === \"Toyota\") {\n",
    "    console.log(\"You've got a Yota!\");\n",
    "} else if (car == \"Honda\") {\n",
    "    console.log(\"You've got a Honda!\");\n",
    "} else {\n",
    "    console.log(\"I have no idea what you got!\");\n",
    "}"
   ]
  },
  {
   "cell_type": "markdown",
   "metadata": {},
   "source": [
    "## Using ```?```\n",
    "\n",
    "This is a short-hand ```if``` statement to return a value based on a condition to a variable.\n",
    "\n",
    "There are three ways of using the ternary operator, ```?```:\n",
    "\n",
    "Traditionally, the operator is used to return a value within a variable declaration.\n",
    "\n",
    "For example:\n",
    "\n",
    "```js\n",
    "let sum = 20;\n",
    "let result = (sum > 5) ? true : false;\n",
    "console.log(result); // return true\n",
    "```\n",
    "\n",
    "On the other hand, we can also use it without a returning a value within a variable declaration. This mimics a basic ```if``` statement.\n",
    "\n",
    "For example:\n",
    "\n",
    "```js\n",
    "let sumOne = 20;\n",
    "(sumOne > 5) ? console.log(true) : console.log(false);\n",
    "```\n",
    "\n",
    "Finally, chaining ```?``` is also possible. This mimics ```if/else ``` branching.\n",
    "\n",
    "For example:\n",
    "\n",
    "```js\n",
    "let sumTwo = 0;\n",
    "\n",
    "(sumTwo > 0) ? console.log(true) : (sumTwo < 0) ? console.log(false) : console.log(\"this equals 0\");\n",
    "```"
   ]
  },
  {
   "cell_type": "code",
   "execution_count": 16,
   "metadata": {},
   "outputs": [
    {
     "name": "stdout",
     "output_type": "stream",
     "text": [
      "true\n",
      "true\n",
      "this equals 0\n"
     ]
    }
   ],
   "source": [
    "let sum = 20;\n",
    "let result = (sum > 5) ? true : false;\n",
    "console.log(result); // return true\n",
    "\n",
    "// ----\n",
    "\n",
    "let sumOne = 20;\n",
    "(sumOne > 5) ? console.log(true) : console.log(false);\n",
    "\n",
    "// ----\n",
    "\n",
    "let sumTwo = 0;\n",
    "\n",
    "(sumTwo > 0) ? console.log(true) : (sumTwo < 0) ? console.log(false) : console.log(\"this equals 0\");\n"
   ]
  },
  {
   "cell_type": "markdown",
   "metadata": {},
   "source": [
    "Although the ```?``` is very interesting, this should be avoided. Nested ternary operators make code harder to read, and configured linters will not consider them.\n",
    "\n",
    "Note, as we'll see later down the line, do not get ```?``` confused with ```?.```. ```?.``` is a way for programmers to access deeply nested properties of an object without checking if each reference is defined, or not-null (will be covered in-depth later)."
   ]
  },
  {
   "cell_type": "markdown",
   "metadata": {},
   "source": [
    "## Special Considerations Regarding Logical Operators\n",
    "\n",
    "Something I find that isn't mentioned enough within the resources available online is the inner workings of logical operators within conditional branching.\n",
    "\n",
    "For example, it is known (as aforementioned) that any expression within a condition is coerced into either being ```true``` or ```false```. \n",
    "\n",
    "Consider the following expression ```false || undefined``` as a condition for a simple ```if``` statement that executes the following string:"
   ]
  },
  {
   "cell_type": "code",
   "execution_count": 1,
   "metadata": {},
   "outputs": [],
   "source": [
    "if (false || undefined) {\n",
    "    // it doesn't print! why?\n",
    "    console.log(\"Geez, louise!\");\n",
    "} "
   ]
  },
  {
   "cell_type": "markdown",
   "metadata": {},
   "source": [
    "As seen above, the ```if``` statement does not print. Recall, with OR (```||```), the goal is to find the value of the first truthy value. This is because if a truthy value does in fact exist, then the expression returns ```true```. However, in our case, neither operand is truthy, so we return the last operand within the chained expression.\n",
    "\n",
    "But, hold on. The value returned is ```undefined```. How can we possibly evaluate an expression using ```undefined```?? \n",
    "\n",
    "The answer is quite simple; the condition is coerced to either a ```true```, or ```false```. In this case, ```undefined``` is coerced into being ```false```, therefore, the loop doesn't execute.\n",
    "\n",
    "This is a very important concept!"
   ]
  },
  {
   "cell_type": "markdown",
   "metadata": {},
   "source": [
    "## Reference\n",
    "\n",
    "[1] https://javascript.info/ifelse\n",
    "\n"
   ]
  }
 ],
 "metadata": {
  "kernelspec": {
   "display_name": "Deno",
   "language": "typescript",
   "name": "deno"
  },
  "language_info": {
   "codemirror_mode": "typescript",
   "file_extension": ".ts",
   "mimetype": "text/x.typescript",
   "name": "typescript",
   "nbconvert_exporter": "script",
   "pygments_lexer": "typescript",
   "version": "5.6.2"
  }
 },
 "nbformat": 4,
 "nbformat_minor": 2
}
