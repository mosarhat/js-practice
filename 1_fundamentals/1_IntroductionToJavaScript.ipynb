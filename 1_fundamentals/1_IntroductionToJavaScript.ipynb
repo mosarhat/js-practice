{
 "cells": [
  {
   "cell_type": "markdown",
   "metadata": {},
   "source": [
    "# Introduction to JavaScript\n",
    "\n",
    "Kyle Simpson, in Up and Going, makes a really good point; JS can be used without understanding [1, pg. viii]. \n",
    "\n",
    "The entire point of this learning exercise for me is to always question; Why? Sounds a little cliche, but it's true. We should never be satisfied with slapping together projects without fully understanding the inner workings of the language.\n",
    "\n",
    "Javascript is a *high-level programming* language that can be used to add interactivity and dynamic behavior to web pages. It is also *dynamically typed*, meaning that variables are determined at runtime, rather than at compile time.\n",
    "\n",
    "JavaScript is also considered as a *prototype-based* language. Simply put, this means that objects in JavaScript can inherit properties from other objects. In languages like Java or C++, which are closed-based languages, they use classes, and do not allow object-to-object inheritance. They are also compile time programming languages, so they require a predefined structure.\n",
    "\n",
    "JavaScript is also an *interpreted* language. Compiled languages express the code into machine code, and then run the code. Java is also a compiled language, but within Java, Java is compiled to bytecode, which is then used by the Java Virtual Machine to convert the bytecode into executable code. Interpreted languages run line-by-line, and execute each command. Compiled languages tend to be faster, but interpreted languages tend to be more flexible, and offer dynamic typing.\n",
    "\n",
    "JavaScript can execute both in the command line interface and in the browser. Within the browser, an embedded engine is used. Browsers tend to have different engines. Within the command line interface, ```node`` is used.\n",
    "\n",
    "For example:\n",
    "- Chrome, Brave, Opera and Edge use V8. \n",
    "- Firefox uses SpiderMonkey.\n",
    "- Safari uses WebKit.\n",
    "\n",
    "There are an excess of languages that are transpiled to JavaScript. The following are some of those languages:\n",
    "- [TypeScript](https://www.typescriptlang.org/) allows for strict data types.\n",
    "- [Flow](https://flow.org/) is a static type checker for JavaScript. Not used often.\n",
    "- [Dart] - A new language, as a competitor to JS. Not used often. It compiles to JS through a transpiler.\n",
    "\n",
    "Something interesting to note, TypeScript makes JS mimic a compiled language by introducing static typing."
   ]
  },
  {
   "cell_type": "markdown",
   "metadata": {},
   "source": [
    "## Resources\n",
    "\n",
    "[1] K. Simpson, Up & Going. Sebastopol, CA: O’Reilly Media, 2015. \n",
    "\n",
    "[2] Kantor, \"An Introduction to JavaScript,\" The Modern JavaScript Tutorial, Aug. 8, 2022. [Online]. Available: https://javascript.info/intro. Accessed: Jan. 29, 2025."
   ]
  }
 ],
 "metadata": {
  "language_info": {
   "name": "python"
  }
 },
 "nbformat": 4,
 "nbformat_minor": 2
}
