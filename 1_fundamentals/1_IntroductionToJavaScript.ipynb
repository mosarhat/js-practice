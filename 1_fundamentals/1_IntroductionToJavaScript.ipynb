{
 "cells": [
  {
   "cell_type": "markdown",
   "metadata": {},
   "source": [
    "# Introduction to JavaScript\n",
    "\n",
    "Kyle Simpson, in Up and Going, makes a really good point; JS can be used without understanding [1, pg. viii]. However, we should strive to ask why for every concept.\n",
    "\n",
    "Javascript is a *high-level programming* language that can be used to add interactivity and dynamic behavior to web pages. \n",
    "\n",
    "JavaScript is also *dynamically typed*, meaning that variables are determined at runtime, rather than at compile time.\n",
    "\n",
    "JavaScript is also considered as a *prototype-based* language. Simply put, this means that objects in JavaScript can inherit properties from other objects. In languages like Java or C++, which are closed-based languages, they use classes, and do not allow object-to-object inheritance. They are also compile time programming languages, so they require a predefined structure.\n",
    "\n",
    "JavaScript is also an *interpreted* language. Interpreted languages translate and execute code line by line without compiling it to machine language first. \n",
    "\n",
    "Compiled languages express the code into machine code, and then run the code. Java is also a compiled language, but within Java, Java is compiled to bytecode, which is then used by the Java Virtual Machine to convert the bytecode into executable code. Interpreted languages run line-by-line, and execute each command. Compiled languages tend to be faster, but interpreted languages tend to be more flexible, and offer dynamic typing.\n",
    "\n",
    "JavaScript can execute both in the command line interface and in the browser. Within the browser, an embedded engine is used. Browsers tend to have different engines. Within the command line interface, ```node`` is used.\n",
    "\n",
    "For example:\n",
    "- Chrome, Brave, Opera and Edge use V8. \n",
    "- Firefox uses SpiderMonkey.\n",
    "- Safari uses WebKit.\n",
    "\n",
    "There are an excess of languages that are transpiled to JavaScript. The following are some of those languages:\n",
    "- [TypeScript](https://www.typescriptlang.org/) allows for strict data types.\n",
    "- [Flow](https://flow.org/) is a static type checker for JavaScript. Not used often.\n",
    "- [Dart](https://dart.dev/) - A new language, as a competitor to JS. Not used often. It compiles to JS through a transpiler.\n",
    "\n",
    "Something interesting to note, TypeScript makes JS mimic a compiled language by introducing static typing.\n",
    "\n",
    "## Basic Understanding of JavaScript Compilation\n",
    "\n",
    "JavaScript is *synchronous* (moves to the next line when the execution of the current line). JavaScript is also *single-threaded* (executes one command at a time in a specific order).\n",
    "\n",
    "With regards to compiling JavaScript, the following is a great diagram that showcases what a JavaScript Engine looks like (from freeCodeCamp):\n",
    "\n",
    "<div align=\"center\">\n",
    "    <img src=\"https://www.freecodecamp.org/news/content/images/2023/05/09BA18A6-3F7A-4DBE-AA43-C482725CA5E4.jpeg\"></img>\n",
    "</div>\n",
    "\n",
    "The call stack is where JavaScript is executed. The heap is where the objects required are stored. CPU's can only process binary, so the code has to be translated to machine code (binary representation) [4]. When code passes into the engine, the code is parsed. The code is parsed to a data structure called an Abstract Syntax Tree (AST). This is then used to create machine code [4]."
   ]
  },
  {
   "cell_type": "markdown",
   "metadata": {},
   "source": [
    "## Resources\n",
    "\n",
    "[1] K. Simpson, Up & Going. Sebastopol, CA: O’Reilly Media, 2015. \n",
    "\n",
    "[2] Kantor, \"An Introduction to JavaScript,\" The Modern JavaScript Tutorial, Aug. 8, 2022. [Online]. Available: https://javascript.info/intro. Accessed: Jan. 29, 2025.\n",
    "\n",
    "[3] https://www.geeksforgeeks.org/javascript-code-execution/\n",
    "\n",
    "[4] https://www.freecodecamp.org/news/how-javascript-works-behind-the-scenes/"
   ]
  }
 ],
 "metadata": {
  "kernelspec": {
   "display_name": "Deno",
   "language": "typescript",
   "name": "deno"
  },
  "language_info": {
   "name": "typescript"
  }
 },
 "nbformat": 4,
 "nbformat_minor": 2
}
