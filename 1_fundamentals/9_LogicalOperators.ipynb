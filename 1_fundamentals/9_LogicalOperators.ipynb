{
 "cells": [
  {
   "cell_type": "markdown",
   "metadata": {},
   "source": [
    "# Logical Operators\n",
    "\n",
    "[Attached](https://developer.mozilla.org/en-US/docs/Web/JavaScript/Reference/Operators/Operator_precedence) is the precedence table from MDN.\n",
    "\n",
    "Order of operators covered here:\n",
    "- (14) ```!```.\n",
    "- (4) ```&&```.\n",
    "- (3) ```||```.\n",
    "- (3) ```??```."
   ]
  },
  {
   "cell_type": "markdown",
   "metadata": {},
   "source": [
    "## ```||``` (OR) Operator\n",
    "\n",
    "```||``` operates from left to right. It then converts each operand"
   ]
  },
  {
   "cell_type": "markdown",
   "metadata": {},
   "source": [
    " to a boolean, and returns something based on the following cases:\n",
    "- It should return the first truthy value.\n",
    "- If all values are falsy, it returns the last falsy value.\n",
    "\n",
    "Short-circuiting with  ```||``` is when the expression stops when a truthy value is found.\n",
    "\n",
    "### Truth Table for ```||``` (OR)\n",
    "\n",
    "The following is the truth table for ```||```:\n",
    "\n",
    "<div align=\"center\">\n",
    "    <table border=\"1\">\n",
    "        <thead>\n",
    "            <tr>\n",
    "                <th>Operand 1</th>\n",
    "                <th>Operand 2</th>\n",
    "                <th>Result</th>\n",
    "            </tr>\n",
    "        </thead>\n",
    "        <tbody>\n",
    "            <tr>\n",
    "                <td>`0` (falsy)</td>\n",
    "                <td>`0` (falsy)</td>\n",
    "                <td>`0` (falsy)</td>\n",
    "            </tr>\n",
    "            <tr>\n",
    "                <td>`0` (falsy)</td>\n",
    "                <td>`1` (truthy)</td>\n",
    "                <td>`1` (truthy)</td>\n",
    "            </tr>\n",
    "            <tr>\n",
    "                <td>`1` (truthy)</td>\n",
    "                <td>`0` (falsy)</td>\n",
    "                <td>`1` (truthy)</td>\n",
    "            </tr>\n",
    "            <tr>\n",
    "                <td>`1` (truthy)</td>\n",
    "                <td>`1` (truthy)</td>\n",
    "                <td>`1` (truthy)</td>\n",
    "            </tr>\n",
    "        </tbody>\n",
    "    </table>\n",
    "</div>"
   ]
  },
  {
   "cell_type": "code",
   "execution_count": 1,
   "metadata": {},
   "outputs": [
    {
     "name": "stdout",
     "output_type": "stream",
     "text": [
      "0\n",
      "undefined\n",
      "1\n",
      "Guest\n"
     ]
    }
   ],
   "source": [
    "console.log(null || undefined || 0); // null -> 0, undefined -> false, 0 -> false, but because 0 is the last falsy, 0 is returned\n",
    "console.log(null || undefined); // returns undefined\n",
    "\n",
    "console.log( 1 || 0 ); // 1 is true, so 1 is returned \n",
    "console.log( null || 'Guest' ); // null is false, so it is 0, and guest is true, so Guest is returned (it is not an empty string, so it is true)"
   ]
  },
  {
   "cell_type": "markdown",
   "metadata": {},
   "source": [
    "## ```&&``` (AND) Operator\n",
    "\n",
    "```&&``` operates from left to right. It then converts each operand to a boolean, and returns something based on the following cases:\n",
    "- It should return the first falsy value.\n",
    "- If all values are truthy, it returns the last truthy value.\n",
    "\n",
    "Short-circuiting with ```&&``` is when the expression stops when a falsy value is found.\n",
    "\n",
    "### Truth Table for ```&&``` (AND)\n",
    "\n",
    "The following is the truth table for ```&&```:\n",
    "\n",
    "<div align=\"center\">\n",
    "    <table border=\"1\">\n",
    "        <thead>\n",
    "            <tr>\n",
    "                <th>Operand 1</th>\n",
    "                <th>Operand 2</th>\n",
    "                <th>Result</th>\n",
    "            </tr>\n",
    "        </thead>\n",
    "        <tbody>\n",
    "            <tr>\n",
    "                <td>`0` (falsy)</td>\n",
    "                <td>`0` (falsy)</td>\n",
    "                <td>`0` (falsy)</td>\n",
    "            </tr>\n",
    "            <tr>\n",
    "                <td>`0` (falsy)</td>\n",
    "                <td>`1` (truthy)</td>\n",
    "                <td>`0` (truthy)</td>\n",
    "            </tr>\n",
    "            <tr>\n",
    "                <td>`1` (truthy)</td>\n",
    "                <td>`0` (falsy)</td>\n",
    "                <td>`0` (truthy)</td>\n",
    "            </tr>\n",
    "            <tr>\n",
    "                <td>`1` (truthy)</td>\n",
    "                <td>`1` (truthy)</td>\n",
    "                <td>`1` (truthy)</td>\n",
    "            </tr>\n",
    "        </tbody>\n",
    "    </table>\n",
    "</div>\n",
    "\n"
   ]
  },
  {
   "cell_type": "code",
   "execution_count": 37,
   "metadata": {},
   "outputs": [
    {
     "name": "stdout",
     "output_type": "stream",
     "text": [
      "0\n",
      "1\n",
      "0\n",
      "true\n",
      "false\n",
      "true\n"
     ]
    }
   ],
   "source": [
    "console.log(0 && 1); // return 0\n",
    "console.log(1 && 1); // return 1\n",
    "console.log(1 && 1 && 0); // this chains like this: 1 && 1 -> 1, then 1 && 0 -> 0\n",
    "\n",
    "console.log(true && true); // returns true\n",
    "console.log(false && true); // returns false\n",
    "console.log(!(false && false) && true); // returns true"
   ]
  },
  {
   "cell_type": "markdown",
   "metadata": {},
   "source": [
    "## ```!``` (NOT) Operator\n",
    "\n",
    "```!``` operates from left to right. It then converts each operand to a boolean, and returns the negation (inverse) of the boolean value.\n",
    "\n",
    "Simply put, ```!``` returns either ```true``` or ```false```.\n",
    "\n",
    "### Truth Table for ```!``` (NOT)\n",
    "\n",
    "The following is the truth table for ```!```:\n",
    "\n",
    "<div align=\"center\">\n",
    "    <table border=\"1\">\n",
    "        <thead>\n",
    "            <tr>\n",
    "                <th>Operand </th>\n",
    "                <th>Result</th>\n",
    "            </tr>\n",
    "        </thead>\n",
    "        <tbody>\n",
    "            <tr>\n",
    "                <td>`0` (falsy)</td>\n",
    "                <td>`1` (truthy)</td>\n",
    "            </tr>\n",
    "            <tr>\n",
    "                <td>`1` (truthy)</td>\n",
    "                <td>`0` (falsy)</td>\n",
    "            </tr>\n",
    "        </tbody>\n",
    "    </table>\n",
    "</div>"
   ]
  },
  {
   "cell_type": "code",
   "execution_count": 38,
   "metadata": {},
   "outputs": [
    {
     "name": "stdout",
     "output_type": "stream",
     "text": [
      "false\n",
      "false\n",
      "true\n"
     ]
    }
   ],
   "source": [
    "console.log(!true); // return false\n",
    "console.log(!1); // return false\n",
    "console.log(!\"\"); // return true"
   ]
  },
  {
   "cell_type": "markdown",
   "metadata": {},
   "source": [
    "## ```??``` (Nullish Coalescing) Operator\n",
    "\n",
    "```??``` is a recent addition to JavaScript. For most older browsers, ```??``` does not [work](https://caniuse.com/?search=%3F%3F). \n",
    "\n",
    "It works similar to ```||```, however, instead of returning the first truthy value, it returns the first defined value (i.e. not ```null``` or ```undefined```). If there are no defined values, it returns the last undefined value.\n",
    "\n",
    "```??``` cannot be used with ```||``` or ```&&``` without brackets."
   ]
  },
  {
   "cell_type": "code",
   "execution_count": 39,
   "metadata": {},
   "outputs": [
    {
     "name": "stdout",
     "output_type": "stream",
     "text": [
      "0\n",
      "null\n"
     ]
    }
   ],
   "source": [
    "console.log( undefined ?? 0 ); // returns 0\n",
    "console.log( undefined ?? null ); // returns null"
   ]
  },
  {
   "cell_type": "markdown",
   "metadata": {},
   "source": [
    "## Modify-In Place \n",
    "\n",
    "All logical operators can also be modified in place."
   ]
  },
  {
   "cell_type": "code",
   "execution_count": null,
   "metadata": {},
   "outputs": [
    {
     "name": "stdout",
     "output_type": "stream",
     "text": [
      "0\n",
      "false\n"
     ]
    }
   ],
   "source": [
    "let operand1 = \"0\";\n",
    "let operand2 = false;\n",
    "\n",
    "operand1 ||= operand2;\n",
    "console.log(operand1);\n",
    "\n",
    "operand1 &&= operand2;\n",
    "console.log(operand1);"
   ]
  },
  {
   "cell_type": "markdown",
   "metadata": {},
   "source": [
    "## Combining Logical Operators\n",
    "\n",
    "Recall, ```??``` cannot be used with ```||``` or ```&&``` without brackets. When going through an expression, it is safe to assume for logical operators that we always read from left-to-right."
   ]
  },
  {
   "cell_type": "code",
   "execution_count": 46,
   "metadata": {},
   "outputs": [
    {
     "name": "stdout",
     "output_type": "stream",
     "text": [
      "false\n",
      "true\n",
      "true\n"
     ]
    }
   ],
   "source": [
    "// console.log( !true && false ?? 0); // will return Nullish coalescing operator(??) requires parens\n",
    "console.log(!true && (false ?? 0)); // false && (false) -> false\n",
    "console.log(!false && (true ?? 0)); // true && (true) -> true\n",
    "console.log(!false || true && (true ?? 0)); // !false || true && true -> !false || true -> (OR returns the first falsy value) -> true && true -> true"
   ]
  },
  {
   "cell_type": "markdown",
   "metadata": {},
   "source": [
    "## References\n",
    "\n",
    "[1] https://developer.mozilla.org/en-US/docs/Web/JavaScript/Reference/Operators/Logical_OR\n",
    "\n",
    "[2] https://developer.mozilla.org/en-US/docs/Web/JavaScript/Reference/Operators/Logical_AND\n",
    "\n",
    "[3] https://developer.mozilla.org/en-US/docs/Web/JavaScript/Reference/Operators/Logical_NOT\n",
    "\n",
    "[4] https://developer.mozilla.org/en-US/docs/Web/JavaScript/Reference/Operators/Nullish_coalescing\n",
    "\n",
    "[5] https://stackoverflow.com/questions/2779797/what-does-in-place-mean\n",
    "\n",
    "[6] https://developer.mozilla.org/en-US/docs/Web/JavaScript/Reference/Operators/Operator_precedence"
   ]
  }
 ],
 "metadata": {
  "kernelspec": {
   "display_name": "Deno",
   "language": "typescript",
   "name": "deno"
  },
  "language_info": {
   "codemirror_mode": "typescript",
   "file_extension": ".ts",
   "mimetype": "text/x.typescript",
   "name": "typescript",
   "nbconvert_exporter": "script",
   "pygments_lexer": "typescript",
   "version": "5.6.2"
  }
 },
 "nbformat": 4,
 "nbformat_minor": 2
}
