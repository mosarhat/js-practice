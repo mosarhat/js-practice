{
 "cells": [
  {
   "cell_type": "markdown",
   "metadata": {},
   "source": [
    "# Variables\n",
    "\n",
    "**Variable**: Containers for storing data. \n",
    "\n",
    "Variables should always be declared.\n",
    "\n",
    "Variables in JavaScript are declared in four ways:\n",
    "\n",
    "1. Automatically (only in sloppy mode, mutable).\n",
    "2. Using ```var``` (mutable).\n",
    "3. Using ```let``` (mutable).\n",
    "    - Use if ```const``` can't be used.\n",
    "4. Using ```const``` (immutable).\n",
    "    - Use if the type should not be changed."
   ]
  },
  {
   "cell_type": "markdown",
   "metadata": {},
   "source": [
    "## Automatically Setting Variables (only in sloppy mode)\n",
    "\n",
    "We can set variables to values without using ```var```, ```let```, or ```const```. Note, this is only done in sloppy mode, which is where strict mode isn't enabled. It is considered poor programming practice to *not* declare variables before use [1]. "
   ]
  },
  {
   "cell_type": "code",
   "execution_count": null,
   "metadata": {},
   "outputs": [],
   "source": [
    "// Poor programming practice. Variables should be declared.\n",
    "\n",
    "var1 = 5;\n",
    "var2 = 6;\n",
    "var3 = var1 + var2;\n",
    "console.log(var3);"
   ]
  },
  {
   "cell_type": "markdown",
   "metadata": {},
   "source": [
    "## Scoping, Hoisting\n",
    "\n",
    "Scoping determines the accessibility of variables within a lexical scope. \n",
    "\n",
    "There are two types of lexical scopes:\n",
    "- Global scoping.\n",
    "- Local scoping; function scope, and block scope.\n",
    "\n",
    "Variables inside a local scope cannot be accessed outside its respective local scope. \n",
    "\n",
    "Global scope are variables that are declared globally. They pollute all scopes and should generally be avoided.\n",
    "\n",
    "**Hoisting** is where variable and function declarations get moved to the top of their containing scope during the compilation phase. \n",
    "\n",
    "## Variable Declarations\n",
    "\n",
    "```var```:\n",
    "- **Scoping:** ```var``` is function scoped. If it is declared outside any function, assuming the function is not nested, ```var``` becomes globally scoped.\n",
    "- **Hoisting:** ```var``` is hoisted to the top of the function and global scope but not initialized. This means that the variable is accessible within the contained scope, even before the line is declared.\n",
    "- ```var``` does not respect the block boundaries (e.g., inside {}), meaning it remains accessible outside the block where it was declared.\n",
    "- You can re-declare ```var``` to any data type, and any new value.\n"
   ]
  },
  {
   "cell_type": "markdown",
   "metadata": {},
   "source": [
    "The following is an example that showcases the scoping of ```var```:"
   ]
  },
  {
   "cell_type": "code",
   "execution_count": null,
   "metadata": {},
   "outputs": [],
   "source": [
    "function getAddress() {\n",
    "    var address = \"1234 Address Street, City, Province, Country\"\n",
    "    return address\n",
    "}\n",
    "\n",
    "/* \n",
    "console.log(address) - would not be defined. var can be accessed within the scope of the function, but not outside.\n",
    "*/\n",
    "\n",
    "function example(flag=true) {\n",
    "    if (typeof(flag) != \"boolean\") {\n",
    "        return \"Error\";\n",
    "    } else if (flag) {\n",
    "        var x = 5;\n",
    "        let y = 6;\n",
    "    }\n",
    "    console.log(x); // returns 5 \n",
    "    // return y; // y is not defined as it is outside of the block\n",
    "}\n",
    "\n",
    "example(true)"
   ]
  },
  {
   "cell_type": "markdown",
   "metadata": {},
   "source": [
    "The following is an example that showcases the hoisting of ```var```. \n",
    "\n",
    "Due to hoisting, the declaration ```var goofyGoober``` is moved to the top of the function and initialized with undefined, but the assignment ```goofyGoober = \"goofy goober\"``` remains in place. Thus, goofyGoober is undefined when logged.\n",
    "\n",
    "The second code block shows what happens behind the scenes in the first code block."
   ]
  },
  {
   "cell_type": "code",
   "execution_count": null,
   "metadata": {},
   "outputs": [],
   "source": [
    "function hoistingExampleOne() {\n",
    "    console.log(goofyGoober);\n",
    "    var goofyGoober = \"goofy goober\";\n",
    "}\n",
    "\n",
    "hoistingExampleOne();"
   ]
  },
  {
   "cell_type": "code",
   "execution_count": null,
   "metadata": {},
   "outputs": [],
   "source": [
    "function hoistingExampleTwo() {\n",
    "    var goofyGoober; // hoisting\n",
    "    console.log(goofyGoober);\n",
    "    goofyGoober = \"goofy goober\";\n",
    "}\n",
    "\n",
    "hoistingExampleTwo();"
   ]
  },
  {
   "cell_type": "markdown",
   "metadata": {},
   "source": [
    "```let```:\n",
    "- **Scoping**: **let** is block scoped. If it is declared outside any block, assuming the block is not nested within another block, **let** becomes globally scoped.\n",
    "- **Hoisting**: **let** declarations are also hoisted, but they are not initialized until the declaration is encountered. Accessing them before the declaration results in a **ReferenceError** (this is called the “temporal dead zone”).\n",
    "- **let** variables are not accessible outside the block in which they are declared.\n",
    "- You can re-declare **let**. However, you can change the value of a **let** variable, and to any type as it is mutable.\n"
   ]
  },
  {
   "cell_type": "code",
   "execution_count": null,
   "metadata": {},
   "outputs": [],
   "source": [
    "let flag = true;\n",
    "\n",
    "if (flag) {\n",
    "    let kentucky = 1;\n",
    "    console.log(kentucky) // returns 1 because we are working within the block that 'let x' is initialized\n",
    "}\n",
    "\n",
    "console.log(kentucky) // Reference Error, not defined"
   ]
  },
  {
   "cell_type": "markdown",
   "metadata": {},
   "source": [
    "The following is an example that showcases the hoisting of ```let```. \n",
    "\n",
    "When a variable is declared with ```let```, its declaration is hoisted to the top of its block scope, but it is not initialized. This creates a temporal dead zone (TDZ) where the variable cannot be accessed until the declaration is reached in the code.\n",
    "\n",
    "The second code block shows what happens behind the scenes in the first code block."
   ]
  },
  {
   "cell_type": "code",
   "execution_count": null,
   "metadata": {},
   "outputs": [],
   "source": [
    "// Hoisting with let\n",
    "\n",
    "function hoistingExampleOneLet() {\n",
    "    // console.log(goofyGoober); // ReferenceError: Cannot access 'goofyGoober' before initialization\n",
    "    let goofyGoober = \"goofy goober\";\n",
    "}\n",
    "\n",
    "hoistingExampleOneLet();"
   ]
  },
  {
   "cell_type": "code",
   "execution_count": null,
   "metadata": {},
   "outputs": [],
   "source": [
    "// Hoisting with let (behind the scenes)\n",
    "\n",
    "function hoistingExampleTwoLet() {\n",
    "    // Temporal Dead Zone starts here \n",
    "    // console.log(goofyGoober); // ReferenceError: Cannot access 'goofyGoober' before initialization\n",
    "    let goofyGoober;\n",
    "    console.log(goofyGoober) // returns undefined\n",
    "    goofyGoober = 'goofy goober'\n",
    "    console.log(goofyGoober)\n",
    "}\n",
    "\n",
    "hoistingExampleTwoLet();"
   ]
  },
  {
   "cell_type": "markdown",
   "metadata": {},
   "source": [
    "The following is a good example of what scoping looks like for both ```var``` and ```let```:"
   ]
  },
  {
   "cell_type": "code",
   "execution_count": null,
   "metadata": {},
   "outputs": [],
   "source": [
    "// Another Function Scope Example (strict mode is off)\n",
    "\n",
    "function walk() {\n",
    "    var done = 'done';\n",
    "    let finished = 'finished';\n",
    "\n",
    "    console.log(done, finished); // can be accessed as we are working within the scope\n",
    "\n",
    "    {\n",
    "        console.log(done); // prints fine\n",
    "        console.log(finished); // also works as this block is a subset of the function\n",
    "        {\n",
    "            console.log(done)\n",
    "            console.log(finished)\n",
    "        }\n",
    "    }\n",
    "\n",
    "    {\n",
    "        var start = 'start';\n",
    "        let begin = `begin`;\n",
    "    }\n",
    "\n",
    "    console.log(start); // will print\n",
    "    console.log(begin); // ReferenceError because we are not calling let within the block it is initialized\n",
    "}\n",
    "\n",
    "// console.log(done) // done is defined within the function, so it cannot be called outside of it.\n",
    "\n",
    "walk()"
   ]
  },
  {
   "cell_type": "markdown",
   "metadata": {},
   "source": [
    "```const```:\n",
    "- **Scoping** and **hoisting** for const variables mimic that of **let** variables.\n",
    "- However, it is important to note, that there is one huge distinction between **let** and **const**; which is the mutability of their respective variable declarations, and their types.\n",
    "- Simply put, **let** variables cannot be de-declared, but the container in which it has been initialized can be re-initialized with another data type. For **const**, this does not reign true as the data type that is being re-initialized within the contain must be the exact same as the data type used for the initial declaration.\n"
   ]
  },
  {
   "cell_type": "markdown",
   "metadata": {},
   "source": [
    "## JavaScript Identifiers and Naming Conventions\n",
    "\n",
    "All JavaScript variables must have an associated identifier that is unique. That means no two variables in the same script can have the same identifier [1].\n",
    "\n",
    "The following are some things to note when figuring out identifier names:\n",
    "- Short, and sweet. Between 3 an 10 characters long. \n",
    "- Names can contain letters, digits, underscores, and dollar signs.\n",
    "- Names can begin with letter, underscores, or dollar signs.\n",
    "- Names are case-sensitive.\n",
    "- Do not use Hungarian notation. This is where the type is set at the prefix, and the name of the identifier is set at the postfix, such as ```prefixPostfix```.\n",
    "- Avoid adding type to the identifier. Instead of ```carArray``` use ```cars``` [5].\n",
    "- Don't use possessives. Instead of ```myCar```, use ```car```.\n",
    "\n",
    "The following is an example:"
   ]
  },
  {
   "cell_type": "code",
   "execution_count": null,
   "metadata": {},
   "outputs": [],
   "source": [
    "let $ = 5;\n",
    "let _ = 5;\n",
    "\n",
    "console.log($);\n",
    "console.log(_);"
   ]
  },
  {
   "cell_type": "markdown",
   "metadata": {},
   "source": [
    "## References\n",
    "\n",
    "[1] https://www.w3schools.com/js/js_variables.asp\n",
    "\n",
    "[2] https://www.freecodecamp.org/news/scope-in-javascript-global-vs-local-vs-block-scope/\n",
    "\n",
    "[3] https://www.w3schools.com/js/js_scope.asp\n",
    "\n",
    "[4] https://stackoverflow.com/questions/762011/what-is-the-difference-between-let-and-var/11444416#11444416\n",
    "\n",
    "[5] https://developer.mozilla.org/en-US/docs/MDN/Writing_guidelines/Writing_style_guide/Code_style_guide/JavaScript\n"
   ]
  }
 ],
 "metadata": {
  "kernelspec": {
   "display_name": "Deno",
   "language": "typescript",
   "name": "deno"
  },
  "language_info": {
   "codemirror_mode": "typescript",
   "file_extension": ".ts",
   "mimetype": "text/x.typescript",
   "name": "typescript",
   "nbconvert_exporter": "script",
   "pygments_lexer": "typescript",
   "version": "5.6.2"
  }
 },
 "nbformat": 4,
 "nbformat_minor": 2
}
