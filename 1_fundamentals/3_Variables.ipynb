{
 "cells": [
  {
   "cell_type": "markdown",
   "metadata": {},
   "source": [
    "# Variables\n",
    "\n",
    "**Variable**: Containers for storing data. \n",
    "\n",
    "Variables should always be declared.\n",
    "\n",
    "Variables in JavaScript are declared in four ways:\n",
    "\n",
    "1. Automatically (only in sloppy mode, mutable).\n",
    "2. Using ```var``` (mutable).\n",
    "3. Using ```let``` (mutable).\n",
    "    - Use if ```const``` can't be used.\n",
    "4. Using ```const``` (immutable).\n",
    "    - Use if the type should not be changed."
   ]
  },
  {
   "cell_type": "markdown",
   "metadata": {},
   "source": [
    "## Automatically Setting Variables (only in sloppy mode)\n",
    "\n",
    "We can set variables to values without using ```var```, ```let```, or ```const```. Note, this is only done in sloppy mode, which is where strict mode isn't enabled. It is considered poor programming practice to *not* declare variables before use [1]. "
   ]
  },
  {
   "cell_type": "code",
   "execution_count": null,
   "metadata": {},
   "outputs": [],
   "source": [
    "// Poor programming practice. Variables should be declared.\n",
    "\n",
    "var1 = 5;\n",
    "var2 = 6;\n",
    "var3 = var1 + var2;\n",
    "console.log(var3);"
   ]
  },
  {
   "cell_type": "markdown",
   "metadata": {},
   "source": [
    "## Scoping, Hoisting of ``var`` and ```let`` (What Is The Difference Between Either Variable Declaration)\n",
    "\n",
    "The main difference is **scoping**. Scoping essentially determines the accessibility of variables. \n",
    "\n",
    "The following are the different types of scope [3]:\n",
    "\n",
    "1. Block scope.\n",
    "2. Function scope.\n",
    "3. Global scope.\n",
    "\n",
    "Variables inside a block that are block scoped cannot be accessed from outside the block [3].\n",
    "\n",
    "Function scope have variables defined inside a function but are not accessible outside the function. Variables defined in functions cannot be accessed before their declaration outside of a function.\n",
    "\n",
    "Global scope are variables that are declared globally. These should not be created as window variables and functions can be overwritten. This can be done by declaring a variable without ```let```, ```var```, or ```const```.\n",
    "\n",
    "**Hoisting** is where variable and function declarations get moved to the top of their containing scope during the compilation phase. \n",
    "\n",
    "```var```:\n",
    "- **Scoping:** ```var``` is function scoped. If declared outside any function, ```var``` becomes globally scoped. \n",
    "- **Hoisting**: ```var``` is hoisted to the top of the function and global scope, but not initialized. This means that the variable is accessible throughout the scope, even before the line is declared.\n",
    "- ```var``` does not respect block boundaries.\n",
    "- You can re-declare variables."
   ]
  },
  {
   "cell_type": "markdown",
   "metadata": {},
   "source": [
    "The following is an example that showcases the scoping of ```var```:"
   ]
  },
  {
   "cell_type": "code",
   "execution_count": null,
   "metadata": {},
   "outputs": [],
   "source": [
    "function getAddress() {\n",
    "    var address = \"1234 Address Street, City, Province, Country\"\n",
    "    return address\n",
    "}\n",
    "\n",
    "/* \n",
    "console.log(address) - would not be defined. var can be accessed within the scope of the function, but not outside.\n",
    "*/\n",
    "\n",
    "function example(flag=true) {\n",
    "    if (typeof(flag) != \"boolean\") {\n",
    "        return \"Error\";\n",
    "    } else if (flag) {\n",
    "        var x = 5;\n",
    "        let y = 6;\n",
    "    }\n",
    "    console.log(x); // returns 5 \n",
    "    // return y; // y is not defined as it is outside of the block\n",
    "}\n",
    "\n",
    "example(true)"
   ]
  },
  {
   "cell_type": "markdown",
   "metadata": {},
   "source": [
    "The following is an example that showcases the hoisting of ```var```. \n",
    "\n",
    "Due to hoisting, the declaration ```var goofyGoober``` is moved to the top of the function and initialized with undefined, but the assignment ```goofyGoober = \"goofy goober\"``` remains in place. Thus, goofyGoober is undefined when logged.\n",
    "\n",
    "The second code block shows what happens behind the scenes in the first code block."
   ]
  },
  {
   "cell_type": "code",
   "execution_count": null,
   "metadata": {},
   "outputs": [],
   "source": [
    "function hoistingExampleOne() {\n",
    "    console.log(goofyGoober);\n",
    "    var goofyGoober = \"goofy goober\";\n",
    "}\n",
    "\n",
    "hoistingExampleOne();"
   ]
  },
  {
   "cell_type": "code",
   "execution_count": null,
   "metadata": {},
   "outputs": [],
   "source": [
    "function hoistingExampleTwo() {\n",
    "    var goofyGoober; // hoisting\n",
    "    console.log(goofyGoober);\n",
    "    goofyGoober = \"goofy goober\";\n",
    "}\n",
    "\n",
    "hoistingExampleTwo();"
   ]
  },
  {
   "cell_type": "markdown",
   "metadata": {},
   "source": [
    "```let```:\n",
    "- **Scoping**: Variables declared with ```let``` are scoped to the nearest block (e.g., inside {}, if, for, while, etc.).\n",
    "- **Hoisting**: ```let``` declarations are also hoisted, but they are not initialized until the declaration is encountered. Accessing them before the declaration results in a ```ReferenceError``` (this is called the \"temporal dead zone\").\n",
    "- ```let``` variables are not accessible outside the block in which they are declared.\n",
    "- You cannot re-declare variables.\n",
    "\n",
    "The following is an example that showcases the scoping of ```let```:"
   ]
  },
  {
   "cell_type": "code",
   "execution_count": null,
   "metadata": {},
   "outputs": [],
   "source": [
    "let flag = true;\n",
    "\n",
    "if (flag) {\n",
    "    let kentucky = 1;\n",
    "    console.log(kentucky) // returns 1 because we are working within the block that 'let x' is initialized\n",
    "}\n",
    "\n",
    "console.log(kentucky) // Reference Error, not defined"
   ]
  },
  {
   "cell_type": "markdown",
   "metadata": {},
   "source": [
    "The following is an example that showcases the hoisting of ```let```. \n",
    "\n",
    "When a variable is declared with ```let```, its declaration is hoisted to the top of its block scope, but it is not initialized. This creates a temporal dead zone (TDZ) where the variable cannot be accessed until the declaration is reached in the code.\n",
    "\n",
    "The second code block shows what happens behind the scenes in the first code block."
   ]
  },
  {
   "cell_type": "code",
   "execution_count": null,
   "metadata": {},
   "outputs": [],
   "source": [
    "// Hoisting with let\n",
    "\n",
    "function hoistingExampleOneLet() {\n",
    "    // console.log(goofyGoober); // ReferenceError: Cannot access 'goofyGoober' before initialization\n",
    "    let goofyGoober = \"goofy goober\";\n",
    "}\n",
    "\n",
    "hoistingExampleOneLet();"
   ]
  },
  {
   "cell_type": "code",
   "execution_count": null,
   "metadata": {},
   "outputs": [],
   "source": [
    "// Hoisting with let (behind the scenes)\n",
    "\n",
    "function hoistingExampleTwoLet() {\n",
    "    // Temporal Dead Zone starts here \n",
    "    // console.log(goofyGoober); // ReferenceError: Cannot access 'goofyGoober' before initialization\n",
    "    let goofyGoober;\n",
    "    console.log(goofyGoober) // returns undefined\n",
    "    goofyGoober = 'goofy goober'\n",
    "    console.log(goofyGoober)\n",
    "}\n",
    "\n",
    "hoistingExampleTwoLet();"
   ]
  },
  {
   "cell_type": "markdown",
   "metadata": {},
   "source": [
    "The following is a good example of what scoping looks like for both ```var``` and ```let```:"
   ]
  },
  {
   "cell_type": "code",
   "execution_count": null,
   "metadata": {},
   "outputs": [],
   "source": [
    "// Another Function Scope Example (strict mode is off)\n",
    "\n",
    "function walk() {\n",
    "    var done = 'done';\n",
    "    let finished = 'finished';\n",
    "\n",
    "    console.log(done, finished); // can be accessed as we are working within the scope\n",
    "\n",
    "    {\n",
    "        console.log(done); // prints fine\n",
    "        console.log(finished); // also works as this block is a subset of the function\n",
    "        {\n",
    "            console.log(done)\n",
    "            console.log(finished)\n",
    "        }\n",
    "    }\n",
    "\n",
    "    {\n",
    "        var start = 'start';\n",
    "        let begin = `begin`;\n",
    "    }\n",
    "\n",
    "    console.log(start); // will print\n",
    "    console.log(begin); // ReferenceError because we are not calling let within the block it is initialized\n",
    "}\n",
    "\n",
    "// console.log(done) // done is defined within the function, so it cannot be called outside of it.\n",
    "\n",
    "walk()"
   ]
  },
  {
   "cell_type": "markdown",
   "metadata": {},
   "source": [
    "## JavaScript Identifiers and Naming Conventions\n",
    "\n",
    "All JavaScript variables must have an associated **identifier** that is UNIQUE [1].\n",
    "\n",
    "The following are some things to note when figuring out identifier names:\n",
    "- Short, and sweet. Between 3 an 10 characters long. \n",
    "- Names can contain letters, digits, underscores, and dollar signs.\n",
    "- Names can begin with letter, underscores, or dollar signs.\n",
    "- Names are case-sensitive.\n",
    "- Clear semantically.\n",
    "- Do not use Hungarian notation. This is where the type is set at the prefix, and the name of the identifier is set at the postfix, such as ```prefixPostfix```.\n",
    "- Avoid adding type to the identifier. Instead of ```carArray``` use ```cars``` [5].\n",
    "- Don't use possessives. Instead of ```myCar```, use ```car```."
   ]
  },
  {
   "cell_type": "code",
   "execution_count": null,
   "metadata": {},
   "outputs": [],
   "source": [
    "let $ = 5;\n",
    "let _ = 5;\n",
    "\n",
    "console.log($);\n",
    "console.log(_);"
   ]
  },
  {
   "cell_type": "markdown",
   "metadata": {},
   "source": [
    "## Some Problems from ```javascript.info``` (2.4)\n"
   ]
  },
  {
   "cell_type": "markdown",
   "metadata": {},
   "source": [
    "### Problem 1 (Working With Variables)\n",
    "\n",
    "1. Declare two variables: admin and name.\n",
    "2. Assign the value \"John\" to name.\n",
    "3. Copy the value from name to admin.\n",
    "4. Show the value of admin using alert (must output “John”)."
   ]
  },
  {
   "cell_type": "code",
   "execution_count": null,
   "metadata": {},
   "outputs": [],
   "source": [
    "// var admin;\n",
    "// var name = \"John\";\n",
    "\n",
    "// admin = name;\n",
    "\n",
    "// console.log(admin)\n"
   ]
  },
  {
   "cell_type": "code",
   "execution_count": 2,
   "metadata": {},
   "outputs": [
    {
     "name": "stdout",
     "output_type": "stream",
     "text": [
      "John\n"
     ]
    }
   ],
   "source": [
    "let admin, name; // can declare two variables at once\n",
    "\n",
    "name = \"John\";\n",
    "\n",
    "admin = name;\n",
    "\n",
    "console.log(admin)"
   ]
  },
  {
   "cell_type": "markdown",
   "metadata": {},
   "source": [
    "### Problem 2 (Giving The Right Name)\n",
    "\n",
    "1. Create a variable with the name of our planet. How would you name such a variable?\n",
    "2. Create a variable to store the name of a current visitor to a website. How would you name that variable?"
   ]
  },
  {
   "cell_type": "code",
   "execution_count": null,
   "metadata": {},
   "outputs": [],
   "source": [
    "const planet = 'Earth'; // 1\n",
    "\n",
    "let currentVisitor = 'Mo';"
   ]
  },
  {
   "cell_type": "markdown",
   "metadata": {},
   "source": [
    "## References\n",
    "\n",
    "[1] https://www.w3schools.com/js/js_variables.asp\n",
    "\n",
    "[2] https://www.freecodecamp.org/news/scope-in-javascript-global-vs-local-vs-block-scope/\n",
    "\n",
    "[3] https://www.w3schools.com/js/js_scope.asp\n",
    "\n",
    "[4] https://stackoverflow.com/questions/762011/what-is-the-difference-between-let-and-var/11444416#11444416\n",
    "\n",
    "[5] https://developer.mozilla.org/en-US/docs/MDN/Writing_guidelines/Writing_style_guide/Code_style_guide/JavaScript\n"
   ]
  }
 ],
 "metadata": {
  "kernelspec": {
   "display_name": "Deno",
   "language": "typescript",
   "name": "deno"
  },
  "language_info": {
   "codemirror_mode": "typescript",
   "file_extension": ".ts",
   "mimetype": "text/x.typescript",
   "name": "typescript",
   "nbconvert_exporter": "script",
   "pygments_lexer": "typescript",
   "version": "5.6.2"
  }
 },
 "nbformat": 4,
 "nbformat_minor": 2
}
