{
 "cells": [
  {
   "cell_type": "markdown",
   "metadata": {},
   "source": [
    "# Alert & Prompt & Confirm"
   ]
  },
  {
   "cell_type": "markdown",
   "metadata": {},
   "source": [
    "## Alert\n",
    "\n",
    "Puts a pop-up on the screen. When the button is clicked, undefined is returned.\n",
    "\n",
    "<div align=\"center\">\n",
    "    <img src=\"assets/5/1.jpg\" width=\"50%\"></img>\n",
    "    <figcaption>Alert Box</figcaption>\n",
    "</div>\n",
    "\n",
    "The following are two ways ```alert``` can be evoked:\n",
    "\n",
    "```js\n",
    "alert()\n",
    "alert(message)\n",
    "```"
   ]
  },
  {
   "cell_type": "code",
   "execution_count": 7,
   "metadata": {},
   "outputs": [],
   "source": [
    "alert(\"Hi\");"
   ]
  },
  {
   "cell_type": "markdown",
   "metadata": {},
   "source": [
    "## Prompt \n",
    "\n",
    "Puts a pop-up on the screen. When the form is filled, the value is returned as a string into the variable the prompt is initialized within.\n",
    "\n",
    "<div align=\"center\">\n",
    "    <img src=\"assets/5/2.jpg\" width=\"50%\"></img>\n",
    "    <figcaption>Prompt Box</figcaption>\n",
    "</div>\n",
    "\n",
    "\n",
    "The following are two ways ```prompt``` can be evoked:\n",
    "\n",
    "```js\n",
    "prompt()\n",
    "prompt(message)\n",
    "prompt(message, defaultVal)\n",
    "```\n",
    "\n",
    "When no message is entered, an empty string is returned. \n",
    "\n",
    "When ```Cancel``` is clicked, ```null``` is returned."
   ]
  },
  {
   "cell_type": "code",
   "execution_count": 8,
   "metadata": {},
   "outputs": [],
   "source": [
    "let var1 = prompt();\n",
    "let var2 = prompt(\"Enter a word.\"); // puts Enter a Word on the pop-up box\n",
    "let var3 = prompt(\"Enter a word.\", \"none\"); // puts none in the form as a default value"
   ]
  },
  {
   "cell_type": "markdown",
   "metadata": {},
   "source": [
    "## Confirm\n",
    "\n",
    "Browser displays a box, and waits until user either confirms or cancels the dialog.\n",
    "\n",
    "<div align=\"center\">\n",
    "    <img src=\"assets/5/3.jpg\" width=\"50%\"></img>\n",
    "    <figcaption>Confirm Box</figcaption>\n",
    "</div>\n",
    "\n",
    "The following are two ways ```confirm``` can be evoked:\n",
    "\n",
    "```js\n",
    "confirm()\n",
    "confirm(message)\n",
    "```\n",
    "\n",
    "If ```Ok``` is clicked, ```true``` is returned. If ```Cancel``` is clicked, ```false``` is returned."
   ]
  },
  {
   "cell_type": "code",
   "execution_count": null,
   "metadata": {},
   "outputs": [
    {
     "name": "stdout",
     "output_type": "stream",
     "text": [
      "false\n"
     ]
    }
   ],
   "source": [
    "let val = confirm(\"Must be an avid lover of JavaScript!\");"
   ]
  },
  {
   "cell_type": "markdown",
   "metadata": {},
   "source": [
    "## References"
   ]
  }
 ],
 "metadata": {
  "kernelspec": {
   "display_name": "Deno",
   "language": "typescript",
   "name": "deno"
  },
  "language_info": {
   "codemirror_mode": "typescript",
   "file_extension": ".ts",
   "mimetype": "text/x.typescript",
   "name": "typescript",
   "nbconvert_exporter": "script",
   "pygments_lexer": "typescript",
   "version": "5.6.2"
  }
 },
 "nbformat": 4,
 "nbformat_minor": 2
}
