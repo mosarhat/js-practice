{
 "cells": [
  {
   "cell_type": "markdown",
   "metadata": {},
   "source": [
    "# Basic Operators\n",
    "\n",
    "Operand:\n",
    "\n",
    "Unary Operator: An operator that requires one operand.\n",
    "\n",
    "Binary Operator: An operator that requires two operands. \n",
    "\n",
    "Tenary Operator: An operator that requires three operands.\n",
    "\n"
   ]
  },
  {
   "cell_type": "code",
   "execution_count": null,
   "metadata": {},
   "outputs": [],
   "source": [
    "let num = 0; // unary operator "
   ]
  }
 ],
 "metadata": {
  "kernelspec": {
   "display_name": "Deno",
   "language": "typescript",
   "name": "deno"
  },
  "language_info": {
   "name": "typescript"
  }
 },
 "nbformat": 4,
 "nbformat_minor": 2
}
