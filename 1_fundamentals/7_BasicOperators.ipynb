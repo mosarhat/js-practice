{
 "cells": [
  {
   "cell_type": "markdown",
   "metadata": {},
   "source": [
    "# Basic Operators\n",
    "\n",
    "An operand is a literal that is subject to an operator.\n",
    "\n",
    "Unary Operator: An operator that requires one operand.\n",
    "\n",
    "Binary Operator: An operator that requires two operands. \n",
    "\n",
    "Ternary Operator: An operator that requires three operands."
   ]
  },
  {
   "cell_type": "code",
   "execution_count": 1,
   "metadata": {},
   "outputs": [
    {
     "name": "stdout",
     "output_type": "stream",
     "text": [
      "value\n"
     ]
    }
   ],
   "source": [
    "let num = 0; // unary operator \n",
    "\n",
    "let numTwo = 1 + 2; // binary operator in use within variable declaration\n",
    "\n",
    "let numThree = true ? \"value\" : null; // ternary operator in use\n",
    "\n",
    "console.log(numThree); // returns value"
   ]
  },
  {
   "cell_type": "markdown",
   "metadata": {},
   "source": [
    "## Maths"
   ]
  },
  {
   "cell_type": "markdown",
   "metadata": {},
   "source": [
    "## Remainder ```%```\n",
    "\n",
    "Represents modulo arithmetic (read over any article about modulo arithmetic).\n",
    "\n",
    "For instance, ```1 % 5``` is the same as saying ```1 mod5 = return value```."
   ]
  },
  {
   "cell_type": "code",
   "execution_count": 2,
   "metadata": {},
   "outputs": [
    {
     "name": "stdout",
     "output_type": "stream",
     "text": [
      "1\n",
      "0\n"
     ]
    }
   ],
   "source": [
    "console.log( 1 % 5 ); // returns 1\n",
    "console.log( 2 % 2 ); // returns 0 "
   ]
  },
  {
   "cell_type": "markdown",
   "metadata": {},
   "source": [
    "## Exponentiation ```**```\n",
    "\n",
    "Represents ```x^n``` with ```**```.\n",
    "\n",
    "For instance, ```2**2``` is the same as saying ```2^2 = 4```."
   ]
  },
  {
   "cell_type": "code",
   "execution_count": 3,
   "metadata": {},
   "outputs": [
    {
     "name": "stdout",
     "output_type": "stream",
     "text": [
      "4\n",
      "32\n"
     ]
    }
   ],
   "source": [
    "console.log( 2**2 ); // returns 4\n",
    "\n",
    "// a cool recursive function using divide and conquer (do not look at this LOL)\n",
    "// divide, conquer, combine\n",
    "// in O(logn) time! this is pointless because ** is a O(1) time complexity\n",
    "function exp(x, n) {\n",
    "    if (n == 0) {\n",
    "        return 0; // O(1)\n",
    "    }\n",
    "    if (n == 1) {\n",
    "        return x; // O(1)\n",
    "    }\n",
    "    if (n % 2 == 0) {\n",
    "        return exp(x, n/2) * exp(x, n/2);\n",
    "    } else {\n",
    "        return x * exp(x, n-1);\n",
    "    }\n",
    "}\n",
    "\n",
    "console.log(exp(2, 5)); // 32"
   ]
  },
  {
   "cell_type": "markdown",
   "metadata": {},
   "source": [
    "## Assignment\n",
    "\n",
    "The ```=``` is also an operator. It holds a very low priority of 2. Interestingly, suppose we have the following:\n",
    "\n",
    "```js\n",
    "let randomNum = 5 * 5 + 2 / true;\n",
    "```\n",
    "\n",
    "All the calculations are done first, then the VALUE is stored in ```randomNum```."
   ]
  },
  {
   "cell_type": "markdown",
   "metadata": {},
   "source": [
    "### Returning a Value within a Variable Declaration \n",
    "\n",
    "**Note**: For the love of everything, the following is just a cool observation. Do not ever write code like this, you will get fired, LOL.\n",
    "\n",
    "Due to ```=``` being an operator, it can also return a value similar to how ```+``` and ```-``` returns a value after their respective operations. \n",
    "\n",
    "Wellll, this can provide a lot of problems if you write code like the following (seriously, never write code like this LOL):"
   ]
  },
  {
   "cell_type": "code",
   "execution_count": 4,
   "metadata": {},
   "outputs": [
    {
     "name": "stdout",
     "output_type": "stream",
     "text": [
      "15\n",
      "9\n"
     ]
    }
   ],
   "source": [
    "let x = 1;\n",
    "let y = 5;\n",
    "\n",
    "let z = x + y + (x = 4 + 5); \n",
    "\n",
    "// Holy, what did we just do to Z??\n",
    "\n",
    "console.log(z); // returns 15\n",
    "console.log(x); // returns 9, what happened?"
   ]
  },
  {
   "cell_type": "markdown",
   "metadata": {},
   "source": [
    "OKAY, what the hell was ```let z = x + y + (x = 4 + 5);```. Essentially, recall that we know what ```x``` is, and what ```y``` is; ```x = 1```, and ```y = 5```.\n",
    "\n",
    "So, essentially, the following would go like:\n",
    "\n",
    "```\n",
    "z = 1 + 5 + (9) -> 15.\n",
    "```\n",
    "\n",
    "However, if we were to print our ```x```, our x value has changed. Yes, we've adjusted our variable value within the declaration of another variable. Please don't do this, but it's important to note, do not use an extra ```=``` within a variable declaration."
   ]
  },
  {
   "cell_type": "markdown",
   "metadata": {},
   "source": [
    "### Chaining Assignments\n",
    "\n",
    "Another interesting observation is when we chain ```=``` through variable declarations. I've personally seen this used sometimes, and it's easy to understand; however, this should also be avoided. \n",
    "\n",
    "Chaining assignments are always read from right-to-left. It is read from right-to-left because the assignment operator returns a value. \n",
    "\n",
    "For example,\n",
    "\n",
    "```js\n",
    "a = b = c = 5;\n",
    "```\n",
    "\n",
    "```c = 5``` is evaluated, which returns 5. From here, ```b = 5``` is evaluated which returns 5. And so on.\n",
    "\n",
    "Suppose we are a lazy developer, who refuses to break-line when creating new variable declarations, or variable assignments. We can do the following to assign values:"
   ]
  },
  {
   "cell_type": "code",
   "execution_count": 5,
   "metadata": {},
   "outputs": [
    {
     "name": "stdout",
     "output_type": "stream",
     "text": [
      "1 1 1\n"
     ]
    }
   ],
   "source": [
    "let num, sum, rum;\n",
    "\n",
    "num = sum = 1;\n",
    "rum = num;\n",
    "\n",
    "console.log(num, rum, sum); // should return 1 1 1 "
   ]
  },
  {
   "cell_type": "markdown",
   "metadata": {},
   "source": [
    "## Modify-in-Place\n",
    "\n",
    "We can also modify-in-place, which is applying an operator to an assignment. This also holds the same order of precedence as an assignment operator."
   ]
  },
  {
   "cell_type": "code",
   "execution_count": 6,
   "metadata": {},
   "outputs": [
    {
     "name": "stdout",
     "output_type": "stream",
     "text": [
      "75\n"
     ]
    }
   ],
   "source": [
    "let numOne = 5;\n",
    "\n",
    "numOne *= 5; // numOne = numOne * 5\n",
    "\n",
    "numOne *= (5 + 4) / (true + 2); // numOne = numOne * ((5+4) / (true+2)) -> 25 * (9 / 3) -> 25 * (3) -> 75\n",
    "\n",
    "console.log(numOne); // should return 75"
   ]
  },
  {
   "cell_type": "markdown",
   "metadata": {},
   "source": [
    "## Increment/Decrement\n",
    "\n",
    "This is a very common set of operators in ```for``` loops. \n",
    "\n",
    "The ```++``` represents the increment of a variable by 1. The ```--``` represents the increment of a variable by 1.\n",
    "\n",
    "The following are the variants of using either an increment or a decrement:\n",
    "- Prefix form: ```++counter``` or ```--counter```. \n",
    "    - Increments the variable FIRST, then returns the value.\n",
    "- Postfix form: ```counter++``` or ```counter--```.\n",
    "    - Returns the old value, then increments the new value\n",
    "\n",
    "Note: These operators must only be applied to variables, they do not work directly on data types."
   ]
  },
  {
   "cell_type": "code",
   "execution_count": 7,
   "metadata": {},
   "outputs": [
    {
     "name": "stdout",
     "output_type": "stream",
     "text": [
      "5 6 5 5 4\n",
      "Object With Increment Post-Fix Form: {\"0\":0,\"1\":1,\"2\":2,\"3\":3,\"4\":4}\n",
      "Object With Increment Pre-Fix Form: {\"0\":0,\"1\":1,\"2\":2,\"3\":3,\"4\":4}\n",
      "[ 4, 3, 2, 1 ]\n",
      "[ 4, 3, 2, 1 ]\n"
     ]
    }
   ],
   "source": [
    "let r = 5;\n",
    "\n",
    "console.log(r++, r, --r, r--, r); // return 5 6 5\n",
    "\n",
    "let obj = {};\n",
    "\n",
    "for (let i = 0; i < 5; i++) {\n",
    "    // should print 0 1 2 3 4\n",
    "    obj[i] = i;\n",
    "}\n",
    "\n",
    "let objOne = {};\n",
    "\n",
    "for (let i = 0; i < 5; ++i) {\n",
    "    // should print 0 1 2 3 4\n",
    "    objOne[i] = i;\n",
    "}\n",
    "\n",
    "console.log(`Object With Increment Post-Fix Form: ${JSON.stringify(obj)}`);\n",
    "console.log(`Object With Increment Pre-Fix Form: ${JSON.stringify(objOne)}`);\n",
    "\n",
    "let arr = [];\n",
    "\n",
    "for (let i = 4; i > 0; i--) {\n",
    "    arr.push(i);\n",
    "}\n",
    "\n",
    "console.log(arr);\n",
    "\n",
    "let arrOne = [];\n",
    "\n",
    "for (let i = 4; i > 0; --i) {\n",
    "    arrOne.push(i);\n",
    "}\n",
    "\n",
    "console.log(arrOne);"
   ]
  },
  {
   "cell_type": "markdown",
   "metadata": {},
   "source": [
    "## Bitwise Operators\n",
    "\n",
    "Operates on arguments as 32-bit two's-complement integers, and work on their binary representation.\n",
    "\n",
    "It's important to note that in JavaScript, IEEE 754 is not a used format for bitwise operators; two-complement bit integer representations are used. This is why when a simple ```-0|0``` is done, the Node runtime outputs ```0```. In IEEE754, the signed bit is set to 1 for ```-0```, whereas in the 32-bit representation, there is no distinction for ```-0``` and ```0```.\n",
    "\n",
    "The following are bitwise operators (only the first 4 are useful, the rest are not needed):\n",
    "- ```AND``` (```&```).\n",
    "- ```OR``` (```|```).\n",
    "- ```XOR``` (```^```).\n",
    "- ```NOT``` (```~```).\n",
    "- ```Left Shift``` (```<<```): Shifts bits to the left, and pads with 0s.\n",
    "- ```Right Shift``` (```>>```): Shifts bits to the right, preserving the sign.\n",
    "- ```Zero-Fill RIght Shift``` (```>>>```): Shifts bit to the right, filling with 0s.\n",
    "\n",
    "Example:\n",
    "\n",
    "```1&2```:\n",
    "- ```1``` in binary is: ```00000000 00000000 00000000 00000001```.\n",
    "- ```2``` in binary is: ```00000000 00000000 00000000 00000010```.\n",
    "- ```1&2``` in binary is: ```00000000 00000000 00000000 00000000```."
   ]
  },
  {
   "cell_type": "code",
   "execution_count": null,
   "metadata": {},
   "outputs": [
    {
     "name": "stdout",
     "output_type": "stream",
     "text": [
      "2\n",
      "5\n",
      "5\n",
      "0\n",
      "1\n",
      "-1\n",
      "1\n",
      "2\n",
      "0\n",
      "1\n"
     ]
    }
   ],
   "source": [
    "console.log(\"6\"&3); // returns 2\n",
    "console.log(null|5); // returns 5\n",
    "console.log(NaN|5); // returns 5\n",
    "console.log(-0|0); // returns 0\n",
    "console.log(1|0); // returns 1\n",
    "console.log(~0); // returns -1\n",
    "console.log(1^0);\n",
    "console.log(1<<1); // shifts bits to the left\n",
    "console.log(1>>1); // shifts to the right\n",
    "console.log(1>>>0);"
   ]
  },
  {
   "cell_type": "markdown",
   "metadata": {},
   "source": [
    "## Comma Operators"
   ]
  },
  {
   "cell_type": "markdown",
   "metadata": {},
   "source": [
    "Evaluates multiple expressions, but only returns the result of the last one.\n",
    "\n",
    "The syntax is as follows: \n",
    "```((expression1, expression2, ..., expressionN))```. \n",
    "\n",
    "Comma operators are often using in loops, or comma expressions."
   ]
  },
  {
   "cell_type": "code",
   "execution_count": 54,
   "metadata": {},
   "outputs": [
    {
     "name": "stdout",
     "output_type": "stream",
     "text": [
      "7\n",
      "1 2\n",
      "2 3\n",
      "3 4\n",
      "4 5\n",
      "5 6\n",
      "6 7\n",
      "7 8\n",
      "8 9\n",
      "9 10\n"
     ]
    }
   ],
   "source": [
    "let y = (1+2, 3+4);\n",
    "console.log(y); // should return 7\n",
    "\n",
    "for (x = 1, y = 2; x < 10; x++, y++) {  \n",
    "    console.log(x, y);\n",
    "}"
   ]
  },
  {
   "cell_type": "markdown",
   "metadata": {},
   "source": [
    "A common pitfall with understanding comma operators comes from the lack of understanding around the part that specifies that the last expression within the commas is the one evaluated, with the rest being ignored. For example, above, ```y``` evaluates to ```7``` even though there is an expression earlier on. The operation in the first index of brackets is still being evaluated, it's just not being evaluated to the variable that it is being declared in because it is not the last expression.\n",
    "\n",
    "For example, if I were to do a variable assignment within the variable declaration, before the first comma, the following occurs:"
   ]
  },
  {
   "cell_type": "code",
   "execution_count": 55,
   "metadata": {},
   "outputs": [
    {
     "name": "stdout",
     "output_type": "stream",
     "text": [
      "3\n",
      "8\n"
     ]
    }
   ],
   "source": [
    "let y; // becomes undefined\n",
    "\n",
    "let z = (y = 1 + 2, 3 + 5);\n",
    "\n",
    "console.log(y); // returns 3\n",
    "console.log(z); // returns 8"
   ]
  },
  {
   "cell_type": "markdown",
   "metadata": {},
   "source": [
    "## Some Practice Problems"
   ]
  },
  {
   "cell_type": "code",
   "execution_count": 56,
   "metadata": {},
   "outputs": [
    {
     "name": "stdout",
     "output_type": "stream",
     "text": [
      "235 -232 702\n"
     ]
    }
   ],
   "source": [
    "// Predict the final value of each variable (a, b, c).\n",
    "let a = 2, b = \"2\", c = 1;\n",
    "a = b + ++a + c++ - --c + +b;\n",
    "b = (a = a + +b, b - a);\n",
    "c += c * a - (b = +b) + ++a;\n",
    "console.log(a, b, c);"
   ]
  },
  {
   "cell_type": "code",
   "execution_count": 57,
   "metadata": {},
   "outputs": [
    {
     "name": "stdout",
     "output_type": "stream",
     "text": [
      "15\n"
     ]
    }
   ],
   "source": [
    "function test() {\n",
    "    let x = (1, 2, 3, 4);\n",
    "    return (x = 10, x + 5);\n",
    "  }\n",
    "  console.log(test());\n",
    "  "
   ]
  },
  {
   "cell_type": "markdown",
   "metadata": {},
   "source": [
    "## References"
   ]
  }
 ],
 "metadata": {
  "kernelspec": {
   "display_name": "Deno",
   "language": "typescript",
   "name": "deno"
  },
  "language_info": {
   "codemirror_mode": "typescript",
   "file_extension": ".ts",
   "mimetype": "text/x.typescript",
   "name": "typescript",
   "nbconvert_exporter": "script",
   "pygments_lexer": "typescript",
   "version": "5.6.2"
  }
 },
 "nbformat": 4,
 "nbformat_minor": 2
}
