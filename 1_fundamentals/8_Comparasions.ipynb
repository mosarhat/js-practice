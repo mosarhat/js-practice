{
 "cells": [
  {
   "cell_type": "markdown",
   "metadata": {},
   "source": [
    "# Comparisons\n",
    "\n",
    "Comparisons always return a Boolean value; ```true```, or ```false```.\n",
    "\n",
    "Comparison operators are grouped left-to-right.\n",
    "\n",
    "The following are the comparison operators [1]:\n",
    "- ```>```; greater than.\n",
    "- ```<```; less than.\n",
    "- ```>=```; greater than or equal to.\n",
    "- ```<=```; less than or equal to.\n",
    "- ```==```; equal to in value.\n",
    "- ```===```; equal to in value and type.\n",
    "- ```!=```; not equal to in value.\n",
    "- ```!==```; not equal to in value and type."
   ]
  },
  {
   "cell_type": "markdown",
   "metadata": {},
   "source": [
    "## String Comparison\n",
    "\n",
    "JavaScript utilizes a lexicographical order (dictionary order) when comparing strings. If both operands are strings, then the comparison using Unicode is made.\n",
    "\n",
    "Strings are compared character-by-character. Interestingly, comparison is based on the Unicode values of the characters being compared.\n",
    "\n",
    "Note, if both strings end at the same length, and involve the same characters, they are equal. However, if both strings are equal up until a point, and then one string is terminated, but the rest goes on, the latter is considered greater.\n",
    "\n",
    "For example, in ASCII, Unicode points are numeric. So for the first example, when we compare ```a``` to ```A```, ```A``` has a code point of 65, where ```a``` has a code point of 97. In this case, 97 is greater than 65; therefore, ```a``` is greater than ```A```.\n",
    "\n",
    "Within Unicode, there are many code points covering a wide variety of modern and historical scripts. Click [here](https://en.wikipedia.org/wiki/List_of_Unicode_characters) for the ardously long list of characters with their Unicode representation (follow the decimal column).\n",
    "\n",
    "Another interesting note, unicode representations can be made by using the ```\\u``` delimiter within a string. So for example, if I want to represent the number 5, the Unicode representation would be ```\\u0035```."
   ]
  },
  {
   "cell_type": "code",
   "execution_count": 146,
   "metadata": {},
   "outputs": [
    {
     "name": "stdout",
     "output_type": "stream",
     "text": [
      "true\n",
      "false\n",
      "true\n",
      "false\n",
      "NaN\n",
      "true\n",
      "false\n",
      "\u0000\n",
      "\u00001\n",
      "51\n",
      "6\n"
     ]
    }
   ],
   "source": [
    "console.log( \"a\" > \"A\" ); // returns true\n",
    "\n",
    "console.log( \"Glow\" > \"Glower\" ); // returns false\n",
    "\n",
    "console.log(\"r\" > \"R\" == \"a\" > \"A\"); // true\n",
    "\n",
    "/*\n",
    "Something important to note, within JavaScript, the two operand within a string comparison must be strings.\n",
    "If one is any other data type, they get coerced to a Number type.\n",
    "\n",
    "My point being, the Unicode representation of a number FAILS the type coercion when comparing values.\n",
    "*/\n",
    "\n",
    "console.log(\"\\u0000\" > 3); // \"\\u0000\" becomes NaN\n",
    "\n",
    "console.log(+\"\\u0000\")\n",
    "\n",
    "console.log(\"5\" > 3); // true\n",
    "\n",
    "console.log(NaN > 3); // false\n",
    "\n",
    "// Unrelated Unicode stuff\n",
    "\n",
    "console.log(\"\\u0000\"); // this prints nothing as null\n",
    "\n",
    "console.log(\"\\u0000\" + 1); // will return an empty space + 1\n",
    "\n",
    "console.log(\"\\u0035\" + 1); // will return a string 51\n",
    "\n",
    "console.log(+\"\\u0035\" + 1); // should return 6\n",
    "\n"
   ]
  },
  {
   "cell_type": "markdown",
   "metadata": {},
   "source": [
    "## Type Coercion Within Comparisons\n",
    "\n",
    "Typically, JavaScript converts values to numbers when comparing different types."
   ]
  },
  {
   "cell_type": "code",
   "execution_count": 147,
   "metadata": {},
   "outputs": [
    {
     "name": "stdout",
     "output_type": "stream",
     "text": [
      "true\n",
      "true\n",
      "true\n",
      "true\n"
     ]
    }
   ],
   "source": [
    "console.log( '' == 0 ); // returns true since empty string is considered as false ('' is coerced to 0)\n",
    "console.log( ' ' == 0 ); // returns true\n",
    "console.log( 2 > '1' ); // 1 is coerced to NUM1\n",
    "console.log( '02' > 1 ); // true ('02' is coerced to 2)"
   ]
  },
  {
   "cell_type": "markdown",
   "metadata": {},
   "source": [
    "Notice, within a loose equality, coercion does occur to either ```0```, or ```1``` if a boolean value is used. \n",
    "\n",
    "The following is a an example:\n",
    "\n",
    "```js\n",
    "console.log( false == 1 ); // false is coerced to 0, 0 is not equal to 1, therefore false\n",
    "```\n",
    "However, if we were to use the strict equality, no such coercion occurs. Why?\n",
    "\n",
    "Strict equality checks for the value, and the *type*, and only compares the value given that they are both the same type. For example:"
   ]
  },
  {
   "cell_type": "code",
   "execution_count": 148,
   "metadata": {},
   "outputs": [
    {
     "name": "stdout",
     "output_type": "stream",
     "text": [
      "false\n",
      "true\n",
      "false\n",
      "true\n",
      "true\n",
      "false\n"
     ]
    }
   ],
   "source": [
    "console.log ( false == '1' ); // returns false (false is coerced to 0, and 1 is coerced to 1), both are not equal\n",
    "console.log ( true == '1' ); // returns true\n",
    "console.log ( true === '1' ); // returns false (these are not the same type, or value)\n",
    "console.log ( true === !!'1' ); // returns true\n",
    "console.log ( false === !(!!'1') ); // returns true\n",
    "console.log ( \"0\" === 0 ); // returns false"
   ]
  },
  {
   "cell_type": "markdown",
   "metadata": {},
   "source": [
    "## Loose Equality vs Strict Equality\n",
    "\n",
    "As aforementioned, there are two types of equalities; loose equalities, and strict equalities. Equalities are used to find the degree of equality between things we are comparing [2].\n",
    "\n",
    "Loose equalities are not immune to JavaScript's implicit type conversion, whereas strict equalities are not subject to them.\n",
    "\n",
    "Simply put, due to strict equalities not being subject to type coercion, type is a factor in whether or not two operands are equal to one another.\n",
    "\n",
    "Recall, coercions occur to numbers, as mentioned above."
   ]
  },
  {
   "cell_type": "code",
   "execution_count": 149,
   "metadata": {},
   "outputs": [
    {
     "name": "stdout",
     "output_type": "stream",
     "text": [
      "false\n",
      "true\n",
      "false\n"
     ]
    }
   ],
   "source": [
    "console.log( false == \"false\" ); // false, a string can only be false if it is empty\n",
    "console.log( false == '0' ); // returns true\n",
    "console.log( false === '0' ); // returns false"
   ]
  },
  {
   "cell_type": "markdown",
   "metadata": {},
   "source": [
    "## Comparing With Null and Undefined\n",
    "\n",
    "Within loose equalities, when null and undefined are compared, they are considered to be equal to each other. Within strict equalities, they are not. \n",
    "\n",
    "Undefined only loosely equals null, and nothing else.\n",
    "\n",
    "Recall, for math operations, there is a coercion to numbers. null becomes 0, while undefined becomes NaN."
   ]
  },
  {
   "cell_type": "code",
   "execution_count": null,
   "metadata": {},
   "outputs": [
    {
     "name": "stdout",
     "output_type": "stream",
     "text": [
      "false\n",
      "true\n",
      "true\n",
      "false\n",
      "false\n"
     ]
    }
   ],
   "source": [
    "console.log(undefined >= null); // false since undefined is converted to NaN\n",
    "console.log(undefined == null); // true\n",
    "console.log(null >= 0); // null is coerced to 0\n",
    "console.log(null == 0); // false, but why? null can only loosely be equal to undefined"
   ]
  },
  {
   "cell_type": "markdown",
   "metadata": {},
   "source": [
    "## References\n",
    "\n",
    "[1] https://www.w3schools.com/js/js_comparisons.asp\n",
    "\n",
    "[2] https://www.freecodecamp.org/news/loose-vs-strict-equality-in-javascript/"
   ]
  }
 ],
 "metadata": {
  "kernelspec": {
   "display_name": "Deno",
   "language": "typescript",
   "name": "deno"
  },
  "language_info": {
   "codemirror_mode": "typescript",
   "file_extension": ".ts",
   "mimetype": "text/x.typescript",
   "name": "typescript",
   "nbconvert_exporter": "script",
   "pygments_lexer": "typescript",
   "version": "5.6.2"
  }
 },
 "nbformat": 4,
 "nbformat_minor": 2
}
