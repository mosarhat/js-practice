{
 "cells": [
  {
   "cell_type": "markdown",
   "metadata": {},
   "source": [
    "# Comparisons\n",
    "\n",
    "Comparisons always return a Boolean value; ```true```, or ```false```.\n",
    "\n",
    "Comparison operators are grouped left-to-right.\n",
    "\n",
    "The following are the comparison operators [1]:\n",
    "- ```>```; greater than.\n",
    "- ```<```; less than.\n",
    "- ```>=```; greater than or equal to.\n",
    "- ```<=```; less than or equal to.\n",
    "- ```==```; equal to in value.\n",
    "- ```===```; equal to in value and type.\n",
    "- ```!=```; not equal to in value.\n",
    "- ```!==```; not equal to in value and type."
   ]
  },
  {
   "cell_type": "markdown",
   "metadata": {},
   "source": [
    "## String Comparison\n",
    "\n",
    "JavaScript utilizes a lexicographical order (dictionary order) when comparing strings.\n",
    "\n",
    "Strings are compared character-by-character. Interestingly, comparison is based on the Unicode values of the characters being compared.\n",
    "\n",
    "Note, if both strings end at the same length, and involve the same characters, they are equal. However, if both strings are equal up until a point, and then one string is terminated, but the rest goes on, the latter is considered greater."
   ]
  },
  {
   "cell_type": "code",
   "execution_count": 16,
   "metadata": {},
   "outputs": [
    {
     "name": "stdout",
     "output_type": "stream",
     "text": [
      "true\n",
      "false\n"
     ]
    }
   ],
   "source": [
    "console.log( \"a\" > \"A\" ); // returns true\n",
    "\n",
    "console.log( \"Glow\" > \"Glower\" ); // returns false"
   ]
  },
  {
   "cell_type": "markdown",
   "metadata": {},
   "source": [
    "## Type Coercion Within Comparisons\n",
    "\n",
    "Typically, when JavaScript converts values to numbers when comparing different types."
   ]
  },
  {
   "cell_type": "markdown",
   "metadata": {},
   "source": [
    "## Equality vs Strict Equality"
   ]
  },
  {
   "cell_type": "markdown",
   "metadata": {},
   "source": [
    "## Comparing With Null and Undefined"
   ]
  },
  {
   "cell_type": "markdown",
   "metadata": {},
   "source": [
    "## References\n",
    "\n",
    "[1] https://www.w3schools.com/js/js_comparisons.asp"
   ]
  }
 ],
 "metadata": {
  "kernelspec": {
   "display_name": "Deno",
   "language": "typescript",
   "name": "deno"
  },
  "language_info": {
   "codemirror_mode": "typescript",
   "file_extension": ".ts",
   "mimetype": "text/x.typescript",
   "name": "typescript",
   "nbconvert_exporter": "script",
   "pygments_lexer": "typescript",
   "version": "5.6.2"
  }
 },
 "nbformat": 4,
 "nbformat_minor": 2
}
