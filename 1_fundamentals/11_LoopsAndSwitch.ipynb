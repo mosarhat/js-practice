{
 "cells": [
  {
   "cell_type": "markdown",
   "metadata": {},
   "source": [
    "# Basic Loops"
   ]
  },
  {
   "cell_type": "markdown",
   "metadata": {},
   "source": [
    "## The ```while``` Loop\n",
    "\n",
    "The ```while``` loops runs through a *block* of code until the specified condition is true [1]. \n",
    "\n",
    "```\n",
    "while (condition) {\n",
    "    // executes while condition is true\n",
    "}\n",
    "```\n",
    "\n",
    "The following is a simple example of a ```while``` loop:"
   ]
  },
  {
   "cell_type": "code",
   "execution_count": 1,
   "metadata": {},
   "outputs": [
    {
     "name": "stdout",
     "output_type": "stream",
     "text": [
      "Woah!\n",
      "Woah!\n",
      "Woah!\n"
     ]
    },
    {
     "data": {
      "text/plain": [
       "\u001b[33mtrue\u001b[39m"
      ]
     },
     "execution_count": 1,
     "metadata": {},
     "output_type": "execute_result"
    }
   ],
   "source": [
    "let flag; // sets to undefined \n",
    "let i = 0;\n",
    "\n",
    "// LOL, my code was initially off and my entire computer crashed xD\n",
    "\n",
    "while (!flag) {\n",
    "    console.log(\"Woah!\");\n",
    "    i = i + 1;\n",
    "    if (i == 3) {\n",
    "        flag = true;\n",
    "    }\n",
    "}"
   ]
  },
  {
   "cell_type": "markdown",
   "metadata": {},
   "source": [
    "## The ```do...while``` Loop\n",
    "\n",
    "The loop will execute the code block, and then check if the condition is true. If the condition is true, it will then continue to repeat the loop.\n",
    "\n",
    "```\n",
    "do {\n",
    "  // code block to be executed\n",
    "}\n",
    "while (condition);\n",
    "```"
   ]
  },
  {
   "cell_type": "code",
   "execution_count": 2,
   "metadata": {},
   "outputs": [
    {
     "name": "stdout",
     "output_type": "stream",
     "text": [
      "Tim's Age: 1\n",
      "Tim's Age: 2\n",
      "Tim's Age: 3\n",
      "Tim's Age: 4\n",
      "Tim's Age: 5\n",
      "Tim's Age: 6\n",
      "Tim's Age: 7\n",
      "Tim's Age: 8\n",
      "Tim's Age: 9\n",
      "Tim's Age: 10\n",
      "Tim's Age: 11\n",
      "Tim's Age: 12\n",
      "Tim's Age: 13\n",
      "Tim's Age: 14\n",
      "Tim's Age: 15\n"
     ]
    }
   ],
   "source": [
    "let age = 0;\n",
    "\n",
    "do {\n",
    "    age += 1;\n",
    "    console.log(`Tim's Age: ${age}`);\n",
    "    if (age == 15) {\n",
    "        break\n",
    "    }\n",
    "}\n",
    "while (age < 18 && age > 0);"
   ]
  },
  {
   "cell_type": "markdown",
   "metadata": {},
   "source": [
    "## The ```for``` Loop\n",
    "\n",
    "There are three variants of ```for``` loops:\n",
    "- ```for```: loops through a block of code.\n",
    "- ```for in```: loops though properties of an object, or arrays.\n",
    "    - for arrays, this returns the index.\n",
    "- ```for of```: loops through the values of an iterative object, and returns the value of the array at the index.\n",
    "\n",
    "```\n",
    "for (expression 1; expression 2; expression 3) {\n",
    "  /* expression 1 -> declaration\n",
    "     expression 2 -> defines the condition\n",
    "     expression 3 -> executed after the code block is executed\n",
    "  */\n",
    "  // code executed\n",
    "}\n",
    "```"
   ]
  },
  {
   "cell_type": "code",
   "execution_count": 3,
   "metadata": {},
   "outputs": [
    {
     "name": "stdout",
     "output_type": "stream",
     "text": [
      "0\n",
      "1\n",
      "2\n",
      "3\n",
      "4\n",
      "[\n",
      "  \"make\",         \"model\",\n",
      "  \"year\",         \"color\",\n",
      "  \"bodyType\",     \"seatingCapacity\",\n",
      "  \"transmission\", \"engine\",\n",
      "  \"fuelEconomy\",  \"features\",\n",
      "  \"mileage\",      \"is4WD\",\n",
      "  \"price\"\n",
      "]\n",
      "\n",
      "Key Properties from the Car Object:\n",
      "make\n",
      "model\n",
      "year\n",
      "color\n",
      "bodyType\n",
      "seatingCapacity\n",
      "transmission\n",
      "engine\n",
      "fuelEconomy\n",
      "features\n",
      "mileage\n",
      "is4WD\n",
      "price\n",
      "\n",
      "Key Properties from the Car Object:\n",
      "make\n",
      "model\n",
      "year\n",
      "color\n",
      "bodyType\n",
      "seatingCapacity\n",
      "transmission\n",
      "engine\n",
      "fuelEconomy\n",
      "features\n",
      "mileage\n",
      "is4WD\n",
      "price\n"
     ]
    },
    {
     "ename": "TypeError",
     "evalue": "toyotaSienna2010 is not iterable",
     "output_type": "error",
     "traceback": [
      "Stack trace:",
      "TypeError: toyotaSienna2010 is not iterable",
      "    at <anonymous>:54:17"
     ]
    }
   ],
   "source": [
    "// first for loop variant\n",
    "\n",
    "for (let i = 0; i < 5; i = i + 1) {\n",
    "    console.log(i); // 0 1 2 3 4\n",
    "}\n",
    "\n",
    "const toyotaSienna2010 = {\n",
    "    make: \"Toyota\",\n",
    "    model: \"Sienna\",\n",
    "    year: 2010,\n",
    "    color: \"Silver\",\n",
    "    bodyType: \"Minivan\",\n",
    "    seatingCapacity: 7,\n",
    "    transmission: \"Automatic\",\n",
    "    engine: {\n",
    "      type: \"V6\",\n",
    "      displacement: \"3.5L\",\n",
    "      horsepower: 266,\n",
    "      torque: 245, // in lb-ft\n",
    "      fuelType: \"Gasoline\",\n",
    "    },\n",
    "    fuelEconomy: {\n",
    "      city: 18, // miles per gallon (mpg)\n",
    "      highway: 24, // miles per gallon (mpg)\n",
    "    },\n",
    "    features: [\n",
    "      \"Power sliding doors\",\n",
    "      \"Rearview camera\",\n",
    "      \"Bluetooth connectivity\",\n",
    "      \"DVD entertainment system\",\n",
    "      \"Third-row seating\",\n",
    "      \"Dual-zone climate control\",\n",
    "    ],\n",
    "    mileage: 120000, // in miles\n",
    "    is4WD: false,\n",
    "    price: 9500, // in USD\n",
    "};\n",
    "\n",
    "let arr = [];\n",
    "\n",
    "// second variant \n",
    "for (let key in toyotaSienna2010) {\n",
    "    arr.push(key); // doesn't return nested properties\n",
    "}\n",
    "\n",
    "console.log(arr);\n",
    "\n",
    "console.log(\"\\nKey Properties from the Car Object:\");\n",
    "for (let key in arr) {\n",
    "  // returns the index\n",
    "  console.log(arr[key]);\n",
    "  \n",
    "}\n",
    "\n",
    "// third variant \n",
    "console.log(\"\\nKey Properties from the Car Object:\");\n",
    "for (let key of arr) {\n",
    "  // returns the index\n",
    "  console.log(key);\n",
    "}\n",
    "\n",
    "let arrOne = [];\n",
    "for (let key of toyotaSienna2010) {\n",
    "  arr.push(key); // error, as the object is not iterable (will cover later)\n",
    "}"
   ]
  },
  {
   "cell_type": "markdown",
   "metadata": {},
   "source": [
    "## Breaking a Loop and Continuing a Loop\n",
    "\n",
    "```break``` ends the loop cycle. ```continue``` keeps the loop cycle going. \n",
    "\n",
    "Sometimes, within our code, we can break out of multiple nested loops. "
   ]
  },
  {
   "cell_type": "code",
   "execution_count": null,
   "metadata": {},
   "outputs": [
    {
     "name": "stdout",
     "output_type": "stream",
     "text": [
      "i: 0 j: 0\n",
      "i: 0 j: 1\n",
      "i: 0 j: 2\n",
      "i: 1 j: 0\n",
      "i: 1 j: 1\n"
     ]
    }
   ],
   "source": [
    "outer: for (let i = 0; i < 3; i++) {\n",
    "    for (let j = 0; j < 3; j++) {\n",
    "        if ((i == 1) && (j == 2)) {\n",
    "            break outer;\n",
    "        }\n",
    "        console.log(`i: ${i}`, `j: ${j}`);\n",
    "    }\n",
    "}"
   ]
  },
  {
   "cell_type": "markdown",
   "metadata": {},
   "source": [
    "## The ```switch``` Statement"
   ]
  },
  {
   "cell_type": "markdown",
   "metadata": {},
   "source": [
    "## Some Practice Problems"
   ]
  },
  {
   "cell_type": "code",
   "execution_count": null,
   "metadata": {},
   "outputs": [
    {
     "name": "stdout",
     "output_type": "stream",
     "text": [
      "val: 1\n",
      "val: 2\n",
      "val: 3\n",
      "val: 4\n",
      "val: 5\n",
      "val: 6\n",
      "val: 7\n",
      "val: 8\n",
      "val: 9\n",
      "val: 10\n"
     ]
    }
   ],
   "source": [
    "// Write a for loop to print numbers from 1 to 10.\n",
    "\n",
    "for (let i = 1; i <= 10; i++) {\n",
    "    console.log(`val: ${i}`)\n",
    "}\n",
    "\n",
    "// Write a for loop to print numbers from 1 to 10.\n",
    "\n",
    "for (let i = 1; i <= 10; i++) {\n",
    "    console.log(`val: ${i}`)\n",
    "}"
   ]
  },
  {
   "cell_type": "code",
   "execution_count": null,
   "metadata": {},
   "outputs": [
    {
     "name": "stdout",
     "output_type": "stream",
     "text": [
      "1\n",
      "3\n",
      "5\n",
      "7\n",
      "9\n",
      "11\n",
      "13\n",
      "15\n",
      "17\n",
      "19\n"
     ]
    },
    {
     "data": {
      "text/plain": [
       "\u001b[33m20\u001b[39m"
      ]
     },
     "execution_count": 35,
     "metadata": {},
     "output_type": "execute_result"
    }
   ],
   "source": [
    "// Write a while loop to print odd numbers from 1 to 19.\n",
    "\n",
    "let i = 0;\n",
    "\n",
    "while (i <= 19) {\n",
    "    if (i % 2 !== 0) {\n",
    "        console.log(i);\n",
    "    }\n",
    "    i =  i + 1;\n",
    "}"
   ]
  },
  {
   "cell_type": "code",
   "execution_count": null,
   "metadata": {},
   "outputs": [
    {
     "name": "stdout",
     "output_type": "stream",
     "text": [
      "5 * 1: 5\n",
      "5 * 2: 10\n",
      "5 * 3: 15\n",
      "5 * 4: 20\n",
      "5 * 5: 25\n",
      "5 * 6: 30\n",
      "5 * 7: 35\n",
      "5 * 8: 40\n",
      "5 * 9: 45\n",
      "5 * 10: 50\n"
     ]
    }
   ],
   "source": [
    "// Write a while loop to print the multiplication table of 5 (up to 10). (use breaks for both loops)\n",
    "\n",
    "// this is terrible code, but the point is to get used to how breaks work\n",
    "\n",
    "outer: for (let i = 5;;) {\n",
    "    inner: for (let j = 1;; j++) {\n",
    "        console.log(`${i} * ${j}: ${i*j}`);\n",
    "        if (j > 9) {\n",
    "            break inner;\n",
    "        }\n",
    "    }\n",
    "    break outer;\n",
    "}"
   ]
  },
  {
   "cell_type": "code",
   "execution_count": null,
   "metadata": {},
   "outputs": [
    {
     "name": "stdout",
     "output_type": "stream",
     "text": [
      "1\n",
      "2\n",
      "4\n",
      "5\n",
      "7\n",
      "8\n",
      "10\n",
      "11\n",
      "13\n",
      "14\n",
      "16\n",
      "17\n",
      "19\n",
      "20\n"
     ]
    }
   ],
   "source": [
    "// Write a loop to print numbers from 1 to 20, but skip multiples of 3.\n",
    "// Recall, ++1 increments, then returns, i++ returns, then increments\n",
    "\n",
    "for (let i = 0; i <= 20; i++) {\n",
    "    if (i % 3 == 0) {\n",
    "        continue;\n",
    "    }\n",
    "    console.log(i);\n",
    "}"
   ]
  },
  {
   "cell_type": "code",
   "execution_count": null,
   "metadata": {},
   "outputs": [
    {
     "name": "stdout",
     "output_type": "stream",
     "text": [
      "105\n"
     ]
    }
   ],
   "source": [
    "// Write a loop to find the first number greater than 100 that is divisible by 7.\n",
    "\n",
    "let f;\n",
    "let y = 0;\n",
    "\n",
    "while(!f) {\n",
    "    // should print 105\n",
    "    if ((y > 100) && (y % 7 == 0)) {\n",
    "        console.log(y);\n",
    "        break;\n",
    "    }\n",
    "    y = y + 1;\n",
    "}"
   ]
  },
  {
   "cell_type": "code",
   "execution_count": null,
   "metadata": {},
   "outputs": [
    {
     "name": "stdout",
     "output_type": "stream",
     "text": [
      "3\n",
      "3\n"
     ]
    }
   ],
   "source": [
    "// Write a loop to find the smallest missing positive integer in an array of numbers. {0...n}\n",
    "// O(n) -> pretty bad\n",
    "\n",
    "let array = [1,2,4,5,6,7,8,9];\n",
    "let arrayLength = array.length;\n",
    "\n",
    "for (let i = 1; i < arrayLength; i++) {\n",
    "    if ((array[i] - array[i-1]) != 1) {\n",
    "        console.log(array[i-1] + 1);\n",
    "        break;\n",
    "    }\n",
    "}\n",
    "\n",
    "// challenge (make this in O(logn)) --  DnC problem\n",
    "\n",
    "function smallest_int(arr) {\n",
    "    if (arr.length <= 4) {\n",
    "        // For small arrays, use a linear search (O(n) but considered constant for small n)\n",
    "        for (let i = 1; i < arr.length; i++) {\n",
    "            if (arr[i] - arr[i - 1] !== 1) {\n",
    "                return arr[i - 1] + 1; // Return the missing integer\n",
    "            }\n",
    "        }\n",
    "        // If no missing integer is found, return the next integer after the last element\n",
    "        return arr.length + 1;\n",
    "    } else {\n",
    "        // For larger arrays, use binary search (O(log n))\n",
    "        let left = 0;\n",
    "        let right = arr.length - 1;\n",
    "\n",
    "        while (left <= right) {\n",
    "            let mid = Math.floor((left + right) / 2); // Correct mid calculation\n",
    "\n",
    "            if (arr[mid] !== mid + 1) {\n",
    "                // The missing integer is in the left half (including mid)\n",
    "                right = mid - 1;\n",
    "            } else {\n",
    "                // The missing integer is in the right half (excluding mid)\n",
    "                left = mid + 1;\n",
    "            }\n",
    "        }\n",
    "        // The smallest missing integer is `left + 1`\n",
    "        return left + 1;\n",
    "    }\n",
    "}\n",
    "\n",
    "console.log(smallest_int(array)); // Output: 3"
   ]
  },
  {
   "cell_type": "code",
   "execution_count": null,
   "metadata": {},
   "outputs": [
    {
     "name": "stdout",
     "output_type": "stream",
     "text": [
      "[\n",
      "   5, 11, 12, 22,\n",
      "  25, 34, 64, 90\n",
      "]\n"
     ]
    }
   ],
   "source": [
    "// Write a loop to sort an array of numbers in ascending order (without using built-in methods). (use insertion sort)\n",
    "\n",
    "let myArray = [64, 34, 25, 12, 22, 11, 90, 5];\n",
    "\n",
    "for (let i = 1; i < myArray.length; i++) {\n",
    "    let key = myArray[i];\n",
    "    let j = i - 1;\n",
    "\n",
    "    while ((j >= 0) && (key < myArray[j])) {\n",
    "        myArray[j+1] = myArray[j];\n",
    "        j = j - 1;\n",
    "    }\n",
    "    myArray[j+1] = key\n",
    "}\n",
    "   \n",
    "console.log(myArray);"
   ]
  },
  {
   "cell_type": "markdown",
   "metadata": {},
   "source": [
    "I'm going to re-iterate this as this is a crucial concept, within for loops, the third expression is incremented LAST out of the fist, the second, and the code execution."
   ]
  },
  {
   "cell_type": "markdown",
   "metadata": {},
   "source": [
    "## References \n",
    "\n",
    "[1] https://www.w3schools.com/js/js_loop_while.asp"
   ]
  }
 ],
 "metadata": {
  "kernelspec": {
   "display_name": "Deno",
   "language": "typescript",
   "name": "deno"
  },
  "language_info": {
   "codemirror_mode": "typescript",
   "file_extension": ".ts",
   "mimetype": "text/x.typescript",
   "name": "typescript",
   "nbconvert_exporter": "script",
   "pygments_lexer": "typescript",
   "version": "5.6.2"
  }
 },
 "nbformat": 4,
 "nbformat_minor": 2
}
