{
 "cells": [
  {
   "cell_type": "markdown",
   "metadata": {},
   "source": [
    "# Data Types for Variables\n",
    "\n",
    "JavaScript has 8 data types, 7 of which are considered primitive, and the last being an object (which is considered non-primitive).\n",
    "\n",
    "Primitive data is a data type that is NOT an object, and that carries NO methods or properties. \n",
    "\n",
    "Types in JavaScript are dynamically typed. This means that the same variable can be used to hold different data types. \n",
    "\n",
    "The following is an example:"
   ]
  },
  {
   "cell_type": "code",
   "execution_count": 32,
   "metadata": {},
   "outputs": [
    {
     "name": "stdout",
     "output_type": "stream",
     "text": [
      "5\n",
      "name\n",
      "true\n"
     ]
    }
   ],
   "source": [
    "// Step 1: Declaration (TDZ starts)\n",
    "let variableOne; // Memory allocated, but not initialized\n",
    "\n",
    "// Step 2: Initialization (TDZ ends)\n",
    "variableOne = 5; // TDZ ends, variable is now accessible\n",
    "\n",
    "// Step 3: Logging\n",
    "console.log(variableOne); // Output: 5\n",
    "\n",
    "// Step 4: Reassignment\n",
    "variableOne = \"name\"; // Type changes to string\n",
    "console.log(variableOne); // Output: name\n",
    "\n",
    "// Step 5: Reassignment\n",
    "variableOne = true; // Type changes to boolean\n",
    "console.log(variableOne); // Output: true"
   ]
  },
  {
   "cell_type": "code",
   "execution_count": 33,
   "metadata": {},
   "outputs": [
    {
     "name": "stdout",
     "output_type": "stream",
     "text": [
      "undefined\n",
      "5\n",
      "name\n",
      "true\n"
     ]
    }
   ],
   "source": [
    "// Step 1\n",
    "console.log(variableTwo); // there is no TDZ, so there is hoisting\n",
    "var variableTwo; // Memory allocated, but not initialized\n",
    "\n",
    "variableOne = 5;\n",
    "\n",
    "// Step 3: Logging\n",
    "console.log(variableOne); // Output: 5\n",
    "\n",
    "// Step 4: Reassignment\n",
    "variableOne = \"name\"; // Type changes to string\n",
    "console.log(variableOne); // Output: name\n",
    "\n",
    "// Step 5: Reassignment\n",
    "variableOne = true; // Type changes to boolean\n",
    "console.log(variableOne); // Output: true"
   ]
  },
  {
   "cell_type": "markdown",
   "metadata": {},
   "source": [
    "## Primitive vs Object Wrapper\n",
    "\n",
    "Within JavaScript, recall that there are 7 primitive data types. Primitives are not objects, and this can present some issues as there are some really cool object methods that can wrap around primitives that are found within object wrappers.\n",
    "\n",
    "### Conventional Means of Evocation \n",
    "\n",
    "Typically, there are two ways that we can define a primitive value:\n",
    "\n",
    "```js\n",
    "let truthy = true;\n",
    "let truthyNew = Boolean(1);\n",
    "```\n",
    "\n",
    "Recall, primitives are not objects. This presents some issues as there are some cool object methods that cannot be used for primitives that could provide to be useful.\n",
    "\n",
    "When we want to create a object wrapper of a primitive value (in this case Boolean), we would use the following:\n",
    "\n",
    "```js\n",
    "let truthyCool = new Boolean(1); // object wrapper around truthy\n",
    "```\n",
    "\n",
    "Object wrapping creates a standard object that wraps around every primitive data type, excluding null and undefined. \n",
    "\n",
    "### AutoBoxing\n",
    "\n",
    "Autoboxing is the automatic conversion of primitive values into their corresponding object wrappers when properties or methods are accessed. It’s important to note, the  wrapper object disappears after the method executes, leaving only the primitive value."
   ]
  },
  {
   "cell_type": "code",
   "execution_count": null,
   "metadata": {},
   "outputs": [
    {
     "name": "stdout",
     "output_type": "stream",
     "text": [
      "boolean\n",
      "object\n"
     ]
    }
   ],
   "source": [
    "let truthy = true;\n",
    "let truthyCool = new Boolean(truthy);\n",
    "\n",
    "console.log(typeof(truthy)); // should return \"boolean\"\n",
    "console.log(typeof(truthyCool)); // should return an object\n",
    "\n",
    "let str = \"str\";\n",
    "let strNew = new String(str);\n",
    "console.log(str.toUpperCase())\n",
    "console.log(strNew.toUpperCase())"
   ]
  },
  {
   "cell_type": "markdown",
   "metadata": {},
   "source": [
    "## Primitive"
   ]
  },
  {
   "cell_type": "markdown",
   "metadata": {},
   "source": [
    "### Number\n",
    "\n",
    "Represents integers, and floating-point numbers. Numbers are mutable.\n",
    "\n",
    "Larger numbers, and smaller numbers approaching 0 that are less than 1 can be captured with a scientific exponent,  ```e```."
   ]
  },
  {
   "cell_type": "code",
   "execution_count": 35,
   "metadata": {},
   "outputs": [
    {
     "name": "stdout",
     "output_type": "stream",
     "text": [
      "1000000000\n",
      "0.01\n"
     ]
    }
   ],
   "source": [
    "console.log(1e9);\n",
    "console.log(1e-2);"
   ]
  },
  {
   "cell_type": "markdown",
   "metadata": {},
   "source": [
    "JavaScript ```Number``` is a 64-bit floating point that follows the IEEE 754 standard. \n",
    "\n",
    "The following is a formula that represents the 64-bit floating point:\n",
    "\n",
    "<div align=\"center\">\n",
    "    <img src=\"assets/2/1.jpg\"></img>\n",
    "    <figcaption>IEEE 754 64-bit Floating Point Number Formula</figcaption>\n",
    "</div>\n",
    "\n",
    "The following is a visual representations of the floating point figure:\n",
    "\n",
    "<div align=\"center\">\n",
    "    <img src=\"assets/2/2.jpg\"></img>\n",
    "    <figcaption>Bit Representation of 54-bit IEEE 754 Floating Point</figcaption>\n",
    "</div>\n",
    "\n",
    "The sign, S, dictates the sign of the number. If the number is positive, the sign will be 0. If the number is negative, the sign will be 1 [3].\n",
    "\n",
    "The exponent, E, is in base 2. This field contains 11 bits, and is biased by 1023 [3]. \n",
    "\n",
    "The fractional part (also known at the mantissa), F, is also in base 2. This field contains 52 bits [3]."
   ]
  },
  {
   "cell_type": "markdown",
   "metadata": {},
   "source": [
    "#### Special Numeric Values\n",
    "\n",
    "Numbers have special numeric values: ```Infinity```, ```-Infinity```, and ```NaN```.\n",
    "\n",
    "It’s important to note, ```NaN``` is sticky. This means when we use ```NaN``` with number-to-number mathematical operations (not true with comparisons), it returns ```NaN```.\n",
    "\n",
    "Any malformed 64-bit float is considered as a ```NaN``` value. Due to the numeric values, JavaScript’s mathematical operations are generally considered to be safe."
   ]
  },
  {
   "cell_type": "code",
   "execution_count": 66,
   "metadata": {},
   "outputs": [
    {
     "name": "stdout",
     "output_type": "stream",
     "text": [
      "500000\n",
      "5.4594\n",
      "true\n",
      "true\n",
      "Infinity\n",
      "-Infinity\n",
      "Infinity\n",
      "NaN\n",
      "NaN\n",
      "number\n",
      "false\n"
     ]
    }
   ],
   "source": [
    "let n = 500e3;\n",
    "let x = 5.4594;\n",
    "\n",
    "console.log(n);\n",
    "console.log(x);\n",
    "\n",
    "console.log(typeof(n) == \"number\"); // number is the same value as number, returns true\n",
    "console.log(typeof(x) == \"number\"); // same as above\n",
    "\n",
    "console.log(1 / 0); // as denominator decreases, the number gets bigger, so it returns Infinity\n",
    "console.log((-1) / 0); // returns -Infinity\n",
    "console.log(Infinity); // evoked manually\n",
    "\n",
    "console.log(\"string\" / 2); // will return NaN\n",
    "console.log(NaN + 1); // returns NaN\n",
    "\n",
    "console.log(typeof(NaN)); // will return number\n",
    "console.log(NaN === NaN); //  first mention of explicit equality (both type and value) - returns false"
   ]
  },
  {
   "cell_type": "markdown",
   "metadata": {},
   "source": [
    "```js\n",
    "console.log(NaN === NaN);\n",
    "```\n",
    "\n",
    "This returns false. Weird, right? Essentially, two things not being a number can never tell you whether those things are the same or not. A car is not a number, and neither is truck; however, a car is not a truck, so they cannot be the same; this follows the same principle."
   ]
  },
  {
   "cell_type": "markdown",
   "metadata": {},
   "source": [
    "### BigInt\n",
    "\n",
    "In JavaScript, the largest exact value of the number data type is ```9007199254740991``` (or $2^{53}−1$). The smallest exact value of the number data type is ```-9007199254740991``` (or $-2^{53}−1$). Simply put, the bounds of what a number can be should be the following: \n",
    "\n",
    "<div align=\"center\">\n",
    "    <img src=\"assets/2/4.jpg\"></img>\n",
    "</div>\n",
    "\n",
    "BigInt values are used to deal with values outside these bounds, as with IEEE 754 double-precision 64-bit floating point numbers, as numbers grow, fewer bits are available for the fraction (mantissa) because the exponent shifts the decimal point. This leads to a loss of exactness, and numbers not being represented outside of that range.\n",
    "\n",
    "BigInt values are created by appending ```n``` to the end of an integer. BigInt can only be operated on by other BigInt values. \n",
    "\n",
    "An interesting side node: Although $2^{53}$ is the largest representable integer in the Number data type, it is unsafe.\n",
    "\n",
    "The following is a representation in code for BigInt:"
   ]
  },
  {
   "cell_type": "code",
   "execution_count": 91,
   "metadata": {},
   "outputs": [
    {
     "name": "stdout",
     "output_type": "stream",
     "text": [
      "9007199254740992\n",
      "9007199254740992\n",
      "9007199254740992n\n",
      "9007199254740993n\n",
      "9007199254740992\n",
      "true\n",
      "false\n"
     ]
    }
   ],
   "source": [
    "let var_failed = 9007199254740991;\n",
    "console.log(var_failed + 1); // 9007199254740992\n",
    "console.log(var_failed + 2); // 9007199254740992 (caused by overflow)\n",
    "\n",
    "let var_success = 9007199254740991n;\n",
    "console.log(var_success + 1n);\n",
    "console.log(var_success + 2n); // will return 9007199254740993n\n",
    "\n",
    "/*\n",
    "What happens if I coerce BigInt that is greater, or smaller than the range in which Number can operate with a\n",
    "Number type?\n",
    "*/\n",
    "\n",
    "console.log(Number(var_success + 2n)); // will return 9007199254740992, cool, right?\n",
    "\n",
    "// an interesting side note\n",
    "\n",
    "console.log(9007199254740992 == 9007199254740993); // true\n",
    "console.log(9007199254740991 == 9007199254740993); // false"
   ]
  },
  {
   "cell_type": "markdown",
   "metadata": {},
   "source": [
    "### String\n",
    "\n",
    "A string in Javascript must have quotes, of which there are 3 [5]:\n",
    "- Double quotes.\n",
    "- Singe quotes.\n",
    "- Backticks (which allow for extended functionality, such as variable display within the quotes).\n",
    "\n",
    "In JavaScript, there is no character data type that’s commonly found in other programming languages.\n",
    "\n",
    "Strings in JavaScript are immutable. This means that we cannot change a specific index of a string in-place. We would require a new string to be created."
   ]
  },
  {
   "cell_type": "code",
   "execution_count": 92,
   "metadata": {},
   "outputs": [
    {
     "name": "stdout",
     "output_type": "stream",
     "text": [
      "Hi\n",
      "Hi, yo.\n",
      "You owe me: $500!\n",
      "'HI!'\n",
      "\"Hi, my name is Bill!\"\n"
     ]
    }
   ],
   "source": [
    "console.log(\"Hi\");\n",
    "console.log('Hi, yo.');\n",
    "console.log(`You owe me: $${500}!`);\n",
    "console.log(\"'HI!'\"); \n",
    "console.log(`\"Hi, my name is Bill!\"`);"
   ]
  },
  {
   "cell_type": "markdown",
   "metadata": {},
   "source": [
    "### Boolean\n",
    "\n",
    "There's two types of values for Boolean values; ```true```, or ```false```.\n",
    "\n",
    "The following is a really convenient resource for Boolean truth tables:\n",
    "\n",
    "<div align=\"center\">\n",
    "    <img src=\"assets/2/5.jpg\"></img>\n",
    "</div>"
   ]
  },
  {
   "cell_type": "code",
   "execution_count": 93,
   "metadata": {},
   "outputs": [
    {
     "name": "stdout",
     "output_type": "stream",
     "text": [
      "true\n",
      "true\n"
     ]
    }
   ],
   "source": [
    "console.log(true&&true); // AND is only TRUE if true and true\n",
    "console.log(false||true); // return true"
   ]
  },
  {
   "cell_type": "markdown",
   "metadata": {},
   "source": [
    "### Null\n",
    "\n",
    "The absence of any object value is indicated by ```null``` [8]. The data type ```null``` is a falsy value. It is commonly used when an object cannot be created.\n",
    "\n",
    "You should always avoid ```null``` [10]. As soon as ```null``` appears in the execution stack, you need to actively look for it and check for it. \n",
    "\n",
    "Something interesting is that ```typeof null``` is considered an object. This is an outcome of the first version of JavaScript, where values were stored in 32-bit units. There were type tags (1-3 bits), and 000 represented a reference to an object. \n",
    "\n",
    "In Mocha’s implementation, Brendan Eich used a discriminated union in C; which consists of a union, and a discriminator (or tag) [11]. "
   ]
  },
  {
   "cell_type": "code",
   "execution_count": 100,
   "metadata": {},
   "outputs": [
    {
     "name": "stdout",
     "output_type": "stream",
     "text": [
      "false\n",
      "object\n"
     ]
    }
   ],
   "source": [
    "console.log(!!((null)&&(false))); // return false (!! is a Boolean coercion)\n",
    "console.log(typeof(null)); // object, this is a bug"
   ]
  },
  {
   "cell_type": "markdown",
   "metadata": {},
   "source": [
    "### Undefined\n",
    "\n",
    "The ```undefined``` data type is a primitive value that is assigned when a variable is uninitialized. \n",
    "\n",
    "It is also returned when we try to access properties in objects that do not exist.\n",
    "\n",
    "When dealing with parameters in a function, if an argument is not passed where a parameter exists, then ```undefined``` is passed as an argument into the function in its place.\n",
    "\n",
    "If a function does not have a ```return``` statement, and is evoked, it will return ```undefined```.\n",
    "\n",
    "When accessing arrays, if the index is out of bounds, then ```undefined``` is returned.\n"
   ]
  },
  {
   "cell_type": "code",
   "execution_count": 101,
   "metadata": {},
   "outputs": [
    {
     "name": "stdout",
     "output_type": "stream",
     "text": [
      "undefined\n",
      "undefined\n"
     ]
    }
   ],
   "source": [
    "let varWoah;\n",
    "\n",
    "console.log(varWoah); // should return undefined\n",
    "console.log(typeof(undefined));// undefined"
   ]
  },
  {
   "cell_type": "markdown",
   "metadata": {},
   "source": [
    "### Null vs Undefined\n",
    "\n",
    "According to Dmitri Pavlutin, *\"undefined represents the value of a variable that hasn't been yet initialized, while null represents an intentional absence of an object\"* [12].\n",
    "\n",
    "The following is some code to help bridge the gap of understanding:"
   ]
  },
  {
   "cell_type": "code",
   "execution_count": 111,
   "metadata": {},
   "outputs": [
    {
     "name": "stdout",
     "output_type": "stream",
     "text": [
      "undefined\n",
      "false\n"
     ]
    }
   ],
   "source": [
    "let newVariable;\n",
    "\n",
    "console.log(newVariable);\n",
    "\n",
    "console.log(null === undefined);"
   ]
  },
  {
   "cell_type": "markdown",
   "metadata": {},
   "source": [
    "### Symbol\n",
    "\n",
    "The **Symbol** data type is **unique** and **immutable**. It serves unique identifiers, and is a built-in object, where the constructor returns a primitive which is called **Symbol**. \n",
    "\n",
    "Symbols are typically used within objects as data property keys. The purpose is to creating unique property keys that won’t collide with any other code that might be added to the object in run-time.\n",
    "\n",
    "The following is some code:"
   ]
  },
  {
   "cell_type": "code",
   "execution_count": null,
   "metadata": {},
   "outputs": [
    {
     "ename": "TypeError",
     "evalue": "Cannot read properties of undefined (reading 'configurable')",
     "output_type": "error",
     "traceback": [
      "Stack trace:",
      "TypeError: Cannot read properties of undefined (reading 'configurable')",
      "    at <anonymous>:3:25"
     ]
    }
   ],
   "source": [
    "let symb1 = Symbol(\"id\"); // create a symbol with an ID (unique) \"id\"\n",
    "\n",
    "console.log(typeof(symb1)); // return symbol"
   ]
  },
  {
   "cell_type": "markdown",
   "metadata": {},
   "source": [
    "## Non-Primitive Data"
   ]
  },
  {
   "cell_type": "markdown",
   "metadata": {},
   "source": [
    "### Object\n",
    "\n",
    "The Object data type in JavaScript are key-value collections of data. Simply put, an object is an associative array, where keys associate to values. \n",
    "\n",
    "There are two ways to create a new object in JavaScript; literal, and constructor evocation. Both creation methods serve different purposes, as will be discussed in the future.\n",
    "\n",
    "A property within an object is a key-value pair. Keys are either strings, or symbols, and act as the property name. Values can be of any data type. \n",
    "\n",
    "There are two types of properties; data properties, and accessor properties. Data properties are standard properties that hold a value. Accessor properties execute a function when accessed or modified, and typically use ```get```, or ```set```.\n",
    "\n",
    "#### Real-Life Objects vs JavaScript Objects\n",
    "\n",
    "Suppose you own a car, which is an object. Suppose the car is a red 2005 Honda Civic that weighs around 3000 lbs. These descriptors are *properties*. Suppose the car starts, stops, and has a feature to emergency break. These are *methods*. \n",
    "\n",
    "Simply put, properties are named values that describe the object. Methods are functions that perform on the object.\n",
    "\n",
    "#### Creation of Objects\n",
    "\n",
    "One way we can create an object is through an object literal.\n",
    "\n",
    "```js\n",
    "let truck = { make: \"Honda\", model: \"Civic\", yearProduced: 2003, color: \"blue\"};\n",
    "```\n",
    "\n",
    "We can also use the ```new``` keyword.\n",
    "\n",
    "```js\n",
    "let newTruck = new Object();\n",
    "newTruck.make = \"Honda\";\n",
    "newTruck.model = \"Civic\";\n",
    "newTruck.yearProduced = 2003;\n",
    "newTruck.color = \"blue\";\n",
    "```"
   ]
  },
  {
   "cell_type": "code",
   "execution_count": null,
   "metadata": {},
   "outputs": [
    {
     "name": "stdout",
     "output_type": "stream",
     "text": [
      "{\"MAKE\":\"HONDA\",\"MODEL\":\"CIVIC\",\"YEARPRODUCED\":2003,\"COLOR\":\"BLUE\"}\n"
     ]
    }
   ],
   "source": [
    "let truck = { make: \"Honda\", model: \"Civic\", yearProduced: 2003, color: \"blue\"};\n",
    "\n",
    "let newTruck = new Object();\n",
    "newTruck.make = \"Honda\";\n",
    "newTruck.model = \"Civic\";\n",
    "newTruck.yearProduced = 2003;\n",
    "newTruck.color = \"blue\";\n",
    "\n",
    "let JSONObj = JSON.stringify(newTruck).toUpperCase();\n",
    "console.log(JSONObj);"
   ]
  },
  {
   "cell_type": "markdown",
   "metadata": {},
   "source": [
    "Accessing object properties can be done with either the dot notation, or the bracket notation. \n",
    "\n",
    "Personally, I like using dot notation as autofill makes it more convenient."
   ]
  },
  {
   "cell_type": "code",
   "execution_count": 157,
   "metadata": {},
   "outputs": [
    {
     "name": "stdout",
     "output_type": "stream",
     "text": [
      "2003\n",
      "2003\n"
     ]
    }
   ],
   "source": [
    "/*\n",
    "Retrieve the year with both dot, and bracket notation.\n",
    "*/\n",
    "\n",
    "console.log(newTruck.yearProduced);\n",
    "console.log(newTruck[\"yearProduced\"]);"
   ]
  },
  {
   "cell_type": "markdown",
   "metadata": {},
   "source": [
    "Methods within JavaScript objects are stored as properties. ```this``` is referring to the object instance itself.\n",
    "\n",
    "Note: From now on, with objects, we must always use ```const``` unless we want to add more properties, then we'd use ```let```."
   ]
  },
  {
   "cell_type": "code",
   "execution_count": 158,
   "metadata": {},
   "outputs": [
    {
     "name": "stdout",
     "output_type": "stream",
     "text": [
      "John Tim\n"
     ]
    }
   ],
   "source": [
    "/**\n",
    " * * Object literal.\n",
    " */\n",
    "const Suspect = {\n",
    "    fname: \"John\", // Default first name\n",
    "    lname: \"Doe\",  // Default last name\n",
    "  \n",
    "    /**\n",
    "     * Gets the full name of the suspect.\n",
    "     * Called a JSDoc, and will be covered in Clean Code.\n",
    "     * @returns {string} The full name of the suspect.\n",
    "     */\n",
    "    fullName: function () {\n",
    "      return this.fname + \" \" + this.lname;\n",
    "    },\n",
    "  };\n",
    "\n",
    "Suspect.lname = \"Tim\";\n",
    "console.log(Suspect.fullName())\n"
   ]
  },
  {
   "cell_type": "markdown",
   "metadata": {},
   "source": [
    "## References\n",
    "\n",
    "[1] https://www.w3schools.com/js/js_datatypes.asp\n",
    "\n",
    "[2] https://library.fridoverweij.com/docs/jstutorial/primitive_wrapper_objects.html#:~:text=These%20objects%20provide%20a%20number,the%20property%20or%20method%20reference.\n",
    "\n",
    "[3] https://www.h-schmidt.net/FloatConverter/IEEE754.html\n",
    "\n",
    "[4] https://www.ibm.com/docs/en/aix/7.2?topic=types-double-precision-floating-point\n",
    "\n",
    "[5] https://www.w3schools.com/js/js_numbers.asp\n",
    "\n",
    "[6] https://javascript.info/types#string\n",
    "\n",
    "[7] https://developer.mozilla.org/en-US/docs/Web/JavaScript/Reference/Global_Objects/String#string_primitives_and_string_objects\n",
    "\n",
    "[8] https://www.geeksforgeeks.org/null-in-javascript/\n",
    "\n",
    "[9] https://www.w3schools.com/js/js_objects.asp\n",
    "\n",
    "[10] https://dmitripavlutin.com/javascript-null/#1-the-concept-of-null\n",
    "\n",
    "[11] https://2ality.com/2013/10/typeof-null.html\n",
    "\n",
    "[12] https://dmitripavlutin.com/7-tips-to-handle-undefined-in-javascript/\n",
    "\n",
    "[13] https://dmitripavlutin.com/detailed-overview-of-well-known-symbols/\n",
    "\n",
    "[14] https://github.com/zloirock/core-js#ecmascript-symbol"
   ]
  }
 ],
 "metadata": {
  "kernelspec": {
   "display_name": "Deno",
   "language": "typescript",
   "name": "deno"
  },
  "language_info": {
   "codemirror_mode": "typescript",
   "file_extension": ".ts",
   "mimetype": "text/x.typescript",
   "name": "typescript",
   "nbconvert_exporter": "script",
   "pygments_lexer": "typescript",
   "version": "5.6.2"
  }
 },
 "nbformat": 4,
 "nbformat_minor": 2
}
