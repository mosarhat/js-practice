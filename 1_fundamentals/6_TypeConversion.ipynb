{
 "cells": [
  {
   "cell_type": "markdown",
   "metadata": {},
   "source": [
    "# Type Conversion\n",
    "\n",
    "Recall, there are two types of type conversion; implicit type conversion, and explicit type conversion.\n",
    "\n",
    "Implicit type conversion is essentially a fancy word of saying \"type coercion\".\n",
    "\n",
    "Explicit type conversion is the manual conversion of one data type to another.\n",
    "\n",
    "Type coercion is ONLY implicit, whereas type conversion is both implicit, and explicit.\n",
    "\n",
    "Whenever a conversion happens, and coercion is evoked, we go left to right. \n",
    "\n",
    "Note: This note only covers primitive conversions. Object to primitive conversions will be done in the future."
   ]
  },
  {
   "cell_type": "markdown",
   "metadata": {},
   "source": [
    "## String Conversion\n",
    "\n",
    "We can use ```String(var)``` for primitive conversion."
   ]
  },
  {
   "cell_type": "code",
   "execution_count": 5,
   "metadata": {},
   "outputs": [
    {
     "name": "stdout",
     "output_type": "stream",
     "text": [
      "5\n",
      "string\n"
     ]
    }
   ],
   "source": [
    "let integer = 5;\n",
    "\n",
    "console.log(integer);\n",
    "\n",
    "console.log(typeof String(integer));"
   ]
  },
  {
   "cell_type": "markdown",
   "metadata": {},
   "source": [
    "## Numeric Conversion"
   ]
  },
  {
   "cell_type": "markdown",
   "metadata": {},
   "source": [
    "## Boolean Conversion"
   ]
  },
  {
   "cell_type": "markdown",
   "metadata": {},
   "source": [
    "## Type Coercion"
   ]
  }
 ],
 "metadata": {
  "kernelspec": {
   "display_name": "Deno",
   "language": "typescript",
   "name": "deno"
  },
  "language_info": {
   "codemirror_mode": "typescript",
   "file_extension": ".ts",
   "mimetype": "text/x.typescript",
   "name": "typescript",
   "nbconvert_exporter": "script",
   "pygments_lexer": "typescript",
   "version": "5.6.2"
  }
 },
 "nbformat": 4,
 "nbformat_minor": 2
}
