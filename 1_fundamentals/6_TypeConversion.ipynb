{
 "cells": [
  {
   "cell_type": "markdown",
   "metadata": {},
   "source": [
    "# Type Conversion\n",
    "\n",
    "Recall, there are two types of type conversion; implicit type conversion, and explicit type conversion.\n",
    "\n",
    "Implicit type conversion is essentially a fancy word of saying \"type coercion\".\n",
    "\n",
    "Explicit type conversion is the manual conversion of one data type to another.\n",
    "\n",
    "Type coercion is ONLY implicit, whereas type conversion is both implicit, and explicit.\n",
    "\n",
    "Whenever a conversion happens, and coercion is evoked, we go left to right. \n",
    "\n",
    "Note: This note only covers primitive conversions. Object to primitive conversions will be done in the future."
   ]
  },
  {
   "cell_type": "markdown",
   "metadata": {},
   "source": [
    "## String Conversion\n",
    "We can use ```String(var)``` for explicit type conversion. Implicit type conversion (i.e. type coercion) can happen with something such as the following: ```alert(value)```.\n",
    "\n",
    "The following are the rules for string conversion:\n",
    "- ```false``` -> ```\"false\"```.\n",
    "- ```true``` -> ```\"true\"```.\n",
    "- ```null``` -> ```\"null\"```.\n",
    "- ```undefined``` -> ```\"undefined\"```.\n",
    "- ```123``` -> ```\"123\"```. (any number will do)"
   ]
  },
  {
   "cell_type": "code",
   "execution_count": 1,
   "metadata": {},
   "outputs": [
    {
     "name": "stdout",
     "output_type": "stream",
     "text": [
      "5\n",
      "string\n",
      "string\n"
     ]
    }
   ],
   "source": [
    "let intOne = 5;\n",
    "let boolOne = true;\n",
    "\n",
    "console.log(intOne);\n",
    "\n",
    "console.log(typeof String(intOne)); // should return string\n",
    "\n",
    "console.log(typeof String(boolOne)); // should return string"
   ]
  },
  {
   "cell_type": "markdown",
   "metadata": {},
   "source": [
    "## Numeric Conversion"
   ]
  },
  {
   "cell_type": "markdown",
   "metadata": {},
   "source": [
    "Numeric conversion occurs in mathematical operations explicitly using ```Number(value)```. \n",
    "\n",
    "Numeric type coercion (another way of saying implicit type conversion) occurs during non-additive operations.\n",
    "\n",
    "The following are the rules for numeric conversion:\n",
    "- ```undefined``` -> ```NaN```.\n",
    "- ```object``` -> ```NaN```.\n",
    "- ```null``` -> ```0```.\n",
    "- ```true``` -> ```1```.\n",
    "- ```false``` -> ```0```.\n",
    "- Empty string -> ```0```. \n",
    "- Non-numeric string -> ```NaN```.\n",
    "- Numeric string (whitespace doesn't matter) -> ```Number```.\n",
    "\n",
    "We can also convert values into numeric values using the unary ```+```.  Unary pluses have a higher order of precedence than binary pluses.\n",
    "\n",
    "Primary Note: As mentioned above, white space is trimmed for numeric conversions. This is important as it allows for ```\"\"```, and ```\" \"``` to be essentially considered as the same. This trimming is done because it is irrelevant to the numeric value. \n",
    "\n",
    "Secondary Note: Strings with only whitespace characters (space, ```\\n```, ```\\t```, etc.) are treated as an empty string, and set to 0."
   ]
  },
  {
   "cell_type": "code",
   "execution_count": 52,
   "metadata": {},
   "outputs": [
    {
     "name": "stdout",
     "output_type": "stream",
     "text": [
      "NaN\n",
      "42\n",
      "3.14\n",
      "255\n",
      "0\n",
      "0\n",
      "NaN\n",
      "NaN\n",
      "Infinity\n",
      "-Infinity\n",
      "-12.34\n",
      "1\n",
      "1\n"
     ]
    }
   ],
   "source": [
    "let obj = {\n",
    "    work: \"McD's\"\n",
    "}; // object literal declaration\n",
    "\n",
    "console.log(Number(obj)); // returns NaN\n",
    "console.log(Number(\"  42  \")); // returns 42 (white space doesn't matter)\n",
    "console.log(Number(\"3.14\")); // returns 3.14 (Number also represents float based numbers)\n",
    "console.log(Number(\"0xFF\")); // returns the base equivalent of this hex number\n",
    "console.log(Number(\"\")); // returns 0\n",
    "console.log(Number(\"   \")); // returns 0\n",
    "console.log(Number(\"abc123\")); // returns NaN\n",
    "console.log(Number(\"123abc\")); // returns NaN\n",
    "console.log(Number(\"Infinity\")); // returns Infinity\n",
    "console.log(Number(\"-Infinity\")); // returns -Infinity \n",
    "console.log(Number(\"  -12.34  \")); // returns -12.34\n",
    "console.log(+true); // returns 1\n",
    "console.log(false + +true); // returns false + 1 -> 0 + 1 -> 1"
   ]
  },
  {
   "cell_type": "markdown",
   "metadata": {},
   "source": [
    "## Boolean Conversion\n",
    "\n",
    "Boolean type conversions occur in logical operations implicitly, or when explicitly casted using ```Boolean(value)```. \n",
    "\n",
    "The following are the rules for Boolean conversion:\n",
    "- ```0```, ```-0```, ```null```, ```undefined```, ```NaN```, ```\"\"``` -> ```false```.\n",
    "- Any other value -> ```true```.\n",
    "\n",
    "Note: Interestingly, in numeric conversion, ```\"\"``` and ```\" \"``` are considered the same, and will both return 0. However, in Boolean conversion, they differ as the latter has a space character, whereas the former does not. It's is explicit that there be no special characters within a string for a string to be considered as false during Boolean type conversion. \n",
    "\n",
    "White space trimming, unlike numeric conversion, is not performed as at the end of the day, only a completely empty string (as aforementioned) is counted as falsy."
   ]
  },
  {
   "cell_type": "code",
   "execution_count": 53,
   "metadata": {},
   "outputs": [
    {
     "name": "stdout",
     "output_type": "stream",
     "text": [
      "true\n",
      "false\n",
      "true\n",
      "false\n",
      "true\n",
      "true\n",
      "false\n",
      "false\n",
      "false\n",
      "true\n"
     ]
    }
   ],
   "source": [
    "console.log(Boolean(1)); // return true\n",
    "console.log(Boolean(0)); // return false\n",
    "console.log(Boolean(\"hello\")); // return true\n",
    "console.log(Boolean(\"\")); // return false\n",
    "console.log(Boolean(\"0\")); // return true\n",
    "console.log(Boolean(\" \")); // return true (this is not an empty string, there is a character)\n",
    "console.log(Boolean(null)); // return false\n",
    "console.log(Boolean(undefined)); // return false\n",
    "console.log(Boolean(NaN)); // return false\n",
    "console.log(Boolean(-1)); // return true"
   ]
  },
  {
   "cell_type": "markdown",
   "metadata": {},
   "source": [
    "## Type Coercion"
   ]
  },
  {
   "cell_type": "markdown",
   "metadata": {},
   "source": [
    "### String Coercion\n",
    "\n",
    "When a string is concatenated using ```+```, the other value is coerced to a string.\n",
    "\n",
    "However, recall in a previous chapter, ```NaN``` is considered sticky. So, what happens here? The rules still apply, even with a concatenation (a fancy way of saying adding two or more things together), a string is returned with the ```NaN``` concatenated to it."
   ]
  },
  {
   "cell_type": "code",
   "execution_count": 54,
   "metadata": {},
   "outputs": [
    {
     "name": "stdout",
     "output_type": "stream",
     "text": [
      "23\n",
      "NaN3\n",
      "NaNNaN\n"
     ]
    }
   ],
   "source": [
    "console.log(\"2\" + 3); // returns 23\n",
    "console.log(\"NaN\" + 3); // returns NaN3\n",
    "console.log(\"NaN\" + NaN); // returns NaNNaN"
   ]
  },
  {
   "cell_type": "markdown",
   "metadata": {},
   "source": [
    "### Numeric Coercion\n",
    "\n",
    "Recall from above, all non-additive operations will yield coercion to numbers.\n",
    "\n",
    "We must check the order of [precedence for operation](https://developer.mozilla.org/en-US/docs/Web/JavaScript/Reference/Operators/Operator_precedence#table) (covered later on).\n",
    "\n",
    "Multiplication and division hold a higher precedence than addition and subtraction."
   ]
  },
  {
   "cell_type": "code",
   "execution_count": null,
   "metadata": {},
   "outputs": [
    {
     "name": "stdout",
     "output_type": "stream",
     "text": [
      "6\n",
      "Infinity\n",
      "21\n",
      "11\n",
      "103\n",
      "NaN\n",
      "102\n",
      "104\n"
     ]
    }
   ],
   "source": [
    "console.log( \"6\" / true ); // will return 6\n",
    "console.log( \"6 \" / false ); // will return Infinity\n",
    "console.log( (\"6\" + 3) / 3); // will return 21 (\"6\" + 3 = \"63\" / 3 = 21) \n",
    "console.log(\"10\" - \"5\" + \"3\" * \"2\"); // (10 - 5 + NUM6) -> (NUM5 + NUM6) -> 11\n",
    "console.log(\"10\" / true + \"5\" * false + \"3\" - null); // (10 + \"5\" * false + \"3\" - null) -> (10 + \"3\" - null) -> 103\n",
    "console.log(\"10\" + true - \"5\" * \"2\" + undefined); // (\"10\" + true - 10 + undefined) -> NaN\n",
    "console.log(\"10\" / \"2\" + \"5\" * \"3\" - \"10\" + \"2\"); // (5 + 15 - \"10\" + \"2\") -> 102\n",
    "console.log(\"10\" + \"5\" - \"3\" * \"2\" + \"10\" / \"2\"); // \"10\" + \"5\" - NUM6 + NUM5 -> \"105\" - NUM6 + NUM5 -> 104\n"
   ]
  },
  {
   "cell_type": "markdown",
   "metadata": {},
   "source": [
    "### Boolean Coercion\n",
    "\n",
    "Within block statements, such as ```if```, ```while```, or a logical coercion ```!!```, values are always coerced to booleans.\n",
    "\n",
    "Note: Do not get ```!!``` confused with ```!```. ```!``` handles logical NOT operations, i.e. the negation.\n",
    "\n",
    "For example, recall that any numeric value not equal to ```0```, or ```NaN``` is considered ```true```. In this case, if you logically coerce ```!!5```, ```true``` is returned. On the other hand, ```!5``` returns ```false``` as it is already defined that ```5``` is ```true```, and its negation is ```false```. "
   ]
  },
  {
   "cell_type": "code",
   "execution_count": 59,
   "metadata": {},
   "outputs": [
    {
     "name": "stdout",
     "output_type": "stream",
     "text": [
      "true\n",
      "5\n",
      "true\n"
     ]
    }
   ],
   "source": [
    "if (\" \") {\n",
    "    // \" \" is coerced to true\n",
    "    console.log(true);\n",
    "}\n",
    "\n",
    "// there is also a coercion that we can do using !\n",
    "\n",
    "console.log(5); // return number 5\n",
    "console.log(!!5); // return true"
   ]
  },
  {
   "cell_type": "markdown",
   "metadata": {},
   "source": [
    "## Some Extra Conversion Practice\n",
    "\n",
    "The following is from [javascript.info](https://javascript.info/operators#numeric-conversion-unary):"
   ]
  },
  {
   "cell_type": "code",
   "execution_count": 61,
   "metadata": {},
   "outputs": [
    {
     "name": "stdout",
     "output_type": "stream",
     "text": [
      "10\n",
      "-1\n",
      "1\n",
      "2\n",
      "6\n",
      "9px\n",
      "$45\n",
      "2\n",
      "NaN\n",
      "  -9  5\n",
      "-14\n",
      "1\n",
      "NaN\n",
      "-2\n"
     ]
    }
   ],
   "source": [
    "console.log(\"\" + 1 + 0); // 1\n",
    "console.log(\"\" - 1 + 0); // -1\n",
    "console.log(true + false); // 1\n",
    "console.log(6 / \"3\"); // 2\n",
    "console.log(\"2\" * \"3\"); // 6\n",
    "console.log(4 + 5 + \"px\"); // 9px\n",
    "console.log(\"$\" + 4 + 5); // $45\n",
    "console.log(\"4\" - 2); // 2\n",
    "console.log(\"4px\" - 2); // NaN\n",
    "console.log(\"  -9  \" + 5); //   -9  5\n",
    "console.log(\"  -9  \" - 5); // -14\n",
    "console.log(null + 1); // 1\n",
    "console.log(undefined + 1); // NaN\n",
    "console.log(\" \\t \\n\" - 2); // -2\n"
   ]
  },
  {
   "cell_type": "markdown",
   "metadata": {},
   "source": [
    "## References"
   ]
  }
 ],
 "metadata": {
  "kernelspec": {
   "display_name": "Deno",
   "language": "typescript",
   "name": "deno"
  },
  "language_info": {
   "codemirror_mode": "typescript",
   "file_extension": ".ts",
   "mimetype": "text/x.typescript",
   "name": "typescript",
   "nbconvert_exporter": "script",
   "pygments_lexer": "typescript",
   "version": "5.6.2"
  }
 },
 "nbformat": 4,
 "nbformat_minor": 2
}
