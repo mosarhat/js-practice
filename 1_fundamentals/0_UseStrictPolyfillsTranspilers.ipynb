{
 "cells": [
  {
   "cell_type": "markdown",
   "metadata": {},
   "source": [
    "# Strict Mode, Polyfills, and Transpilers"
   ]
  },
  {
   "cell_type": "markdown",
   "metadata": {},
   "source": [
    "## Strict Mode\n",
    "\n",
    "**Sloppy Mode:** Non-strict mode. In this mode, JS is more lenient."
   ]
  },
  {
   "cell_type": "code",
   "execution_count": 1,
   "metadata": {},
   "outputs": [
    {
     "name": "stdout",
     "output_type": "stream",
     "text": [
      "0\n"
     ]
    }
   ],
   "source": [
    "// There is no restrictions. \n",
    "let user = 0;\n",
    "\n",
    "console.log(user)"
   ]
  },
  {
   "cell_type": "markdown",
   "metadata": {},
   "source": [
    "\n",
    "**Strict Mode:** Within strict mode, a restricted variant of JS is used. This allows for safer, more optimized code to be written.\n",
    "\n",
    "There are multiple ways ```use strict``` can be used:\n",
    "- Entire scripts (done at the top of each script).\n",
    "- Functions (done at the top of each function). Recall, if ```use strict``` wasn't used in the global scope, then it is restricted to just the lexical scope of the function.\n",
    "- For modules and classes, the use of ```use strict``` is not needed. This is because ES6 (standard version of JS) modules, and Node.js enable it by default.\n",
    "\n",
    "The following is an example of ```use strict``` being used for the entirety of the codebase:"
   ]
  },
  {
   "cell_type": "code",
   "execution_count": 5,
   "metadata": {},
   "outputs": [
    {
     "ename": "ReferenceError",
     "evalue": "Cannot access 'y' before initialization",
     "output_type": "error",
     "traceback": [
      "Stack trace:",
      "ReferenceError: Cannot access 'y' before initialization",
      "    at <anonymous>:2:3"
     ]
    }
   ],
   "source": [
    "'use strict';\n",
    "\n",
    "y = 5; // ReferenceError: y is not defined"
   ]
  },
  {
   "cell_type": "code",
   "execution_count": 6,
   "metadata": {},
   "outputs": [
    {
     "name": "stdout",
     "output_type": "stream",
     "text": [
      "5\n"
     ]
    }
   ],
   "source": [
    "let y = 5; // should work\n",
    "console.log(y)"
   ]
  },
  {
   "cell_type": "markdown",
   "metadata": {},
   "source": [
    "Recall, ```use strict``` is restricted to being within the lexical scope of the function it is invoked within. The following is an example of ```use strict``` for an individual function:"
   ]
  },
  {
   "cell_type": "code",
   "execution_count": 7,
   "metadata": {},
   "outputs": [
    {
     "name": "stdout",
     "output_type": "stream",
     "text": [
      "15\n"
     ]
    }
   ],
   "source": [
    "function sum() {\n",
    "    'use strict';\n",
    "    let a = 10;\n",
    "    let b = 5;\n",
    "    return a + b;\n",
    "}\n",
    "\n",
    "console.log(sum())"
   ]
  },
  {
   "cell_type": "markdown",
   "metadata": {},
   "source": [
    "The following is an example of how ```use strict``` being set up by default within classes and modules will throw an error:"
   ]
  },
  {
   "cell_type": "code",
   "execution_count": 20,
   "metadata": {},
   "outputs": [
    {
     "name": "stdout",
     "output_type": "stream",
     "text": [
      "PersonalBank { name: \"TD\", institutionNumber: 123, balance: 127.5 }\n"
     ]
    }
   ],
   "source": [
    "class PersonalBank {\n",
    "    constructor() {\n",
    "        this.name;\n",
    "        this.transitNumber;\n",
    "        this.institutionNumber;\n",
    "        this.balance;\n",
    "    }\n",
    "    getBankName() {\n",
    "        return this.name;\n",
    "    }\n",
    "    getBankTransitNumber() {\n",
    "        return this.headquarters;\n",
    "    }   \n",
    "    getInstitutionNumber() {\n",
    "        return this.institutionNumber;\n",
    "    }\n",
    "    getBalance() {\n",
    "        return this.balance;\n",
    "    }\n",
    "    setBankName(name) { \n",
    "        this.name = name;\n",
    "    }\n",
    "    setBankHeadquarters(headquarters) {\n",
    "        this.headquarters = headquarters;\n",
    "    }\n",
    "    setInstitutionNumber(institutionNumber) {\n",
    "        this.institutionNumber = institutionNumber;\n",
    "    }\n",
    "    setBalance(initialBalance) {\n",
    "        this.balance = initialBalance;\n",
    "    }\n",
    "    depositBalance(amount) {\n",
    "        // if the variable depositMultiplier is not defined, it will throw an error\n",
    "        let depositMultiplier = 0.02; // ReferenceError: depositMultiplier is not defined\n",
    "        this.balance += amount*depositMultiplier;\n",
    "    }\n",
    "}\n",
    "\n",
    "let TD = new PersonalBank();\n",
    "TD.setBankName(\"TD\");\n",
    "TD.setInstitutionNumber(123);\n",
    "TD.setBalance(125);\n",
    "TD.depositBalance(125);\n",
    "console.log(TD) // should return an object PersonalBank { name: \"TD\", institutionNumber: 123, balance: 127.5 }"
   ]
  },
  {
   "cell_type": "markdown",
   "metadata": {},
   "source": [
    "Assigning a value to a variable that is read-only is not allowed in strict mode (recall from the code above that ```use strict``` is already stated)."
   ]
  },
  {
   "cell_type": "code",
   "execution_count": 22,
   "metadata": {},
   "outputs": [
    {
     "ename": "TypeError",
     "evalue": "Cannot assign to read only property 'NaN' of object '#<Window>'",
     "output_type": "error",
     "traceback": [
      "Stack trace:",
      "TypeError: Cannot assign to read only property 'NaN' of object '#<Window>'",
      "    at <anonymous>:1:26"
     ]
    }
   ],
   "source": [
    "NaN = 5; // Cannot assign to read only property 'NaN'"
   ]
  },
  {
   "cell_type": "markdown",
   "metadata": {},
   "source": [
    "Another cool little tidbit is that multiple arguments are not allowed for functions in strict mode."
   ]
  },
  {
   "cell_type": "code",
   "execution_count": 24,
   "metadata": {},
   "outputs": [
    {
     "ename": "SyntaxError",
     "evalue": "Duplicate parameter name not allowed in this context",
     "output_type": "error",
     "traceback": [
      "Stack trace:",
      "SyntaxError: Duplicate parameter name not allowed in this context"
     ]
    }
   ],
   "source": [
    "function add(a, a) {\\\n",
    "    // Duplicate parameter name not allowed in this context\n",
    "    return a + a; \n",
    "}\n",
    "\n",
    "console.log(add(1,1))"
   ]
  },
  {
   "cell_type": "markdown",
   "metadata": {},
   "source": [
    "## Polyfills\n",
    "\n",
    "To understand polyfills, we need to understand the concept of shims. \n",
    "\n",
    "**Shim:** Acts as a compatibility layer between an environment and the API.\n",
    "\n",
    "The following flow explains the nature of a shim:\n",
    "\n",
    "Shim -> API -> Does Something -> Codebase\n",
    "\n",
    "So, simply put, the shim uses an API that does something to the codebase. Shims for old APIs come out when the behavior changes.\n",
    "\n",
    "**Polyfill:** A subset of shims. Mimics a modern API in older browsers, and allows that API as if it were natively supported. Works silently in the background, and requires no changes to the codebase.\n",
    "\n",
    "The following flow explains the nature of a shim:\n",
    "\n",
    "Shim -> API -> Polyfill -> Codebase\n",
    "\n",
    "So, simply put, a polyfill is a type of shim where tht something is implementing an API in browsers that don't natively support it.\n",
    "\n",
    "According to Up and Going by Kyle Simpson, polyfills were an invented term by Remy Sharp. He notes that not all features can be polyfilled. To make sure that your polyfill is adhering to specifications as strictly as possible, you can use [*ES5-Shim*](https://github.com/es-shims/es5-shim), and [*ES6-Shim*](https://github.com/es-shims/es6-shim?tab=readme-ov-file).   \n"
   ]
  },
  {
   "cell_type": "markdown",
   "metadata": {},
   "source": [
    "## Transpiler\n",
    "\n",
    "**Transpiler:** A tool that converts code written in a newer syntax into code that can be used in older environments.\n",
    "\n",
    "A transpiler transforms + compiles the code.\n",
    "\n",
    "Note, there is absolutely no way to polyfill newer syntax.\n",
    "\n",
    "Transpilers are used for various reasons:\n",
    "- The use of newer syntax allows for better readability and maintainability. \n",
    "- If you use newer syntax in unison with a compiler, your newer syntax applies to newer browsers, which allows for better optimization, while also being able to serve that code to older browsers.\n",
    "\n",
    "Some transpilers:\n",
    "- [Babel](https://babeljs.io/) (transpiles ES6+ into ES5, also React uses Babel to allow you to use JSX with ES6)\n",
    "- [Traceur](https://github.com/google/traceur-compiler) (transpiles everything after ES6 into ES5)"
   ]
  },
  {
   "cell_type": "markdown",
   "metadata": {},
   "source": [
    "## Resources\n",
    "\n",
    "### Strict Mode\n",
    "\n",
    "- MDN - https://developer.mozilla.org/en-US/docs/Web/JavaScript/Reference/Strict_mode\n",
    "\n",
    "### Polyfills\n",
    "\n",
    "- MDN - https://developer.mozilla.org/en-US/docs/Glossary/Polyfill\n",
    "- G4G - https://www.geeksforgeeks.org/what-is-the-difference-between-a-shim-and-a-polyfill/\n",
    "- Up and Going by Kyle Simpson (p.55-56)\n",
    "\n",
    "### Transpilers\n",
    "\n",
    "- MDN - https://developer.mozilla.org/en-US/docs/Glossary/Transpiling\n",
    "- G4G - https://www.geeksforgeeks.org/javascript-polyfilling-transpiling/\n",
    "- Up and Going by Kyle Simpson (p.57-58)"
   ]
  }
 ],
 "metadata": {
  "kernelspec": {
   "display_name": "Deno",
   "language": "typescript",
   "name": "deno"
  },
  "language_info": {
   "codemirror_mode": "typescript",
   "file_extension": ".ts",
   "mimetype": "text/x.typescript",
   "name": "typescript",
   "nbconvert_exporter": "script",
   "pygments_lexer": "typescript",
   "version": "5.6.2"
  }
 },
 "nbformat": 4,
 "nbformat_minor": 2
}
