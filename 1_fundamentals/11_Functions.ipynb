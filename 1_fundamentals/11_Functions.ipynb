{
 "cells": [
  {
   "cell_type": "markdown",
   "metadata": {},
   "source": [
    "# Functions\n",
    "\n",
    "The following are the various different way functions can be evoked:\n",
    "- Function declarations.\n",
    "- Function expression.\n",
    "- Anonymous functions (valid with callbacks, and IIFE) [3].\n",
    "- Arrow functions.\n",
    "- IIFE.\n",
    "- Callback functions.\n",
    "\n",
    "Within a function, parameters are what's passed into the function, and arguments are what are passed into the function when it is called. If no return value is included within a function, the function returns ```undefined```."
   ]
  },
  {
   "cell_type": "markdown",
   "metadata": {},
   "source": [
    "## Parameters and Default Values\n",
    "\n",
    "Recall, functions take in arguments, but parameters are what is predefined to be passed into the function.\n",
    "\n",
    "For instance:\n",
    "\n",
    "```js\n",
    "function absAdd(numOne, numTwo) {\n",
    "    if (numOne > numTwo) {\n",
    "        return numOne - numTwo;\n",
    "    } else {\n",
    "        return numTwo - numOne;\n",
    "    }\n",
    "}\n",
    "\n",
    "console.log(absAdd(1,2));\n",
    "```\n",
    "\n",
    "In the code above, ```numOne``` and ```numTwo``` are parameters. ```1``` and ```2``` are arguments passed into the function.\n",
    "\n",
    "In JavaScript, we can also set parameters to default values. Typically, if a value is not passed into a function as an argument, the subsequent parameter takes in ```undefined``` automatically."
   ]
  },
  {
   "cell_type": "code",
   "execution_count": null,
   "metadata": {},
   "outputs": [],
   "source": [
    "function concatString(a, b) {\n",
    "    return String(a) + String(b);\n",
    "}\n",
    "\n",
    "console.log(concatString()); // returns undefinedundefined"
   ]
  },
  {
   "cell_type": "markdown",
   "metadata": {},
   "source": [
    "We can also automatically set default values for the parameters with the assignment operator, ```=```. "
   ]
  },
  {
   "cell_type": "code",
   "execution_count": null,
   "metadata": {},
   "outputs": [],
   "source": [
    "function concatStringOne(a=1, b=\"a\") {\n",
    "    return String(a) + String(b);\n",
    "}\n",
    "\n",
    "console.log(concatStringOne()); // returns 1a"
   ]
  },
  {
   "cell_type": "markdown",
   "metadata": {},
   "source": [
    "## Function Declarations\n",
    "\n",
    "```\n",
    "function name(parameter1, parameter2, ... parameterN) {\n",
    " // body\n",
    "}\n",
    "```"
   ]
  },
  {
   "cell_type": "code",
   "execution_count": null,
   "metadata": {},
   "outputs": [],
   "source": [
    "function subtraction(a, b) {\n",
    "    if ((typeof a === \"number\") || (typeof b === \"number\")) {\n",
    "        return \"Bruh!\";\n",
    "    } else {\n",
    "        return a - b;\n",
    "    }\n",
    "}\n",
    "\n",
    "console.log(subtraction(\"4\",3));"
   ]
  },
  {
   "cell_type": "markdown",
   "metadata": {},
   "source": [
    "## Scope of Variable Declarations With Functions\n",
    "\n",
    "Recall, ```var``` is function scoped. ```let```, and ```const``` are block-scoped. Essentially, changing the value of a ```var``` declared variable inside a function where ```var``` is declared outside still affects the variable, whereas with ```let``` and ```const``` declarations, this is not the case.\n",
    "\n",
    "The following is a really good example:"
   ]
  },
  {
   "cell_type": "code",
   "execution_count": null,
   "metadata": {},
   "outputs": [],
   "source": [
    "var x = 5;\n",
    "\n",
    "function addSpecial(a) {\n",
    "    var y = 0;\n",
    "    return a + (x = x + 1) + y;\n",
    "}\n",
    "\n",
    "console.log(addSpecial(5));\n",
    "console.log(x); // 6\n",
    "console.log(y); // reference error"
   ]
  },
  {
   "cell_type": "markdown",
   "metadata": {},
   "source": [
    "```var``` cannot be accessed outside of a function if it is declared within a function, yet it can be evoked within a function if it is declared in the global scope.\n",
    "\n",
    "The following is an example using ```let```:"
   ]
  },
  {
   "cell_type": "code",
   "execution_count": null,
   "metadata": {},
   "outputs": [],
   "source": [
    "let d = 5;\n",
    "\n",
    "function multiply(a, b) {\n",
    "    let c = 2;\n",
    "    return a*b + c*(d = d + 5);\n",
    "}\n",
    "\n",
    "// console.log(c); // reference error\n",
    "console.log(d); // returns 5 (why is this not 10??) -> let does not leak to the global scope from within a function, or a block (nice, right?)\n",
    "console.log(multiply(5,3)); // returns 35"
   ]
  },
  {
   "cell_type": "markdown",
   "metadata": {},
   "source": [
    "Here, it's easy to notice that ```let``` does not leak into the global scope. This is very useful for maintaining clean code and preventing leakage within the global scope from within functions, and evidently, due to the nature of ```let```, blocks."
   ]
  },
  {
   "cell_type": "markdown",
   "metadata": {},
   "source": [
    "## Function Expressions\n",
    "\n",
    "Allows the creation of a new function assigned to a variable.\n",
    "\n",
    "```\n",
    "const funcName = function() {\n",
    "    // code executed\n",
    "};\n",
    "```"
   ]
  },
  {
   "cell_type": "code",
   "execution_count": null,
   "metadata": {},
   "outputs": [],
   "source": [
    "console.log(concat(2, \"3\")); // returns reference error\n",
    "\n",
    "let concat = function(a,b) {\n",
    "    return String(a) + String(b);\n",
    "  };\n",
    "  \n",
    "console.log(concat(2, \"3\")); // returns 23"
   ]
  },
  {
   "cell_type": "markdown",
   "metadata": {},
   "source": [
    "## Callback Functions\n",
    "\n",
    "With functions as a value, functions can be passed as arguments to other functions. We will use both function expressions, and declarations. \n",
    "\n",
    "Recall, functions can be assigned to variables; function expressions. Due to this ability to be assigned to a value, they can be passed in as an argument for another function being called assuming the return value of the former function fits within the bounds of what is acceptable for the latter.\n",
    "\n",
    "The following is a callback function using a function declaration:"
   ]
  },
  {
   "cell_type": "code",
   "execution_count": null,
   "metadata": {},
   "outputs": [],
   "source": [
    "// divide and conquer exponent function\n",
    "function exp(x, n) {\n",
    "    if (n == 0) {\n",
    "        return 1;\n",
    "    } else if (n == 1) {\n",
    "        return x;\n",
    "    } else{\n",
    "        if (n % 2 == 0) {\n",
    "            return exp(x, n/2) * exp(x, n/2); // divide, conquer, and merge\n",
    "        } else {\n",
    "            return x * exp(x, n-1); // divide, conquer, and merge\n",
    "        }\n",
    "        \n",
    "    }\n",
    "}\n",
    "\n",
    "function add(a, b) {\n",
    "    if ((typeof a != \"number\") || (typeof b != \"number\")) {\n",
    "        return \"Bruh!\";\n",
    "    }\n",
    "    return a + b;\n",
    "}\n",
    "\n",
    "console.log(add(5, exp(2,10))); // returns 1029"
   ]
  },
  {
   "cell_type": "markdown",
   "metadata": {},
   "source": [
    "The following is a callback function using a function expression:"
   ]
  },
  {
   "cell_type": "code",
   "execution_count": null,
   "metadata": {},
   "outputs": [],
   "source": [
    "let tap = function(a) {\n",
    "    return \"tap\" + a;\n",
    "}\n",
    "\n",
    "let rap = function(b) {\n",
    "    return \"rap\" * b;\n",
    "}\n",
    "\n",
    "JSON.stringify(tap(rap())); // returns taprap\n",
    "console.log(rap(tap(\"fine\"))); // returns NaN\n",
    "\n",
    "let rapTwo = function(b) {\n",
    "    return b(\"apple\");\n",
    "}\n",
    "\n",
    "console.log(rapTwo(\n",
    "    (a) => {\n",
    "        return a + \" ... gotcha!\";\n",
    "    }\n",
    "));"
   ]
  },
  {
   "cell_type": "markdown",
   "metadata": {},
   "source": [
    "## The Difference Between Function Declarations and Function Expressions\n",
    "\n",
    "Hoisting is a term that has been covered before. When JavaScript is interpreted, functions that are declared get hoisted to the top of the execution context; however, function expressions stay in place.\n",
    "\n",
    "It's important to note, with function expressions, the variable declaration does get hoisted. However, the function itself does not (similar to what happens to functions themselves)."
   ]
  },
  {
   "cell_type": "markdown",
   "metadata": {},
   "source": [
    "## Anonymous Functions\n",
    "\n",
    "Simply, an anonymous function does not have a name.\n",
    "\n",
    "The following are two ways to calls an anonymous function: \n",
    "\n",
    "```\n",
    "function() {\n",
    "    // function Body\n",
    "}\n",
    "```\n",
    "\n",
    "```\n",
    "( () => {\n",
    "    // function Body...\n",
    "} )();\n",
    "```\n",
    "\n",
    "Note: Function expressions utilize anonymous functions to return the function value to the declared variable."
   ]
  },
  {
   "cell_type": "code",
   "execution_count": null,
   "metadata": {},
   "outputs": [],
   "source": [
    "// first method (setting to FE)\n",
    "\n",
    "let tongue = function() {\n",
    "    return \"tongue\";\n",
    "}\n",
    "\n",
    "console.log(tongue());\n",
    "\n",
    "// the following is a self executing function (IIFEs discussed in next part)\n",
    "(function () {\n",
    "    console.log(\"run!\");\n",
    "})();\n",
    "\n",
    "// using anonymous function as parameters for other functions\n",
    "\n",
    "setTimeout(() => {\n",
    "    console.log(`Woah!`);\n",
    "}, 2000);"
   ]
  },
  {
   "cell_type": "markdown",
   "metadata": {},
   "source": [
    "## Arrow Functions\n",
    "\n",
    "Simplified approach to writing function expressions for simple functions that can be used once.\n",
    "\n",
    "### One-Line Arrow Functions\n",
    "\n",
    "Without curly brackets, a one-line arrow function has an expression on the right side that is evaluated and returned.\n",
    "\n",
    "```\n",
    "let val = () => console.log(\"Woohoo!\");\n",
    "```\n",
    "\n",
    "If there is a single parameter, the parentheses can be omitted.\n",
    "\n",
    "```\n",
    "let valNew = n => Math.floor(n / 2);\n",
    "```\n",
    "\n",
    "Within one-line arrow functions, the ```return``` is omitted.\n",
    "\n",
    "Note: Objects cannot be returned if they aren't wrapped around a bracket within the right-hand expression.\n",
    "\n",
    "```\n",
    "let valNew = val => ({prop: val});\n",
    "```"
   ]
  },
  {
   "cell_type": "code",
   "execution_count": null,
   "metadata": {},
   "outputs": [],
   "source": [
    "// the following is a function declaration\n",
    "\n",
    "// function hello() {\n",
    "//     console.log(\"hello!\");\n",
    "// }\n",
    "\n",
    "// hello();\n",
    "\n",
    "// the following is an FE\n",
    "\n",
    "// const hello = function() {\n",
    "//     console.log(\"hello\");\n",
    "// }\n",
    "\n",
    "const hello = () => console.log(\"Hello!\"); // this is a one-line arrow function\n",
    "\n",
    "hello();\n",
    "\n",
    "let valNew = n => Math.floor(n / 2);\n",
    "\n",
    "valNew(5);\n",
    "\n",
    "let objReturn = name => ({name: name});\n",
    "\n",
    "console.log(objReturn(\"bruh\"));"
   ]
  },
  {
   "cell_type": "markdown",
   "metadata": {},
   "source": [
    "### Multi-Line Arrows Functions\n",
    "\n",
    "Multi-line arrow function, with brackets, allow for multiple statements to be written within a function; and, unlike one-line arrow functions, they require a ```return``` statement.\n",
    "\n",
    "```\n",
    "let val = () => {\n",
    "    // code here\n",
    "};\n",
    "```"
   ]
  },
  {
   "cell_type": "code",
   "execution_count": null,
   "metadata": {},
   "outputs": [],
   "source": [
    "// sum function as arrow\n",
    "\n",
    "let sumArrow = (a, b) => {\n",
    "    return a + b;\n",
    "}\n",
    "\n",
    "console.log(sumArrow(2,3));"
   ]
  },
  {
   "cell_type": "markdown",
   "metadata": {},
   "source": [
    "## IIFE (Immediately Invoked Function Expression)\n",
    "\n",
    "A function called at the place of its creating is called an IIFE (Immediately Invoked Function Expression). If a function is not useful for later on, and is only needed for one use, these are utilized. \n",
    "\n",
    "The anonymous function must be wrapped with a parentheses which is called the **grouping operator**. \n"
   ]
  },
  {
   "cell_type": "code",
   "execution_count": null,
   "metadata": {},
   "outputs": [],
   "source": [
    "(function () {\n",
    "    console.log(\"Hi!\");\n",
    "})();\n",
    "\n",
    "(() => {\n",
    "    console.log(\"Woah!\");\n",
    "})();"
   ]
  },
  {
   "cell_type": "markdown",
   "metadata": {},
   "source": [
    "## Some Basic Closure\n",
    "\n",
    "In the *Advanced Function*, we'll go over closures in-depth, however, the following example is a basic introduction to how closures function, and currying:"
   ]
  },
  {
   "cell_type": "code",
   "execution_count": 16,
   "metadata": {},
   "outputs": [
    {
     "name": "stdout",
     "output_type": "stream",
     "text": [
      "6\n"
     ]
    }
   ],
   "source": [
    "let newSum = function(a) {\n",
    "    return function(b) {\n",
    "        return function(c) {\n",
    "            return a+b+c;\n",
    "        }\n",
    "    }\n",
    "};\n",
    "\n",
    "console.log(newSum(1)(2)(3));"
   ]
  },
  {
   "cell_type": "markdown",
   "metadata": {},
   "source": [
    "## References \n",
    "\n",
    "[1] https://medium.com/sessionstack-blog/how-javascript-works-the-different-ways-of-declaring-a-function-5-best-practices-8a0324c06fe2\n",
    "\n",
    "[2] https://www.geeksforgeeks.org/different-ways-of-writing-functions-in-javascipt/\n",
    "\n",
    "[3] https://wesbos.com/javascript/02-functions/different-ways-to-declare-functions\n",
    "\n",
    "[4] https://cmorinan.medium.com/passing-functions-as-arguments-in-javascript-tips-and-pitfalls-d29bbd4522a9#:~:text=Functions%20in%20JavaScript%20are%20'first,function%20is%20ready%20for%20them.\n",
    "\n",
    "[5] https://stackoverflow.com/questions/13286233/pass-a-javascript-function-as-parameter\n",
    "\n",
    "[6] https://www.reddit.com/r/learnjavascript/comments/yz869i/please_help_me_understand_callback_functions/\n",
    "\n",
    "[7] https://www.geeksforgeeks.org/javascript-anonymous-functions/\n",
    "\n",
    "[8] https://hyperskill.org/learn/step/26924\n",
    "\n",
    "[9] https://developer.mozilla.org/en-US/docs/Glossary/IIFE"
   ]
  }
 ],
 "metadata": {
  "kernelspec": {
   "display_name": "Deno",
   "language": "typescript",
   "name": "deno"
  },
  "language_info": {
   "codemirror_mode": "typescript",
   "file_extension": ".ts",
   "mimetype": "text/x.typescript",
   "name": "typescript",
   "nbconvert_exporter": "script",
   "pygments_lexer": "typescript",
   "version": "5.6.2"
  }
 },
 "nbformat": 4,
 "nbformat_minor": 2
}
