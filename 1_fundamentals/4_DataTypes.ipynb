{
 "cells": [
  {
   "cell_type": "markdown",
   "metadata": {},
   "source": [
    "# Data Types for Variables\n",
    "\n",
    "JavaScript has 8 data types, 7 of which are considered primitive, and the last being an object (which is considered non-primitive).\n",
    "\n",
    "Types in JavaScript are DYNAMIC. This means that the same variable can be used to hold different data types. \n",
    "\n",
    "The following is an example:"
   ]
  },
  {
   "cell_type": "code",
   "execution_count": 7,
   "metadata": {},
   "outputs": [
    {
     "name": "stdout",
     "output_type": "stream",
     "text": [
      "5\n",
      "name\n",
      "true\n"
     ]
    }
   ],
   "source": [
    "// Step 1: Declaration (TDZ starts)\n",
    "let variableOne; // Memory allocated, but not initialized\n",
    "\n",
    "// Step 2: Initialization (TDZ ends)\n",
    "variableOne = 5; // TDZ ends, variable is now accessible\n",
    "\n",
    "// Step 3: Logging\n",
    "console.log(variableOne); // Output: 5\n",
    "\n",
    "// Step 4: Reassignment\n",
    "variableOne = \"name\"; // Type changes to string\n",
    "console.log(variableOne); // Output: name\n",
    "\n",
    "// Step 5: Reassignment\n",
    "variableOne = true; // Type changes to boolean\n",
    "console.log(variableOne); // Output: true"
   ]
  },
  {
   "cell_type": "code",
   "execution_count": null,
   "metadata": {},
   "outputs": [
    {
     "name": "stdout",
     "output_type": "stream",
     "text": [
      "undefined\n",
      "5\n",
      "name\n",
      "true\n"
     ]
    }
   ],
   "source": [
    "// Step 1\n",
    "console.log(variableTwo); // there is no TDZ, so there is hoisting\n",
    "var variableTwo; // Memory allocated, but not initialized\n",
    "\n",
    "variableOne = 5;\n",
    "\n",
    "// Step 3: Logging\n",
    "console.log(variableOne); // Output: 5\n",
    "\n",
    "// Step 4: Reassignment\n",
    "variableOne = \"name\"; // Type changes to string\n",
    "console.log(variableOne); // Output: name\n",
    "\n",
    "// Step 5: Reassignment\n",
    "variableOne = true; // Type changes to boolean\n",
    "console.log(variableOne); // Output: true"
   ]
  },
  {
   "cell_type": "markdown",
   "metadata": {},
   "source": [
    "## Primitive"
   ]
  },
  {
   "cell_type": "markdown",
   "metadata": {},
   "source": [
    "### Number\n",
    "\n",
    "Represents integer and floating point numbers.\n",
    "\n",
    "We have some special numeric values: ```Infinity```, ```-Infinity```, and ```NaN```.\n",
    "\n",
    "Note: ```NaN``` is sticky. This means that when we use ```NaN``` with mathematical operations, it returns ```NaN```.\n",
    "\n",
    "Because of these special numeric values, all mathematical operations are considered to be safe."
   ]
  },
  {
   "cell_type": "code",
   "execution_count": 21,
   "metadata": {},
   "outputs": [
    {
     "name": "stdout",
     "output_type": "stream",
     "text": [
      "500\n",
      "true\n",
      "true\n",
      "Infinity\n",
      "-Infinity\n",
      "Infinity\n",
      "NaN\n",
      "NaN\n"
     ]
    }
   ],
   "source": [
    "let n = 500;\n",
    "let x = 5.4594;\n",
    "\n",
    "console.log(n);\n",
    "\n",
    "console.log(typeof(n) == \"number\"); // number is the same value as number, returns true\n",
    "console.log(typeof(x) == \"number\"); // same as above\n",
    "\n",
    "console.log(1 / 0); // as denominator decreases, the number gets bigger, so it returns Infinity\n",
    "console.log((-1) / 0); // returns -Infinity\n",
    "console.log(Infinity); // evoked manually\n",
    "\n",
    "console.log(\"string\" / 2); // will return NaN\n",
    "console.log(NaN + 1); // returns NaN\n"
   ]
  },
  {
   "cell_type": "markdown",
   "metadata": {},
   "source": [
    "### BigInt"
   ]
  },
  {
   "cell_type": "markdown",
   "metadata": {},
   "source": [
    "### String"
   ]
  },
  {
   "cell_type": "markdown",
   "metadata": {},
   "source": [
    "### Boolean"
   ]
  },
  {
   "cell_type": "markdown",
   "metadata": {},
   "source": [
    "### Null"
   ]
  },
  {
   "cell_type": "markdown",
   "metadata": {},
   "source": [
    "### Undefined"
   ]
  },
  {
   "cell_type": "markdown",
   "metadata": {},
   "source": [
    "### Symbol"
   ]
  },
  {
   "cell_type": "markdown",
   "metadata": {},
   "source": [
    "## Non-Primitive Data"
   ]
  },
  {
   "cell_type": "markdown",
   "metadata": {},
   "source": [
    "### Object\n",
    "\n",
    "Built in objects and user defined objects.\n"
   ]
  },
  {
   "cell_type": "markdown",
   "metadata": {},
   "source": [
    "## References\n",
    "\n",
    "[1] https://www.w3schools.com/js/js_datatypes.asp\n"
   ]
  }
 ],
 "metadata": {
  "kernelspec": {
   "display_name": "Deno",
   "language": "typescript",
   "name": "deno"
  },
  "language_info": {
   "codemirror_mode": "typescript",
   "file_extension": ".ts",
   "mimetype": "text/x.typescript",
   "name": "typescript",
   "nbconvert_exporter": "script",
   "pygments_lexer": "typescript",
   "version": "5.6.2"
  }
 },
 "nbformat": 4,
 "nbformat_minor": 2
}
