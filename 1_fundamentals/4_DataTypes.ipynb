{
 "cells": [
  {
   "cell_type": "markdown",
   "metadata": {},
   "source": [
    "# Data Types for Variables\n",
    "\n",
    "JavaScript has 8 data types, 7 of which are considered primitive, and the last being an object (which is considered non-primitive).\n",
    "\n",
    "Primitive data is a data type that is NOT an object, and that carries NO methods or properties. \n",
    "\n",
    "Types in JavaScript are dynamically typed. This means that the same variable can be used to hold different data types. \n",
    "\n",
    "The following is an example:"
   ]
  },
  {
   "cell_type": "code",
   "execution_count": 32,
   "metadata": {},
   "outputs": [
    {
     "name": "stdout",
     "output_type": "stream",
     "text": [
      "5\n",
      "name\n",
      "true\n"
     ]
    }
   ],
   "source": [
    "// Step 1: Declaration (TDZ starts)\n",
    "let variableOne; // Memory allocated, but not initialized\n",
    "\n",
    "// Step 2: Initialization (TDZ ends)\n",
    "variableOne = 5; // TDZ ends, variable is now accessible\n",
    "\n",
    "// Step 3: Logging\n",
    "console.log(variableOne); // Output: 5\n",
    "\n",
    "// Step 4: Reassignment\n",
    "variableOne = \"name\"; // Type changes to string\n",
    "console.log(variableOne); // Output: name\n",
    "\n",
    "// Step 5: Reassignment\n",
    "variableOne = true; // Type changes to boolean\n",
    "console.log(variableOne); // Output: true"
   ]
  },
  {
   "cell_type": "code",
   "execution_count": 33,
   "metadata": {},
   "outputs": [
    {
     "name": "stdout",
     "output_type": "stream",
     "text": [
      "undefined\n",
      "5\n",
      "name\n",
      "true\n"
     ]
    }
   ],
   "source": [
    "// Step 1\n",
    "console.log(variableTwo); // there is no TDZ, so there is hoisting\n",
    "var variableTwo; // Memory allocated, but not initialized\n",
    "\n",
    "variableOne = 5;\n",
    "\n",
    "// Step 3: Logging\n",
    "console.log(variableOne); // Output: 5\n",
    "\n",
    "// Step 4: Reassignment\n",
    "variableOne = \"name\"; // Type changes to string\n",
    "console.log(variableOne); // Output: name\n",
    "\n",
    "// Step 5: Reassignment\n",
    "variableOne = true; // Type changes to boolean\n",
    "console.log(variableOne); // Output: true"
   ]
  },
  {
   "cell_type": "markdown",
   "metadata": {},
   "source": [
    "## Primitive vs Object Wrapper (Special Note, but Important)\n",
    "\n",
    "Within JavaScript, recall that there are 7 primitive data types. Primitives are not objects, and this can present some issues as there are some really cool object methods that can wrap around primitives that are found within object wrappers.\n",
    "\n",
    "### Conventional Means of Evocation \n",
    "\n",
    "Typically, there are two ways that we can define a primitive value:\n",
    "\n",
    "```js\n",
    "let truthy = true;\n",
    "let truthyNew = Boolean(1);\n",
    "```\n",
    "\n",
    "When we want to create a object wrapper of a primitive value (in this case Boolean), we would use the following:\n",
    "\n",
    "```js\n",
    "let truthyCool = new Boolean(truthy); // object wrapper around truthy\n",
    "```\n",
    "\n"
   ]
  },
  {
   "cell_type": "code",
   "execution_count": 39,
   "metadata": {},
   "outputs": [
    {
     "name": "stdout",
     "output_type": "stream",
     "text": [
      "boolean\n",
      "object\n"
     ]
    }
   ],
   "source": [
    "let truthy = true;\n",
    "let truthyCool = new Boolean(truthy);\n",
    "\n",
    "console.log(typeof(truthy)); // should return \"boolean\"\n",
    "console.log(typeof(truthyCool)); // should return an object"
   ]
  },
  {
   "cell_type": "markdown",
   "metadata": {},
   "source": [
    "We typically use object wrappers to introduce new methods that can be useful with certain data types. It's important to note, there's a crucial concept within object wrapping that is called *autoboxing* [2]."
   ]
  },
  {
   "cell_type": "code",
   "execution_count": 51,
   "metadata": {},
   "outputs": [
    {
     "name": "stdout",
     "output_type": "stream",
     "text": [
      "STR\n",
      "STR\n"
     ]
    }
   ],
   "source": [
    "let str = \"str\";\n",
    "let strNew = new String(str);\n",
    "console.log(str.toUpperCase())\n",
    "console.log(strNew.toUpperCase())"
   ]
  },
  {
   "cell_type": "markdown",
   "metadata": {},
   "source": [
    "## Primitive"
   ]
  },
  {
   "cell_type": "markdown",
   "metadata": {},
   "source": [
    "### Number\n",
    "\n",
    "Represents integer and floating point numbers.\n",
    "\n",
    "Large numbers can be captured with a scientific exponent, ```e```.\n",
    "\n",
    "JavaScript ```Number``` is a 64-bit floating point that follows the IEEE 754 standard. \n",
    "\n",
    "The following is a formula that represents the 64-bit floating point:\n",
    "\n",
    "<div align=\"center\">\n",
    "    <img src=\"assets/2/1.jpg\"></img>\n",
    "    <figcaption>IEEE 754 64-bit Floating Point Number Formula</figcaption>\n",
    "</div>\n",
    "\n",
    "The following is a visual representations of the floating point figure:\n",
    "\n",
    "<div align=\"center\">\n",
    "    <img src=\"assets/2/2.jpg\"></img>\n",
    "    <figcaption>Bit Representation of 54-bit IEEE 754 Floating Point</figcaption>\n",
    "</div>\n",
    "\n",
    "The sign, S, dictates the sign of the number. If the number is positive, the sign will be 0. If the number is negative, the sign will be 1 [3].\n",
    "\n",
    "The exponent, E, is in base 2. This field contains 11 bits, and is biased by 1023 [3]. \n",
    "\n",
    "The fractional part (also known at the mantissa), F, is also in base 2. This field contains 52 bits [3]."
   ]
  },
  {
   "cell_type": "markdown",
   "metadata": {},
   "source": [
    "#### Special Numeric Values\n",
    "\n",
    "We have some special numeric values: ```Infinity```, ```-Infinity```, and ```NaN```.\n",
    "\n",
    "Note: ```NaN``` is sticky. This means that when we use ```NaN``` with mathematical operations, it returns ```NaN```.\n",
    "\n",
    "Because of these special numeric values, all mathematical operations are considered to be safe."
   ]
  },
  {
   "cell_type": "code",
   "execution_count": 52,
   "metadata": {},
   "outputs": [
    {
     "name": "stdout",
     "output_type": "stream",
     "text": [
      "500000\n",
      "5.4594\n",
      "true\n",
      "true\n",
      "Infinity\n",
      "-Infinity\n",
      "Infinity\n",
      "NaN\n",
      "NaN\n"
     ]
    }
   ],
   "source": [
    "let n = 500e3;\n",
    "let x = 5.4594;\n",
    "\n",
    "console.log(n);\n",
    "console.log(x);\n",
    "\n",
    "console.log(typeof(n) == \"number\"); // number is the same value as number, returns true\n",
    "console.log(typeof(x) == \"number\"); // same as above\n",
    "\n",
    "console.log(1 / 0); // as denominator decreases, the number gets bigger, so it returns Infinity\n",
    "console.log((-1) / 0); // returns -Infinity\n",
    "console.log(Infinity); // evoked manually\n",
    "\n",
    "console.log(\"string\" / 2); // will return NaN\n",
    "console.log(NaN + 1); // returns NaN\n"
   ]
  },
  {
   "cell_type": "markdown",
   "metadata": {},
   "source": [
    "### BigInt\n",
    "\n",
    "In JavaScript, *integers* whose values are larger than ```(2^53 - 1)``` and smaller than ```-(2^53 - 1)``` cannot be represented with numbers. \n",
    "\n",
    "```BigInt``` values are created by appending ```n``` to the end of an integer."
   ]
  },
  {
   "cell_type": "code",
   "execution_count": 53,
   "metadata": {},
   "outputs": [
    {
     "name": "stdout",
     "output_type": "stream",
     "text": [
      "9007199254740992\n",
      "9007199254740992\n",
      "9007199254740992n\n",
      "9007199254740993n\n",
      "9007199254740992\n"
     ]
    }
   ],
   "source": [
    "let var_failed = 9007199254740991;\n",
    "console.log(var_failed + 1); // 9007199254740992\n",
    "console.log(var_failed + 2); // 9007199254740992 (caused by overflow)\n",
    "\n",
    "let var_success = 9007199254740991n;\n",
    "console.log(var_success + 1n);\n",
    "console.log(var_success + 2n); // will return 9007199254740993n\n",
    "\n",
    "/*\n",
    "What happens if I coerce BigInt that is greater, or smaller than the range in which Number can operate with a\n",
    "Number type?\n",
    "*/\n",
    "\n",
    "console.log(Number(var_success + 2n)); // will return 9007199254740992, cool, right?"
   ]
  },
  {
   "cell_type": "markdown",
   "metadata": {},
   "source": [
    "### String\n",
    "\n",
    "A string in Javascript must have quotes, of which there are 3 [5]:\n",
    "- Double quotes.\n",
    "- Singe quotes.\n",
    "- Backticks (extended functionality).\n",
    "\n",
    "It's important to note, in JavaScript, there is no character type that's typically found in C or Java."
   ]
  },
  {
   "cell_type": "code",
   "execution_count": 54,
   "metadata": {},
   "outputs": [
    {
     "name": "stdout",
     "output_type": "stream",
     "text": [
      "Hi\n",
      "Hi, yo.\n",
      "You owe me: $500!\n",
      "'HI!'\n",
      "\"Hi, my name is Bill!\"\n"
     ]
    }
   ],
   "source": [
    "console.log(\"Hi\");\n",
    "console.log('Hi, yo.');\n",
    "console.log(`You owe me: $${500}!`);\n",
    "console.log(\"'HI!'\"); // double quotes can contain single quotes\n",
    "console.log(`\"Hi, my name is Bill!\"`); // template string, use backticks to include double quotes"
   ]
  },
  {
   "cell_type": "markdown",
   "metadata": {},
   "source": [
    "### Boolean\n",
    "\n",
    "There's two types of values for Boolean values; ```true```, or ```false```.\n",
    "\n",
    "The following is a really convenient resource for Boolean truth tables:\n",
    "\n",
    "<div align=\"center\">\n",
    "    <img src=\"assets/2/3.png\"></img>\n",
    "    <figcaption>Truth Table (Bitwise, but the Concept is the Same)</figcaption>\n",
    "</div>"
   ]
  },
  {
   "cell_type": "code",
   "execution_count": 55,
   "metadata": {},
   "outputs": [
    {
     "name": "stdout",
     "output_type": "stream",
     "text": [
      "true\n",
      "true\n"
     ]
    }
   ],
   "source": [
    "console.log(true&&true); // AND is only TRUE if true and true\n",
    "console.log(false||true); // return true"
   ]
  },
  {
   "cell_type": "markdown",
   "metadata": {},
   "source": [
    "### Null\n",
    "\n",
    "```null``` indicates the absence of any object value [8]. Null is a falsy value.\n",
    "\n",
    "It is commonly used when an object cannot be created.\n"
   ]
  },
  {
   "cell_type": "code",
   "execution_count": null,
   "metadata": {},
   "outputs": [
    {
     "name": "stdout",
     "output_type": "stream",
     "text": [
      "false\n",
      "object\n"
     ]
    }
   ],
   "source": [
    "console.log(!!((null)&&(false))); // return false (!! is a Boolean coercion)\n",
    "console.log(typeof(null)); // object, this is a bug"
   ]
  },
  {
   "cell_type": "markdown",
   "metadata": {},
   "source": [
    "### Undefined\n",
    "\n",
    "Reserved as a default initial value for uninitialized variables."
   ]
  },
  {
   "cell_type": "code",
   "execution_count": null,
   "metadata": {},
   "outputs": [
    {
     "name": "stdout",
     "output_type": "stream",
     "text": [
      "undefined\n",
      "undefined\n"
     ]
    }
   ],
   "source": [
    "let varWoah;\n",
    "\n",
    "console.log(varWoah); // should return undefined\n",
    "console.log(typeof(undefined));// undefined"
   ]
  },
  {
   "cell_type": "markdown",
   "metadata": {},
   "source": [
    "### Symbol\n",
    "\n",
    "This is for unique identifiers. This is a built-in object, where the constructor returns a primitive, which is called symbol."
   ]
  },
  {
   "cell_type": "code",
   "execution_count": null,
   "metadata": {},
   "outputs": [
    {
     "name": "stdout",
     "output_type": "stream",
     "text": [
      "symbol\n"
     ]
    }
   ],
   "source": [
    "let symb1 = Symbol(\"id\"); // create a symbol with an ID (unique) \"id\"\n",
    "\n",
    "console.log(typeof(symb1)); // return symbol"
   ]
  },
  {
   "cell_type": "markdown",
   "metadata": {},
   "source": [
    "## Non-Primitive Data"
   ]
  },
  {
   "cell_type": "markdown",
   "metadata": {},
   "source": [
    "### Object\n",
    "\n",
    "Built in objects and user defined objects.\n",
    "\n",
    "#### Real-Life Objects vs JavaScript Objects\n",
    "\n",
    "Real-life objects have properties, and methods. \n",
    "\n",
    "For example, suppose you own a car. The car is an object. It's properties can be it's color, weight, specs. It's methods include starting, stopping, emergency breaking.\n",
    "\n",
    "In JavaScript, objects also contain properties (stored as key-value pairs), and methods (performed within functions).\n",
    "\n",
    "Simply put:\n",
    "- Properties are named values that describe the object. \n",
    "- Methods are function that perform on the object.\n",
    "\n",
    "One way we can create an object is through an object literal.\n",
    "\n",
    "```js\n",
    "let truck = { make: \"Honda\", model: \"Civic\", yearProduced: 2003, color: \"blue\"};\n",
    "```\n",
    "\n",
    "We can also use the ```new``` keyword.\n",
    "\n",
    "```js\n",
    "let newTruck = new Object();\n",
    "newTruck.make = \"Honda\";\n",
    "newTruck.model = \"Civic\";\n",
    "newTruck.yearProduced = 2003;\n",
    "newTruck.color = \"blue\";\n",
    "```"
   ]
  },
  {
   "cell_type": "code",
   "execution_count": 88,
   "metadata": {},
   "outputs": [
    {
     "name": "stdout",
     "output_type": "stream",
     "text": [
      "{\"MAKE\":\"HONDA\",\"MODEL\":\"CIVIC\",\"YEARPRODUCED\":2003,\"COLOR\":\"BLUE\"}\n"
     ]
    }
   ],
   "source": [
    "let truck = { make: \"Honda\", model: \"Civic\", yearProduced: 2003, color: \"blue\"};\n",
    "\n",
    "let newTruck = new Object();\n",
    "newTruck.make = \"Honda\";\n",
    "newTruck.model = \"Civic\";\n",
    "newTruck.yearProduced = 2003;\n",
    "newTruck.color = \"blue\";\n",
    "\n",
    "let JSONObj = JSON.stringify(newTruck).toUpperCase();\n",
    "console.log(JSONObj);"
   ]
  },
  {
   "cell_type": "markdown",
   "metadata": {},
   "source": [
    "Accessing object properties can be done with either the dot notation, or the bracket notation. \n",
    "\n",
    "Personally, I like using dot notation as autofill makes it more convenient."
   ]
  },
  {
   "cell_type": "code",
   "execution_count": 92,
   "metadata": {},
   "outputs": [
    {
     "name": "stdout",
     "output_type": "stream",
     "text": [
      "2003\n",
      "2003\n"
     ]
    }
   ],
   "source": [
    "/*\n",
    "Retrieve the year with both dot, and bracket notation.\n",
    "*/\n",
    "\n",
    "console.log(newTruck.yearProduced);\n",
    "console.log(newTruck[\"yearProduced\"]);"
   ]
  },
  {
   "cell_type": "markdown",
   "metadata": {},
   "source": [
    "Methods within JavaScript objects are stored as properties. ```this``` is referring to the object instance itself.\n",
    "\n",
    "Note: From now on, with objects, we must always use ```const``` unless we want to add more properties, then we'd use ```let```."
   ]
  },
  {
   "cell_type": "code",
   "execution_count": 101,
   "metadata": {},
   "outputs": [
    {
     "name": "stdout",
     "output_type": "stream",
     "text": [
      "John Tim\n"
     ]
    }
   ],
   "source": [
    "/**\n",
    " * * Object literal.\n",
    " */\n",
    "const Suspect = {\n",
    "    fname: \"John\", // Default first name\n",
    "    lname: \"Doe\",  // Default last name\n",
    "  \n",
    "    /**\n",
    "     * Gets the full name of the suspect.\n",
    "     * Called a JSDoc, and will be covered in Clean Code.\n",
    "     * @returns {string} The full name of the suspect.\n",
    "     */\n",
    "    fullName: function () {\n",
    "      return this.fname + \" \" + this.lname;\n",
    "    },\n",
    "  };\n",
    "\n",
    "Suspect.lname = \"Tim\";\n",
    "console.log(Suspect.fullName())\n"
   ]
  },
  {
   "cell_type": "markdown",
   "metadata": {},
   "source": [
    "## References\n",
    "\n",
    "[1] https://www.w3schools.com/js/js_datatypes.asp\n",
    "\n",
    "[2] https://library.fridoverweij.com/docs/jstutorial/primitive_wrapper_objects.html#:~:text=These%20objects%20provide%20a%20number,the%20property%20or%20method%20reference.\n",
    "\n",
    "[3] https://www.h-schmidt.net/FloatConverter/IEEE754.html\n",
    "\n",
    "[4] https://www.ibm.com/docs/en/aix/7.2?topic=types-double-precision-floating-point\n",
    "\n",
    "[5] https://www.w3schools.com/js/js_numbers.asp\n",
    "\n",
    "[6] https://javascript.info/types#string\n",
    "\n",
    "[7] https://developer.mozilla.org/en-US/docs/Web/JavaScript/Reference/Global_Objects/String#string_primitives_and_string_objects\n",
    "\n",
    "[8] https://www.geeksforgeeks.org/null-in-javascript/\n",
    "\n",
    "[9] https://www.w3schools.com/js/js_objects.asp\n"
   ]
  }
 ],
 "metadata": {
  "kernelspec": {
   "display_name": "Deno",
   "language": "typescript",
   "name": "deno"
  },
  "language_info": {
   "codemirror_mode": "typescript",
   "file_extension": ".ts",
   "mimetype": "text/x.typescript",
   "name": "typescript",
   "nbconvert_exporter": "script",
   "pygments_lexer": "typescript",
   "version": "5.6.2"
  }
 },
 "nbformat": 4,
 "nbformat_minor": 2
}
