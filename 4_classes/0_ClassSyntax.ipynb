{
 "cells": [
  {
   "cell_type": "markdown",
   "metadata": {},
   "source": [
    "# Classes"
   ]
  },
  {
   "cell_type": "code",
   "execution_count": null,
   "metadata": {},
   "outputs": [
    {
     "name": "stdout",
     "output_type": "stream",
     "text": [
      "Mohammed Sarhat\n",
      "John Park\n"
     ]
    }
   ],
   "source": [
    "class User {\n",
    "    constructor(name) {\n",
    "        this.userName = name;\n",
    "    }\n",
    "    \n",
    "    set name(name) {\n",
    "        if (name.length > 0) {\n",
    "            this.userName = name;\n",
    "        }\n",
    "    }\n",
    "\n",
    "    get name() {\n",
    "        let splitName = this.userName.split(\" \");\n",
    "        for (let index in splitName) {\n",
    "            splitName[index] = splitName[index][0].toUpperCase() + splitName[index].slice(1).toLowerCase();\n",
    "        }\n",
    "        return splitName.join(\" \");\n",
    "    }\n",
    "}\n",
    "\n",
    "let newUser = new User(\"mohammed sarhat\");\n",
    "console.log(newUser.name); // Outputs \"Mohammed Sarhat\"\n",
    "newUser.name = \"john pArk\";\n",
    "console.log(newUser.name); // Outputs \"John Park\""
   ]
  },
  {
   "cell_type": "markdown",
   "metadata": {},
   "source": [
    "## Defining Classes"
   ]
  },
  {
   "cell_type": "markdown",
   "metadata": {},
   "source": [
    "## Class Expressions"
   ]
  },
  {
   "cell_type": "markdown",
   "metadata": {},
   "source": [
    "## Getters and Setters"
   ]
  }
 ],
 "metadata": {
  "kernelspec": {
   "display_name": "Deno",
   "language": "typescript",
   "name": "deno"
  },
  "language_info": {
   "codemirror_mode": "typescript",
   "file_extension": ".ts",
   "mimetype": "text/x.typescript",
   "name": "typescript",
   "nbconvert_exporter": "script",
   "pygments_lexer": "typescript",
   "version": "5.6.2"
  }
 },
 "nbformat": 4,
 "nbformat_minor": 2
}
