{
 "cells": [
  {
   "cell_type": "markdown",
   "metadata": {},
   "source": [
    "# ```instanceof``` Operator\n",
    "\n",
    "Checks Prototype Chain\n",
    "Works with Constructor Functions\n",
    "Works with Built-in Classes\n",
    "Custom Logic with Symbol.hasInstance\n",
    "Prototype Chain Example"
   ]
  },
  {
   "cell_type": "markdown",
   "metadata": {},
   "source": [
    "## ```Object.prototype.toString``` for Type Checking"
   ]
  },
  {
   "cell_type": "markdown",
   "metadata": {},
   "source": [
    "## ```Object.prototype.toString``` for Type Checking"
   ]
  }
 ],
 "metadata": {
  "language_info": {
   "name": "python"
  }
 },
 "nbformat": 4,
 "nbformat_minor": 2
}
