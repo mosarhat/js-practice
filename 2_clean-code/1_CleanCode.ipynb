{
 "cells": [
  {
   "cell_type": "markdown",
   "metadata": {},
   "source": [
    "JSDOC \n",
    "\n",
    "Here are some commonly used JSDoc tags:\n",
    "\n",
    "Tag\tDescription\n",
    "@param\tDescribes a function parameter. Example: @param {string} name - The user's name.\n",
    "@returns\tDescribes the return value. Example: @returns {boolean} True if successful.\n",
    "@throws\tDescribes an exception that the function might throw. Example: @throws {Error} If the input is invalid.\n",
    "@description\tProvides a description of the function or object.\n",
    "@example\tProvides an example of how to use the function. Example: @example add(2, 3)\n",
    "@type\tSpecifies the type of a variable or property. Example: @type {number}\n",
    "@typedef\tDefines a custom type. Example: @typedef {Object} User - A user object.\n",
    "@property\tDescribes a property of an object. Example: @property {string} name - The user's name."
   ]
  }
 ],
 "metadata": {
  "language_info": {
   "name": "python"
  }
 },
 "nbformat": 4,
 "nbformat_minor": 2
}
