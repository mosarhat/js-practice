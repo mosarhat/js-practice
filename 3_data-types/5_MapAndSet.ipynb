{
 "cells": [
  {
   "cell_type": "markdown",
   "metadata": {},
   "source": [
    "# Map and Set"
   ]
  },
  {
   "cell_type": "markdown",
   "metadata": {},
   "source": [
    "## ```Map``` - Keyed Collection\n",
    "\n",
    "Use when:\n",
    "- Keys of any type are needed.\n",
    "- Insertion order must be preserved, unlike objects.\n",
    "- Objects are allowed as keys.\n",
    "- Frequently add/remove key-value pairs."
   ]
  },
  {
   "cell_type": "markdown",
   "metadata": {},
   "source": [
    "### ```Map``` Methods\n",
    "\n",
    "Chaining set"
   ]
  },
  {
   "cell_type": "markdown",
   "metadata": {},
   "source": [
    "###  Iterating Over a ```Map```"
   ]
  },
  {
   "cell_type": "markdown",
   "metadata": {},
   "source": [
    "###  Converting Between ```Map``` and Objects"
   ]
  },
  {
   "cell_type": "markdown",
   "metadata": {},
   "source": [
    "## ```Set``` - Unique Collection\n",
    "\n",
    "Use when:\n",
    "- Need to store unique values.\n",
    "- Avoid duplicates efficiently."
   ]
  },
  {
   "cell_type": "markdown",
   "metadata": {},
   "source": [
    "### ```Set``` Methods"
   ]
  },
  {
   "cell_type": "markdown",
   "metadata": {},
   "source": [
    "###  Iterating Over a ```Set```"
   ]
  },
  {
   "cell_type": "markdown",
   "metadata": {},
   "source": [
    "###  Converting Between ```Set``` and Objects"
   ]
  },
  {
   "cell_type": "markdown",
   "metadata": {},
   "source": [
    "## Use Cases for ```Map``` and ```Set```"
   ]
  }
 ],
 "metadata": {
  "language_info": {
   "name": "python"
  }
 },
 "nbformat": 4,
 "nbformat_minor": 2
}
