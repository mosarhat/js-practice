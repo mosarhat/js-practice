{
 "cells": [
  {
   "cell_type": "markdown",
   "metadata": {},
   "source": [
    "# BigInt\n",
    "\n",
    "Represent integer values that lie outside the safe range of the number primitive data type. Recall, the number data type can safely be used within operations, if it lies between $[-(2^{53}-1), 2^{53}-1]$ (all inclusive)."
   ]
  },
  {
   "cell_type": "markdown",
   "metadata": {},
   "source": [
    "## BigInt Creation\n",
    "\n",
    "There is only one way to create a BigInt value, and that is to utilize the literal representation. At the end of each BigInt value, there should be a ```n```. \n",
    "\n",
    "For example:"
   ]
  },
  {
   "cell_type": "code",
   "execution_count": 24,
   "metadata": {},
   "outputs": [
    {
     "name": "stdout",
     "output_type": "stream",
     "text": [
      "2n\n",
      "bigint\n",
      "true\n",
      "false\n"
     ]
    }
   ],
   "source": [
    "console.log(2n); // 2n\n",
    "console.log(typeof 2n); // bigint\n",
    "console.log(2n == 2); // true, they are the same value\n",
    "console.log(2n === 2); // false, they are not the same type"
   ]
  },
  {
   "cell_type": "markdown",
   "metadata": {},
   "source": [
    "## BigInt Operations"
   ]
  },
  {
   "cell_type": "markdown",
   "metadata": {},
   "source": [
    "BigInt values cannot always be mixed with non-BigInt values within operations in JavaScript. Both operands must be BigInt, in most cases."
   ]
  },
  {
   "cell_type": "code",
   "execution_count": 25,
   "metadata": {},
   "outputs": [
    {
     "ename": "TypeError",
     "evalue": "Cannot mix BigInt and other types, use explicit conversions",
     "output_type": "error",
     "traceback": [
      "Stack trace:",
      "TypeError: Cannot mix BigInt and other types, use explicit conversions",
      "    at <anonymous>:1:37"
     ]
    }
   ],
   "source": [
    "console.log(2n + 2);"
   ]
  },
  {
   "cell_type": "markdown",
   "metadata": {},
   "source": [
    "### A Note on BigInt to Number \n",
    "\n",
    "BigInt can be converted to a number data type, but only through the Number function. \n",
    "\n",
    "This mainly comes as a result of the unary plus operator (```+```) breaking [asm.js](http://asmjs.org/). Asm.js is a subset of JavaScript that is highly optimized. It runs exactly like JavaScript, and can run in both an interpreter, or an ahead-of-time (AOT) compiling engine that can recognize and optimize the subset for speed [1].\n",
    "\n",
    "In JavaScript, the unary plus operator is used as syntactic sugar, a shortcut, to convert non-numeric data types into numbers. However, in ASM.js, there's the inclusion of some static type checking, of which, the unary plus operator plays a role in. Simply put, ```+``` tells the browser, or engine, the intended value must be a number.\n",
    "\n",
    "Simply put, unary plus operators cast upon BigInt values throw an error because the special Asm.js code that depends on ```+``` would break, and given Asm.js being used for performance in applications, this edge case would yield unwanted results.\n",
    "\n",
    "However, there still lies an important question; how come the Number function doesn't also throw an error?\n",
    "\n",
    "This is because it's not redefined in Asm.js. Recall, Asm.js is a subset that improves performance, meaning it inherits from JavaScript, except where syntax is redefined. In the case of JavaScript, the explicitly casting aa BigInt value with the Number function does convert the value into a number data type."
   ]
  },
  {
   "cell_type": "code",
   "execution_count": null,
   "metadata": {},
   "outputs": [
    {
     "name": "stdout",
     "output_type": "stream",
     "text": [
      "1\n"
     ]
    },
    {
     "ename": "TypeError",
     "evalue": "Cannot convert a BigInt value to a number",
     "output_type": "error",
     "traceback": [
      "Stack trace:",
      "TypeError: Cannot convert a BigInt value to a number",
      "    at <anonymous>:2:13"
     ]
    }
   ],
   "source": [
    "console.log(Number(1n));\n",
    "console.log(+1n); // throws a TypeError"
   ]
  },
  {
   "cell_type": "markdown",
   "metadata": {},
   "source": [
    "## Type Mixing \n",
    "\n",
    "BigInt does not allow for type mixing with the following operators:\n",
    "- Arithmetic operators (both operands must be BigInt).\n",
    "- Bitwise Operators (both operands must be BigInt).\n",
    "- Unary negation, increment/decrement (must involve only BigInt).\n",
    "- Unary plus cannot be supported (explained above).\n",
    "- Unsigned right shift (every BigInt value is signed).\n",
    "\n",
    "On the other hand, the following do allow mixing between numbers and BigInts:\n",
    "- Relational and equality operators.\n",
    "- Logical operators."
   ]
  },
  {
   "cell_type": "markdown",
   "metadata": {},
   "source": [
    "### Type Casting with BigInt\n",
    "\n",
    "We can utilize the BigInt function to cast a numeric data type into a number. \n",
    "\n",
    "When converting number data types to BigInt values, the floating-point number is truncated (rounded-towards-zero), and then returned as an integer [2]. \n",
    "\n",
    "It's important to note, BigInt values cannot be converted into BigInt values (weird, right?) when they are enclosed within strings. This is because the ```n``` is not recognized.\n",
    "\n",
    "Unlike numeric conversion, BigInt functions also do not handle ```undefined``` or ```null```, as they throw a ```TypeError``` [3]."
   ]
  },
  {
   "cell_type": "markdown",
   "metadata": {},
   "source": [
    "## References\n",
    "\n",
    "[1] http://asmjs.org/faq.html\n",
    "\n",
    "[2] https://tc39.es/ecma262/multipage/numbers-and-dates.html#sec-bigint-constructor\n",
    "\n",
    "[3] https://tc39.es/ecma262/multipage/abstract-operations.html#sec-tobigint"
   ]
  }
 ],
 "metadata": {
  "kernelspec": {
   "display_name": "Deno",
   "language": "typescript",
   "name": "deno"
  },
  "language_info": {
   "codemirror_mode": "typescript",
   "file_extension": ".ts",
   "mimetype": "text/x.typescript",
   "name": "typescript",
   "nbconvert_exporter": "script",
   "pygments_lexer": "typescript",
   "version": "5.6.2"
  }
 },
 "nbformat": 4,
 "nbformat_minor": 2
}
