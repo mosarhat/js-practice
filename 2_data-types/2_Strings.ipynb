{
 "cells": [
  {
   "cell_type": "markdown",
   "metadata": {},
   "source": [
    "# Strings\n",
    "\n",
    "String represent a sequence of characters, and are <span style=\"color: red\">immutable</span>."
   ]
  },
  {
   "cell_type": "markdown",
   "metadata": {},
   "source": [
    "## Special Characters (Escape Sequences)\n",
    "\n",
    "JavaScript allows for special characters to be added within a text string using the backslash (```\\```) sign.\n",
    "\n",
    "There are many special characters:\n",
    "- Single quote (```\\'```).\n",
    "- Double quote (```\\\"```).\n",
    "- Newline (```\\n```). Inserts a line break.\n",
    "- Tab (```\\t```). Inserts a tab character.\n",
    "- Backslash (```\\\\```). Allows for the inclusion of a backslash.\n",
    "- Carries return (```\\r```).\n",
    "- Backspace (```\\b```).\n",
    "- Form feed (```\\f```). Represents page break on printers. Never used.\n",
    "- Vertical tab (```\\v```). Never used.\n",
    "\n",
    "It's important to note, ```\\r``` mimics an old typewriter (see the following video).\n",
    "\n",
    "<div align=\"center\">\n",
    "  <a href=\"https://www.youtube.com/watch?v=EiyZSX0OnBM\" target=\"_blank\">\n",
    "    <img \n",
    "      src=\"https://i.ytimg.com/vi/EiyZSX0OnBM/hqdefault.jpg\" \n",
    "      alt=\"Type-writer video thumbnail\" \n",
    "    />\n",
    "  </a>\n",
    "</div>\n",
    "\n",
    "In this case, it'll only return what comes after the carriage return.\n",
    "\n",
    "Another important note with ```\\r```, any sequence of characters that comes after, if the length of that sequence is less than the length of the sequence of characters that precedes it; the cursor will move to the start, but will overwrite to the length of the sequence of characters after its evocation. Confusing, right?\n",
    "\n",
    "I'll give an example to make this make way more sense:\n",
    "\n",
    "```\n",
    "i ate my homework\\rwoah\n",
    "```\n",
    "\n",
    "Alright, so the sequence of characters ```i ate my homework``` has a length of 17. ```woah``` has a length of 4. This means the cursor moves back to the start, and overwrites 4 spots so we can write the word ```woah```. However, everything that comes after those 4 letters still remains."
   ]
  },
  {
   "cell_type": "code",
   "execution_count": null,
   "metadata": {},
   "outputs": [],
   "source": [
    "console.log(\"i ate my homework\\rwoah\");"
   ]
  },
  {
   "cell_type": "code",
   "execution_count": null,
   "metadata": {},
   "outputs": [],
   "source": [
    "console.log(\"\\'\");\n",
    "console.log(\"\\\"\");\n",
    "console.log(\"Hi\\nThere!\");\n",
    "console.log(\"Hi\\tThere!\");\n",
    "console.log(\"Hi\\rThere\\rWoah, stop doing that \\rnot another break woah\");\n",
    "console.log(\"Hi\\b\"); // removes the i\n",
    "console.log(\"Woah\\fHi\"); "
   ]
  },
  {
   "cell_type": "markdown",
   "metadata": {},
   "source": [
    "## String Creation\n",
    "\n",
    "There are two ways strings can be created in JavaScript; as primitives, and as objects. \n",
    "\n",
    "```js\n",
    "let str1 = \"hello\"; // literals (primitive)\n",
    "let str2 = new String(\"hello\"); // object\n",
    "```\n",
    "\n",
    "Despite these both being different, JavaScript allows primitives to access properties and methods as if they are objects through *autoboxing*."
   ]
  },
  {
   "cell_type": "markdown",
   "metadata": {},
   "source": [
    "## Quotes\n",
    "\n",
    "Recall, there are three types of quotes that can be used for JavaScript [2]:\n",
    "\n",
    "- Double quotes. \n",
    "- Single quotes.\n",
    "- Backtick quotes. Allows for the use of template literals [3]."
   ]
  },
  {
   "cell_type": "markdown",
   "metadata": {},
   "source": [
    "### Special Features of Backticks\n",
    "\n",
    "In JavaScript, literals are fixed values written within code.\n",
    "\n",
    "For example:\n",
    "\n",
    "```js\n",
    "let stringOne = 'foo';\n",
    "let stringTwo = 'bar';\n",
    "let stringThree = '1234';\n",
    "```\n",
    "\n",
    "Backticks allow for the use of template literals (or known as template strings) [3]."
   ]
  },
  {
   "cell_type": "markdown",
   "metadata": {},
   "source": [
    "#### Multi-Line Strings\n",
    "\n",
    "With backtick quotes, multi-line strings are possible. Every time a line break occurs, it infers the line-break with a ```\\n``` tag. It will print to the console with these line breaks."
   ]
  },
  {
   "cell_type": "code",
   "execution_count": null,
   "metadata": {},
   "outputs": [],
   "source": [
    "let strOne = `\n",
    "Hey! My name is Mohammed. I am just a chill \n",
    "guy who seemingly loves JavaScript.\n",
    "`;\n",
    "\n",
    "console.log(strOne);"
   ]
  },
  {
   "cell_type": "markdown",
   "metadata": {},
   "source": [
    "#### String Interpolation (using ```${}```)\n",
    "\n",
    "String interpolation allows for embedded expressions with ```${}``` in strings (with backtick quotes). ```${}``` is commonly referred to as an interpolation expression."
   ]
  },
  {
   "cell_type": "code",
   "execution_count": null,
   "metadata": {},
   "outputs": [],
   "source": [
    "console.log(`Amount spent: $${(1+2).toFixed(2)}`);"
   ]
  },
  {
   "cell_type": "markdown",
   "metadata": {},
   "source": [
    "#### Nested Template Literals\n",
    "\n",
    "Within string interpolation, we can also nest interpolation expressions, and other JavaScript code within a string."
   ]
  },
  {
   "cell_type": "code",
   "execution_count": null,
   "metadata": {},
   "outputs": [],
   "source": [
    "let ageOne = 21;\n",
    "let color = \"red\";\n",
    "let returnStr = `\n",
    "Hey! Didn't see you there. \n",
    "I know you might ${(color === \"red\") ? `like ${color}. I do too` : `have completely different taste than me (i love red, and you like ${color})`}.\n",
    "${(ageOne >= 21) ? \"Congrats for being over 21!\" : \"Bruh! Get outta here!\"}\n",
    "`;\n",
    "\n",
    "console.log(returnStr);"
   ]
  },
  {
   "cell_type": "markdown",
   "metadata": {},
   "source": [
    "#### Tagged Template\n",
    "\n",
    "We can also control how a string is made using *tagged templates* [4]."
   ]
  },
  {
   "cell_type": "code",
   "execution_count": null,
   "metadata": {},
   "outputs": [],
   "source": [
    "// this example is from: https://wesbos.com/tagged-template-literals\n",
    "function upperCaseTag(strings, ...values /* here we are just accepting any argument after the first to be in an array*/) {\n",
    "    // values = ['Snickers', 100]\n",
    "    console.log(strings)\n",
    "    let str = ''; // empty string\n",
    "    strings.forEach((string, i) => {\n",
    "        // i iterates over strings witch has 3 elements\n",
    "        // so values[i] = undefined because it does not exist\n",
    "      str += string + (values[i] || '!');\n",
    "      // above we short circuit with OR (find first truthy, since the first is false, it returns the last one (short-circuiting))\n",
    "    });\n",
    "    return str.toUpperCase();\n",
    "}\n",
    "\n",
    "const name = 'Snickers';\n",
    "const age = 100;\n",
    "const sentence = upperCaseTag`My dog's name is ${name} and he is ${age} years old`;\n",
    "console.log(sentence);"
   ]
  },
  {
   "cell_type": "markdown",
   "metadata": {},
   "source": [
    "## Accessing Characters\n",
    "\n",
    "There are three ways to access individual characters:\n",
    "- Using ```chatAt()```. This is an instance method.\n",
    "- Using square brackets, ```[]```.\n",
    "- Using ```for..of``` loop.\n",
    "\n",
    "You can also utilize other methods, but these are the most popular I've come across.\n",
    "\n",
    "It's important to note, while using square brackets, the index is from $\\{0...n-1\\}$"
   ]
  },
  {
   "cell_type": "code",
   "execution_count": null,
   "metadata": {},
   "outputs": [
    {
     "name": "stdout",
     "output_type": "stream",
     "text": [
      "40\n",
      "h\n",
      "h\n",
      "---\n",
      "T\n",
      "h\n",
      "e\n",
      " \n",
      "O\n",
      "t\n",
      "t\n",
      "---\n",
      "T\n",
      "h\n",
      "e\n",
      " \n",
      "O\n",
      "t\n",
      "t\n",
      "---\n",
      "T\n",
      "h\n",
      "e\n",
      " \n",
      "O\n",
      "t\n",
      "t\n",
      "w\n",
      " \n",
      "S\n",
      "e\n",
      "n\n",
      "t\n",
      "o\n",
      "r\n",
      "s\n",
      " \n",
      "i\n",
      "n\n",
      " \n",
      "2\n",
      "0\n",
      "2\n",
      "5\n",
      " \n",
      "r\n",
      "e\n",
      " \n",
      "s\n",
      "o\n",
      " \n",
      "b\n",
      "c\n",
      "k\n",
      "!\n"
     ]
    },
    {
     "data": {
      "text/plain": [
       "\u001b[33m39\u001b[39m"
      ]
     },
     "execution_count": 1,
     "metadata": {},
     "output_type": "execute_result"
    }
   ],
   "source": [
    "let str = \"The Ottawa Senators in 2025 are so back!\";\n",
    "\n",
    "// print length (will aid in indexing)\n",
    "console.log(str.length); // length of 40 (meaning indexing goes from 0 to 39)\n",
    "\n",
    "// using charAt()\n",
    "console.log(str.charAt(1)); // returns h\n",
    "\n",
    "// using []\n",
    "console.log(str[1]);\n",
    "\n",
    "// using for...of loop\n",
    "console.log(\"---\");\n",
    "for (let char of str) {\n",
    "    if (char == \"a\") {\n",
    "        break;\n",
    "    }\n",
    "    console.log(char);\n",
    "}\n",
    "\n",
    "// using indexing with regular loop\n",
    "console.log(\"---\");\n",
    "for (let index = 0; index < str.length; index++) {\n",
    "    if (str[index] == \"a\") {\n",
    "        break;\n",
    "    }\n",
    "    console.log(str[index]);\n",
    "}\n",
    "\n",
    "// using a while loop\n",
    "console.log(\"---\");\n",
    "let index = 0;\n",
    "while (index < str.length) {\n",
    "    if (str[index] == \"a\") {\n",
    "        index++; // must increment before continue\n",
    "        continue; // skips the a\n",
    "    }\n",
    "    console.log(str[index]);\n",
    "    index++;\n",
    "}"
   ]
  },
  {
   "cell_type": "markdown",
   "metadata": {},
   "source": [
    "## String Properties\n",
    "\n",
    "Some of these properties might not make much sense as of right now, but after reading *Objects*, you should be able to understand most of these, and how they relate."
   ]
  },
  {
   "cell_type": "markdown",
   "metadata": {},
   "source": [
    "### ```length```\n",
    "\n",
    "Returns the length of the string as a number data type."
   ]
  },
  {
   "cell_type": "code",
   "execution_count": null,
   "metadata": {},
   "outputs": [
    {
     "name": "stdout",
     "output_type": "stream",
     "text": [
      "4\n",
      "4\n",
      "number\n"
     ]
    }
   ],
   "source": [
    "console.log(\"woah\".length);\n",
    "console.log((new String(\"woah\")).length);\n",
    "console.log(typeof \"woah\".length);"
   ]
  },
  {
   "cell_type": "markdown",
   "metadata": {},
   "source": [
    "### ```constructor```\n",
    "\n",
    "The reference to the ```String``` constructor function.\n",
    "\n",
    "The ```constructor``` property exists on the prototype, and points back to the constructor function."
   ]
  },
  {
   "cell_type": "code",
   "execution_count": 181,
   "metadata": {},
   "outputs": [
    {
     "name": "stdout",
     "output_type": "stream",
     "text": [
      "[Function: String]\n",
      "[Function: String]\n",
      "true\n",
      "true\n"
     ]
    }
   ],
   "source": [
    "console.log(\"str\".constructor);\n",
    "console.log((new String(\"woah\")).constructor);\n",
    "\n",
    "// something super cool\n",
    "\n",
    "console.log(\"str\".constructor === String); // true\n",
    "console.log(String.prototype.constructor === String); // true"
   ]
  },
  {
   "cell_type": "markdown",
   "metadata": {},
   "source": [
    "### ```prototype```\n",
    "\n",
    "Contains all methods and prototypes that strings inherit.\n",
    "\n",
    "You'll notice very quickly that ```prototype``` in conjunction with a string literal gives ```undefined```. \n",
    "\n",
    "```prototype``` is a property of constructor functions."
   ]
  },
  {
   "cell_type": "code",
   "execution_count": 182,
   "metadata": {},
   "outputs": [
    {
     "name": "stdout",
     "output_type": "stream",
     "text": [
      "undefined\n",
      "{}\n"
     ]
    }
   ],
   "source": [
    "console.log(\"str\".prototype);\n",
    "\n",
    "console.log(String.prototype);"
   ]
  },
  {
   "cell_type": "markdown",
   "metadata": {},
   "source": [
    "### ```__proto__```\n",
    "\n",
    "For instances created of string type, we can use ```__proto__``` to access what the parent of the instance is."
   ]
  },
  {
   "cell_type": "code",
   "execution_count": 183,
   "metadata": {},
   "outputs": [
    {
     "name": "stdout",
     "output_type": "stream",
     "text": [
      "undefined\n",
      "undefined\n"
     ]
    }
   ],
   "source": [
    "console.log(\"str\".__proto__);\n",
    "console.log((new String(\"woah\")).__proto__); // should work in V8 (test in browser)"
   ]
  },
  {
   "cell_type": "markdown",
   "metadata": {},
   "source": [
    "## String Methods"
   ]
  },
  {
   "cell_type": "markdown",
   "metadata": {},
   "source": [
    "### ```toString()``` and ```valueOf()```"
   ]
  },
  {
   "cell_type": "markdown",
   "metadata": {},
   "source": [
    "### Changing Case\n",
    "\n",
    "In Javascript, we have two types of methods we can use to change the casing of the string:\n",
    "- ```toUpperCase()```.\n",
    "- ```toLowerCase()```."
   ]
  },
  {
   "cell_type": "markdown",
   "metadata": {},
   "source": [
    "### Searching Substrings"
   ]
  },
  {
   "cell_type": "markdown",
   "metadata": {},
   "source": [
    "### Extracting Substrings"
   ]
  },
  {
   "cell_type": "markdown",
   "metadata": {},
   "source": [
    "### Replacing Parts of a String"
   ]
  },
  {
   "cell_type": "markdown",
   "metadata": {},
   "source": [
    "### Splitting and Joining Strings"
   ]
  },
  {
   "cell_type": "markdown",
   "metadata": {},
   "source": [
    "### Repeating a String"
   ]
  },
  {
   "cell_type": "markdown",
   "metadata": {},
   "source": [
    "### Unicode Methods"
   ]
  },
  {
   "cell_type": "markdown",
   "metadata": {},
   "source": [
    "## References\n",
    "\n",
    "[1] https://www.tpointtech.com/javascript-special-characters\n",
    "\n",
    "[2] https://www.digitalocean.com/community/tutorials/how-to-work-with-strings-in-javascript\n",
    "\n",
    "[3] https://developer.mozilla.org/en-US/docs/Web/JavaScript/Reference/Template_literals\n",
    "\n",
    "[4] https://developer.mozilla.org/en-US/docs/Web/JavaScript/Guide/Grammar_and_types#string_literals\n",
    "\n",
    "[5] https://medium.com/@venkatiyengar/proto-vs-prototype-d3c9df933f58"
   ]
  },
  {
   "cell_type": "markdown",
   "metadata": {},
   "source": [
    "----------------------------------------"
   ]
  },
  {
   "cell_type": "markdown",
   "metadata": {},
   "source": [
    "## Changing Case\n",
    "\n",
    "In Javascript, we have two types of methods we can use to change the casing of the string:\n",
    "- ```toUpperCase```.\n",
    "- ```toLowerCase```."
   ]
  },
  {
   "cell_type": "markdown",
   "metadata": {},
   "source": [
    "### ```str.toUpperCase()```"
   ]
  },
  {
   "cell_type": "code",
   "execution_count": 184,
   "metadata": {},
   "outputs": [
    {
     "name": "stdout",
     "output_type": "stream",
     "text": [
      "HI\n",
      "WOAH\n"
     ]
    }
   ],
   "source": [
    "console.log(\"hi\".toUpperCase());\n",
    "\n",
    "let stringObjUpper = new String(\"woah\");\n",
    "\n",
    "console.log(stringObjUpper.toUpperCase());"
   ]
  },
  {
   "cell_type": "markdown",
   "metadata": {},
   "source": [
    "### ```str.toLowerCase()```"
   ]
  },
  {
   "cell_type": "code",
   "execution_count": 185,
   "metadata": {},
   "outputs": [
    {
     "name": "stdout",
     "output_type": "stream",
     "text": [
      "hi\n",
      "wooooooooo!\n"
     ]
    }
   ],
   "source": [
    "console.log(\"Hi\".toLowerCase());\n",
    "\n",
    "let stringObjLower = new String(\"WOOOOOOOOO!\")\n",
    "\n",
    "console.log(stringObjLower.toLowerCase());"
   ]
  },
  {
   "cell_type": "markdown",
   "metadata": {},
   "source": [
    "## Searching for Substrings\n",
    "\n",
    "These return Boolean values, ```true``` is the substring exists, and ```false``` if the substring does not exist."
   ]
  },
  {
   "cell_type": "markdown",
   "metadata": {},
   "source": [
    "### ```str.indexOf(char)```\n",
    "\n",
    "Returns the first index of where the ```char``` appears within the string."
   ]
  },
  {
   "cell_type": "code",
   "execution_count": 186,
   "metadata": {},
   "outputs": [
    {
     "name": "stdout",
     "output_type": "stream",
     "text": [
      "-1\n",
      "4\n"
     ]
    }
   ],
   "source": [
    "console.log(\"baa\".indexOf(\"c\")); // should return 1\n",
    "\n",
    "/* \n",
    "\n",
    "here's something cool we can make with this:\n",
    "\n",
    "for instance, something i want to do it count the number of\n",
    "occurrences, but i can only use str.indexOf(char).\n",
    "*/\n",
    "\n",
    "function countOccurrences(string, char) {\n",
    "    \n",
    "    // Base case: if string is empty, return 0\n",
    "    if (string.length === 0) {\n",
    "        return 0;\n",
    "    } \n",
    "    let index = string.indexOf(char);\n",
    "    if (index == -1) {\n",
    "        return 0;\n",
    "    }\n",
    "\n",
    "    return 1 + countOccurrences(string.slice(index+1), char);\n",
    "}\n",
    "\n",
    "console.log(countOccurrences(\"aaaa\", \"a\"));"
   ]
  },
  {
   "cell_type": "markdown",
   "metadata": {},
   "source": [
    "### ```str.lastIndexOf(searchValue, startPos)```\n",
    "\n",
    "This returns the index from the beginning of the start position. If the ```start``` is omitted, it starts from the first index.\n",
    "\n",
    "It's also important to note, that if the ```startPos``` is outside of the bounds of the length of the string, $\\{0\\dots..n\\}$"
   ]
  },
  {
   "cell_type": "code",
   "execution_count": 187,
   "metadata": {},
   "outputs": [
    {
     "name": "stdout",
     "output_type": "stream",
     "text": [
      "1\n",
      "-1\n"
     ]
    }
   ],
   "source": [
    "console.log(\"aaa\".lastIndexOf(\"aa\")); // return 1\n",
    "console.log(\"aaa\".lastIndexOf(\"b\", 5)); // return -1"
   ]
  },
  {
   "cell_type": "markdown",
   "metadata": {},
   "source": [
    "### ```str.includes(substr, startPos)```\n",
    "\n",
    "This returns a boolean; ```true``` if the substring exists, and ```false``` if the substring does not exist. The ```startPos``` can be omitted, otherwise, the includes checks from the ```startPos``` onwards."
   ]
  },
  {
   "cell_type": "code",
   "execution_count": 188,
   "metadata": {},
   "outputs": [
    {
     "name": "stdout",
     "output_type": "stream",
     "text": [
      "false\n"
     ]
    }
   ],
   "source": [
    "console.log(\"woah\".includes(\"wo\", 4));"
   ]
  },
  {
   "cell_type": "markdown",
   "metadata": {},
   "source": [
    "### ```str.endsWith(searchString, endPosition)```\n",
    "\n",
    "This returns a boolean; ```true``` if the substring exists, and ```false``` if the substring does not exist. The ```startPos``` can be omitted, otherwise, the includes checks from the ```startPos``` onwards."
   ]
  },
  {
   "cell_type": "markdown",
   "metadata": {},
   "source": [
    "## Extracting Substrings"
   ]
  },
  {
   "cell_type": "markdown",
   "metadata": {},
   "source": [
    "### ```str.slice(start [, end])```\n",
    "\n",
    "This extracts a substring from the string. The notation follows the following, where slice is represented with $n$, $n \\in [\\text{start}, \\text{end})$. The ```end``` is non-inclusive."
   ]
  },
  {
   "cell_type": "code",
   "execution_count": 189,
   "metadata": {},
   "outputs": [
    {
     "name": "stdout",
     "output_type": "stream",
     "text": [
      "a\n",
      "aabbbbb\n"
     ]
    }
   ],
   "source": [
    "console.log(\"abcdefgh\".slice(0,1)); // returns 1\n",
    "console.log(\"aaaabbbbb\".slice(2)); // returns qabbbbb "
   ]
  },
  {
   "cell_type": "markdown",
   "metadata": {},
   "source": [
    "### ```str.substring(start [, end])```\n",
    "\n",
    "Some interesting things to note with this, if the start used is outside of the bounds (i.e. length of the string, it returns nothing). If it is within the bounds of the string, the method returns the substring.\n",
    "\n",
    "The arguments to the function are actually coerced to numeric values.\n",
    "\n",
    "Note: There's actually a really cool behavior, when we have an array being coerced to a number, the first element is used, and the rest is ignored."
   ]
  },
  {
   "cell_type": "code",
   "execution_count": 190,
   "metadata": {},
   "outputs": [
    {
     "name": "stdout",
     "output_type": "stream",
     "text": [
      "ab\n",
      "ab\n",
      "ab\n",
      "bcd\n",
      "bcdefgh\n",
      "abcdefgh\n",
      "bcdefgh\n"
     ]
    }
   ],
   "source": [
    "console.log(\"abcdefgh\".substring(2, [3,4,5]));\n",
    "\n",
    "console.log(\"abcdefgh\".substring(2, [\" 3\",4,5]));\n",
    "\n",
    "console.log(\"abcdefgh\".substring(2, [\" nAn\",4,5]));\n",
    "\n",
    "console.log(\"abcdefgh\".substring(1, 4));\n",
    "\n",
    "console.log(\"abcdefgh\".substring(\" 1  \")); // string is coerced to 1\n",
    "\n",
    "console.log(\"abcdefgh\".substring(\"d\")); // string is coerced to NaN as it is non-numeric\n",
    "\n",
    "console.log(\"abcdefgh\".substring(true)); // true is coerced to 1"
   ]
  },
  {
   "cell_type": "markdown",
   "metadata": {},
   "source": [
    "### ```str.substr(start [, length])```"
   ]
  },
  {
   "cell_type": "markdown",
   "metadata": {},
   "source": [
    "## Additional String Methods"
   ]
  },
  {
   "cell_type": "markdown",
   "metadata": {},
   "source": [
    "### ```str.split()```\n",
    "\n",
    "This method takes a string, and returns into an array based on the string argument passed within that represents the delimiter desired.\n",
    "\n",
    "It's important to note that this delimiter does not have to be a special character, we can essentially use anything as our delimiter.\n",
    "\n",
    "We can then utilize array methods, onto strings."
   ]
  },
  {
   "cell_type": "code",
   "execution_count": 191,
   "metadata": {},
   "outputs": [
    {
     "name": "stdout",
     "output_type": "stream",
     "text": [
      "[ \"s\", \"r\" ]\n",
      "[ \"Mohammed\", \"Sarhat\" ]\n",
      "[ \"MOHAMMED\", \"SARHAT\" ]\n"
     ]
    }
   ],
   "source": [
    "console.log(\"str\".split(\"t\")); // returns [\"s\", \"r\"]\n",
    "console.log(\"Mohammed Sarhat\".split(\" \")); // returns [ \"Mohammed\", \"Sarhat\" ]\n",
    "console.log(\"Mohammed Sarhat\".split(\" \").map(elem => elem.toUpperCase())); // returns [ \"MOHAMMED\", \"SARHAT\" ]"
   ]
  },
  {
   "cell_type": "markdown",
   "metadata": {},
   "source": [
    "### ```str.trim()```"
   ]
  },
  {
   "cell_type": "markdown",
   "metadata": {},
   "source": [
    "### ```str.repeat(n)```"
   ]
  },
  {
   "cell_type": "markdown",
   "metadata": {},
   "source": [
    "### ```str.replace(nestedStr, newStr)```"
   ]
  },
  {
   "cell_type": "markdown",
   "metadata": {},
   "source": [
    "## Polyfills for All The Methods\n",
    "\n",
    "You'll notice, there is a set of rules when writing a sound polyfill for a prototypal method:"
   ]
  },
  {
   "cell_type": "markdown",
   "metadata": {},
   "source": [
    "## Unicode"
   ]
  },
  {
   "cell_type": "markdown",
   "metadata": {},
   "source": [
    "## Unicode Normalization Forms\n",
    "\n",
    "Unicode Standard defines two formal types of equivalence between characters; canonical equivalent, and compatibility equivalence [7].\n",
    "\n",
    "Canonical equivalent characters have the same appearance and meaning when printed. Compatibility equivalence may have the same meaning, but could have a different appearance."
   ]
  },
  {
   "cell_type": "markdown",
   "metadata": {},
   "source": [
    "### ```str.charCodeAt()```"
   ]
  },
  {
   "cell_type": "markdown",
   "metadata": {},
   "source": [
    "# References\n",
    "\n",
    "[1] https://www.digitalocean.com/community/tutorials/how-to-work-with-strings-in-javascript\n",
    "\n",
    "[2] https://developer.mozilla.org/en-US/docs/Web/JavaScript/Reference/Template_literals\n",
    "\n",
    "[3] https://developer.mozilla.org/en-US/docs/Web/JavaScript/Guide/Grammar_and_types#string_literals\n",
    "\n",
    "[4] https://wesbos.com/tagged-template-literals\n",
    "\n",
    "[5] https://dev.to/charlesamakoye/three-ways-of-accessing-string-characters-in-javascript-3gbn\n",
    "\n",
    "[6] https://dev.to/charlesamakoye/three-ways-of-accessing-string-characters-in-javascript-3gbn\n",
    "\n",
    "[7] https://en.wikipedia.org/wiki/Unicode_equivalence\n",
    " \n",
    "[8] https://unicode.org/reports/tr15/#Canon_Compat_Equivalence"
   ]
  }
 ],
 "metadata": {
  "kernelspec": {
   "display_name": "Deno",
   "language": "typescript",
   "name": "deno"
  },
  "language_info": {
   "codemirror_mode": "typescript",
   "file_extension": ".ts",
   "mimetype": "text/x.typescript",
   "name": "typescript",
   "nbconvert_exporter": "script",
   "pygments_lexer": "typescript",
   "version": "5.6.2"
  }
 },
 "nbformat": 4,
 "nbformat_minor": 2
}
