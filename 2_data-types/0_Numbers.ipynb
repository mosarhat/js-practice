{
 "cells": [
  {
   "cell_type": "markdown",
   "metadata": {},
   "source": [
    "# Numbers\n",
    "\n",
    "Represents IEEE 754 double-precision floating point numbers. Numbers are <span style=\"color: red\">mutable</span>. "
   ]
  },
  {
   "cell_type": "markdown",
   "metadata": {},
   "source": [
    "## Number Creation\n",
    "\n",
    "The following are two ways to create numbers in JavaScript:\n",
    "\n",
    "```js\n",
    "let num = 43; // number literal\n",
    "let num = new Number(); // using \"new\" constructor \n",
    "```\n",
    "\n",
    "Consider the number data type created with the ```new``` constructor. If the argument is omitted, by default, the constructor creates a number object with a primitive value of 0.\n",
    "\n",
    "It's important to note, you should rarely, if ever, be creating numbers using the ```new``` constructor."
   ]
  },
  {
   "cell_type": "markdown",
   "metadata": {},
   "source": [
    "## Special Numeric Values\n",
    "\n",
    "Recall, numbers have the following special numeric values:\n",
    "- ```Infinity```.\n",
    "- ```Infinity```.\n",
    "- ```NaN```.\n",
    "\n",
    "```NaN``` is considered a sticky value within numeric operations. NaN is only considered non-sticky when concatenated with another string, in that case, string coercion takes precedence over numeric coercion.\n",
    "\n",
    "Interestingly, we'll find that in JavaScript, the maximum possible value (before overflow) is ```1.7976931348623157e+308```. The value that numerically comes after overflows to ```+Infinity```."
   ]
  },
  {
   "cell_type": "code",
   "execution_count": 451,
   "metadata": {},
   "outputs": [
    {
     "name": "stdout",
     "output_type": "stream",
     "text": [
      "1.7976931348623157e+308\n",
      "1.797e+308\n",
      "Infinity\n"
     ]
    }
   ],
   "source": [
    "console.log(Number.MAX_VALUE);\n",
    "console.log(1.797E308);\n",
    "console.log(1.798E308);"
   ]
  },
  {
   "cell_type": "markdown",
   "metadata": {},
   "source": [
    "## Number Notation and Formats\n",
    "\n",
    "Syntactic sugar is a key element of many programming languages; JavaScript is not excluded. With respect to numbers, JavaScript includes a wealth of measures to produce syntactic sugar to improve readability. "
   ]
  },
  {
   "cell_type": "markdown",
   "metadata": {},
   "source": [
    "### Underscore Separator (```_```)\n",
    "\n",
    "The underscore separator, ```_```, can be used to add syntactic sugar to *larger* numbers. They must be placed in-between digits.\n",
    "\n",
    "This separator will also work for other number systems."
   ]
  },
  {
   "cell_type": "code",
   "execution_count": 452,
   "metadata": {},
   "outputs": [
    {
     "name": "stdout",
     "output_type": "stream",
     "text": [
      "1000000\n",
      "11259375\n",
      "10\n"
     ]
    }
   ],
   "source": [
    "console.log(1_000_000); // returns 1000000 (one million)\n",
    "console.log(0xAB_CD_EF); // returns 11259375\n",
    "console.log(0b1_0_10); // returns 10"
   ]
  },
  {
   "cell_type": "markdown",
   "metadata": {},
   "source": [
    "### Exponential Notation (```e``` or ```E```)\n",
    "\n",
    "For larger, and much smaller numbers, exponential notation, ```e/E``` is quite handy. The number to the right of ```e/E``` is called the *exponent*. \n",
    "\n",
    "If the exponent is negative, this means that the decimal point is shifted to the left. If the exponent is positive, this means that the decimal point is shifted to the right of the fixed point number [1]."
   ]
  },
  {
   "cell_type": "code",
   "execution_count": 2,
   "metadata": {},
   "outputs": [
    {
     "name": "stdout",
     "output_type": "stream",
     "text": [
      "1\n",
      "250\n",
      "62500\n",
      "15625000\n",
      "3906250000\n",
      "976562500000\n",
      "244140625000000\n",
      "61035156250000000\n",
      "15258789062500000000\n",
      "3.814697265625e+21\n",
      "9.5367431640625e+23\n",
      "2.3841857910156252e+26\n",
      "5.960464477539063e+28\n",
      "1.4901161193847658e+31\n",
      "3.725290298461914e+33\n",
      "9.313225746154786e+35\n",
      "2.3283064365386964e+38\n",
      "5.820766091346741e+40\n",
      "1.4551915228366853e+43\n",
      "3.637978807091713e+45\n",
      "9.094947017729284e+47\n",
      "0.00001\n"
     ]
    }
   ],
   "source": [
    "let j = 1;\n",
    "while (j < 1e50) {\n",
    "    console.log(j);\n",
    "    j = j * 250\n",
    "}\n",
    "\n",
    "console.log(1e-5)"
   ]
  },
  {
   "cell_type": "markdown",
   "metadata": {},
   "source": [
    "### Number Systems (Binary, Octal, Hexadecimal)\n",
    "\n",
    "Binary, octal, and hexadecimal are number systems, with different bases. Binary is base 2, octal is base 8, hexadecimal is base 16. These are all integer representations. Recall, integers represent positive and negative integers.\n",
    "\n",
    "In JavaScript, these number systems are represented with the following notation:\n",
    "- Binary (base 2): ```0b...```.\n",
    "- Octal (base 8): ```0o...```.\n",
    "- Hexadecimal (base 16): ```0x...```.\n",
    "\n",
    "In JavaScript, these number system are considered syntactic sugar for specifying a number. The console will print numbers in decimal (base 10) [2].\n",
    "\n",
    "The following is an example:"
   ]
  },
  {
   "cell_type": "code",
   "execution_count": 1,
   "metadata": {},
   "outputs": [
    {
     "name": "stdout",
     "output_type": "stream",
     "text": [
      "Hexadecimal: 255\n",
      "Octal: 255\n",
      "Binary 255\n"
     ]
    }
   ],
   "source": [
    "console.log(`Hexadecimal: ${0xFF}`);\n",
    "console.log(`Octal: ${0o377}`);\n",
    "console.log(`Binary ${0b11111111}`);"
   ]
  },
  {
   "cell_type": "markdown",
   "metadata": {},
   "source": [
    "## How Do Imprecise Calculations Happen?\n",
    "\n",
    "Floating-point numbers have a limited number of digits as they cannot represent $n$ accurately, $\\backepsilon n \\in \\mathbb{R}$ [3]. \n",
    "\n",
    "Suppose we have a value ```0.2```. This value is already rounded to the nearest number in that format. How? Let's take a look using ```toFixed()```:"
   ]
  },
  {
   "cell_type": "code",
   "execution_count": 6,
   "metadata": {},
   "outputs": [
    {
     "name": "stdout",
     "output_type": "stream",
     "text": [
      "0.2\n",
      "0.2000000000000000111022302\n"
     ]
    }
   ],
   "source": [
    "console.log(0.2);\n",
    "console.log(0.2.toFixed(25));"
   ]
  },
  {
   "cell_type": "markdown",
   "metadata": {},
   "source": [
    "However, suppose I inspect the value ```0.5```:"
   ]
  },
  {
   "cell_type": "code",
   "execution_count": 15,
   "metadata": {},
   "outputs": [
    {
     "name": "stdout",
     "output_type": "stream",
     "text": [
      "0.5\n",
      "0.00000000000000022204460492503130808472633361816406\n"
     ]
    }
   ],
   "source": [
    "console.log(0.5);\n",
    "console.log((1/(2**52)).toFixed(50));"
   ]
  },
  {
   "cell_type": "markdown",
   "metadata": {},
   "source": [
    "Recall, all numbers in JavaScript are represented through a 64-bit double precision IEEE 754 floating point number. These numbers consist of a signed bit (1 bit), an exponent (11 bits, with a bias), and a mantissa (52 bits, representing the fractional part).\n",
    "\n",
    "As shown above, ```0.5``` can be represented *exactly*, however, this isn't always reliable."
   ]
  },
  {
   "cell_type": "markdown",
   "metadata": {},
   "source": [
    "Within number encoding, floating point numbers are not exact. They are a finite representation, or an approximation, a real value (the mantissa is limited). \n",
    "\n",
    "When operations, such as a simple addition or multiplication are made, the following occurs:\n",
    "    - Compute the exact result. \n",
    "    - If necessary, round the result to make it fit within the desired precision.\n",
    "\n",
    "There are various rounding methods, the following are the most commonly used:\n",
    "- Round-toward-zero: Truncates the decimal.\n",
    "    - Example:\n",
    "        - $1.40 \\rightarrow 1$.\n",
    "        - $-1.50 \\rightarrow -1$.\n",
    "- Round-down: Rounds towards $-\\infty$.\n",
    "    - Example:\n",
    "        - $1.40 \\rightarrow 1$.\n",
    "        - $-1.50 \\rightarrow -2$.\n",
    "- Round-up: Rounds towards $\\infty$.\n",
    "    - Example:\n",
    "        - $1.40 \\rightarrow 2$.\n",
    "        - $-1.50 \\rightarrow -1$.\n",
    "- Round-to-nearest: Rounds to the nearest integer. \n",
    "    - Example:\n",
    "        - $1.40 \\rightarrow 1$.\n",
    "        - When we're right in the middle, we have problems, as its difficult to define. \n",
    "- Round-half-up: Rounds towards positive infinity from half, ```0.5```.\n",
    "    - Example:\n",
    "        - $1.50 \\rightarrow 2$.\n",
    "        - $-1.50 \\rightarrow -1$.\n",
    "- Round-half-down: Rounds towards negative infinity from half, ```0.5```.\n",
    "    - Example:\n",
    "        - $1.50 \\rightarrow 1$.\n",
    "        - $-1.50 \\rightarrow -2$.\n",
    "- Round-half-toward-zero: Rounds towards zero if the fraction is exactly ```0.5```.\n",
    "    - Example:\n",
    "        - $1.50 \\rightarrow 1$.\n",
    "        - $-1.50 \\rightarrow -1$.\n",
    "- Round-half-away-zero: Rounds away from zero if the fraction is exactly ```0.5```.\n",
    "    - Example:\n",
    "        - $1.50 \\rightarrow 2$.\n",
    "        - $-1.50 \\rightarrow -2$.\n",
    "- Bankers' Rounding: Rounds to the nearest even number if the fraction is exactly ```0.5```.\n",
    "    - Example:\n",
    "        - $1.50 \\rightarrow 2$.\n",
    "        - $-1.50 \\rightarrow -2$.\n",
    "- Rounding-half-to-odd: Rounds to the nearest odd number if the fraction is exactly ```0.5```.\n",
    "    - Example:\n",
    "        - $1.50 \\rightarrow 1$.\n",
    "        - $-1.50 \\rightarrow -1$.\n",
    "\n",
    "If we always round in the same direction, there is a possibility to increase statistical bias. In this case, Bankers' rounding is the IEEE default rounding mode for floating-point representations; rounding up half the time, and down half the time.\n",
    "\n",
    "If the overflow of the exponent occurs, the result will either be $\\infty$ or $-\\infty$.\n",
    "\n",
    "Floating point operations are not always associative or distributive, due to rounding. We can't reorder operations as we do with integers. \n",
    "\n",
    "For example, suppose we have the following operation $(3.14 + 1e10) - 1e10$. This resulting value is not the same as $3.14 + (1e10 - 1e10)$. This is because 3.14 does not fit into the representation because it's so insignificant compared to the larger number."
   ]
  },
  {
   "cell_type": "markdown",
   "metadata": {},
   "source": [
    "## Number Properties"
   ]
  },
  {
   "cell_type": "markdown",
   "metadata": {},
   "source": [
    "### ```Number.EPSILON```\n",
    "\n",
    "The smallest possible difference between two distinct numbers."
   ]
  },
  {
   "cell_type": "code",
   "execution_count": 178,
   "metadata": {},
   "outputs": [
    {
     "name": "stdout",
     "output_type": "stream",
     "text": [
      "2.220446049250313e-16\n",
      "0.9999999999999998\n",
      "1\n"
     ]
    }
   ],
   "source": [
    "console.log(Number.EPSILON)\n",
    "console.log(1-2.220446049250313e-16); // returns 0.9999999999999998\n",
    "console.log(1-2.220446049250313e-17); // returns 1"
   ]
  },
  {
   "cell_type": "markdown",
   "metadata": {},
   "source": [
    "### ```Number.MAX_VALUE``` and ```Number.MIN_VALUE```"
   ]
  },
  {
   "cell_type": "code",
   "execution_count": 231,
   "metadata": {},
   "outputs": [
    {
     "name": "stdout",
     "output_type": "stream",
     "text": [
      "1.7976931348623157e+308\n",
      "Infinity\n"
     ]
    }
   ],
   "source": [
    "console.log(Number.MAX_VALUE);\n",
    "console.log(Number.MAX_VALUE + 1e300);"
   ]
  },
  {
   "cell_type": "markdown",
   "metadata": {},
   "source": [
    "### ```Number.MAX_SAFE_INTEGER``` and ```Number.MIN_SAFE_INTEGER```"
   ]
  },
  {
   "cell_type": "code",
   "execution_count": 233,
   "metadata": {},
   "outputs": [
    {
     "name": "stdout",
     "output_type": "stream",
     "text": [
      "9007199254740991\n"
     ]
    }
   ],
   "source": [
    "console.log(Number.MAX_SAFE_INTEGER);"
   ]
  },
  {
   "cell_type": "code",
   "execution_count": 234,
   "metadata": {},
   "outputs": [
    {
     "name": "stdout",
     "output_type": "stream",
     "text": [
      "-9007199254740991\n"
     ]
    }
   ],
   "source": [
    "console.log(Number.MIN_SAFE_INTEGER);"
   ]
  },
  {
   "cell_type": "markdown",
   "metadata": {},
   "source": [
    "### ```Number.POSITIVE_INFINITY``` and ```Number.NEGATIVE_INFINITY```"
   ]
  },
  {
   "cell_type": "code",
   "execution_count": 235,
   "metadata": {},
   "outputs": [
    {
     "name": "stdout",
     "output_type": "stream",
     "text": [
      "Infinity\n"
     ]
    }
   ],
   "source": [
    "console.log(Number.POSITIVE_INFINITY);"
   ]
  },
  {
   "cell_type": "code",
   "execution_count": 236,
   "metadata": {},
   "outputs": [
    {
     "name": "stdout",
     "output_type": "stream",
     "text": [
      "-Infinity\n"
     ]
    }
   ],
   "source": [
    "console.log(Number.NEGATIVE_INFINITY);"
   ]
  },
  {
   "cell_type": "markdown",
   "metadata": {},
   "source": [
    "### ```Number.NaN```"
   ]
  },
  {
   "cell_type": "code",
   "execution_count": 237,
   "metadata": {},
   "outputs": [
    {
     "name": "stdout",
     "output_type": "stream",
     "text": [
      "NaN\n"
     ]
    }
   ],
   "source": [
    "console.log(Number.NaN);"
   ]
  },
  {
   "cell_type": "markdown",
   "metadata": {},
   "source": [
    "## Number Methods"
   ]
  },
  {
   "cell_type": "markdown",
   "metadata": {},
   "source": [
    "### Autoboxing"
   ]
  },
  {
   "cell_type": "markdown",
   "metadata": {},
   "source": [
    "### Conversion Methods"
   ]
  },
  {
   "cell_type": "markdown",
   "metadata": {},
   "source": [
    "#### ```Number.toString(base)```"
   ]
  },
  {
   "cell_type": "code",
   "execution_count": 238,
   "metadata": {},
   "outputs": [
    {
     "name": "stdout",
     "output_type": "stream",
     "text": [
      "3\n",
      "3\n"
     ]
    }
   ],
   "source": [
    "console.log(0b0011.toString(10))\n",
    "console.log(0o3)"
   ]
  },
  {
   "cell_type": "markdown",
   "metadata": {},
   "source": [
    "#### ```Number.toFixed(digits)```"
   ]
  },
  {
   "cell_type": "code",
   "execution_count": 239,
   "metadata": {},
   "outputs": [
    {
     "name": "stdout",
     "output_type": "stream",
     "text": [
      "0.5000000000000000000000000000000000000000\n",
      "0.5500000000000000444089209850062616169453\n"
     ]
    }
   ],
   "source": [
    "console.log(Number(\"0.5\").toFixed(40))\n",
    "console.log(Number(\"0.55\").toFixed(40))"
   ]
  },
  {
   "cell_type": "markdown",
   "metadata": {},
   "source": [
    "#### ```Number.toExponential(digits)```"
   ]
  },
  {
   "cell_type": "code",
   "execution_count": 240,
   "metadata": {},
   "outputs": [
    {
     "name": "stdout",
     "output_type": "stream",
     "text": [
      "1.24451e+1\n"
     ]
    }
   ],
   "source": [
    "console.log(12.44509505.toExponential(5))"
   ]
  },
  {
   "cell_type": "markdown",
   "metadata": {},
   "source": [
    "#### ```Number.toPrecision(digits)```"
   ]
  },
  {
   "cell_type": "code",
   "execution_count": 241,
   "metadata": {},
   "outputs": [
    {
     "name": "stdout",
     "output_type": "stream",
     "text": [
      "12.300000000000000710542735760100185871124267578125\n"
     ]
    }
   ],
   "source": [
    "console.log(12.3.toPrecision(50))"
   ]
  },
  {
   "cell_type": "markdown",
   "metadata": {},
   "source": [
    "#### ```valueOf()```"
   ]
  },
  {
   "cell_type": "code",
   "execution_count": 242,
   "metadata": {},
   "outputs": [
    {
     "name": "stdout",
     "output_type": "stream",
     "text": [
      "[Number: 50]\n",
      "50\n"
     ]
    }
   ],
   "source": [
    "let someNum = new Number(50);\n",
    "\n",
    "console.log(someNum);\n",
    "console.log(someNum.valueOf());"
   ]
  },
  {
   "cell_type": "markdown",
   "metadata": {},
   "source": [
    "### Checking and Validating Numbers"
   ]
  },
  {
   "cell_type": "markdown",
   "metadata": {},
   "source": [
    "#### ```isNaN(val)```"
   ]
  },
  {
   "cell_type": "markdown",
   "metadata": {},
   "source": [
    "#### ```isFinite(val)```"
   ]
  },
  {
   "cell_type": "markdown",
   "metadata": {},
   "source": [
    "#### ```Number.isSafeInteger(val)```\n",
    "\n",
    "Determines whether or not a value, $n$, falls within the range $n \\in$ [$-(2^{53}-1)$, $2^{53}-1$]. \n",
    "\n",
    "Recall, this range follows numbers that can be represented under IEEE 7534 double precision number."
   ]
  },
  {
   "cell_type": "code",
   "execution_count": 248,
   "metadata": {},
   "outputs": [
    {
     "name": "stdout",
     "output_type": "stream",
     "text": [
      "true\n"
     ]
    }
   ],
   "source": [
    "console.log(Number.isSafeInteger(Number.MAX_SAFE_INTEGER));"
   ]
  },
  {
   "cell_type": "markdown",
   "metadata": {},
   "source": [
    "### Parsing Numbers from Strings"
   ]
  },
  {
   "cell_type": "markdown",
   "metadata": {},
   "source": [
    "#### ```parseInt(string, radix)```"
   ]
  },
  {
   "cell_type": "code",
   "execution_count": null,
   "metadata": {},
   "outputs": [],
   "source": []
  },
  {
   "cell_type": "markdown",
   "metadata": {},
   "source": [
    "#### ```parseFloat(string)```"
   ]
  },
  {
   "cell_type": "code",
   "execution_count": null,
   "metadata": {},
   "outputs": [],
   "source": []
  },
  {
   "cell_type": "markdown",
   "metadata": {},
   "source": [
    "## ```Math``` Objects"
   ]
  },
  {
   "cell_type": "markdown",
   "metadata": {},
   "source": [
    "### ```Math``` Methods"
   ]
  },
  {
   "cell_type": "markdown",
   "metadata": {},
   "source": [
    "#### ```Math.abs(x)```"
   ]
  },
  {
   "cell_type": "code",
   "execution_count": 249,
   "metadata": {},
   "outputs": [
    {
     "name": "stdout",
     "output_type": "stream",
     "text": [
      "1\n"
     ]
    }
   ],
   "source": [
    "console.log(Math.abs(-1));"
   ]
  },
  {
   "cell_type": "markdown",
   "metadata": {},
   "source": [
    "#### ```Math.round(x)```"
   ]
  },
  {
   "cell_type": "code",
   "execution_count": null,
   "metadata": {},
   "outputs": [],
   "source": []
  },
  {
   "cell_type": "markdown",
   "metadata": {},
   "source": [
    "#### ```Math.floor(x)```"
   ]
  },
  {
   "cell_type": "code",
   "execution_count": null,
   "metadata": {},
   "outputs": [],
   "source": []
  },
  {
   "cell_type": "markdown",
   "metadata": {},
   "source": [
    "#### ```Math.ceil(x)```"
   ]
  },
  {
   "cell_type": "code",
   "execution_count": null,
   "metadata": {},
   "outputs": [],
   "source": []
  },
  {
   "cell_type": "markdown",
   "metadata": {},
   "source": [
    "#### ```Math.trunc(x)```"
   ]
  },
  {
   "cell_type": "code",
   "execution_count": null,
   "metadata": {},
   "outputs": [],
   "source": []
  },
  {
   "cell_type": "markdown",
   "metadata": {},
   "source": [
    "#### ```Math.pow(x, y)```"
   ]
  },
  {
   "cell_type": "code",
   "execution_count": null,
   "metadata": {},
   "outputs": [],
   "source": []
  },
  {
   "cell_type": "markdown",
   "metadata": {},
   "source": [
    "#### ```Math.sqrt(x)```"
   ]
  },
  {
   "cell_type": "code",
   "execution_count": null,
   "metadata": {},
   "outputs": [],
   "source": []
  },
  {
   "cell_type": "markdown",
   "metadata": {},
   "source": [
    "#### ```Math.random(x)```\n",
    "\n",
    "This is a static method that returns a number within the range, [0, 1]. These numbers generated aren't truly generated. The computer is running a deterministic algorithm; i.e. they are *pseudo-random*.\n",
    "\n",
    "This is not necessary but interesting: Pseudorandom numbers are generated using algorithms called PRNGs (pseudorandom number generators) [2]. The algorithm takes an initial value, the seed, and produces a *series* of numbers that appear random.\n",
    "\n",
    "A popular PRNG is the LCG (linear congruential generator). It utilizes a simple linear equation, as follows [3]:\n",
    "\n",
    "```js\n",
    "function linearCongruentialMethod(Xo, m, a, c, randomNums, noOfRandomNums) {\n",
    "    // this code is from: https://www.geeksforgeeks.org/linear-congruence-method-for-generating-pseudo-random-numbers/\n",
    "    randomNums[0] = Xo;\n",
    "    for(let i = 1; i < noOfRandomNums; i++)\n",
    "    {  \n",
    "        randomNums[i] = ((randomNums[i - 1] * a) + c) % m;\n",
    "    }\n",
    "}\n",
    "```"
   ]
  },
  {
   "cell_type": "markdown",
   "metadata": {},
   "source": [
    "#### ```Math.max(a, b, c, …)```"
   ]
  },
  {
   "cell_type": "markdown",
   "metadata": {},
   "source": [
    "#### ```Math.min(a, b, c, …)```"
   ]
  },
  {
   "cell_type": "markdown",
   "metadata": {},
   "source": [
    "## References\n",
    "\n",
    "[1] https://www.ibm.com/docs/en/zvm/7.2?topic=arithmetic-exponential-notation\n",
    "\n",
    "[2] https://stackoverflow.com/questions/33799968/why-does-hex-value-is-returned-as-a-number-in-javascript\n",
    "\n",
    "[3] https://floating-point-gui.de/\n",
    "\n",
    "[4] https://stackoverflow.com/questions/33799968/why-does-hex-value-is-returned-as-a-number-in-javascript\n",
    "\n",
    "[5] https://www.lenovo.com/ca/en/glossary/pseudorandom/"
   ]
  }
 ],
 "metadata": {
  "kernelspec": {
   "display_name": "Deno",
   "language": "typescript",
   "name": "deno"
  },
  "language_info": {
   "codemirror_mode": "typescript",
   "file_extension": ".ts",
   "mimetype": "text/x.typescript",
   "name": "typescript",
   "nbconvert_exporter": "script",
   "pygments_lexer": "typescript",
   "version": "5.6.2"
  }
 },
 "nbformat": 4,
 "nbformat_minor": 2
}
