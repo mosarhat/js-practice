{
 "cells": [
  {
   "cell_type": "markdown",
   "metadata": {},
   "source": [
    "# Numbers\n",
    "\n",
    "Represents IEEE 754 double-precision floating point numbers. Numbers are <span style=\"color: red\">mutable</span>. "
   ]
  },
  {
   "cell_type": "markdown",
   "metadata": {},
   "source": [
    "## Number Creation\n",
    "\n",
    "The following are two ways to create numbers in JavaScript:\n",
    "\n",
    "```js\n",
    "let num = 43; // number literal\n",
    "let num = new Number(); // using \"new\" constructor \n",
    "```\n",
    "\n",
    "Consider the number data type created with the ```new``` constructor. If the argument is omitted, by default, the constructor creates a number object with a primitive value of 0.\n",
    "\n",
    "It's important to note, you should rarely, if ever, be creating numbers using the ```new``` constructor."
   ]
  },
  {
   "cell_type": "markdown",
   "metadata": {},
   "source": [
    "## Special Numeric Values\n",
    "\n",
    "Recall, numbers have the following special numeric values:\n",
    "- ```Infinity```.\n",
    "- ```Infinity```.\n",
    "- ```NaN```.\n",
    "\n",
    "```NaN``` is considered a sticky value within numeric operations. NaN is only considered non-sticky when concatenated with another string, in that case, string coercion takes precedence over numeric coercion.\n",
    "\n",
    "Interestingly, we'll find that in JavaScript, the maximum possible value (before overflow) is ```1.7976931348623157e+308```. The value that numerically comes after overflows to ```+Infinity```."
   ]
  },
  {
   "cell_type": "code",
   "execution_count": null,
   "metadata": {},
   "outputs": [],
   "source": [
    "console.log(Number.MAX_VALUE);\n",
    "console.log(1.797E308);\n",
    "console.log(1.798E308);"
   ]
  },
  {
   "cell_type": "markdown",
   "metadata": {},
   "source": [
    "## Number Notation and Formats\n",
    "\n",
    "Syntactic sugar is a key element of many programming languages; JavaScript is not excluded. With respect to numbers, JavaScript includes a wealth of measures to produce syntactic sugar to improve readability. "
   ]
  },
  {
   "cell_type": "markdown",
   "metadata": {},
   "source": [
    "### Underscore Separator (```_```)\n",
    "\n",
    "The underscore separator, ```_```, can be used to add syntactic sugar to *larger* numbers. They must be placed in-between digits.\n",
    "\n",
    "This separator will also work for other number systems."
   ]
  },
  {
   "cell_type": "code",
   "execution_count": null,
   "metadata": {},
   "outputs": [],
   "source": [
    "console.log(1_000_000); // returns 1000000 (one million)\n",
    "console.log(0xAB_CD_EF); // returns 11259375\n",
    "console.log(0b1_0_10); // returns 10"
   ]
  },
  {
   "cell_type": "markdown",
   "metadata": {},
   "source": [
    "### Exponential Notation (```e``` or ```E```)\n",
    "\n",
    "For larger, and much smaller numbers, exponential notation, ```e/E``` is quite handy. The number to the right of ```e/E``` is called the *exponent*. \n",
    "\n",
    "If the exponent is negative, this means that the decimal point is shifted to the left. If the exponent is positive, this means that the decimal point is shifted to the right of the fixed point number [1]."
   ]
  },
  {
   "cell_type": "code",
   "execution_count": null,
   "metadata": {},
   "outputs": [],
   "source": [
    "let j = 1;\n",
    "while (j < 1e50) {\n",
    "    console.log(j);\n",
    "    j = j * 250\n",
    "}\n",
    "\n",
    "console.log(1e-5)"
   ]
  },
  {
   "cell_type": "markdown",
   "metadata": {},
   "source": [
    "### Number Systems (Binary, Octal, Hexadecimal)\n",
    "\n",
    "Binary, octal, and hexadecimal are number systems, with different bases. Binary is base 2, octal is base 8, hexadecimal is base 16. These are all integer representations. Recall, integers represent positive and negative integers.\n",
    "\n",
    "In JavaScript, these number systems are represented with the following notation:\n",
    "- Binary (base 2): ```0b...```.\n",
    "- Octal (base 8): ```0o...```.\n",
    "- Hexadecimal (base 16): ```0x...```.\n",
    "\n",
    "In JavaScript, these number system are considered syntactic sugar for specifying a number. The console will print numbers in decimal (base 10) [2].\n",
    "\n",
    "The following is an example:"
   ]
  },
  {
   "cell_type": "code",
   "execution_count": null,
   "metadata": {},
   "outputs": [],
   "source": [
    "console.log(`Hexadecimal: ${0xFF}`);\n",
    "console.log(`Octal: ${0o377}`);\n",
    "console.log(`Binary ${0b11111111}`);"
   ]
  },
  {
   "cell_type": "markdown",
   "metadata": {},
   "source": [
    "## How Do Imprecise Calculations Happen?\n",
    "\n",
    "Floating-point numbers have a limited number of digits as they cannot represent $n$ accurately, $\\backepsilon n \\in \\mathbb{R}$ [3]. \n",
    "\n",
    "Suppose we have a value ```0.2```. This value is already rounded to the nearest number in that format. How? Let's take a look using ```toFixed()```:"
   ]
  },
  {
   "cell_type": "code",
   "execution_count": null,
   "metadata": {},
   "outputs": [],
   "source": [
    "console.log(0.2);\n",
    "console.log(0.2.toFixed(25));"
   ]
  },
  {
   "cell_type": "markdown",
   "metadata": {},
   "source": [
    "However, suppose I inspect the value ```0.5```:"
   ]
  },
  {
   "cell_type": "code",
   "execution_count": null,
   "metadata": {},
   "outputs": [],
   "source": [
    "console.log(0.5);\n",
    "console.log((1/(2**52)).toFixed(50));"
   ]
  },
  {
   "cell_type": "markdown",
   "metadata": {},
   "source": [
    "Recall, all numbers in JavaScript are represented through a 64-bit double precision IEEE 754 floating point number. These numbers consist of a signed bit (1 bit), an exponent (11 bits, with a bias), and a mantissa (52 bits, representing the fractional part).\n",
    "\n",
    "As shown above, ```0.5``` can be represented *exactly*, however, this isn't always reliable."
   ]
  },
  {
   "cell_type": "markdown",
   "metadata": {},
   "source": [
    "Within number encoding, floating point numbers are not exact. They are a finite representation, or an approximation, a real value (the mantissa is limited). \n",
    "\n",
    "When operations, such as a simple addition or multiplication are made, the following occurs:\n",
    "    - Compute the exact result. \n",
    "    - If necessary, round the result to make it fit within the desired precision.\n",
    "\n",
    "There are various rounding methods, the following are the most commonly used:\n",
    "- Round-toward-zero: Truncates the decimal.\n",
    "    - Example:\n",
    "        - $1.40 \\rightarrow 1$.\n",
    "        - $-1.50 \\rightarrow -1$.\n",
    "- Round-down: Rounds towards $-\\infty$.\n",
    "    - Example:\n",
    "        - $1.40 \\rightarrow 1$.\n",
    "        - $-1.50 \\rightarrow -2$.\n",
    "- Round-up: Rounds towards $\\infty$.\n",
    "    - Example:\n",
    "        - $1.40 \\rightarrow 2$.\n",
    "        - $-1.50 \\rightarrow -1$.\n",
    "- Round-to-nearest: Rounds to the nearest integer. \n",
    "    - Example:\n",
    "        - $1.40 \\rightarrow 1$.\n",
    "        - When we're right in the middle, we have problems, as its difficult to define. \n",
    "- Round-half-up: Rounds towards positive infinity from half, ```0.5```.\n",
    "    - Example:\n",
    "        - $1.50 \\rightarrow 2$.\n",
    "        - $-1.50 \\rightarrow -1$.\n",
    "- Round-half-down: Rounds towards negative infinity from half, ```0.5```.\n",
    "    - Example:\n",
    "        - $1.50 \\rightarrow 1$.\n",
    "        - $-1.50 \\rightarrow -2$.\n",
    "- Round-half-toward-zero: Rounds towards zero if the fraction is exactly ```0.5```.\n",
    "    - Example:\n",
    "        - $1.50 \\rightarrow 1$.\n",
    "        - $-1.50 \\rightarrow -1$.\n",
    "- Round-half-away-zero: Rounds away from zero if the fraction is exactly ```0.5```.\n",
    "    - Example:\n",
    "        - $1.50 \\rightarrow 2$.\n",
    "        - $-1.50 \\rightarrow -2$.\n",
    "- Bankers' Rounding: Rounds to the nearest even number if the fraction is exactly ```0.5```.\n",
    "    - Example:\n",
    "        - $1.50 \\rightarrow 2$.\n",
    "        - $-1.50 \\rightarrow -2$.\n",
    "- Rounding-half-to-odd: Rounds to the nearest odd number if the fraction is exactly ```0.5```.\n",
    "    - Example:\n",
    "        - $1.50 \\rightarrow 1$.\n",
    "        - $-1.50 \\rightarrow -1$.\n",
    "\n",
    "If we always round in the same direction, there is a possibility to increase statistical bias. In this case, Bankers' rounding is the IEEE default rounding mode for floating-point representations; rounding up half the time, and down half the time.\n",
    "\n",
    "If the overflow of the exponent occurs, the result will either be $\\infty$ or $-\\infty$.\n",
    "\n",
    "Floating point operations are not always associative or distributive, due to rounding. We can't reorder operations as we do with integers. \n",
    "\n",
    "For example, suppose we have the following operation $(3.14 + 1e10) - 1e10$. This resulting value is not the same as $3.14 + (1e10 - 1e10)$. This is because 3.14 does not fit into the representation because it's so insignificant compared to the larger number."
   ]
  },
  {
   "cell_type": "markdown",
   "metadata": {},
   "source": [
    "## Number Properties"
   ]
  },
  {
   "cell_type": "markdown",
   "metadata": {},
   "source": [
    "### ```Number.EPSILON```\n",
    "\n",
    "The smallest possible difference between two distinct numbers."
   ]
  },
  {
   "cell_type": "code",
   "execution_count": null,
   "metadata": {},
   "outputs": [],
   "source": [
    "console.log(Number.EPSILON)\n",
    "console.log(1-2.220446049250313e-16); // returns 0.9999999999999998\n",
    "console.log(1-2.220446049250313e-17); // returns 1"
   ]
  },
  {
   "cell_type": "markdown",
   "metadata": {},
   "source": [
    "### ```Number.MAX_VALUE``` and ```Number.MIN_VALUE```\n",
    "\n",
    "```Number.MAX_VALUE``` represents the maximum value allowable before overflow approaching $\\infty$. This value is ```1.7976931348623157e+308```.\n",
    "\n",
    "```Number.MIN_VALUE``` represents the minimum value allowable before overflow approaching $-\\infty$. This value is ```5e-324```."
   ]
  },
  {
   "cell_type": "code",
   "execution_count": null,
   "metadata": {},
   "outputs": [],
   "source": [
    "console.log(Number.MAX_VALUE);\n",
    "console.log(Number.MAX_VALUE + 1e300);\n",
    "// -----------\n",
    "console.log(Number.MIN_VALUE);\n",
    "console.log(Number.MIN_VALUE);"
   ]
  },
  {
   "cell_type": "markdown",
   "metadata": {},
   "source": [
    "### ```Number.MAX_SAFE_INTEGER``` and ```Number.MIN_SAFE_INTEGER```"
   ]
  },
  {
   "cell_type": "code",
   "execution_count": null,
   "metadata": {},
   "outputs": [],
   "source": [
    "console.log(Number.MAX_SAFE_INTEGER);"
   ]
  },
  {
   "cell_type": "code",
   "execution_count": null,
   "metadata": {},
   "outputs": [],
   "source": [
    "console.log(Number.MIN_SAFE_INTEGER);"
   ]
  },
  {
   "cell_type": "markdown",
   "metadata": {},
   "source": [
    "### Difference Between ```Number.MAX_SAFE_INTEGER/Number.MIN_SAFE_INTEGER``` and ```Number.MAX_VALUE/Number.MIN_VALUE``` and Notes on FLoating Point Math\n",
    "\n",
    "It's really important to note, there is a clear difference between a \"safe integer\", and the upper and lower bounds in which a number can be represented within JavaScript.\n",
    "\n",
    "A \"safe integer\" is the largest, or smallest integer which can be used safely (can be compared, and added without any issues) within IEEE 754 64-bit double-precision floating point format. \n",
    "\n",
    "The maximum value in JavaScript can be found through $2^{1024}$. This is because the exponent has a bias of -1024 to 1024 in a 64-bit floating point number, and can either be 1 or 0. In this case, the largest possible number that can be captured is roughly ```1.78e308```.\n",
    "\n",
    "The minimum value in JavaScript can be found through $2^{-1024}$. You'll notice very quickly, this value does not represent the lowest negative value. Rather, it represents the lowest positive value, or better yet, the value that is the smallest that can be represented instead of 0.\n",
    "\n",
    "Now, earlier on, there has been something that has been touched on, however, I feel the need to really hammer this concept down. With really large or small numbers, the 64-bit double-precision floating point numbers are rounded away due to the limits of floating-point precision.\n",
    "\n",
    "Recall, a IEEE 754 64-bit double-precision can be stored using three parts, a signed bit, an exponent, and the mantissa (significand). The signed bit determines the sign of the number (either positive or negative). The exponent determines the range of the number. The mantissa determines the precision of the number.\n",
    "\n",
    "Since the mantissa has only 52 bits of precision, numbers that require more precision than 52 bits require rounding. In the case of IEEE 754, as aforementioned, Bankers' rounding is considered the default method (rounding half-to-even). This leads to two major issues; limited precision causes small increments to disappear, and larger numbers have wider spacing between values that can be represented. \n",
    "\n",
    "For instance, suppose we have ```0.5```. This can be represented as ```0.1``` in binary. This is clean. The following equation represents the numbers that can be represented considering the positioning of the least significant bit:\n",
    "\n",
    "$$\n",
    "RN = \\frac{1}{2^n}, \\quad \\forall n \\in [0, 52]\n",
    "$$"
   ]
  },
  {
   "cell_type": "code",
   "execution_count": null,
   "metadata": {},
   "outputs": [
    {
     "name": "stdout",
     "output_type": "stream",
     "text": [
      "0.031250000000000000000000000000\n"
     ]
    }
   ],
   "source": [
    "console.log(0.03125.toFixed(30)); // represents 1/2^5"
   ]
  },
  {
   "cell_type": "markdown",
   "metadata": {},
   "source": [
    "However, this isn't the case when we have values such as ```0.1``` or ```0.2```. These values are rounded to the closest representable value under IEEE 754 64-bit double precision guidelines due to the numbers being beyond the 52 bits of precision."
   ]
  },
  {
   "cell_type": "code",
   "execution_count": 89,
   "metadata": {},
   "outputs": [
    {
     "name": "stdout",
     "output_type": "stream",
     "text": [
      "0.0001100110011001100110011001100110011001100110011001101\n",
      "0.001100110011001100110011001100110011001100110011001101\n",
      "0.1\n"
     ]
    }
   ],
   "source": [
    "console.log(0.1.toString(2));\n",
    "console.log(0.2.toString(2));\n",
    "console.log(0.5.toString(2));"
   ]
  },
  {
   "cell_type": "markdown",
   "metadata": {},
   "source": [
    "Hmmm. Notice something interesting? Take some time to see the console outputs pattern (don't read more).\n",
    "\n",
    "After a quick glance, you'll quickly come to the realization that the binary representation is repeating, and doesn't seem to stop repeating. Think about a value such as $\\frac{1}{3}$. This value repeats infinitely in base 10. The same holds true for ```0.1```, however, it repeats in base 2."
   ]
  },
  {
   "cell_type": "code",
   "execution_count": 144,
   "metadata": {},
   "outputs": [
    {
     "name": "stdout",
     "output_type": "stream",
     "text": [
      "false\n",
      "0.3000000000000000444089210\n",
      "0.2999999999999999888977698\n"
     ]
    }
   ],
   "source": [
    "console.log(0.1 + 0.2 === 0.3); // should return false\n",
    "console.log((0.1+0.2).toFixed(25));\n",
    "console.log(0.3.toFixed(25));"
   ]
  },
  {
   "cell_type": "markdown",
   "metadata": {},
   "source": [
    "So, as we've seen before, because of the limited precision that comes with a 52-bit mantissa, fractional approximations yield really funky results. \n",
    "\n",
    "However, the question beckons, how do we deal with these imprecise calculations?\n",
    "\n",
    "We can use ```parseFloat()``` and ```toFixed()``` for smaller operations."
   ]
  },
  {
   "cell_type": "code",
   "execution_count": 199,
   "metadata": {},
   "outputs": [
    {
     "name": "stdout",
     "output_type": "stream",
     "text": [
      "0.3000000000000000444089210\n",
      "0.3\n"
     ]
    }
   ],
   "source": [
    "console.log((0.1+0.2).toFixed(25));\n",
    "console.log(parseFloat((0.1+0.2).toFixed(2)));"
   ]
  },
  {
   "cell_type": "markdown",
   "metadata": {},
   "source": [
    "### ```Number.POSITIVE_INFINITY``` and ```Number.NEGATIVE_INFINITY```"
   ]
  },
  {
   "cell_type": "code",
   "execution_count": 200,
   "metadata": {},
   "outputs": [
    {
     "name": "stdout",
     "output_type": "stream",
     "text": [
      "Infinity\n"
     ]
    }
   ],
   "source": [
    "console.log(Number.POSITIVE_INFINITY);"
   ]
  },
  {
   "cell_type": "code",
   "execution_count": 201,
   "metadata": {},
   "outputs": [
    {
     "name": "stdout",
     "output_type": "stream",
     "text": [
      "-Infinity\n"
     ]
    }
   ],
   "source": [
    "console.log(Number.NEGATIVE_INFINITY);"
   ]
  },
  {
   "cell_type": "markdown",
   "metadata": {},
   "source": [
    "### ```Number.NaN```"
   ]
  },
  {
   "cell_type": "code",
   "execution_count": 202,
   "metadata": {},
   "outputs": [
    {
     "name": "stdout",
     "output_type": "stream",
     "text": [
      "NaN\n"
     ]
    }
   ],
   "source": [
    "console.log(Number.NaN);"
   ]
  },
  {
   "cell_type": "markdown",
   "metadata": {},
   "source": [
    "## Number Methods"
   ]
  },
  {
   "cell_type": "markdown",
   "metadata": {},
   "source": [
    "### Autoboxing"
   ]
  },
  {
   "cell_type": "markdown",
   "metadata": {},
   "source": [
    "### Conversion Methods"
   ]
  },
  {
   "cell_type": "markdown",
   "metadata": {},
   "source": [
    "#### ```Number.toString(base)```"
   ]
  },
  {
   "cell_type": "code",
   "execution_count": 203,
   "metadata": {},
   "outputs": [
    {
     "name": "stdout",
     "output_type": "stream",
     "text": [
      "3\n",
      "3\n"
     ]
    }
   ],
   "source": [
    "console.log(0b0011.toString(10))\n",
    "console.log(0o3)"
   ]
  },
  {
   "cell_type": "markdown",
   "metadata": {},
   "source": [
    "#### ```Number.toFixed(digits)```"
   ]
  },
  {
   "cell_type": "code",
   "execution_count": 204,
   "metadata": {},
   "outputs": [
    {
     "name": "stdout",
     "output_type": "stream",
     "text": [
      "0.5000000000000000000000000000000000000000\n",
      "0.5500000000000000444089209850062616169453\n"
     ]
    }
   ],
   "source": [
    "console.log(Number(\"0.5\").toFixed(40))\n",
    "console.log(Number(\"0.55\").toFixed(40))"
   ]
  },
  {
   "cell_type": "markdown",
   "metadata": {},
   "source": [
    "#### ```Number.toExponential(digits)```"
   ]
  },
  {
   "cell_type": "code",
   "execution_count": 205,
   "metadata": {},
   "outputs": [
    {
     "name": "stdout",
     "output_type": "stream",
     "text": [
      "1.24451e+1\n"
     ]
    }
   ],
   "source": [
    "console.log(12.44509505.toExponential(5))"
   ]
  },
  {
   "cell_type": "markdown",
   "metadata": {},
   "source": [
    "#### ```Number.toPrecision(digits)```"
   ]
  },
  {
   "cell_type": "code",
   "execution_count": 206,
   "metadata": {},
   "outputs": [
    {
     "name": "stdout",
     "output_type": "stream",
     "text": [
      "12.300000000000000710542735760100185871124267578125\n"
     ]
    }
   ],
   "source": [
    "console.log(12.3.toPrecision(50))"
   ]
  },
  {
   "cell_type": "markdown",
   "metadata": {},
   "source": [
    "#### ```valueOf()```"
   ]
  },
  {
   "cell_type": "code",
   "execution_count": 207,
   "metadata": {},
   "outputs": [
    {
     "name": "stdout",
     "output_type": "stream",
     "text": [
      "[Number: 50]\n",
      "50\n"
     ]
    }
   ],
   "source": [
    "let someNum = new Number(50);\n",
    "\n",
    "console.log(someNum);\n",
    "console.log(someNum.valueOf());"
   ]
  },
  {
   "cell_type": "markdown",
   "metadata": {},
   "source": [
    "### Checking and Validating Numbers"
   ]
  },
  {
   "cell_type": "markdown",
   "metadata": {},
   "source": [
    "#### ```isNaN(val)```"
   ]
  },
  {
   "cell_type": "markdown",
   "metadata": {},
   "source": [
    "#### ```isFinite(val)```"
   ]
  },
  {
   "cell_type": "markdown",
   "metadata": {},
   "source": [
    "#### ```Number.isSafeInteger(val)```\n",
    "\n",
    "Determines whether or not a value, $n$, falls within the range $n \\in$ [$-(2^{53}-1)$, $2^{53}-1$]. \n",
    "\n",
    "Recall, this range follows numbers that can be represented under IEEE 7534 double precision number."
   ]
  },
  {
   "cell_type": "code",
   "execution_count": 208,
   "metadata": {},
   "outputs": [
    {
     "name": "stdout",
     "output_type": "stream",
     "text": [
      "true\n"
     ]
    }
   ],
   "source": [
    "console.log(Number.isSafeInteger(Number.MAX_SAFE_INTEGER));"
   ]
  },
  {
   "cell_type": "markdown",
   "metadata": {},
   "source": [
    "### Parsing Numbers from Strings"
   ]
  },
  {
   "cell_type": "markdown",
   "metadata": {},
   "source": [
    "#### ```parseInt(string, radix)```"
   ]
  },
  {
   "cell_type": "code",
   "execution_count": null,
   "metadata": {},
   "outputs": [],
   "source": []
  },
  {
   "cell_type": "markdown",
   "metadata": {},
   "source": [
    "#### ```parseFloat(string)```"
   ]
  },
  {
   "cell_type": "code",
   "execution_count": null,
   "metadata": {},
   "outputs": [],
   "source": []
  },
  {
   "cell_type": "markdown",
   "metadata": {},
   "source": [
    "## ```Math``` Objects"
   ]
  },
  {
   "cell_type": "markdown",
   "metadata": {},
   "source": [
    "### ```Math``` Methods"
   ]
  },
  {
   "cell_type": "markdown",
   "metadata": {},
   "source": [
    "#### ```Math.abs(x)```"
   ]
  },
  {
   "cell_type": "code",
   "execution_count": 209,
   "metadata": {},
   "outputs": [
    {
     "name": "stdout",
     "output_type": "stream",
     "text": [
      "1\n"
     ]
    }
   ],
   "source": [
    "console.log(Math.abs(-1));"
   ]
  },
  {
   "cell_type": "markdown",
   "metadata": {},
   "source": [
    "#### ```Math.round(x)```"
   ]
  },
  {
   "cell_type": "code",
   "execution_count": null,
   "metadata": {},
   "outputs": [],
   "source": []
  },
  {
   "cell_type": "markdown",
   "metadata": {},
   "source": [
    "#### ```Math.floor(x)```"
   ]
  },
  {
   "cell_type": "code",
   "execution_count": null,
   "metadata": {},
   "outputs": [],
   "source": []
  },
  {
   "cell_type": "markdown",
   "metadata": {},
   "source": [
    "#### ```Math.ceil(x)```"
   ]
  },
  {
   "cell_type": "code",
   "execution_count": null,
   "metadata": {},
   "outputs": [],
   "source": []
  },
  {
   "cell_type": "markdown",
   "metadata": {},
   "source": [
    "#### ```Math.trunc(x)```"
   ]
  },
  {
   "cell_type": "code",
   "execution_count": null,
   "metadata": {},
   "outputs": [],
   "source": []
  },
  {
   "cell_type": "markdown",
   "metadata": {},
   "source": [
    "#### ```Math.pow(x, y)```"
   ]
  },
  {
   "cell_type": "code",
   "execution_count": null,
   "metadata": {},
   "outputs": [],
   "source": []
  },
  {
   "cell_type": "markdown",
   "metadata": {},
   "source": [
    "#### ```Math.sqrt(x)```"
   ]
  },
  {
   "cell_type": "code",
   "execution_count": null,
   "metadata": {},
   "outputs": [],
   "source": []
  },
  {
   "cell_type": "markdown",
   "metadata": {},
   "source": [
    "#### ```Math.random(x)```\n",
    "\n",
    "This is a static method that returns a number within the range, [0, 1]. These numbers generated aren't truly generated. The computer is running a deterministic algorithm; i.e. they are *pseudo-random*.\n",
    "\n",
    "This is not necessary but interesting: Pseudorandom numbers are generated using algorithms called PRNGs (pseudorandom number generators) [2]. The algorithm takes an initial value, the seed, and produces a *series* of numbers that appear random.\n",
    "\n",
    "A popular PRNG is the LCG (linear congruential generator). It utilizes a simple linear equation, as follows [3]:\n",
    "\n",
    "```js\n",
    "function linearCongruentialMethod(Xo, m, a, c, randomNums, noOfRandomNums) {\n",
    "    // this code is from: https://www.geeksforgeeks.org/linear-congruence-method-for-generating-pseudo-random-numbers/\n",
    "    randomNums[0] = Xo;\n",
    "    for(let i = 1; i < noOfRandomNums; i++)\n",
    "    {  \n",
    "        randomNums[i] = ((randomNums[i - 1] * a) + c) % m;\n",
    "    }\n",
    "}\n",
    "```"
   ]
  },
  {
   "cell_type": "markdown",
   "metadata": {},
   "source": [
    "#### ```Math.max(a, b, c, …)```"
   ]
  },
  {
   "cell_type": "markdown",
   "metadata": {},
   "source": [
    "#### ```Math.min(a, b, c, …)```"
   ]
  },
  {
   "cell_type": "markdown",
   "metadata": {},
   "source": [
    "## References\n",
    "\n",
    "[1] https://www.ibm.com/docs/en/zvm/7.2?topic=arithmetic-exponential-notation\n",
    "\n",
    "[2] https://stackoverflow.com/questions/33799968/why-does-hex-value-is-returned-as-a-number-in-javascript\n",
    "\n",
    "[3] https://floating-point-gui.de/\n",
    "\n",
    "[4] https://stackoverflow.com/questions/33799968/why-does-hex-value-is-returned-as-a-number-in-javascript\n",
    "\n",
    "[5] https://stackoverflow.com/questions/34799226/whats-the-difference-between-js-number-max-safe-integer-and-max-value#:~:text=Safe%20refers%20to%20the%20ability,and%20to%20correctly%20compare%20them.&text=MAX_VALUE%20on%20the%20other%20hand%2C%20has%20a%20value%20of%20approximately,MAX_VALUE%20are%20represented%20as%20Infinity.\n",
    "\n",
    "[6] https://stackoverflow.com/questions/56431024/javascript-min-value-vs-min-safe-integer-vs-infinity\n",
    "\n",
    "[7] https://stackoverflow.com/questions/1458633/how-can-i-deal-with-floating-point-number-precision-in-javascript\n",
    "\n",
    "[x] https://www.lenovo.com/ca/en/glossary/pseudorandom/"
   ]
  }
 ],
 "metadata": {
  "kernelspec": {
   "display_name": "Deno",
   "language": "typescript",
   "name": "deno"
  },
  "language_info": {
   "codemirror_mode": "typescript",
   "file_extension": ".ts",
   "mimetype": "text/x.typescript",
   "name": "typescript",
   "nbconvert_exporter": "script",
   "pygments_lexer": "typescript",
   "version": "5.6.2"
  }
 },
 "nbformat": 4,
 "nbformat_minor": 2
}
