{
 "cells": [
  {
   "cell_type": "markdown",
   "metadata": {},
   "source": [
    "# Numbers"
   ]
  },
  {
   "cell_type": "markdown",
   "metadata": {},
   "source": [
    "## Special Numeric Values\n",
    "\n",
    "Recall, numbers have the following special numeric types:\n",
    "- ```Infinity```.\n",
    "- ```-Infinity```.\n",
    "- ```NaN```."
   ]
  },
  {
   "cell_type": "markdown",
   "metadata": {},
   "source": [
    "## Number Notation & Formats"
   ]
  },
  {
   "cell_type": "markdown",
   "metadata": {},
   "source": [
    "### Underscore Separator\n",
    "\n",
    "Underscores ```_``` can be used to add syntactic sugar to large numbers."
   ]
  },
  {
   "cell_type": "code",
   "execution_count": 3,
   "metadata": {},
   "outputs": [
    {
     "name": "stdout",
     "output_type": "stream",
     "text": [
      "1000000\n",
      "1000000\n"
     ]
    }
   ],
   "source": [
    "let million = 1_000_000;\n",
    "console.log(million);"
   ]
  },
  {
   "cell_type": "markdown",
   "metadata": {},
   "source": [
    "### Scientific Notation\n",
    "\n",
    "For larger numbers, scientific notations can be used, ```e```.\n",
    "\n",
    "To represent really small numbers (numbers between -1 and 0, or 0 and 1), scientific notation can also be used (```e```). "
   ]
  },
  {
   "cell_type": "code",
   "execution_count": 14,
   "metadata": {},
   "outputs": [
    {
     "name": "stdout",
     "output_type": "stream",
     "text": [
      "One million (integer): 1000000\n",
      "One tenth (float): 0.1\n"
     ]
    }
   ],
   "source": [
    "console.log(`One million (integer): ${1e6}`);\n",
    "console.log(`One tenth (float): ${1e-1}`);"
   ]
  },
  {
   "cell_type": "markdown",
   "metadata": {},
   "source": [
    "### Hex, Binary, and Octal Numbers (Different Number Systems)\n",
    "\n",
    "Binary, octal, and hexadecimal are number systems, with different bases. Binary is base 2, octal is base 8, hexadecimal is base 16. These are all integer representations. Recall, integers represent positive and negative integers.\n",
    "\n",
    "In JavaScript, these number systems are represented with the following notation:\n",
    "- Binary (base 2): ```0b...```.\n",
    "- Octal (base 8): ```0o...```.\n",
    "- Hexadecimal (base 16): ```0x...```.\n",
    "\n",
    "In JavaScript, these number system are considered syntactic sugar for specifying a number. The console will print numbers in decimal (base 10) [1].\n",
    "\n",
    "The following is an example:"
   ]
  },
  {
   "cell_type": "code",
   "execution_count": 21,
   "metadata": {},
   "outputs": [
    {
     "name": "stdout",
     "output_type": "stream",
     "text": [
      "Hexadecimal: 255\n",
      "Octal: 255\n",
      "Binary 255\n"
     ]
    }
   ],
   "source": [
    "console.log(`Hexadecimal: ${0xFF}`);\n",
    "console.log(`Octal: ${0o377}`);\n",
    "console.log(`Binary ${0b11111111}`);"
   ]
  },
  {
   "cell_type": "markdown",
   "metadata": {},
   "source": [
    "## Rounding Numbers"
   ]
  },
  {
   "cell_type": "code",
   "execution_count": 22,
   "metadata": {},
   "outputs": [],
   "source": [
    "const NUMBER_ONE = 3.2;\n",
    "const NUMBER_TWO = 3.6;\n",
    "const NUMBER_THREE = 3.51111;"
   ]
  },
  {
   "cell_type": "markdown",
   "metadata": {},
   "source": [
    "### ```Math.floor(x)```\n",
    "\n",
    "```Math.floor(x)``` rounds down regardless of the decimal point. "
   ]
  },
  {
   "cell_type": "code",
   "execution_count": 24,
   "metadata": {},
   "outputs": [
    {
     "name": "stdout",
     "output_type": "stream",
     "text": [
      "3\n",
      "3\n",
      "3\n"
     ]
    }
   ],
   "source": [
    "console.log(Math.floor(NUMBER_ONE));\n",
    "console.log(Math.floor(NUMBER_TWO));\n",
    "console.log(Math.floor(NUMBER_THREE));"
   ]
  },
  {
   "cell_type": "markdown",
   "metadata": {},
   "source": [
    "### ```Math.ceil(x)```\n",
    "\n",
    "```Math.ceil(x)``` rounds up regardless of the decimal point. "
   ]
  },
  {
   "cell_type": "code",
   "execution_count": 25,
   "metadata": {},
   "outputs": [
    {
     "name": "stdout",
     "output_type": "stream",
     "text": [
      "4\n",
      "4\n",
      "4\n"
     ]
    }
   ],
   "source": [
    "console.log(Math.ceil(NUMBER_ONE));\n",
    "console.log(Math.ceil(NUMBER_TWO));\n",
    "console.log(Math.ceil(NUMBER_THREE));"
   ]
  },
  {
   "cell_type": "markdown",
   "metadata": {},
   "source": [
    "### ```Math.round(x)```\n",
    "\n",
    "```Math.round(x)``` rounds to the nearest integer."
   ]
  },
  {
   "cell_type": "code",
   "execution_count": 26,
   "metadata": {},
   "outputs": [
    {
     "name": "stdout",
     "output_type": "stream",
     "text": [
      "3\n",
      "4\n",
      "4\n"
     ]
    }
   ],
   "source": [
    "console.log(Math.round(NUMBER_ONE));\n",
    "console.log(Math.round(NUMBER_TWO));\n",
    "console.log(Math.round(NUMBER_THREE));"
   ]
  },
  {
   "cell_type": "markdown",
   "metadata": {},
   "source": [
    "### ```Math.trunc(x)``` (not supported by Internet Explorer)\n",
    "\n",
    "```Math.trunc(x)``` removes the decimal part."
   ]
  },
  {
   "cell_type": "code",
   "execution_count": 27,
   "metadata": {},
   "outputs": [
    {
     "name": "stdout",
     "output_type": "stream",
     "text": [
      "3\n",
      "3\n",
      "3\n"
     ]
    }
   ],
   "source": [
    "console.log(Math.trunc(NUMBER_ONE));\n",
    "console.log(Math.trunc(NUMBER_TWO));\n",
    "console.log(Math.trunc(NUMBER_THREE));"
   ]
  },
  {
   "cell_type": "markdown",
   "metadata": {},
   "source": [
    "### ```num.toFixed(precision)```\n",
    "\n",
    "This returns a ```string``` data type with ```n``` decimal places. "
   ]
  },
  {
   "cell_type": "code",
   "execution_count": 37,
   "metadata": {},
   "outputs": [
    {
     "name": "stdout",
     "output_type": "stream",
     "text": [
      "12.34500000000000063949\n",
      "12.3\n"
     ]
    }
   ],
   "source": [
    "console.log(12.345.toFixed(20));\n",
    "console.log(12.345.toFixed(1));"
   ]
  },
  {
   "cell_type": "markdown",
   "metadata": {},
   "source": [
    "## Extra Useful Math Functions"
   ]
  },
  {
   "cell_type": "markdown",
   "metadata": {},
   "source": [
    "### ```Math.random()```\n",
    "\n",
    "This is a static method that returns a number within the range, [0, 1]. These numbers generated aren't truly generated. The computer is running a deterministic algorithm; i.e. they are *pseudo-random*.\n",
    "\n",
    "This is not necessary but interesting: Pseudorandom numbers are generated using algorithms called PRNGs (pseudorandom number generators) [2]. The algorithm takes an initial value, the seed, and produces a *series* of numbers that appear random.\n",
    "\n",
    "A popular PRNG is the LCG (linear congruential generator). It utilizes a simple linear equation, as follows [3]:\n",
    "\n",
    "```js\n",
    "function linearCongruentialMethod(Xo, m, a, c, randomNums, noOfRandomNums) {\n",
    "    // this code is from: https://www.geeksforgeeks.org/linear-congruence-method-for-generating-pseudo-random-numbers/\n",
    "    randomNums[0] = Xo;\n",
    "    for(let i = 1; i < noOfRandomNums; i++)\n",
    "    {  \n",
    "        randomNums[i] = ((randomNums[i - 1] * a) + c) % m;\n",
    "    }\n",
    "}\n",
    "```"
   ]
  },
  {
   "cell_type": "code",
   "execution_count": 57,
   "metadata": {},
   "outputs": [
    {
     "name": "stdout",
     "output_type": "stream",
     "text": [
      "[\n",
      "      0.1,    81.5,\n",
      "   6186.5,  5302.5,\n",
      "   4539.5, 12851.5,\n",
      "  46418.5,  8000.5,\n",
      "  10278.5, 50054.5\n",
      "]\n"
     ]
    }
   ],
   "source": [
    "function linearCongruentialMethod(Xo, m, a, c, randomNums=[], noOfRandomNums) {\n",
    "    // this code is from: https://www.geeksforgeeks.org/linear-congruence-method-for-generating-pseudo-random-numbers/\n",
    "    randomNums[0] = Xo;\n",
    "    for(let i = 1; i < noOfRandomNums; i++)\n",
    "    {  \n",
    "        randomNums[i] = ((randomNums[i - 1] * a) + c) % m;\n",
    "    }\n",
    "    return randomNums;\n",
    "}\n",
    "\n",
    "console.log(linearCongruentialMethod(0.1, 2**16 + 1, 75, 74, [], 10)); // follows ZX81 (made in 1981)\n"
   ]
  },
  {
   "cell_type": "markdown",
   "metadata": {},
   "source": [
    "### ```Math.max(a, b, c, …)```\n",
    "\n",
    "Returns the largest of the arguments."
   ]
  },
  {
   "cell_type": "code",
   "execution_count": 58,
   "metadata": {},
   "outputs": [
    {
     "name": "stdout",
     "output_type": "stream",
     "text": [
      "34\n"
     ]
    }
   ],
   "source": [
    "console.log(Math.max(1,2,34)); // returns 34"
   ]
  },
  {
   "cell_type": "markdown",
   "metadata": {},
   "source": [
    "### ```Math.min(a, b, c, …)```\n",
    "\n",
    "Returns the smallest of the arguments."
   ]
  },
  {
   "cell_type": "code",
   "execution_count": 59,
   "metadata": {},
   "outputs": [
    {
     "name": "stdout",
     "output_type": "stream",
     "text": [
      "1\n"
     ]
    }
   ],
   "source": [
    "console.log(Math.min(1,2,34)); // returns 34"
   ]
  },
  {
   "cell_type": "markdown",
   "metadata": {},
   "source": [
    "### ```Math.pow(n, exp)```\n",
    "\n",
    "Returns the equivalent of $n^{exp}$."
   ]
  },
  {
   "cell_type": "code",
   "execution_count": 60,
   "metadata": {},
   "outputs": [
    {
     "name": "stdout",
     "output_type": "stream",
     "text": [
      "8\n"
     ]
    }
   ],
   "source": [
    "console.log(Math.pow(2, 3));"
   ]
  },
  {
   "cell_type": "markdown",
   "metadata": {},
   "source": [
    "## How Do Imprecise Calculations Happen?\n",
    "\n",
    "https://floating-point-gui.de/\n",
    "\n"
   ]
  },
  {
   "cell_type": "markdown",
   "metadata": {},
   "source": [
    "## Checking for Special Numbers"
   ]
  },
  {
   "cell_type": "markdown",
   "metadata": {},
   "source": [
    "### ```isNaN```\n",
    "\n",
    "Checks if a value is ```NaN``` after converting to a number, and returns ```true```, or ```false```.\n",
    "\n",
    "This is a static method, but can be called within an instance."
   ]
  },
  {
   "cell_type": "code",
   "execution_count": 6,
   "metadata": {},
   "outputs": [
    {
     "name": "stdout",
     "output_type": "stream",
     "text": [
      "true\n",
      "true\n"
     ]
    }
   ],
   "source": [
    "console.log(isNaN(NaN));\n",
    "console.log(Number.isNaN(\"abc\"/25));"
   ]
  },
  {
   "cell_type": "markdown",
   "metadata": {},
   "source": [
    "### ```isFinite```\n",
    "\n",
    "Determines whether a value is finite, by first converting the value to a number. If it is finite, it returns ```true```, otherwise ```false```.\n",
    "\n",
    "This is a static method, but can be called within an instance."
   ]
  },
  {
   "cell_type": "code",
   "execution_count": 4,
   "metadata": {},
   "outputs": [
    {
     "name": "stdout",
     "output_type": "stream",
     "text": [
      "false\n",
      "true\n"
     ]
    }
   ],
   "source": [
    "console.log(isFinite(\"abc\")); // returns false\n",
    "console.log(isFinite(2)); // returns true"
   ]
  },
  {
   "cell_type": "markdown",
   "metadata": {},
   "source": [
    "### ```Number.isSafeInteger```\n",
    "\n",
    "Determines whether or not a value, $n$, falls within the range $n \\in$ [$-(2^{53}-1)$, $2^{53}-1$]. \n",
    "\n",
    "Recall, this range follows numbers that can be represented under IEEE 7534 double precision number."
   ]
  },
  {
   "cell_type": "code",
   "execution_count": 8,
   "metadata": {},
   "outputs": [
    {
     "name": "stdout",
     "output_type": "stream",
     "text": [
      "false\n",
      "true\n"
     ]
    }
   ],
   "source": [
    "console.log(Number.isSafeInteger(2**53)); // returns false\n",
    "console.log(Number.isSafeInteger(2**53 - 1)); // returns true"
   ]
  },
  {
   "cell_type": "markdown",
   "metadata": {},
   "source": [
    "### ```Object.is(a, b)```\n"
   ]
  },
  {
   "cell_type": "markdown",
   "metadata": {},
   "source": [
    "## Parsing Numbers from Strings"
   ]
  },
  {
   "cell_type": "markdown",
   "metadata": {},
   "source": [
    "### ```parseInt```"
   ]
  },
  {
   "cell_type": "markdown",
   "metadata": {},
   "source": [
    "### ```parseFloat```"
   ]
  },
  {
   "cell_type": "markdown",
   "metadata": {},
   "source": [
    "## Number Instance Methods"
   ]
  },
  {
   "cell_type": "markdown",
   "metadata": {},
   "source": [
    "### ```Number.prototype.toExponential()```\n"
   ]
  },
  {
   "cell_type": "markdown",
   "metadata": {},
   "source": [
    "### ```Number.prototype.toFixed()```\n"
   ]
  },
  {
   "cell_type": "markdown",
   "metadata": {},
   "source": [
    "### ```Number.prototype.toString()```"
   ]
  },
  {
   "cell_type": "markdown",
   "metadata": {},
   "source": [
    "### ```Number.prototype.valueOf()```"
   ]
  },
  {
   "cell_type": "markdown",
   "metadata": {},
   "source": [
    "## References\n",
    "\n",
    "[1] https://stackoverflow.com/questions/33799968/why-does-hex-value-is-returned-as-a-number-in-javascript\n",
    "\n",
    "[2] https://www.lenovo.com/ca/en/glossary/pseudorandom/\n",
    "\n",
    "[3] https://www.geeksforgeeks.org/linear-congruence-method-for-generating-pseudo-random-numbers/"
   ]
  }
 ],
 "metadata": {
  "kernelspec": {
   "display_name": "Deno",
   "language": "typescript",
   "name": "deno"
  },
  "language_info": {
   "codemirror_mode": "typescript",
   "file_extension": ".ts",
   "mimetype": "text/x.typescript",
   "name": "typescript",
   "nbconvert_exporter": "script",
   "pygments_lexer": "typescript",
   "version": "5.6.2"
  }
 },
 "nbformat": 4,
 "nbformat_minor": 2
}
