{
 "cells": [
  {
   "cell_type": "markdown",
   "metadata": {},
   "source": [
    "# Numbers\n",
    "\n",
    "Represents IEEE 754 double-precision floating point numbers. Numbers are <span style=\"color: red\">mutable</span>. "
   ]
  },
  {
   "cell_type": "markdown",
   "metadata": {},
   "source": [
    "## Number Creation\n",
    "\n",
    "The following are two ways to create numbers in JavaScript:\n",
    "\n",
    "```js\n",
    "let num = 43; // number literal\n",
    "let num = new Number(); // using \"new\" constructor (object)\n",
    "```\n",
    "\n",
    "Consider the number data type created with the ```new``` constructor. If the argument is omitted, by default, the constructor creates a number object with a primitive value of 0.\n",
    "\n",
    "It's important to note, you should rarely, if ever, be creating numbers using the ```new``` constructor."
   ]
  },
  {
   "cell_type": "markdown",
   "metadata": {},
   "source": [
    "## Special Numeric Values\n",
    "\n",
    "Recall, numbers have the following special numeric values:\n",
    "- ```Infinity```.\n",
    "- ```Infinity```.\n",
    "- ```NaN```.\n",
    "\n",
    "```NaN``` is considered a sticky value within numeric operations. NaN is only considered non-sticky when concatenated with another string, in that case, string coercion takes precedence over numeric coercion.\n",
    "\n",
    "Interestingly, we'll find that in JavaScript, the maximum possible value (before overflow) is ```1.7976931348623157e+308```. The value that numerically comes after overflows to ```+Infinity```."
   ]
  },
  {
   "cell_type": "code",
   "execution_count": 829,
   "metadata": {},
   "outputs": [
    {
     "name": "stdout",
     "output_type": "stream",
     "text": [
      "1.7976931348623157e+308\n",
      "1.797e+308\n",
      "Infinity\n"
     ]
    }
   ],
   "source": [
    "console.log(Number.MAX_VALUE);\n",
    "console.log(1.797E308);\n",
    "console.log(1.798E308);"
   ]
  },
  {
   "cell_type": "markdown",
   "metadata": {},
   "source": [
    "## Number Notation and Formats\n",
    "\n",
    "Syntactic sugar is a key element of many programming languages; JavaScript is not excluded. With respect to numbers, JavaScript includes a wealth of measures to produce syntactic sugar to improve readability. "
   ]
  },
  {
   "cell_type": "markdown",
   "metadata": {},
   "source": [
    "### Underscore Separator (```_```)\n",
    "\n",
    "The underscore separator, ```_```, can be used to add syntactic sugar to *larger* numbers. They must be placed in-between digits.\n",
    "\n",
    "This separator will also work for other number systems."
   ]
  },
  {
   "cell_type": "code",
   "execution_count": 830,
   "metadata": {},
   "outputs": [
    {
     "name": "stdout",
     "output_type": "stream",
     "text": [
      "1000000\n",
      "11259375\n",
      "10\n"
     ]
    }
   ],
   "source": [
    "console.log(1_000_000); // returns 1000000 (one million)\n",
    "console.log(0xAB_CD_EF); // returns 11259375\n",
    "console.log(0b1_0_10); // returns 10"
   ]
  },
  {
   "cell_type": "markdown",
   "metadata": {},
   "source": [
    "### Exponential Notation (```e``` or ```E```)\n",
    "\n",
    "For larger, and much smaller numbers, exponential notation, ```e/E``` is quite handy. The number to the right of ```e/E``` is called the *exponent*. \n",
    "\n",
    "If the exponent is negative, this means that the decimal point is shifted to the left. If the exponent is positive, this means that the decimal point is shifted to the right of the fixed point number [1]."
   ]
  },
  {
   "cell_type": "code",
   "execution_count": 831,
   "metadata": {},
   "outputs": [
    {
     "name": "stdout",
     "output_type": "stream",
     "text": [
      "1\n",
      "250\n",
      "62500\n",
      "15625000\n",
      "3906250000\n",
      "976562500000\n",
      "244140625000000\n",
      "61035156250000000\n",
      "15258789062500000000\n",
      "3.814697265625e+21\n",
      "9.5367431640625e+23\n",
      "2.3841857910156252e+26\n",
      "5.960464477539063e+28\n",
      "1.4901161193847658e+31\n",
      "3.725290298461914e+33\n",
      "9.313225746154786e+35\n",
      "2.3283064365386964e+38\n",
      "5.820766091346741e+40\n",
      "1.4551915228366853e+43\n",
      "3.637978807091713e+45\n",
      "9.094947017729284e+47\n",
      "0.00001\n"
     ]
    }
   ],
   "source": [
    "let j = 1;\n",
    "while (j < 1e50) {\n",
    "    console.log(j);\n",
    "    j = j * 250\n",
    "}\n",
    "\n",
    "console.log(1e-5)"
   ]
  },
  {
   "cell_type": "markdown",
   "metadata": {},
   "source": [
    "### Number Systems (Binary, Octal, Hexadecimal)\n",
    "\n",
    "Binary, octal, and hexadecimal are number systems, with different bases. Binary is base 2, octal is base 8, hexadecimal is base 16. These are all integer representations. Recall, integers represent positive and negative integers.\n",
    "\n",
    "In JavaScript, these number systems are represented with the following notation:\n",
    "- Binary (base 2): ```0b...```.\n",
    "- Octal (base 8): ```0o...```.\n",
    "- Hexadecimal (base 16): ```0x...```.\n",
    "\n",
    "In JavaScript, these number system are considered syntactic sugar for specifying a number. The console will print numbers in decimal (base 10) [2].\n",
    "\n",
    "The following is an example:"
   ]
  },
  {
   "cell_type": "code",
   "execution_count": 832,
   "metadata": {},
   "outputs": [
    {
     "name": "stdout",
     "output_type": "stream",
     "text": [
      "Hexadecimal: 255\n",
      "Octal: 255\n",
      "Binary 255\n"
     ]
    }
   ],
   "source": [
    "console.log(`Hexadecimal: ${0xFF}`);\n",
    "console.log(`Octal: ${0o377}`);\n",
    "console.log(`Binary ${0b11111111}`);"
   ]
  },
  {
   "cell_type": "markdown",
   "metadata": {},
   "source": [
    "## How Do Imprecise Calculations Happen?\n",
    "\n",
    "Floating-point numbers have a limited number of digits as they cannot represent $n$ accurately, $\\backepsilon n \\in \\mathbb{R}$ [3]. \n",
    "\n",
    "Suppose we have a value ```0.2```. This value is already rounded to the nearest number in that format. How? Let's take a look using ```toFixed()```:"
   ]
  },
  {
   "cell_type": "code",
   "execution_count": 833,
   "metadata": {},
   "outputs": [
    {
     "name": "stdout",
     "output_type": "stream",
     "text": [
      "0.2\n",
      "0.2000000000000000111022302\n"
     ]
    }
   ],
   "source": [
    "console.log(0.2);\n",
    "console.log(0.2.toFixed(25));"
   ]
  },
  {
   "cell_type": "markdown",
   "metadata": {},
   "source": [
    "However, suppose I inspect the value ```0.5```:"
   ]
  },
  {
   "cell_type": "code",
   "execution_count": 834,
   "metadata": {},
   "outputs": [
    {
     "name": "stdout",
     "output_type": "stream",
     "text": [
      "0.5\n",
      "0.00000000000000022204460492503130808472633361816406\n"
     ]
    }
   ],
   "source": [
    "console.log(0.5);\n",
    "console.log((1/(2**52)).toFixed(50));"
   ]
  },
  {
   "cell_type": "markdown",
   "metadata": {},
   "source": [
    "Recall, all numbers in JavaScript are represented through a 64-bit double precision IEEE 754 floating point number. These numbers consist of a signed bit (1 bit), an exponent (11 bits, with a bias), and a mantissa (52 bits, representing the fractional part).\n",
    "\n",
    "As shown above, ```0.5``` can be represented *exactly*, however, this isn't always reliable."
   ]
  },
  {
   "cell_type": "markdown",
   "metadata": {},
   "source": [
    "Within number encoding, floating point numbers are not exact. They are a finite representation, or an approximation, a real value (the mantissa is limited). \n",
    "\n",
    "When operations, such as a simple addition or multiplication are made, the following occurs:\n",
    "    - Compute the exact result. \n",
    "    - If necessary, round the result to make it fit within the desired precision.\n",
    "\n",
    "There are various rounding methods, the following are the most commonly used:\n",
    "- Round-toward-zero: Truncates the decimal.\n",
    "    - Example:\n",
    "        - $1.40 \\rightarrow 1$.\n",
    "        - $-1.50 \\rightarrow -1$.\n",
    "- Round-down: Rounds towards $-\\infty$.\n",
    "    - Example:\n",
    "        - $1.40 \\rightarrow 1$.\n",
    "        - $-1.50 \\rightarrow -2$.\n",
    "- Round-up: Rounds towards $\\infty$.\n",
    "    - Example:\n",
    "        - $1.40 \\rightarrow 2$.\n",
    "        - $-1.50 \\rightarrow -1$.\n",
    "- Round-to-nearest: Rounds to the nearest integer. \n",
    "    - Example:\n",
    "        - $1.40 \\rightarrow 1$.\n",
    "        - When we're right in the middle, we have problems, as its difficult to define. \n",
    "- Round-half-up: Rounds towards positive infinity from half, ```0.5```.\n",
    "    - Example:\n",
    "        - $1.50 \\rightarrow 2$.\n",
    "        - $-1.50 \\rightarrow -1$.\n",
    "- Round-half-down: Rounds towards negative infinity from half, ```0.5```.\n",
    "    - Example:\n",
    "        - $1.50 \\rightarrow 1$.\n",
    "        - $-1.50 \\rightarrow -2$.\n",
    "- Round-half-toward-zero: Rounds towards zero if the fraction is exactly ```0.5```.\n",
    "    - Example:\n",
    "        - $1.50 \\rightarrow 1$.\n",
    "        - $-1.50 \\rightarrow -1$.\n",
    "- Round-half-away-zero: Rounds away from zero if the fraction is exactly ```0.5```.\n",
    "    - Example:\n",
    "        - $1.50 \\rightarrow 2$.\n",
    "        - $-1.50 \\rightarrow -2$.\n",
    "- Bankers' Rounding: Rounds to the nearest even number if the fraction is exactly ```0.5```.\n",
    "    - Example:\n",
    "        - $1.50 \\rightarrow 2$.\n",
    "        - $-1.50 \\rightarrow -2$.\n",
    "- Rounding-half-to-odd: Rounds to the nearest odd number if the fraction is exactly ```0.5```.\n",
    "    - Example:\n",
    "        - $1.50 \\rightarrow 1$.\n",
    "        - $-1.50 \\rightarrow -1$.\n",
    "\n",
    "If we always round in the same direction, there is a possibility to increase statistical bias. In this case, Bankers' rounding is the IEEE default rounding mode for floating-point representations; rounding up half the time, and down half the time.\n",
    "\n",
    "If the overflow of the exponent occurs, the result will either be $\\infty$ or $-\\infty$.\n",
    "\n",
    "Floating point operations are not always associative or distributive, due to rounding. We can't reorder operations as we do with integers. \n",
    "\n",
    "For example, suppose we have the following operation $(3.14 + 1e10) - 1e10$. This resulting value is not the same as $3.14 + (1e10 - 1e10)$. This is because 3.14 does not fit into the representation because it's so insignificant compared to the larger number."
   ]
  },
  {
   "cell_type": "markdown",
   "metadata": {},
   "source": [
    "## Number Properties"
   ]
  },
  {
   "cell_type": "markdown",
   "metadata": {},
   "source": [
    "### ```Number.EPSILON```\n",
    "\n",
    "The smallest possible difference between two distinct numbers."
   ]
  },
  {
   "cell_type": "code",
   "execution_count": 835,
   "metadata": {},
   "outputs": [
    {
     "name": "stdout",
     "output_type": "stream",
     "text": [
      "2.220446049250313e-16\n",
      "0.9999999999999998\n",
      "1\n"
     ]
    }
   ],
   "source": [
    "console.log(Number.EPSILON)\n",
    "console.log(1-2.220446049250313e-16); // returns 0.9999999999999998\n",
    "console.log(1-2.220446049250313e-17); // returns 1"
   ]
  },
  {
   "cell_type": "markdown",
   "metadata": {},
   "source": [
    "### ```Number.MAX_VALUE``` and ```Number.MIN_VALUE```\n",
    "\n",
    "```Number.MAX_VALUE``` represents the maximum value allowable before overflow approaching $\\infty$. This value is ```1.7976931348623157e+308```.\n",
    "\n",
    "```Number.MIN_VALUE``` represents the minimum value allowable before overflow approaching $-\\infty$. This value is ```5e-324```."
   ]
  },
  {
   "cell_type": "code",
   "execution_count": 836,
   "metadata": {},
   "outputs": [
    {
     "name": "stdout",
     "output_type": "stream",
     "text": [
      "1.7976931348623157e+308\n",
      "Infinity\n",
      "5e-324\n",
      "5e-324\n"
     ]
    }
   ],
   "source": [
    "console.log(Number.MAX_VALUE);\n",
    "console.log(Number.MAX_VALUE + 1e300);\n",
    "// -----------\n",
    "console.log(Number.MIN_VALUE);\n",
    "console.log(Number.MIN_VALUE);"
   ]
  },
  {
   "cell_type": "markdown",
   "metadata": {},
   "source": [
    "### ```Number.MAX_SAFE_INTEGER``` and ```Number.MIN_SAFE_INTEGER```"
   ]
  },
  {
   "cell_type": "code",
   "execution_count": 837,
   "metadata": {},
   "outputs": [
    {
     "name": "stdout",
     "output_type": "stream",
     "text": [
      "9007199254740991\n"
     ]
    }
   ],
   "source": [
    "console.log(Number.MAX_SAFE_INTEGER);"
   ]
  },
  {
   "cell_type": "code",
   "execution_count": 804,
   "metadata": {},
   "outputs": [
    {
     "name": "stdout",
     "output_type": "stream",
     "text": [
      "-9007199254740991\n"
     ]
    }
   ],
   "source": [
    "console.log(Number.MIN_SAFE_INTEGER);"
   ]
  },
  {
   "cell_type": "markdown",
   "metadata": {},
   "source": [
    "### Difference Between ```Number.MAX_SAFE_INTEGER/Number.MIN_SAFE_INTEGER``` and ```Number.MAX_VALUE/Number.MIN_VALUE``` and Notes on Floating Point Math\n",
    "\n",
    "It's really important to note, there is a clear difference between a \"safe integer\", and the upper and lower bounds in which a number can be represented within JavaScript.\n",
    "\n",
    "A \"safe integer\" is the largest, or smallest integer which can be used safely (can be compared, and added without any issues) within IEEE 754 64-bit double-precision floating point format. \n",
    "\n",
    "The maximum value in JavaScript can be found through $2^{1024}$. This is because the exponent has a bias of -1024 to 1024 in a 64-bit floating point number, and can either be 1 or 0. In this case, the largest possible number that can be captured is roughly ```1.78e308```.\n",
    "\n",
    "The minimum value in JavaScript can be found through $2^{-1024}$. You'll notice very quickly, this value does not represent the lowest negative value. Rather, it represents the lowest positive value, or better yet, the value that is the smallest that can be represented instead of 0.\n",
    "\n",
    "Now, earlier on, there has been something that has been touched on, however, I feel the need to really hammer this concept down. With really large or small numbers, the 64-bit double-precision floating point numbers are rounded away due to the limits of floating-point precision.\n",
    "\n",
    "Recall, a IEEE 754 64-bit double-precision can be stored using three parts, a signed bit, an exponent, and the mantissa (significand). The signed bit determines the sign of the number (either positive or negative). The exponent determines the range of the number. The mantissa determines the precision of the number.\n",
    "\n",
    "Since the mantissa has only 52 bits of precision, numbers that require more precision than 52 bits require rounding. In the case of IEEE 754, as aforementioned, Bankers' rounding is considered the default method (rounding half-to-even). This leads to two major issues; limited precision causes small increments to disappear, and larger numbers have wider spacing between values that can be represented. \n",
    "\n",
    "For instance, suppose we have ```0.5```. This can be represented as ```0.1``` in binary. This is clean. The following equation represents the numbers that can be represented considering the positioning of the least significant bit:\n",
    "\n",
    "$$\n",
    "RN = \\frac{1}{2^n}, \\quad \\forall n \\in [0, 52]\n",
    "$$"
   ]
  },
  {
   "cell_type": "code",
   "execution_count": 805,
   "metadata": {},
   "outputs": [
    {
     "name": "stdout",
     "output_type": "stream",
     "text": [
      "0.031250000000000000000000000000\n"
     ]
    }
   ],
   "source": [
    "console.log(0.03125.toFixed(30)); // represents 1/2^5"
   ]
  },
  {
   "cell_type": "markdown",
   "metadata": {},
   "source": [
    "However, this isn't the case when we have values such as ```0.1``` or ```0.2```. These values are rounded to the closest representable value under IEEE 754 64-bit double precision guidelines due to the numbers being beyond the 52 bits of precision."
   ]
  },
  {
   "cell_type": "code",
   "execution_count": 806,
   "metadata": {},
   "outputs": [
    {
     "name": "stdout",
     "output_type": "stream",
     "text": [
      "0.0001100110011001100110011001100110011001100110011001101\n",
      "0.001100110011001100110011001100110011001100110011001101\n",
      "0.1\n"
     ]
    }
   ],
   "source": [
    "console.log(0.1.toString(2));\n",
    "console.log(0.2.toString(2));\n",
    "console.log(0.5.toString(2));"
   ]
  },
  {
   "cell_type": "markdown",
   "metadata": {},
   "source": [
    "Hmmm. Notice something interesting? Take some time to see the console outputs pattern (don't read more).\n",
    "\n",
    "After a quick glance, you'll quickly come to the realization that the binary representation is repeating, and doesn't seem to stop repeating. Think about a value such as $\\frac{1}{3}$. This value repeats infinitely in base 10. The same holds true for ```0.1```, however, it repeats in base 2."
   ]
  },
  {
   "cell_type": "code",
   "execution_count": 807,
   "metadata": {},
   "outputs": [
    {
     "name": "stdout",
     "output_type": "stream",
     "text": [
      "false\n",
      "0.3000000000000000444089210\n",
      "0.2999999999999999888977698\n"
     ]
    }
   ],
   "source": [
    "console.log(0.1 + 0.2 === 0.3); // should return false\n",
    "console.log((0.1+0.2).toFixed(25));\n",
    "console.log(0.3.toFixed(25));"
   ]
  },
  {
   "cell_type": "markdown",
   "metadata": {},
   "source": [
    "So, as we've seen before, because of the limited precision that comes with a 52-bit mantissa, fractional approximations yield really funky results. \n",
    "\n",
    "However, the question beckons, how do we deal with these imprecise calculations?\n",
    "\n",
    "We can use ```parseFloat()``` and ```toFixed()``` for smaller operations."
   ]
  },
  {
   "cell_type": "code",
   "execution_count": 808,
   "metadata": {},
   "outputs": [
    {
     "name": "stdout",
     "output_type": "stream",
     "text": [
      "0.3000000000000000444089210\n",
      "0.3\n"
     ]
    }
   ],
   "source": [
    "console.log((0.1+0.2).toFixed(25));\n",
    "console.log(parseFloat((0.1+0.2).toFixed(2)));"
   ]
  },
  {
   "cell_type": "markdown",
   "metadata": {},
   "source": [
    "### ```Number.POSITIVE_INFINITY``` and ```Number.NEGATIVE_INFINITY```"
   ]
  },
  {
   "cell_type": "code",
   "execution_count": 809,
   "metadata": {},
   "outputs": [
    {
     "name": "stdout",
     "output_type": "stream",
     "text": [
      "Infinity\n"
     ]
    }
   ],
   "source": [
    "console.log(Number.POSITIVE_INFINITY);"
   ]
  },
  {
   "cell_type": "code",
   "execution_count": 810,
   "metadata": {},
   "outputs": [
    {
     "name": "stdout",
     "output_type": "stream",
     "text": [
      "-Infinity\n"
     ]
    }
   ],
   "source": [
    "console.log(Number.NEGATIVE_INFINITY);"
   ]
  },
  {
   "cell_type": "markdown",
   "metadata": {},
   "source": [
    "### ```Number.NaN```"
   ]
  },
  {
   "cell_type": "code",
   "execution_count": 811,
   "metadata": {},
   "outputs": [
    {
     "name": "stdout",
     "output_type": "stream",
     "text": [
      "NaN\n"
     ]
    }
   ],
   "source": [
    "console.log(Number.NaN);"
   ]
  },
  {
   "cell_type": "markdown",
   "metadata": {},
   "source": [
    "## Number Methods"
   ]
  },
  {
   "cell_type": "markdown",
   "metadata": {},
   "source": [
    "### Autoboxing \n",
    "\n",
    "Recall, autoboxing refers to the automatic conversion of primitive data types into their corresponding object wrappers when an operation requires an object. \n",
    "\n",
    "This conversion is temporary, and the object wrapper is quickly discarded afterwards.\n",
    "\n",
    "In the example below, ```42``` is a primitive number. The method ```toFixed()``` is a method of the ```Number.prototype```. Simply, JavaScript autoboxed ```42``` into a temporary Number object. The ```toFixed()``` method is then called on the object, where the method returns a string ```\"42.00\"```. The created ```Number``` object is then discarded, leaving only the result."
   ]
  },
  {
   "cell_type": "code",
   "execution_count": 812,
   "metadata": {},
   "outputs": [
    {
     "name": "stdout",
     "output_type": "stream",
     "text": [
      "42.00\n",
      "42.50\n"
     ]
    }
   ],
   "source": [
    "console.log((42).toFixed(2));\n",
    "console.log((42.5).toFixed(2));"
   ]
  },
  {
   "cell_type": "markdown",
   "metadata": {},
   "source": [
    "### Conversion Methods"
   ]
  },
  {
   "cell_type": "markdown",
   "metadata": {},
   "source": [
    "#### ```Number.toString(radix)```\n",
    "\n",
    "This method returns a string representing the number value. We can convert the number value in different number systems (thrown if the radix is less than 2 or greater than 36) [8]."
   ]
  },
  {
   "cell_type": "code",
   "execution_count": 813,
   "metadata": {},
   "outputs": [
    {
     "name": "stdout",
     "output_type": "stream",
     "text": [
      "3\n",
      "string\n",
      "number\n",
      "3\n"
     ]
    }
   ],
   "source": [
    "console.log(0o3.toString(10));\n",
    "console.log(typeof 0o3.toString(10)); /// should return string\n",
    "console.log(typeof 0o3);\n",
    "console.log(0o3);"
   ]
  },
  {
   "cell_type": "markdown",
   "metadata": {},
   "source": [
    "#### ```Number.toFixed(digits)```\n",
    "\n",
    "Returns a string representing the numbers using fixed-point notation. Controls the number of digits after the decimal point. Rounds the number.\n",
    "\n",
    "Fixed-point notation represents fractional values with a fixed number of digits after the decimal point [9]. This maintains a consistent level of precision unlike floating-point numbers."
   ]
  },
  {
   "cell_type": "code",
   "execution_count": 814,
   "metadata": {},
   "outputs": [
    {
     "name": "stdout",
     "output_type": "stream",
     "text": [
      "0.5000000000000000000000000000000000000000\n",
      "0.5500000000000000444089209850062616169453\n",
      "0.55000000000000004440892098500626161695\n",
      "string\n"
     ]
    }
   ],
   "source": [
    "console.log(Number(\"0.5\").toFixed(40));\n",
    "console.log(Number(\"0.55\").toFixed(40));\n",
    "console.log(Number(\"0.55\").toFixed(38)); // notice how the number is rounded\n",
    "console.log(typeof Number(\"0.55\").toFixed(40)); // should return a string"
   ]
  },
  {
   "cell_type": "markdown",
   "metadata": {},
   "source": [
    "#### ```Number.toExponential(digits)```\n",
    "\n",
    "Returns a string representation of the number in exponential form. Rounds the fractional portion, if necessary."
   ]
  },
  {
   "cell_type": "code",
   "execution_count": 815,
   "metadata": {},
   "outputs": [
    {
     "name": "stdout",
     "output_type": "stream",
     "text": [
      "1.24451e+1\n",
      "1.00000e-250\n"
     ]
    }
   ],
   "source": [
    "console.log(12.44509505.toExponential(5));\n",
    "console.log(1e-250.toExponential(5));"
   ]
  },
  {
   "cell_type": "markdown",
   "metadata": {},
   "source": [
    "#### ```Number.toPrecision(digits)```\n",
    "\n",
    "Returns a string that formats a number to a specified length. Controls the total number of significant digits. Will use scientific notation for large values, and for small values (small numbers approaching 0). Rounds the fractional portion, if necessary."
   ]
  },
  {
   "cell_type": "code",
   "execution_count": 816,
   "metadata": {},
   "outputs": [
    {
     "name": "stdout",
     "output_type": "stream",
     "text": [
      "1.2e+2\n"
     ]
    }
   ],
   "source": [
    "console.log((123).toPrecision(2)) // 1.2e+2"
   ]
  },
  {
   "cell_type": "markdown",
   "metadata": {},
   "source": [
    "### Difference Between ```toFixed()``` and ```toPrecision()```\n",
    "\n",
    "With ```toPrecision()```, the total number of significant digits is controlled, whereas with ```toFixed()```, number of digits after the decimal point are controlled."
   ]
  },
  {
   "cell_type": "code",
   "execution_count": 817,
   "metadata": {},
   "outputs": [
    {
     "name": "stdout",
     "output_type": "stream",
     "text": [
      "123.46\n",
      "123.45678900\n",
      "123.4567890000\n",
      "123.456789000000000555701262783259\n",
      "1.2e+2\n",
      "123\n",
      "123.5\n",
      "123.4567890\n"
     ]
    }
   ],
   "source": [
    "let num = 123.456789;\n",
    "\n",
    "// toFixed\n",
    "console.log(num.toFixed(2)); // \"123.46\"\n",
    "console.log(num.toFixed(8)); // \"123.45678900\"\n",
    "console.log(num.toFixed(10)); // \"123.4567890000\"\n",
    "console.log(num.toFixed(30)); // \"123.456789000000000555701262783259\"\n",
    "\n",
    "// toPrecision\n",
    "console.log(num.toPrecision(2)); // 1.2e2\n",
    "console.log(num.toPrecision(3)); // 123\n",
    "console.log(num.toPrecision(4)); // 123.5\n",
    "console.log(num.toPrecision(10)); // 123.4567890"
   ]
  },
  {
   "cell_type": "markdown",
   "metadata": {},
   "source": [
    "#### ```valueOf()```\n",
    "\n",
    "Returns the primitive numeric value of a Number object. When adding to a primitive numeric value, ```valueOf()``` is called implicitly."
   ]
  },
  {
   "cell_type": "code",
   "execution_count": 818,
   "metadata": {},
   "outputs": [
    {
     "name": "stdout",
     "output_type": "stream",
     "text": [
      "[Number: 50]\n",
      "50\n",
      "55\n"
     ]
    }
   ],
   "source": [
    "let someNum = new Number(50);\n",
    "\n",
    "console.log(someNum);\n",
    "console.log(someNum.valueOf());\n",
    "console.log(someNum + 5); // valueOf is called implicitly"
   ]
  },
  {
   "cell_type": "markdown",
   "metadata": {},
   "source": [
    "### Checking and Validating Numbers"
   ]
  },
  {
   "cell_type": "markdown",
   "metadata": {},
   "source": [
    "#### ```isNaN(val)```\n",
    "\n",
    "There are two distinctly different methods for ```isNaN(val)```; a method globally, and a method found within the ```Number``` constructor."
   ]
  },
  {
   "cell_type": "code",
   "execution_count": 819,
   "metadata": {},
   "outputs": [
    {
     "name": "stdout",
     "output_type": "stream",
     "text": [
      "false\n"
     ]
    }
   ],
   "source": [
    "console.log(Number.isNaN === isNaN); // false"
   ]
  },
  {
   "cell_type": "markdown",
   "metadata": {},
   "source": [
    "##### Global ```isNaN(val)```\n",
    "\n",
    "Converts the argument to a number primitive data type. Returns ```true``` if the result is ```NaN```, and ```false``` otherwise."
   ]
  },
  {
   "cell_type": "code",
   "execution_count": 820,
   "metadata": {},
   "outputs": [
    {
     "name": "stdout",
     "output_type": "stream",
     "text": [
      "true\n",
      "true\n"
     ]
    }
   ],
   "source": [
    "console.log(isNaN(undefined)); // true (gets coerced to NaN, then checked)\n",
    "console.log(isNaN(NaN));"
   ]
  },
  {
   "cell_type": "markdown",
   "metadata": {},
   "source": [
    "##### ```Number.isNaN(val)```\n",
    "\n",
    "Does not convert the argument. Returns ```true``` is the argument is exactly ```NaN```. \n",
    "\n",
    "It's preferred this is used over the global ```isNaN(val)```, so always be sure to note, ```Number.isNaN(val)```.\n",
    "\n",
    "It's important to note, this is a static method that belongs to the ```Number``` constructor itself.\n",
    "\n",
    "In JavaScript's object-oriented (yes, you'll see this yourself in *Objects*), static methods belong to the constructor, and prototype methods belong to instances."
   ]
  },
  {
   "cell_type": "code",
   "execution_count": 821,
   "metadata": {},
   "outputs": [
    {
     "name": "stdout",
     "output_type": "stream",
     "text": [
      "false\n",
      "true\n"
     ]
    }
   ],
   "source": [
    "console.log(Number.isNaN(undefined)); // false\n",
    "console.log(Number.isNaN(NaN)); // true"
   ]
  },
  {
   "cell_type": "markdown",
   "metadata": {},
   "source": [
    "#### ```isFinite(val)```\n",
    "\n",
    "There are two distinctly different methods for ```isFinite(val)```; a method globally, and a method found within the ```Number``` constructor."
   ]
  },
  {
   "cell_type": "code",
   "execution_count": 822,
   "metadata": {},
   "outputs": [
    {
     "name": "stdout",
     "output_type": "stream",
     "text": [
      "false\n"
     ]
    }
   ],
   "source": [
    "console.log(Number.isFinite === isFinite); // false"
   ]
  },
  {
   "cell_type": "markdown",
   "metadata": {},
   "source": [
    "##### Global ```isFinite(val)```\n",
    "\n",
    "Converts the argument to a number data type. If the converted value is a finite number, returns ```true```. Otherwise, returns ```false```."
   ]
  },
  {
   "cell_type": "code",
   "execution_count": 17,
   "metadata": {},
   "outputs": [
    {
     "name": "stdout",
     "output_type": "stream",
     "text": [
      "true\n",
      "true\n",
      "false\n",
      "false\n",
      "false\n",
      "true\n"
     ]
    }
   ],
   "source": [
    "console.log(globalThis.isFinite(\"43\"));\n",
    "console.log(globalThis.isFinite(0.1));\n",
    "console.log(globalThis.isFinite(Infinity));\n",
    "console.log(globalThis.isFinite(undefined));\n",
    "console.log(globalThis.isFinite(NaN)); \n",
    "console.log(globalThis.isFinite(null)); // null is coerced to 0, which is finite"
   ]
  },
  {
   "cell_type": "markdown",
   "metadata": {},
   "source": [
    "##### ```Number.isFinite(val)```"
   ]
  },
  {
   "cell_type": "markdown",
   "metadata": {},
   "source": [
    "Does not convert the argument to a number data type. If the converted value is a finite number, returns ```true```. Otherwise, returns ```false```."
   ]
  },
  {
   "cell_type": "code",
   "execution_count": 18,
   "metadata": {},
   "outputs": [
    {
     "name": "stdout",
     "output_type": "stream",
     "text": [
      "false\n",
      "false\n",
      "false\n",
      "false\n"
     ]
    }
   ],
   "source": [
    "console.log(Number.isFinite(null));\n",
    "console.log(Number.isFinite(undefined));\n",
    "console.log(Number.isFinite(\"43\"));\n",
    "console.log(Number.isFinite(\"hello\"));"
   ]
  },
  {
   "cell_type": "markdown",
   "metadata": {},
   "source": [
    "#### ```Number.isSafeInteger(val)```\n",
    "\n",
    "Determines whether or not a value, $n$, falls within the range $n \\in$ [$-(2^{53}-1)$, $2^{53}-1$]. \n",
    "\n",
    "Recall, this range follows numbers that can be represented under IEEE 7534 double precision number."
   ]
  },
  {
   "cell_type": "code",
   "execution_count": 19,
   "metadata": {},
   "outputs": [
    {
     "name": "stdout",
     "output_type": "stream",
     "text": [
      "true\n"
     ]
    }
   ],
   "source": [
    "console.log(Number.isSafeInteger(Number.MAX_SAFE_INTEGER));"
   ]
  },
  {
   "cell_type": "markdown",
   "metadata": {},
   "source": [
    "### Parsing Numbers from Strings"
   ]
  },
  {
   "cell_type": "markdown",
   "metadata": {},
   "source": [
    "#### ```parseInt(string, radix)```\n",
    "\n",
    "The first argument is coerced into a String data type. The parsing begins from the start of the string. Parsing continues until a non-digit number is encountered. This returns an integer, if a decimal is found, all numbers after the fact are ignored.\n",
    "\n",
    "It's important to note, there are in fact two of these methods; one found globally (in the case of Deno, this is found in ```globalThis```), and the other within the ```Number``` constructor. These are virtually the same methods, whereas with ```isNaN(val)``` differs in this sense based on the coercion of the arguments inputted.\n",
    "\n",
    "Understands ```+``` and ```-``` at the beginning of the string. Also, it does not treat ```Ob``` the binary prefix, or ```BigInt``` values. Leading whitespace is ignored."
   ]
  },
  {
   "cell_type": "code",
   "execution_count": 20,
   "metadata": {},
   "outputs": [
    {
     "name": "stdout",
     "output_type": "stream",
     "text": [
      "true\n",
      "15\n",
      "-0\n",
      "NaN\n"
     ]
    }
   ],
   "source": [
    "console.log(Number.parseInt === parseInt); // true\n",
    "console.log(parseInt(\"0xF\", 16)); // returns 15\n",
    "console.log(parseInt(\"-0e2\")); // returns 0\n",
    "console.log(parseInt(\"Infinity\")); // NaN"
   ]
  },
  {
   "cell_type": "markdown",
   "metadata": {},
   "source": [
    "#### ```parseFloat(string)```\n",
    "\n",
    "Takes in a ```string``` argument (coerces to string), and returns a floating-point number. \n",
    "\n",
    "You'll notice, in ```parseFloat(string)```, the method accepts the ```Infinity``` literal."
   ]
  },
  {
   "cell_type": "code",
   "execution_count": 21,
   "metadata": {},
   "outputs": [
    {
     "name": "stdout",
     "output_type": "stream",
     "text": [
      "Infinity\n",
      "0.5654\n"
     ]
    }
   ],
   "source": [
    "console.log(parseFloat(Infinity));\n",
    "console.log(parseFloat(\"0.5654\"));"
   ]
  },
  {
   "cell_type": "markdown",
   "metadata": {},
   "source": [
    "## ```Math``` Objects\n",
    "\n",
    "This is a built-in object found within JavaScript. It contains static properties and methods [10]. These can all be found [here](https://developer.mozilla.org/en-US/docs/Web/JavaScript/Reference/Global_Objects/Math).\n",
    "\n",
    "Most, if not all, of these methods end up coercing a non-numeric argument into a number data type. "
   ]
  },
  {
   "cell_type": "markdown",
   "metadata": {},
   "source": [
    "### ```Math``` Methods"
   ]
  },
  {
   "cell_type": "markdown",
   "metadata": {},
   "source": [
    "#### ```Math.abs(x)```\n",
    "\n",
    "Mimics the absolute value function. "
   ]
  },
  {
   "cell_type": "code",
   "execution_count": 22,
   "metadata": {},
   "outputs": [
    {
     "name": "stdout",
     "output_type": "stream",
     "text": [
      "1\n"
     ]
    }
   ],
   "source": [
    "console.log(Math.abs(-1));"
   ]
  },
  {
   "cell_type": "markdown",
   "metadata": {},
   "source": [
    "#### ```Math.floor(x)```\n",
    "\n",
    "Rounds to the nearest integer (in the direction of negative infinity)."
   ]
  },
  {
   "cell_type": "code",
   "execution_count": 23,
   "metadata": {},
   "outputs": [
    {
     "name": "stdout",
     "output_type": "stream",
     "text": [
      "-3\n",
      "2\n",
      "15\n"
     ]
    }
   ],
   "source": [
    "console.log(Math.floor(-2.5)); // returns -3\n",
    "console.log(Math.floor(2.4)); // returns 2\n",
    "console.log(Math.floor(\"0xF\")); // returns 15"
   ]
  },
  {
   "cell_type": "markdown",
   "metadata": {},
   "source": [
    "#### ```Math.random()```\n",
    "\n",
    "Returns a random number, $n$, where $n \\in [0, 1)$.\n",
    "\n",
    "To represent random numbers as integers, we can simply use ```Math.floor()```."
   ]
  },
  {
   "cell_type": "code",
   "execution_count": 24,
   "metadata": {},
   "outputs": [
    {
     "name": "stdout",
     "output_type": "stream",
     "text": [
      "0.7767366703528273\n",
      "60\n"
     ]
    }
   ],
   "source": [
    "console.log(Math.random());\n",
    "console.log(Math.floor(Math.random() * 100));"
   ]
  },
  {
   "cell_type": "markdown",
   "metadata": {},
   "source": [
    "#### ```Math.ceil(x)```\n",
    "\n",
    "Rounds to the nearest integer (in the direction of positive infinity)."
   ]
  },
  {
   "cell_type": "code",
   "execution_count": 25,
   "metadata": {},
   "outputs": [
    {
     "name": "stdout",
     "output_type": "stream",
     "text": [
      "3\n",
      "-2\n"
     ]
    }
   ],
   "source": [
    "console.log(Math.ceil(2.5));\n",
    "console.log(Math.ceil(-2.5));"
   ]
  },
  {
   "cell_type": "markdown",
   "metadata": {},
   "source": [
    "#### ```Math.trunc(x)```\n",
    "\n",
    "Truncates the argument (removes everything after the decimal). "
   ]
  },
  {
   "cell_type": "code",
   "execution_count": 26,
   "metadata": {},
   "outputs": [
    {
     "name": "stdout",
     "output_type": "stream",
     "text": [
      "3\n",
      "1\n"
     ]
    }
   ],
   "source": [
    "console.log(Math.trunc(\"3.4\"));\n",
    "console.log(Math.trunc(true + 0.5));"
   ]
  },
  {
   "cell_type": "markdown",
   "metadata": {},
   "source": [
    "#### ```Math.pow(x, y)```\n",
    "\n",
    "Raises the base, $x$ to a power, $y$. Coerces arguments to number data type.\n",
    "\n",
    "This is no different than the ```**``` operator, which also performs exponentiation. However, as you go through codebases, you'll notice that ```Math.pow(x,y)``` is common with legacy code - as a result of ```**``` being released within ES7 (2016) [11].\n",
    "\n",
    "If either argument is ```NaN```, then it should return ```NaN```. If the base is ```Infinity```, and the exponent is greater than 0, then ```Infinity``` is returned. Otherwise, 0 is returned. This is just some of the few cases that can be found within the specification in ECMAScript [12].\n",
    "\n",
    "Albeit, this is a small case within the specification, I find it notable enough that it being left without explanation would be less than ideal. Suppose we have a base of ```-Infinity```. The specification makes the following distinction:\n",
    "\n",
    "```\n",
    "If base is -∞𝔽, then\n",
    "   a. If exponent > +0𝔽, then\n",
    "      i. If exponent is an odd integral Number, return -∞𝔽. Otherwise, return +∞𝔽.\n",
    "   b. Else,\n",
    "      i. If exponent is an odd integral Number, return -0𝔽. Otherwise, return +0𝔽.\n",
    "```\n",
    "\n",
    "This might seem confusing at first. Why does it matter that the exponent is either even or odd? \n",
    "\n",
    "Think of it this way:\n",
    "\n",
    "$(-\\infty) × (-\\infty) × (-\\infty) = -\\infty$ - odd powers (in this case, 3)\n",
    "\n",
    "$(-\\infty) × (-\\infty)  = \\infty$ - even powers (in this case, 2)"
   ]
  },
  {
   "cell_type": "code",
   "execution_count": 27,
   "metadata": {},
   "outputs": [
    {
     "name": "stdout",
     "output_type": "stream",
     "text": [
      "9\n",
      "Infinity\n",
      "0\n",
      "-Infinity\n",
      "Infinity\n"
     ]
    }
   ],
   "source": [
    "console.log(Math.pow(\"3\", \"2\"));\n",
    "console.log(Math.pow(Infinity, 1)); // Infinity\n",
    "console.log(Math.pow(Infinity, -1)); // 0\n",
    "console.log(Math.pow(-Infinity, 3)); // - Infinity\n",
    "console.log(Math.pow(-Infinity, 2)); // Infinity"
   ]
  },
  {
   "cell_type": "markdown",
   "metadata": {},
   "source": [
    "#### ```Math.sqrt(x)```\n",
    "\n",
    "Returns the square root of a number. The argument coerces to a number data type. According to the specification, if ```Math.sqrt(x)``` has an argument, ```x``` is either ```NaN```, ```0```, ```-0```, or $\\infty$, then ```x``` is returned [13]. If ```x``` is any value less than 1, ```NaN``` is returned."
   ]
  },
  {
   "cell_type": "code",
   "execution_count": 28,
   "metadata": {},
   "outputs": [
    {
     "name": "stdout",
     "output_type": "stream",
     "text": [
      "NaN\n",
      "0\n",
      "-0\n",
      "Infinity\n",
      "2.23607\n"
     ]
    }
   ],
   "source": [
    "console.log(Math.sqrt(-Infinity));\n",
    "console.log(Math.sqrt(0));\n",
    "console.log(Math.sqrt(-0));\n",
    "console.log(Math.sqrt(Infinity));\n",
    "console.log(Math.sqrt(5).toFixed(5));"
   ]
  },
  {
   "cell_type": "markdown",
   "metadata": {},
   "source": [
    "#### ```Math.random(x)```\n",
    "\n",
    "This is a static method that returns a number within the range, [0, 1]. These numbers generated aren't truly generated. The computer is running a deterministic algorithm; i.e. they are *pseudo-random*.\n",
    "\n",
    "This is not necessary but interesting: Pseudorandom numbers are generated using algorithms called PRNGs (pseudorandom number generators) [14]. The algorithm takes an initial value, the seed, and produces a *series* of numbers that appear random.\n",
    "\n",
    "A popular PRNG is the LCG (linear congruential generator). It utilizes a simple linear equation, as follows [15]:\n",
    "\n",
    "```js\n",
    "function linearCongruentialMethod(Xo, m, a, c, randomNums, noOfRandomNums) {\n",
    "    // this code is from: https://www.geeksforgeeks.org/linear-congruence-method-for-generating-pseudo-random-numbers/\n",
    "    randomNums[0] = Xo;\n",
    "    for(let i = 1; i < noOfRandomNums; i++)\n",
    "    {  \n",
    "        randomNums[i] = ((randomNums[i - 1] * a) + c) % m;\n",
    "    }\n",
    "}\n",
    "```"
   ]
  },
  {
   "cell_type": "markdown",
   "metadata": {},
   "source": [
    "#### ```Math.max(a, b, c, …)```\n",
    "\n",
    "Returns the maximum argument passed. Each argument is coerced to a number data type. All arguments should coerce to a number, if not, ```NaN``` is returned as a whole.\n",
    "\n",
    "A cool note, $+0_𝔽 > -0_𝔽$ is the case with ```Math.max(a, b, c, ...)```.\n"
   ]
  },
  {
   "cell_type": "code",
   "execution_count": 29,
   "metadata": {},
   "outputs": [
    {
     "name": "stdout",
     "output_type": "stream",
     "text": [
      "0\n",
      "NaN\n",
      "1\n"
     ]
    }
   ],
   "source": [
    "console.log(Math.max(0, -0)); // 0\n",
    "console.log(Math.max(\"abc\", 1)); // returns NaN\n",
    "console.log(Math.max(\"\\n\", 1)); // returns NaN"
   ]
  },
  {
   "cell_type": "markdown",
   "metadata": {},
   "source": [
    "#### ```Math.min(a, b, c, …)```\n",
    "\n",
    "Returns the minimum argument passed. Each argument is coerced to a number data type. All arguments should coerce to a number, if not, ```NaN``` is returned as a whole."
   ]
  },
  {
   "cell_type": "code",
   "execution_count": 30,
   "metadata": {},
   "outputs": [
    {
     "name": "stdout",
     "output_type": "stream",
     "text": [
      "-0\n",
      "-Infinity\n",
      "NaN\n",
      "NaN\n"
     ]
    }
   ],
   "source": [
    "console.log(Math.min(0, -0)); // -0\n",
    "console.log(Math.min(-Infinity, -0)); // -Infinity\n",
    "console.log(Math.min(NaN, -0)); // NaN\n",
    "console.log(Math.min(undefined, -0)); // NaN"
   ]
  },
  {
   "cell_type": "markdown",
   "metadata": {},
   "source": [
    "## Number Object to Primitive Conversion\n",
    "\n",
    "There are two ways that Number objects are converted to primitive number data types; implicit conversion, and explicit conversion."
   ]
  },
  {
   "cell_type": "markdown",
   "metadata": {},
   "source": [
    "### Implicit Conversion (Type Coercion)\n",
    "\n",
    "Recall, all Number objects have an internal method called ```valueOf()``` that returns the associated number of the created Number object."
   ]
  },
  {
   "cell_type": "code",
   "execution_count": 31,
   "metadata": {},
   "outputs": [
    {
     "name": "stdout",
     "output_type": "stream",
     "text": [
      "The value is: 30\n"
     ]
    }
   ],
   "source": [
    "const numObject = new Number(20);\n",
    "\n",
    "console.log(`The value is: ` + (numObject.valueOf() + 10)); // type coercion"
   ]
  },
  {
   "cell_type": "markdown",
   "metadata": {},
   "source": [
    "### Explicit Conversion\n",
    "\n",
    "We can convert to the primitive Number data type with the following three methods:\n",
    "- ```valueOf()```. \n",
    "- ```Number()``` constructor.\n",
    "- Unary plus operator.\n",
    "\n"
   ]
  },
  {
   "cell_type": "code",
   "execution_count": 32,
   "metadata": {},
   "outputs": [
    {
     "name": "stdout",
     "output_type": "stream",
     "text": [
      "0\n",
      "0\n",
      "0\n"
     ]
    }
   ],
   "source": [
    "let numObjectOne = new Number(\"\\n\");\n",
    "\n",
    "let primOne = numObjectOne.valueOf();\n",
    "\n",
    "console.log(primOne);\n",
    "\n",
    "let primTwo = Number(numObjectOne);\n",
    "\n",
    "console.log(primTwo);\n",
    "\n",
    "let primThree = +numObjectOne;\n",
    "\n",
    "console.log(primThree);"
   ]
  },
  {
   "cell_type": "markdown",
   "metadata": {},
   "source": [
    "## References\n",
    "\n",
    "[1] https://www.ibm.com/docs/en/zvm/7.2?topic=arithmetic-exponential-notation\n",
    "\n",
    "[2] https://stackoverflow.com/questions/33799968/why-does-hex-value-is-returned-as-a-number-in-javascript\n",
    "\n",
    "[3] https://floating-point-gui.de/\n",
    "\n",
    "[4] https://stackoverflow.com/questions/33799968/why-does-hex-value-is-returned-as-a-number-in-javascript\n",
    "\n",
    "[5] https://stackoverflow.com/questions/34799226/whats-the-difference-between-js-number-max-safe-integer-and-max-value#:~:text=Safe%20refers%20to%20the%20ability,and%20to%20correctly%20compare%20them.&text=MAX_VALUE%20on%20the%20other%20hand%2C%20has%20a%20value%20of%20approximately,MAX_VALUE%20are%20represented%20as%20Infinity.\n",
    "\n",
    "[6] https://stackoverflow.com/questions/56431024/javascript-min-value-vs-min-safe-integer-vs-infinity\n",
    "\n",
    "[7] https://stackoverflow.com/questions/1458633/how-can-i-deal-with-floating-point-number-precision-in-javascript\n",
    "\n",
    "[8] https://developer.mozilla.org/en-US/docs/Web/JavaScript/Reference/Global_Objects/Number/toString\n",
    "\n",
    "[9] https://www.geeksforgeeks.org/fixed-point-numbers-in-solidity/\n",
    "\n",
    "[10] https://developer.mozilla.org/en-US/docs/Web/JavaScript/Reference/Global_Objects/Math\n",
    "\n",
    "[11] https://www.geeksforgeeks.org/difference-between-math-pow-and-in-javascript/\n",
    "\n",
    "[12] https://tc39.es/ecma262/multipage/ecmascript-data-types-and-values.html#sec-numeric-types-number-exponentiate\n",
    "\n",
    "[13] https://tc39.es/ecma262/multipage/numbers-and-dates.html#sec-math.sqrt\n",
    "\n",
    "[14] https://www.lenovo.com/ca/en/glossary/pseudorandom/\n",
    "\n",
    "[15] https://www.geeksforgeeks.org/linear-congruence-method-for-generating-pseudo-random-numbers/"
   ]
  }
 ],
 "metadata": {
  "kernelspec": {
   "display_name": "Deno",
   "language": "typescript",
   "name": "deno"
  },
  "language_info": {
   "codemirror_mode": "typescript",
   "file_extension": ".ts",
   "mimetype": "text/x.typescript",
   "name": "typescript",
   "nbconvert_exporter": "script",
   "pygments_lexer": "typescript",
   "version": "5.6.2"
  }
 },
 "nbformat": 4,
 "nbformat_minor": 2
}
