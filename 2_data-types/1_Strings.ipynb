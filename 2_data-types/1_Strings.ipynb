{
 "cells": [
  {
   "cell_type": "markdown",
   "metadata": {},
   "source": [
    "# Strings\n"
   ]
  },
  {
   "cell_type": "markdown",
   "metadata": {},
   "source": [
    "## Strings and Their Quotes\n",
    "\n",
    "Recall, there are three types of quotes that can be used for JavaScript [1]:\n",
    "\n",
    "- Double quotes. \n",
    "- Single quotes.\n",
    "- Backtick quotes. Allows for the use of template literals [2]."
   ]
  },
  {
   "cell_type": "markdown",
   "metadata": {},
   "source": [
    "## Special Characters (Escape Sequences)\n",
    "\n",
    "The following is a list of special characters."
   ]
  },
  {
   "cell_type": "markdown",
   "metadata": {},
   "source": [
    "## Special Features of Backticks\n",
    "\n",
    "In JavaScript, literals are fixed values written within code.\n",
    "\n",
    "For example:\n",
    "\n",
    "```js\n",
    "let stringOne = 'foo';\n",
    "let stringTwo = 'bar';\n",
    "let stringThree = '1234';\n",
    "```\n",
    "\n",
    "Backticks allow for the use of template literals (or known as template strings) [2].\n",
    "\n",
    "**Backticks allow for the following:**\n",
    "\n",
    "Multi-line strings without special characters, or string concatenation. Every time a line break occurs, it infers the line-break with a ```\\n``` tag. It will print to the console with these line breaks."
   ]
  },
  {
   "cell_type": "code",
   "execution_count": 47,
   "metadata": {},
   "outputs": [
    {
     "name": "stdout",
     "output_type": "stream",
     "text": [
      "name the \n",
      "following\n",
      "\n",
      "woah\n",
      "\n"
     ]
    }
   ],
   "source": [
    "// multi-line strings using backticks\n",
    "\n",
    "let string = `name the \n",
    "following\n",
    "\n",
    "woah\n",
    "`;\n",
    "\n",
    "console.log(string);"
   ]
  },
  {
   "cell_type": "markdown",
   "metadata": {},
   "source": [
    "String interpolation (embedded expressions using ```{}```)."
   ]
  },
  {
   "cell_type": "code",
   "execution_count": 48,
   "metadata": {},
   "outputs": [
    {
     "name": "stdout",
     "output_type": "stream",
     "text": [
      "Output: name the \n",
      "following\n",
      "\n",
      "woah\n",
      "\n"
     ]
    }
   ],
   "source": [
    "let newString = `Output: ${string}`;\n",
    "\n",
    "console.log(newString);"
   ]
  },
  {
   "cell_type": "markdown",
   "metadata": {},
   "source": [
    "Nesting template literals. We can nest expressions within the backticks, sometimes even the ternary operator ```?```."
   ]
  },
  {
   "cell_type": "code",
   "execution_count": 49,
   "metadata": {},
   "outputs": [
    {
     "name": "stdout",
     "output_type": "stream",
     "text": [
      "You can view this page\n"
     ]
    }
   ],
   "source": [
    "const age = 21;\n",
    "\n",
    "console.log(`You can ${age < 21 ? 'not ' : ''}view this page`);"
   ]
  },
  {
   "cell_type": "markdown",
   "metadata": {},
   "source": [
    "We can also control how a string is made using *tagged templates* [4].\n",
    "\n",
    "(I am going to write more about this, and try some stuff out when I get to it)."
   ]
  },
  {
   "cell_type": "code",
   "execution_count": 50,
   "metadata": {},
   "outputs": [
    {
     "name": "stdout",
     "output_type": "stream",
     "text": [
      "[ \"My dog's name is \", \" and he is \", \" years old\" ]\n",
      "MY DOG'S NAME IS SNICKERS AND HE IS 100 YEARS OLD!\n"
     ]
    }
   ],
   "source": [
    "// this example is from: https://wesbos.com/tagged-template-literals\n",
    "function upperCaseTag(strings, ...values /* here we are just accepting any argument after the first to be in an array*/) {\n",
    "    // values = ['Snickers', 100]\n",
    "    console.log(strings)\n",
    "    let str = ''; // empty string\n",
    "    strings.forEach((string, i) => {\n",
    "        // i iterates over strings witch has 3 elements\n",
    "        // so values[i] = undefined because it does not exist\n",
    "      str += string + (values[i] || '!');\n",
    "      // above we short circuit with OR (find first truthy, since the first is false, it returns the last one (short-circuiting))\n",
    "    });\n",
    "    return str.toUpperCase();\n",
    "}\n",
    "\n",
    "const name = 'Snickers';\n",
    "const age = 100;\n",
    "const sentence = upperCaseTag`My dog's name is ${name} and he is ${age} years old`;\n",
    "console.log(sentence);"
   ]
  },
  {
   "cell_type": "markdown",
   "metadata": {},
   "source": [
    "## String Length\n",
    "\n",
    "To find the length of the string, we can do this by evoking ```string.length```."
   ]
  },
  {
   "cell_type": "code",
   "execution_count": 51,
   "metadata": {},
   "outputs": [
    {
     "name": "stdout",
     "output_type": "stream",
     "text": [
      "250\n"
     ]
    }
   ],
   "source": [
    "let string = '';\n",
    "\n",
    "for (let i = 0; i < 250; i++) {\n",
    "    string += 'a';\n",
    "}\n",
    "\n",
    "console.log(string.length); // returns 250"
   ]
  },
  {
   "cell_type": "markdown",
   "metadata": {},
   "source": [
    "## Accessing Characters\n",
    "\n",
    "There are three ways to access individual characters:\n",
    "- Using ```chatAt()```.\n",
    "- Using square brackets, ```[]```.\n",
    "- Using ```for..of``` loop.\n",
    "\n",
    "It's important to note, while using square brackets, the index is from $\\{1..n\\}$"
   ]
  },
  {
   "cell_type": "code",
   "execution_count": 52,
   "metadata": {},
   "outputs": [
    {
     "name": "stdout",
     "output_type": "stream",
     "text": [
      "f\n",
      "----------\n",
      "b\n",
      "----------\n",
      "a\n",
      "b\n",
      "c\n",
      "d\n",
      "e\n",
      "f\n",
      "g\n",
      "h\n",
      "i\n",
      "j\n",
      "k\n",
      "l\n",
      "m\n",
      "n\n",
      "o\n",
      "p\n"
     ]
    }
   ],
   "source": [
    "let practiceString = \"abcdefghijklmnop\";\n",
    "\n",
    "console.log(practiceString.charAt(5)); /// returns f\n",
    "console.log(\"----------\");\n",
    "console.log(practiceString[1]); // returns b\n",
    "\n",
    "console.log(\"----------\");\n",
    "for (let char of practiceString) {\n",
    "    console.log(char);\n",
    "}"
   ]
  },
  {
   "cell_type": "markdown",
   "metadata": {},
   "source": [
    "## Changing Case\n",
    "\n",
    "In Javascript, we have two types of methods we can use to change the casing of the string:\n",
    "- ```toUpperCase```.\n",
    "- ```toLowerCase```."
   ]
  },
  {
   "cell_type": "markdown",
   "metadata": {},
   "source": [
    "### ```str.toUpperCase()```"
   ]
  },
  {
   "cell_type": "code",
   "execution_count": 53,
   "metadata": {},
   "outputs": [
    {
     "name": "stdout",
     "output_type": "stream",
     "text": [
      "HI\n",
      "WOAH\n"
     ]
    }
   ],
   "source": [
    "console.log(\"hi\".toUpperCase());\n",
    "\n",
    "let stringObjUpper = new String(\"woah\");\n",
    "\n",
    "console.log(stringObjUpper.toUpperCase());"
   ]
  },
  {
   "cell_type": "markdown",
   "metadata": {},
   "source": [
    "### ```str.toLowerCase()```"
   ]
  },
  {
   "cell_type": "code",
   "execution_count": 54,
   "metadata": {},
   "outputs": [
    {
     "name": "stdout",
     "output_type": "stream",
     "text": [
      "hi\n",
      "wooooooooo!\n"
     ]
    }
   ],
   "source": [
    "console.log(\"Hi\".toLowerCase());\n",
    "\n",
    "let stringObjLower = new String(\"WOOOOOOOOO!\")\n",
    "\n",
    "console.log(stringObjLower.toLowerCase());"
   ]
  },
  {
   "cell_type": "markdown",
   "metadata": {},
   "source": [
    "## Searching for Substrings\n",
    "\n",
    "These return Boolean values, ```true``` is the substring exists, and ```false``` if the substring does not exist."
   ]
  },
  {
   "cell_type": "markdown",
   "metadata": {},
   "source": [
    "### ```str.indexOf(char)```\n",
    "\n",
    "Returns the first index of where the ```char``` appears within the string."
   ]
  },
  {
   "cell_type": "code",
   "execution_count": 9,
   "metadata": {},
   "outputs": [
    {
     "name": "stdout",
     "output_type": "stream",
     "text": [
      "-1\n",
      "4\n"
     ]
    }
   ],
   "source": [
    "console.log(\"baa\".indexOf(\"c\")); // should return 1\n",
    "\n",
    "/* \n",
    "\n",
    "here's something cool we can make with this:\n",
    "\n",
    "for instance, something i want to do it count the number of\n",
    "occurrences, but i can only use str.indexOf(char).\n",
    "*/\n",
    "\n",
    "function countOccurrences(string, char) {\n",
    "    \n",
    "    // Base case: if string is empty, return 0\n",
    "    if (string.length === 0) {\n",
    "        return 0;\n",
    "    } \n",
    "    let index = string.indexOf(char);\n",
    "    if (index == -1) {\n",
    "        return 0;\n",
    "    }\n",
    "\n",
    "    return 1 + countOccurrences(string.slice(index+1), char);\n",
    "}\n",
    "\n",
    "console.log(countOccurrences(\"aaaa\", \"a\"));"
   ]
  },
  {
   "cell_type": "markdown",
   "metadata": {},
   "source": [
    "### ```str.lastIndexOf(substr, lastPosition)```\n",
    "\n",
    "The opposite of ```str.indexOf```. This returns the last occ"
   ]
  },
  {
   "cell_type": "code",
   "execution_count": null,
   "metadata": {},
   "outputs": [],
   "source": []
  },
  {
   "cell_type": "markdown",
   "metadata": {},
   "source": [
    "### ```str.includes(substr, pos)```"
   ]
  },
  {
   "cell_type": "markdown",
   "metadata": {},
   "source": [
    "### ```str.includes(substr, pos)```"
   ]
  },
  {
   "cell_type": "markdown",
   "metadata": {},
   "source": [
    "## Extracting Substrings"
   ]
  },
  {
   "cell_type": "markdown",
   "metadata": {},
   "source": [
    "### ```str.slice(start [, end])```"
   ]
  },
  {
   "cell_type": "markdown",
   "metadata": {},
   "source": [
    "### ```str.substring(start [, end])```"
   ]
  },
  {
   "cell_type": "markdown",
   "metadata": {},
   "source": [
    "### ```str.substr(start [, length])```"
   ]
  },
  {
   "cell_type": "markdown",
   "metadata": {},
   "source": [
    "## Additional String Methods"
   ]
  },
  {
   "cell_type": "markdown",
   "metadata": {},
   "source": [
    "### ```str.split()```"
   ]
  },
  {
   "cell_type": "markdown",
   "metadata": {},
   "source": [
    "### ```str.trim()```"
   ]
  },
  {
   "cell_type": "markdown",
   "metadata": {},
   "source": [
    "### ```str.repeat(n)```"
   ]
  },
  {
   "cell_type": "markdown",
   "metadata": {},
   "source": [
    "## Unicode"
   ]
  },
  {
   "cell_type": "markdown",
   "metadata": {},
   "source": [
    "# References\n",
    "\n",
    "[1] https://www.digitalocean.com/community/tutorials/how-to-work-with-strings-in-javascript\n",
    "\n",
    "[2] https://developer.mozilla.org/en-US/docs/Web/JavaScript/Reference/Template_literals\n",
    "\n",
    "[3] https://developer.mozilla.org/en-US/docs/Web/JavaScript/Guide/Grammar_and_types#string_literals\n",
    "\n",
    "[4] https://wesbos.com/tagged-template-literals\n",
    "\n",
    "[5] https://dev.to/charlesamakoye/three-ways-of-accessing-string-characters-in-javascript-3gbn\n",
    "\n",
    "[6] https://dev.to/charlesamakoye/three-ways-of-accessing-string-characters-in-javascript-3gbn"
   ]
  }
 ],
 "metadata": {
  "kernelspec": {
   "display_name": "Deno",
   "language": "typescript",
   "name": "deno"
  },
  "language_info": {
   "codemirror_mode": "typescript",
   "file_extension": ".ts",
   "mimetype": "text/x.typescript",
   "name": "typescript",
   "nbconvert_exporter": "script",
   "pygments_lexer": "typescript",
   "version": "5.6.2"
  }
 },
 "nbformat": 4,
 "nbformat_minor": 2
}
