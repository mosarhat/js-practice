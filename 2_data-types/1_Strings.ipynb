{
 "cells": [
  {
   "cell_type": "markdown",
   "metadata": {},
   "source": [
    "# Strings\n",
    "\n",
    "String are <span style=\"color: red\">immutable</span>."
   ]
  },
  {
   "cell_type": "markdown",
   "metadata": {},
   "source": [
    "## Special Characters (Escape Sequences)"
   ]
  },
  {
   "cell_type": "markdown",
   "metadata": {},
   "source": [
    "## String Creation"
   ]
  },
  {
   "cell_type": "markdown",
   "metadata": {},
   "source": [
    "## Quotes"
   ]
  },
  {
   "cell_type": "markdown",
   "metadata": {},
   "source": [
    "### Special Features of Backticks"
   ]
  },
  {
   "cell_type": "markdown",
   "metadata": {},
   "source": [
    "#### Multi-Line Strings"
   ]
  },
  {
   "cell_type": "markdown",
   "metadata": {},
   "source": [
    "#### String Interpolation (using ```{}```)"
   ]
  },
  {
   "cell_type": "markdown",
   "metadata": {},
   "source": [
    "#### Nested Template Literals"
   ]
  },
  {
   "cell_type": "markdown",
   "metadata": {},
   "source": [
    "#### Tagged Template"
   ]
  },
  {
   "cell_type": "markdown",
   "metadata": {},
   "source": [
    "## Accessing Characters"
   ]
  },
  {
   "cell_type": "markdown",
   "metadata": {},
   "source": [
    "## String Properties"
   ]
  },
  {
   "cell_type": "markdown",
   "metadata": {},
   "source": [
    "### ```length```"
   ]
  },
  {
   "cell_type": "markdown",
   "metadata": {},
   "source": [
    "### ```constructor```"
   ]
  },
  {
   "cell_type": "markdown",
   "metadata": {},
   "source": [
    "### ```prototype```"
   ]
  },
  {
   "cell_type": "markdown",
   "metadata": {},
   "source": [
    "### ```__proto__```"
   ]
  },
  {
   "cell_type": "markdown",
   "metadata": {},
   "source": [
    "## String Methods"
   ]
  },
  {
   "cell_type": "markdown",
   "metadata": {},
   "source": [
    "### ```toString()``` and ```valueOf()```"
   ]
  },
  {
   "cell_type": "markdown",
   "metadata": {},
   "source": [
    "### Changing Case"
   ]
  },
  {
   "cell_type": "markdown",
   "metadata": {},
   "source": [
    "### Searching Substrings"
   ]
  },
  {
   "cell_type": "markdown",
   "metadata": {},
   "source": [
    "### Extracting Substrings"
   ]
  },
  {
   "cell_type": "markdown",
   "metadata": {},
   "source": [
    "### Replacing Parts of a String"
   ]
  },
  {
   "cell_type": "markdown",
   "metadata": {},
   "source": [
    "### Splitting and Joining Strings"
   ]
  },
  {
   "cell_type": "markdown",
   "metadata": {},
   "source": [
    "### Repeating a String"
   ]
  },
  {
   "cell_type": "markdown",
   "metadata": {},
   "source": [
    "### Unicode Methods"
   ]
  },
  {
   "cell_type": "markdown",
   "metadata": {},
   "source": [
    "----------------------------------------"
   ]
  },
  {
   "cell_type": "markdown",
   "metadata": {},
   "source": [
    "## Strings and Their Quotes\n",
    "\n",
    "Recall, there are three types of quotes that can be used for JavaScript [1]:\n",
    "\n",
    "- Double quotes. \n",
    "- Single quotes.\n",
    "- Backtick quotes. Allows for the use of template literals [2]."
   ]
  },
  {
   "cell_type": "markdown",
   "metadata": {},
   "source": [
    "## Special Characters (Escape Sequences)\n",
    "\n",
    "The following is a list of special characters."
   ]
  },
  {
   "cell_type": "markdown",
   "metadata": {},
   "source": [
    "## Special Features of Backticks\n",
    "\n",
    "In JavaScript, literals are fixed values written within code.\n",
    "\n",
    "For example:\n",
    "\n",
    "```js\n",
    "let stringOne = 'foo';\n",
    "let stringTwo = 'bar';\n",
    "let stringThree = '1234';\n",
    "```\n",
    "\n",
    "Backticks allow for the use of template literals (or known as template strings) [2].\n",
    "\n",
    "**Backticks allow for the following:**\n",
    "\n",
    "Multi-line strings without special characters, or string concatenation. Every time a line break occurs, it infers the line-break with a ```\\n``` tag. It will print to the console with these line breaks."
   ]
  },
  {
   "cell_type": "code",
   "execution_count": 8,
   "metadata": {},
   "outputs": [
    {
     "name": "stdout",
     "output_type": "stream",
     "text": [
      "name the \n",
      "following\n",
      "\n",
      "woah\n",
      "\n"
     ]
    }
   ],
   "source": [
    "// multi-line strings using backticks\n",
    "\n",
    "let string = `name the \n",
    "following\n",
    "\n",
    "woah\n",
    "`;\n",
    "\n",
    "console.log(string);"
   ]
  },
  {
   "cell_type": "markdown",
   "metadata": {},
   "source": [
    "String interpolation (embedded expressions using ```{}```)."
   ]
  },
  {
   "cell_type": "code",
   "execution_count": 9,
   "metadata": {},
   "outputs": [
    {
     "name": "stdout",
     "output_type": "stream",
     "text": [
      "Output: name the \n",
      "following\n",
      "\n",
      "woah\n",
      "\n"
     ]
    }
   ],
   "source": [
    "let newString = `Output: ${string}`;\n",
    "\n",
    "console.log(newString);"
   ]
  },
  {
   "cell_type": "markdown",
   "metadata": {},
   "source": [
    "Nesting template literals. We can nest expressions within the backticks, sometimes even the ternary operator ```?```."
   ]
  },
  {
   "cell_type": "code",
   "execution_count": 10,
   "metadata": {},
   "outputs": [
    {
     "name": "stdout",
     "output_type": "stream",
     "text": [
      "You can view this page\n"
     ]
    }
   ],
   "source": [
    "const age = 21;\n",
    "\n",
    "console.log(`You can ${age < 21 ? 'not ' : ''}view this page`);"
   ]
  },
  {
   "cell_type": "markdown",
   "metadata": {},
   "source": [
    "We can also control how a string is made using *tagged templates* [4].\n",
    "\n",
    "(I am going to write more about this, and try some stuff out when I get to it)."
   ]
  },
  {
   "cell_type": "code",
   "execution_count": 11,
   "metadata": {},
   "outputs": [
    {
     "name": "stdout",
     "output_type": "stream",
     "text": [
      "[ \"My dog's name is \", \" and he is \", \" years old\" ]\n",
      "MY DOG'S NAME IS SNICKERS AND HE IS 100 YEARS OLD!\n"
     ]
    }
   ],
   "source": [
    "// this example is from: https://wesbos.com/tagged-template-literals\n",
    "function upperCaseTag(strings, ...values /* here we are just accepting any argument after the first to be in an array*/) {\n",
    "    // values = ['Snickers', 100]\n",
    "    console.log(strings)\n",
    "    let str = ''; // empty string\n",
    "    strings.forEach((string, i) => {\n",
    "        // i iterates over strings witch has 3 elements\n",
    "        // so values[i] = undefined because it does not exist\n",
    "      str += string + (values[i] || '!');\n",
    "      // above we short circuit with OR (find first truthy, since the first is false, it returns the last one (short-circuiting))\n",
    "    });\n",
    "    return str.toUpperCase();\n",
    "}\n",
    "\n",
    "const name = 'Snickers';\n",
    "const age = 100;\n",
    "const sentence = upperCaseTag`My dog's name is ${name} and he is ${age} years old`;\n",
    "console.log(sentence);"
   ]
  },
  {
   "cell_type": "markdown",
   "metadata": {},
   "source": [
    "## String Length\n",
    "\n",
    "To find the length of the string, we can do this by evoking ```string.length```."
   ]
  },
  {
   "cell_type": "code",
   "execution_count": 12,
   "metadata": {},
   "outputs": [
    {
     "name": "stdout",
     "output_type": "stream",
     "text": [
      "250\n"
     ]
    }
   ],
   "source": [
    "let string = '';\n",
    "\n",
    "for (let i = 0; i < 250; i++) {\n",
    "    string += 'a';\n",
    "}\n",
    "\n",
    "console.log(string.length); // returns 250"
   ]
  },
  {
   "cell_type": "markdown",
   "metadata": {},
   "source": [
    "## Accessing Characters\n",
    "\n",
    "There are three ways to access individual characters:\n",
    "- Using ```chatAt()```.\n",
    "- Using square brackets, ```[]```.\n",
    "- Using ```for..of``` loop.\n",
    "\n",
    "It's important to note, while using square brackets, the index is from $\\{1..n\\}$"
   ]
  },
  {
   "cell_type": "code",
   "execution_count": 13,
   "metadata": {},
   "outputs": [
    {
     "name": "stdout",
     "output_type": "stream",
     "text": [
      "f\n"
     ]
    },
    {
     "ename": "TypeError",
     "evalue": "Cannot assign to read only property '0' of string 'abcdefghijklmnop'",
     "output_type": "error",
     "traceback": [
      "Stack trace:",
      "TypeError: Cannot assign to read only property '0' of string 'abcdefghijklmnop'",
      "    at <anonymous>:3:31"
     ]
    }
   ],
   "source": [
    "let practiceString = \"abcdefghijklmnop\";\n",
    "\n",
    "console.log(practiceString.charAt(5)); /// returns f\n",
    "console.log(practiceString[0] = \"Bruh!\");\n",
    "console.log(\"----------\");\n",
    "console.log(practiceString[1]); // returns b\n",
    "\n",
    "console.log(\"----------\");\n",
    "for (let char of practiceString) {\n",
    "    console.log(char);\n",
    "}"
   ]
  },
  {
   "cell_type": "markdown",
   "metadata": {},
   "source": [
    "## Changing Case\n",
    "\n",
    "In Javascript, we have two types of methods we can use to change the casing of the string:\n",
    "- ```toUpperCase```.\n",
    "- ```toLowerCase```."
   ]
  },
  {
   "cell_type": "markdown",
   "metadata": {},
   "source": [
    "### ```str.toUpperCase()```"
   ]
  },
  {
   "cell_type": "code",
   "execution_count": null,
   "metadata": {},
   "outputs": [
    {
     "name": "stdout",
     "output_type": "stream",
     "text": [
      "HI\n",
      "WOAH\n"
     ]
    }
   ],
   "source": [
    "console.log(\"hi\".toUpperCase());\n",
    "\n",
    "let stringObjUpper = new String(\"woah\");\n",
    "\n",
    "console.log(stringObjUpper.toUpperCase());"
   ]
  },
  {
   "cell_type": "markdown",
   "metadata": {},
   "source": [
    "### ```str.toLowerCase()```"
   ]
  },
  {
   "cell_type": "code",
   "execution_count": null,
   "metadata": {},
   "outputs": [
    {
     "name": "stdout",
     "output_type": "stream",
     "text": [
      "hi\n",
      "wooooooooo!\n"
     ]
    }
   ],
   "source": [
    "console.log(\"Hi\".toLowerCase());\n",
    "\n",
    "let stringObjLower = new String(\"WOOOOOOOOO!\")\n",
    "\n",
    "console.log(stringObjLower.toLowerCase());"
   ]
  },
  {
   "cell_type": "markdown",
   "metadata": {},
   "source": [
    "## Searching for Substrings\n",
    "\n",
    "These return Boolean values, ```true``` is the substring exists, and ```false``` if the substring does not exist."
   ]
  },
  {
   "cell_type": "markdown",
   "metadata": {},
   "source": [
    "### ```str.indexOf(char)```\n",
    "\n",
    "Returns the first index of where the ```char``` appears within the string."
   ]
  },
  {
   "cell_type": "code",
   "execution_count": null,
   "metadata": {},
   "outputs": [
    {
     "name": "stdout",
     "output_type": "stream",
     "text": [
      "-1\n",
      "4\n"
     ]
    }
   ],
   "source": [
    "console.log(\"baa\".indexOf(\"c\")); // should return 1\n",
    "\n",
    "/* \n",
    "\n",
    "here's something cool we can make with this:\n",
    "\n",
    "for instance, something i want to do it count the number of\n",
    "occurrences, but i can only use str.indexOf(char).\n",
    "*/\n",
    "\n",
    "function countOccurrences(string, char) {\n",
    "    \n",
    "    // Base case: if string is empty, return 0\n",
    "    if (string.length === 0) {\n",
    "        return 0;\n",
    "    } \n",
    "    let index = string.indexOf(char);\n",
    "    if (index == -1) {\n",
    "        return 0;\n",
    "    }\n",
    "\n",
    "    return 1 + countOccurrences(string.slice(index+1), char);\n",
    "}\n",
    "\n",
    "console.log(countOccurrences(\"aaaa\", \"a\"));"
   ]
  },
  {
   "cell_type": "markdown",
   "metadata": {},
   "source": [
    "### ```str.lastIndexOf(searchValue, startPos)```\n",
    "\n",
    "This returns the index from the beginning of the start position. If the ```start``` is omitted, it starts from the first index.\n",
    "\n",
    "It's also important to note, that if the ```startPos``` is outside of the bounds of the length of the string, $\\{0\\dots..n\\}$"
   ]
  },
  {
   "cell_type": "code",
   "execution_count": null,
   "metadata": {},
   "outputs": [
    {
     "name": "stdout",
     "output_type": "stream",
     "text": [
      "1\n",
      "-1\n"
     ]
    }
   ],
   "source": [
    "console.log(\"aaa\".lastIndexOf(\"aa\")); // return 1\n",
    "console.log(\"aaa\".lastIndexOf(\"b\", 5)); // return -1"
   ]
  },
  {
   "cell_type": "markdown",
   "metadata": {},
   "source": [
    "### ```str.includes(substr, startPos)```\n",
    "\n",
    "This returns a boolean; ```true``` if the substring exists, and ```false``` if the substring does not exist. The ```startPos``` can be omitted, otherwise, the includes checks from the ```startPos``` onwards."
   ]
  },
  {
   "cell_type": "code",
   "execution_count": null,
   "metadata": {},
   "outputs": [
    {
     "name": "stdout",
     "output_type": "stream",
     "text": [
      "false\n"
     ]
    }
   ],
   "source": [
    "console.log(\"woah\".includes(\"wo\", 4));"
   ]
  },
  {
   "cell_type": "markdown",
   "metadata": {},
   "source": [
    "### ```str.endsWith(searchString, endPosition)```\n",
    "\n",
    "This returns a boolean; ```true``` if the substring exists, and ```false``` if the substring does not exist. The ```startPos``` can be omitted, otherwise, the includes checks from the ```startPos``` onwards."
   ]
  },
  {
   "cell_type": "markdown",
   "metadata": {},
   "source": [
    "## Extracting Substrings"
   ]
  },
  {
   "cell_type": "markdown",
   "metadata": {},
   "source": [
    "### ```str.slice(start [, end])```\n",
    "\n",
    "This extracts a substring from the string. The notation follows the following, where slice is represented with $n$, $n \\in [\\text{start}, \\text{end})$. The ```end``` is non-inclusive."
   ]
  },
  {
   "cell_type": "code",
   "execution_count": null,
   "metadata": {},
   "outputs": [
    {
     "name": "stdout",
     "output_type": "stream",
     "text": [
      "a\n",
      "aabbbbb\n"
     ]
    }
   ],
   "source": [
    "console.log(\"abcdefgh\".slice(0,1)); // returns 1\n",
    "console.log(\"aaaabbbbb\".slice(2)); // returns qabbbbb "
   ]
  },
  {
   "cell_type": "markdown",
   "metadata": {},
   "source": [
    "### ```str.substring(start [, end])```\n",
    "\n",
    "Some interesting things to note with this, if the start used is outside of the bounds (i.e. length of the string, it returns nothing). If it is within the bounds of the string, the method returns the substring.\n",
    "\n",
    "The arguments to the function are actually coerced to numeric values.\n",
    "\n",
    "Note: There's actually a really cool behavior, when we have an array being coerced to a number, the first element is used, and the rest is ignored."
   ]
  },
  {
   "cell_type": "code",
   "execution_count": null,
   "metadata": {},
   "outputs": [
    {
     "name": "stdout",
     "output_type": "stream",
     "text": [
      "ab\n",
      "ab\n",
      "ab\n",
      "bcd\n",
      "bcdefgh\n",
      "abcdefgh\n",
      "bcdefgh\n"
     ]
    }
   ],
   "source": [
    "console.log(\"abcdefgh\".substring(2, [3,4,5]));\n",
    "\n",
    "console.log(\"abcdefgh\".substring(2, [\" 3\",4,5]));\n",
    "\n",
    "console.log(\"abcdefgh\".substring(2, [\" nAn\",4,5]));\n",
    "\n",
    "console.log(\"abcdefgh\".substring(1, 4));\n",
    "\n",
    "console.log(\"abcdefgh\".substring(\" 1  \")); // string is coerced to 1\n",
    "\n",
    "console.log(\"abcdefgh\".substring(\"d\")); // string is coerced to NaN as it is non-numeric\n",
    "\n",
    "console.log(\"abcdefgh\".substring(true)); // true is coerced to 1"
   ]
  },
  {
   "cell_type": "markdown",
   "metadata": {},
   "source": [
    "### ```str.substr(start [, length])```"
   ]
  },
  {
   "cell_type": "markdown",
   "metadata": {},
   "source": [
    "## Additional String Methods"
   ]
  },
  {
   "cell_type": "markdown",
   "metadata": {},
   "source": [
    "### ```str.split()```\n",
    "\n",
    "This method takes a string, and returns into an array based on the string argument passed within that represents the delimiter desired.\n",
    "\n",
    "It's important to note that this delimiter does not have to be a special character, we can essentially use anything as our delimiter.\n",
    "\n",
    "We can then utilize array methods, onto strings."
   ]
  },
  {
   "cell_type": "code",
   "execution_count": null,
   "metadata": {},
   "outputs": [
    {
     "name": "stdout",
     "output_type": "stream",
     "text": [
      "[ \"s\", \"r\" ]\n",
      "[ \"Mohammed\", \"Sarhat\" ]\n",
      "[ \"MOHAMMED\", \"SARHAT\" ]\n"
     ]
    }
   ],
   "source": [
    "console.log(\"str\".split(\"t\")); // returns [\"s\", \"r\"]\n",
    "console.log(\"Mohammed Sarhat\".split(\" \")); // returns [ \"Mohammed\", \"Sarhat\" ]\n",
    "console.log(\"Mohammed Sarhat\".split(\" \").map(elem => elem.toUpperCase())); // returns [ \"MOHAMMED\", \"SARHAT\" ]"
   ]
  },
  {
   "cell_type": "markdown",
   "metadata": {},
   "source": [
    "### ```str.trim()```"
   ]
  },
  {
   "cell_type": "markdown",
   "metadata": {},
   "source": [
    "### ```str.repeat(n)```"
   ]
  },
  {
   "cell_type": "markdown",
   "metadata": {},
   "source": [
    "### ```str.replace(nestedStr, newStr)```"
   ]
  },
  {
   "cell_type": "markdown",
   "metadata": {},
   "source": [
    "## Polyfills for All The Methods\n",
    "\n",
    "You'll notice, there is a set of rules when writing a sound polyfill for a prototypal method:"
   ]
  },
  {
   "cell_type": "markdown",
   "metadata": {},
   "source": [
    "## Unicode"
   ]
  },
  {
   "cell_type": "markdown",
   "metadata": {},
   "source": [
    "## Unicode Normalization Forms\n",
    "\n",
    "Unicode Standard defines two formal types of equivalence between characters; canonical equivalent, and compatibility equivalence [7].\n",
    "\n",
    "Canonical equivalent characters have the same appearance and meaning when printed. Compatibility equivalence may have the same meaning, but could have a different appearance."
   ]
  },
  {
   "cell_type": "markdown",
   "metadata": {},
   "source": [
    "### ```str.charCodeAt()```"
   ]
  },
  {
   "cell_type": "markdown",
   "metadata": {},
   "source": [
    "## Quick String Methods Cheat Sheet (crafted by ME)"
   ]
  },
  {
   "cell_type": "markdown",
   "metadata": {},
   "source": [
    "# References\n",
    "\n",
    "[1] https://www.digitalocean.com/community/tutorials/how-to-work-with-strings-in-javascript\n",
    "\n",
    "[2] https://developer.mozilla.org/en-US/docs/Web/JavaScript/Reference/Template_literals\n",
    "\n",
    "[3] https://developer.mozilla.org/en-US/docs/Web/JavaScript/Guide/Grammar_and_types#string_literals\n",
    "\n",
    "[4] https://wesbos.com/tagged-template-literals\n",
    "\n",
    "[5] https://dev.to/charlesamakoye/three-ways-of-accessing-string-characters-in-javascript-3gbn\n",
    "\n",
    "[6] https://dev.to/charlesamakoye/three-ways-of-accessing-string-characters-in-javascript-3gbn\n",
    "\n",
    "[7] https://en.wikipedia.org/wiki/Unicode_equivalence\n",
    " \n",
    "[8] https://unicode.org/reports/tr15/#Canon_Compat_Equivalence"
   ]
  }
 ],
 "metadata": {
  "kernelspec": {
   "display_name": "Deno",
   "language": "typescript",
   "name": "deno"
  },
  "language_info": {
   "codemirror_mode": "typescript",
   "file_extension": ".ts",
   "mimetype": "text/x.typescript",
   "name": "typescript",
   "nbconvert_exporter": "script",
   "pygments_lexer": "typescript",
   "version": "5.6.2"
  }
 },
 "nbformat": 4,
 "nbformat_minor": 2
}
