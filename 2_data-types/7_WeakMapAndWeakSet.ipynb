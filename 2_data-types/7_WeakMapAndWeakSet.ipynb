{
 "cells": [
  {
   "cell_type": "markdown",
   "metadata": {},
   "source": [
    "# WeakMap and WeakSet\n",
    "\n",
    "What are WeakMap and WeakSet?\n",
    "\n",
    "Key Differences Between WeakMap/WeakSet and Map/Set\n",
    "\n",
    "Why Use WeakMap and WeakSet?"
   ]
  },
  {
   "cell_type": "markdown",
   "metadata": {},
   "source": [
    "## ```WeakMap``` - A Special Kind of Map\n",
    "\n",
    "How WeakMap Differs from Map\n",
    "\n",
    "Why WeakMap Only Allows Object Keys\n",
    "\n",
    "Automatic Garbage Collection in WeakMap"
   ]
  },
  {
   "cell_type": "markdown",
   "metadata": {},
   "source": [
    "### ```WeakMap``` Methods"
   ]
  },
  {
   "cell_type": "markdown",
   "metadata": {},
   "source": [
    "#### ```weakMap.set(key, value)```"
   ]
  },
  {
   "cell_type": "markdown",
   "metadata": {},
   "source": [
    "#### ```weakMap.get(key)```"
   ]
  },
  {
   "cell_type": "markdown",
   "metadata": {},
   "source": [
    "#### ```weakMap.has(key)```"
   ]
  },
  {
   "cell_type": "markdown",
   "metadata": {},
   "source": [
    "#### ```weakMap.delete(key)```"
   ]
  },
  {
   "cell_type": "markdown",
   "metadata": {},
   "source": [
    "### ```WeakMap``` Properties"
   ]
  },
  {
   "cell_type": "markdown",
   "metadata": {},
   "source": [
    "### ```WeakMap``` Use Cases"
   ]
  },
  {
   "cell_type": "markdown",
   "metadata": {},
   "source": [
    "## ```WeakSet``` - A Special Kind of Set\n",
    "\n",
    "How WeakSet Differs from Set\n",
    "\n",
    "Why WeakSet Only Stores Objects\n",
    "\n",
    "Automatic Garbage Collection in WeakSet"
   ]
  },
  {
   "cell_type": "markdown",
   "metadata": {},
   "source": [
    "### ```WeakSet``` Methods"
   ]
  },
  {
   "cell_type": "markdown",
   "metadata": {},
   "source": [
    "#### ```weakSet.add()```"
   ]
  },
  {
   "cell_type": "markdown",
   "metadata": {},
   "source": [
    "#### ```weakSet.delete()```"
   ]
  },
  {
   "cell_type": "markdown",
   "metadata": {},
   "source": [
    "#### ```weakSet.has()```"
   ]
  },
  {
   "cell_type": "markdown",
   "metadata": {},
   "source": [
    "### ```WeakSet``` Properties"
   ]
  },
  {
   "cell_type": "markdown",
   "metadata": {},
   "source": [
    "### ```WeakSet``` Use Cases"
   ]
  },
  {
   "cell_type": "markdown",
   "metadata": {},
   "source": [
    "## References"
   ]
  }
 ],
 "metadata": {
  "language_info": {
   "name": "python"
  }
 },
 "nbformat": 4,
 "nbformat_minor": 2
}
